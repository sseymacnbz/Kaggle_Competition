{
 "cells": [
  {
   "cell_type": "code",
   "execution_count": 600,
   "id": "88f36cc1-8a95-492a-b5a3-51a72dd4f2c2",
   "metadata": {},
   "outputs": [],
   "source": [
    "import numpy as np\n",
    "import pandas as pd\n",
    "import matplotlib.pyplot as plt\n",
    "import warnings\n",
    "import seaborn as sns\n",
    "warnings.filterwarnings(\"ignore\")"
   ]
  },
  {
   "cell_type": "code",
   "execution_count": 601,
   "id": "69813423-363a-4fcb-a106-f2f747c55d9c",
   "metadata": {},
   "outputs": [],
   "source": [
    "test_df = pd.read_csv(\"test.csv\")"
   ]
  },
  {
   "cell_type": "markdown",
   "id": "4164c6d2-d880-483b-a9a6-d74add7ed8ec",
   "metadata": {},
   "source": [
    "### Keşifçi Veri Analizi"
   ]
  },
  {
   "cell_type": "code",
   "execution_count": 602,
   "id": "93027c5f-2ca9-4f22-b496-1add0aae3485",
   "metadata": {},
   "outputs": [
    {
     "data": {
      "text/html": [
       "<div>\n",
       "<style scoped>\n",
       "    .dataframe tbody tr th:only-of-type {\n",
       "        vertical-align: middle;\n",
       "    }\n",
       "\n",
       "    .dataframe tbody tr th {\n",
       "        vertical-align: top;\n",
       "    }\n",
       "\n",
       "    .dataframe thead th {\n",
       "        text-align: right;\n",
       "    }\n",
       "</style>\n",
       "<table border=\"1\" class=\"dataframe\">\n",
       "  <thead>\n",
       "    <tr style=\"text-align: right;\">\n",
       "      <th></th>\n",
       "      <th>Id</th>\n",
       "      <th>MSSubClass</th>\n",
       "      <th>MSZoning</th>\n",
       "      <th>LotFrontage</th>\n",
       "      <th>LotArea</th>\n",
       "      <th>Street</th>\n",
       "      <th>Alley</th>\n",
       "      <th>LotShape</th>\n",
       "      <th>LandContour</th>\n",
       "      <th>Utilities</th>\n",
       "      <th>...</th>\n",
       "      <th>PoolArea</th>\n",
       "      <th>PoolQC</th>\n",
       "      <th>Fence</th>\n",
       "      <th>MiscFeature</th>\n",
       "      <th>MiscVal</th>\n",
       "      <th>MoSold</th>\n",
       "      <th>YrSold</th>\n",
       "      <th>SaleType</th>\n",
       "      <th>SaleCondition</th>\n",
       "      <th>SalePrice</th>\n",
       "    </tr>\n",
       "  </thead>\n",
       "  <tbody>\n",
       "    <tr>\n",
       "      <th>0</th>\n",
       "      <td>1</td>\n",
       "      <td>60</td>\n",
       "      <td>RL</td>\n",
       "      <td>65.0</td>\n",
       "      <td>8450</td>\n",
       "      <td>Pave</td>\n",
       "      <td>NaN</td>\n",
       "      <td>Reg</td>\n",
       "      <td>Lvl</td>\n",
       "      <td>AllPub</td>\n",
       "      <td>...</td>\n",
       "      <td>0</td>\n",
       "      <td>NaN</td>\n",
       "      <td>NaN</td>\n",
       "      <td>NaN</td>\n",
       "      <td>0</td>\n",
       "      <td>2</td>\n",
       "      <td>2008</td>\n",
       "      <td>WD</td>\n",
       "      <td>Normal</td>\n",
       "      <td>208500</td>\n",
       "    </tr>\n",
       "    <tr>\n",
       "      <th>1</th>\n",
       "      <td>2</td>\n",
       "      <td>20</td>\n",
       "      <td>RL</td>\n",
       "      <td>80.0</td>\n",
       "      <td>9600</td>\n",
       "      <td>Pave</td>\n",
       "      <td>NaN</td>\n",
       "      <td>Reg</td>\n",
       "      <td>Lvl</td>\n",
       "      <td>AllPub</td>\n",
       "      <td>...</td>\n",
       "      <td>0</td>\n",
       "      <td>NaN</td>\n",
       "      <td>NaN</td>\n",
       "      <td>NaN</td>\n",
       "      <td>0</td>\n",
       "      <td>5</td>\n",
       "      <td>2007</td>\n",
       "      <td>WD</td>\n",
       "      <td>Normal</td>\n",
       "      <td>181500</td>\n",
       "    </tr>\n",
       "    <tr>\n",
       "      <th>2</th>\n",
       "      <td>3</td>\n",
       "      <td>60</td>\n",
       "      <td>RL</td>\n",
       "      <td>68.0</td>\n",
       "      <td>11250</td>\n",
       "      <td>Pave</td>\n",
       "      <td>NaN</td>\n",
       "      <td>IR1</td>\n",
       "      <td>Lvl</td>\n",
       "      <td>AllPub</td>\n",
       "      <td>...</td>\n",
       "      <td>0</td>\n",
       "      <td>NaN</td>\n",
       "      <td>NaN</td>\n",
       "      <td>NaN</td>\n",
       "      <td>0</td>\n",
       "      <td>9</td>\n",
       "      <td>2008</td>\n",
       "      <td>WD</td>\n",
       "      <td>Normal</td>\n",
       "      <td>223500</td>\n",
       "    </tr>\n",
       "    <tr>\n",
       "      <th>3</th>\n",
       "      <td>4</td>\n",
       "      <td>70</td>\n",
       "      <td>RL</td>\n",
       "      <td>60.0</td>\n",
       "      <td>9550</td>\n",
       "      <td>Pave</td>\n",
       "      <td>NaN</td>\n",
       "      <td>IR1</td>\n",
       "      <td>Lvl</td>\n",
       "      <td>AllPub</td>\n",
       "      <td>...</td>\n",
       "      <td>0</td>\n",
       "      <td>NaN</td>\n",
       "      <td>NaN</td>\n",
       "      <td>NaN</td>\n",
       "      <td>0</td>\n",
       "      <td>2</td>\n",
       "      <td>2006</td>\n",
       "      <td>WD</td>\n",
       "      <td>Abnorml</td>\n",
       "      <td>140000</td>\n",
       "    </tr>\n",
       "    <tr>\n",
       "      <th>4</th>\n",
       "      <td>5</td>\n",
       "      <td>60</td>\n",
       "      <td>RL</td>\n",
       "      <td>84.0</td>\n",
       "      <td>14260</td>\n",
       "      <td>Pave</td>\n",
       "      <td>NaN</td>\n",
       "      <td>IR1</td>\n",
       "      <td>Lvl</td>\n",
       "      <td>AllPub</td>\n",
       "      <td>...</td>\n",
       "      <td>0</td>\n",
       "      <td>NaN</td>\n",
       "      <td>NaN</td>\n",
       "      <td>NaN</td>\n",
       "      <td>0</td>\n",
       "      <td>12</td>\n",
       "      <td>2008</td>\n",
       "      <td>WD</td>\n",
       "      <td>Normal</td>\n",
       "      <td>250000</td>\n",
       "    </tr>\n",
       "    <tr>\n",
       "      <th>...</th>\n",
       "      <td>...</td>\n",
       "      <td>...</td>\n",
       "      <td>...</td>\n",
       "      <td>...</td>\n",
       "      <td>...</td>\n",
       "      <td>...</td>\n",
       "      <td>...</td>\n",
       "      <td>...</td>\n",
       "      <td>...</td>\n",
       "      <td>...</td>\n",
       "      <td>...</td>\n",
       "      <td>...</td>\n",
       "      <td>...</td>\n",
       "      <td>...</td>\n",
       "      <td>...</td>\n",
       "      <td>...</td>\n",
       "      <td>...</td>\n",
       "      <td>...</td>\n",
       "      <td>...</td>\n",
       "      <td>...</td>\n",
       "      <td>...</td>\n",
       "    </tr>\n",
       "    <tr>\n",
       "      <th>1455</th>\n",
       "      <td>1456</td>\n",
       "      <td>60</td>\n",
       "      <td>RL</td>\n",
       "      <td>62.0</td>\n",
       "      <td>7917</td>\n",
       "      <td>Pave</td>\n",
       "      <td>NaN</td>\n",
       "      <td>Reg</td>\n",
       "      <td>Lvl</td>\n",
       "      <td>AllPub</td>\n",
       "      <td>...</td>\n",
       "      <td>0</td>\n",
       "      <td>NaN</td>\n",
       "      <td>NaN</td>\n",
       "      <td>NaN</td>\n",
       "      <td>0</td>\n",
       "      <td>8</td>\n",
       "      <td>2007</td>\n",
       "      <td>WD</td>\n",
       "      <td>Normal</td>\n",
       "      <td>175000</td>\n",
       "    </tr>\n",
       "    <tr>\n",
       "      <th>1456</th>\n",
       "      <td>1457</td>\n",
       "      <td>20</td>\n",
       "      <td>RL</td>\n",
       "      <td>85.0</td>\n",
       "      <td>13175</td>\n",
       "      <td>Pave</td>\n",
       "      <td>NaN</td>\n",
       "      <td>Reg</td>\n",
       "      <td>Lvl</td>\n",
       "      <td>AllPub</td>\n",
       "      <td>...</td>\n",
       "      <td>0</td>\n",
       "      <td>NaN</td>\n",
       "      <td>MnPrv</td>\n",
       "      <td>NaN</td>\n",
       "      <td>0</td>\n",
       "      <td>2</td>\n",
       "      <td>2010</td>\n",
       "      <td>WD</td>\n",
       "      <td>Normal</td>\n",
       "      <td>210000</td>\n",
       "    </tr>\n",
       "    <tr>\n",
       "      <th>1457</th>\n",
       "      <td>1458</td>\n",
       "      <td>70</td>\n",
       "      <td>RL</td>\n",
       "      <td>66.0</td>\n",
       "      <td>9042</td>\n",
       "      <td>Pave</td>\n",
       "      <td>NaN</td>\n",
       "      <td>Reg</td>\n",
       "      <td>Lvl</td>\n",
       "      <td>AllPub</td>\n",
       "      <td>...</td>\n",
       "      <td>0</td>\n",
       "      <td>NaN</td>\n",
       "      <td>GdPrv</td>\n",
       "      <td>Shed</td>\n",
       "      <td>2500</td>\n",
       "      <td>5</td>\n",
       "      <td>2010</td>\n",
       "      <td>WD</td>\n",
       "      <td>Normal</td>\n",
       "      <td>266500</td>\n",
       "    </tr>\n",
       "    <tr>\n",
       "      <th>1458</th>\n",
       "      <td>1459</td>\n",
       "      <td>20</td>\n",
       "      <td>RL</td>\n",
       "      <td>68.0</td>\n",
       "      <td>9717</td>\n",
       "      <td>Pave</td>\n",
       "      <td>NaN</td>\n",
       "      <td>Reg</td>\n",
       "      <td>Lvl</td>\n",
       "      <td>AllPub</td>\n",
       "      <td>...</td>\n",
       "      <td>0</td>\n",
       "      <td>NaN</td>\n",
       "      <td>NaN</td>\n",
       "      <td>NaN</td>\n",
       "      <td>0</td>\n",
       "      <td>4</td>\n",
       "      <td>2010</td>\n",
       "      <td>WD</td>\n",
       "      <td>Normal</td>\n",
       "      <td>142125</td>\n",
       "    </tr>\n",
       "    <tr>\n",
       "      <th>1459</th>\n",
       "      <td>1460</td>\n",
       "      <td>20</td>\n",
       "      <td>RL</td>\n",
       "      <td>75.0</td>\n",
       "      <td>9937</td>\n",
       "      <td>Pave</td>\n",
       "      <td>NaN</td>\n",
       "      <td>Reg</td>\n",
       "      <td>Lvl</td>\n",
       "      <td>AllPub</td>\n",
       "      <td>...</td>\n",
       "      <td>0</td>\n",
       "      <td>NaN</td>\n",
       "      <td>NaN</td>\n",
       "      <td>NaN</td>\n",
       "      <td>0</td>\n",
       "      <td>6</td>\n",
       "      <td>2008</td>\n",
       "      <td>WD</td>\n",
       "      <td>Normal</td>\n",
       "      <td>147500</td>\n",
       "    </tr>\n",
       "  </tbody>\n",
       "</table>\n",
       "<p>1460 rows × 81 columns</p>\n",
       "</div>"
      ],
      "text/plain": [
       "        Id  MSSubClass MSZoning  LotFrontage  LotArea Street Alley LotShape  \\\n",
       "0        1          60       RL         65.0     8450   Pave   NaN      Reg   \n",
       "1        2          20       RL         80.0     9600   Pave   NaN      Reg   \n",
       "2        3          60       RL         68.0    11250   Pave   NaN      IR1   \n",
       "3        4          70       RL         60.0     9550   Pave   NaN      IR1   \n",
       "4        5          60       RL         84.0    14260   Pave   NaN      IR1   \n",
       "...    ...         ...      ...          ...      ...    ...   ...      ...   \n",
       "1455  1456          60       RL         62.0     7917   Pave   NaN      Reg   \n",
       "1456  1457          20       RL         85.0    13175   Pave   NaN      Reg   \n",
       "1457  1458          70       RL         66.0     9042   Pave   NaN      Reg   \n",
       "1458  1459          20       RL         68.0     9717   Pave   NaN      Reg   \n",
       "1459  1460          20       RL         75.0     9937   Pave   NaN      Reg   \n",
       "\n",
       "     LandContour Utilities  ... PoolArea PoolQC  Fence MiscFeature MiscVal  \\\n",
       "0            Lvl    AllPub  ...        0    NaN    NaN         NaN       0   \n",
       "1            Lvl    AllPub  ...        0    NaN    NaN         NaN       0   \n",
       "2            Lvl    AllPub  ...        0    NaN    NaN         NaN       0   \n",
       "3            Lvl    AllPub  ...        0    NaN    NaN         NaN       0   \n",
       "4            Lvl    AllPub  ...        0    NaN    NaN         NaN       0   \n",
       "...          ...       ...  ...      ...    ...    ...         ...     ...   \n",
       "1455         Lvl    AllPub  ...        0    NaN    NaN         NaN       0   \n",
       "1456         Lvl    AllPub  ...        0    NaN  MnPrv         NaN       0   \n",
       "1457         Lvl    AllPub  ...        0    NaN  GdPrv        Shed    2500   \n",
       "1458         Lvl    AllPub  ...        0    NaN    NaN         NaN       0   \n",
       "1459         Lvl    AllPub  ...        0    NaN    NaN         NaN       0   \n",
       "\n",
       "     MoSold YrSold  SaleType  SaleCondition  SalePrice  \n",
       "0         2   2008        WD         Normal     208500  \n",
       "1         5   2007        WD         Normal     181500  \n",
       "2         9   2008        WD         Normal     223500  \n",
       "3         2   2006        WD        Abnorml     140000  \n",
       "4        12   2008        WD         Normal     250000  \n",
       "...     ...    ...       ...            ...        ...  \n",
       "1455      8   2007        WD         Normal     175000  \n",
       "1456      2   2010        WD         Normal     210000  \n",
       "1457      5   2010        WD         Normal     266500  \n",
       "1458      4   2010        WD         Normal     142125  \n",
       "1459      6   2008        WD         Normal     147500  \n",
       "\n",
       "[1460 rows x 81 columns]"
      ]
     },
     "execution_count": 602,
     "metadata": {},
     "output_type": "execute_result"
    }
   ],
   "source": [
    "raw_data = pd.read_csv(\"train.csv\")\n",
    "df = raw_data.copy()\n",
    "df"
   ]
  },
  {
   "cell_type": "code",
   "execution_count": 603,
   "id": "25fbc6c6-0fc1-4c73-8fcc-43d913f589b5",
   "metadata": {
    "tags": []
   },
   "outputs": [
    {
     "name": "stdout",
     "output_type": "stream",
     "text": [
      "<class 'pandas.core.frame.DataFrame'>\n",
      "RangeIndex: 1460 entries, 0 to 1459\n",
      "Data columns (total 81 columns):\n",
      " #   Column         Non-Null Count  Dtype  \n",
      "---  ------         --------------  -----  \n",
      " 0   Id             1460 non-null   int64  \n",
      " 1   MSSubClass     1460 non-null   int64  \n",
      " 2   MSZoning       1460 non-null   object \n",
      " 3   LotFrontage    1201 non-null   float64\n",
      " 4   LotArea        1460 non-null   int64  \n",
      " 5   Street         1460 non-null   object \n",
      " 6   Alley          91 non-null     object \n",
      " 7   LotShape       1460 non-null   object \n",
      " 8   LandContour    1460 non-null   object \n",
      " 9   Utilities      1460 non-null   object \n",
      " 10  LotConfig      1460 non-null   object \n",
      " 11  LandSlope      1460 non-null   object \n",
      " 12  Neighborhood   1460 non-null   object \n",
      " 13  Condition1     1460 non-null   object \n",
      " 14  Condition2     1460 non-null   object \n",
      " 15  BldgType       1460 non-null   object \n",
      " 16  HouseStyle     1460 non-null   object \n",
      " 17  OverallQual    1460 non-null   int64  \n",
      " 18  OverallCond    1460 non-null   int64  \n",
      " 19  YearBuilt      1460 non-null   int64  \n",
      " 20  YearRemodAdd   1460 non-null   int64  \n",
      " 21  RoofStyle      1460 non-null   object \n",
      " 22  RoofMatl       1460 non-null   object \n",
      " 23  Exterior1st    1460 non-null   object \n",
      " 24  Exterior2nd    1460 non-null   object \n",
      " 25  MasVnrType     1452 non-null   object \n",
      " 26  MasVnrArea     1452 non-null   float64\n",
      " 27  ExterQual      1460 non-null   object \n",
      " 28  ExterCond      1460 non-null   object \n",
      " 29  Foundation     1460 non-null   object \n",
      " 30  BsmtQual       1423 non-null   object \n",
      " 31  BsmtCond       1423 non-null   object \n",
      " 32  BsmtExposure   1422 non-null   object \n",
      " 33  BsmtFinType1   1423 non-null   object \n",
      " 34  BsmtFinSF1     1460 non-null   int64  \n",
      " 35  BsmtFinType2   1422 non-null   object \n",
      " 36  BsmtFinSF2     1460 non-null   int64  \n",
      " 37  BsmtUnfSF      1460 non-null   int64  \n",
      " 38  TotalBsmtSF    1460 non-null   int64  \n",
      " 39  Heating        1460 non-null   object \n",
      " 40  HeatingQC      1460 non-null   object \n",
      " 41  CentralAir     1460 non-null   object \n",
      " 42  Electrical     1459 non-null   object \n",
      " 43  1stFlrSF       1460 non-null   int64  \n",
      " 44  2ndFlrSF       1460 non-null   int64  \n",
      " 45  LowQualFinSF   1460 non-null   int64  \n",
      " 46  GrLivArea      1460 non-null   int64  \n",
      " 47  BsmtFullBath   1460 non-null   int64  \n",
      " 48  BsmtHalfBath   1460 non-null   int64  \n",
      " 49  FullBath       1460 non-null   int64  \n",
      " 50  HalfBath       1460 non-null   int64  \n",
      " 51  BedroomAbvGr   1460 non-null   int64  \n",
      " 52  KitchenAbvGr   1460 non-null   int64  \n",
      " 53  KitchenQual    1460 non-null   object \n",
      " 54  TotRmsAbvGrd   1460 non-null   int64  \n",
      " 55  Functional     1460 non-null   object \n",
      " 56  Fireplaces     1460 non-null   int64  \n",
      " 57  FireplaceQu    770 non-null    object \n",
      " 58  GarageType     1379 non-null   object \n",
      " 59  GarageYrBlt    1379 non-null   float64\n",
      " 60  GarageFinish   1379 non-null   object \n",
      " 61  GarageCars     1460 non-null   int64  \n",
      " 62  GarageArea     1460 non-null   int64  \n",
      " 63  GarageQual     1379 non-null   object \n",
      " 64  GarageCond     1379 non-null   object \n",
      " 65  PavedDrive     1460 non-null   object \n",
      " 66  WoodDeckSF     1460 non-null   int64  \n",
      " 67  OpenPorchSF    1460 non-null   int64  \n",
      " 68  EnclosedPorch  1460 non-null   int64  \n",
      " 69  3SsnPorch      1460 non-null   int64  \n",
      " 70  ScreenPorch    1460 non-null   int64  \n",
      " 71  PoolArea       1460 non-null   int64  \n",
      " 72  PoolQC         7 non-null      object \n",
      " 73  Fence          281 non-null    object \n",
      " 74  MiscFeature    54 non-null     object \n",
      " 75  MiscVal        1460 non-null   int64  \n",
      " 76  MoSold         1460 non-null   int64  \n",
      " 77  YrSold         1460 non-null   int64  \n",
      " 78  SaleType       1460 non-null   object \n",
      " 79  SaleCondition  1460 non-null   object \n",
      " 80  SalePrice      1460 non-null   int64  \n",
      "dtypes: float64(3), int64(35), object(43)\n",
      "memory usage: 924.0+ KB\n"
     ]
    }
   ],
   "source": [
    "df.info()"
   ]
  },
  {
   "cell_type": "markdown",
   "id": "c266bdb6-a212-4097-be68-a7046a2e8ed9",
   "metadata": {
    "tags": []
   },
   "source": [
    "--SalePrice - mülkün dolar cinsinden satış fiyatı. Bu, tahmin etmeye çalıştığınız hedef değişkendir.<br>\n",
    "--MSSubClass: Bina sınıfı<br>\n",
    "--MSZoning: Genel imar sınıflandırması<br>\n",
    "--LotFrontage: Mülke bağlı caddenin doğrusal ayakları<br>\n",
    "--LotArea: Metrekare cinsinden parti büyüklüğü<br>\n",
    "--Street: Yol erişim türü<br>\n",
    "--Alley: Sokak erişim türü<br>\n",
    "--LotShape: Mülkün genel şekli<br>\n",
    "--LandContour: Mülkün düzlüğü<br>\n",
    "--Utilities: Kullanılabilir yardımcı program türleri<br>\n",
    "--LotConfig: Lot konfigürasyonu<br>\n",
    "--LandSlope: Mülkün eğimi<br>\n",
    "--Neighborhood: Ames şehir sınırları içindeki fiziksel konumlar<br>\n",
    "--Koşul1: Ana yola veya demiryoluna yakınlık<br>\n",
    "--Koşul2: Ana yola veya demiryoluna yakınlık (bir saniye varsa)<br>\n",
    "--BldgType: Konut tipi<br>\n",
    "--HouseStyle: Konut tarzı<br>\n",
    "--OverallQual: Genel malzeme ve bitiş kalitesi<br>\n",
    "--OverallCond: Genel durum değerlendirmesi<br>\n",
    "--YearBuilt: Orijinal yapım tarihi<br>\n",
    "--YearRemodAdd: Tadilat tarihi<br>\n",
    "--RoofStyle: Çatı tipi<br>\n",
    "--RoofMatl: Çatı malzemesi<br>\n",
    "--Exterior1st: Evin dış kaplaması<br>\n",
    "--Exterior2nd: Evin dış cephe kaplaması (birden fazla malzeme varsa)<br>\n",
    "--MasVnrType: Duvar kaplama tipi<br>\n",
    "--MasVnrArea: Metrekare cinsinden duvar kaplama alanı<br>\n",
    "--ExterQual: Dış malzeme kalitesi<br>\n",
    "--ExterCond: Malzemenin dış cephedeki mevcut durumu<br>\n",
    "--Foundation: Vakıf türü<br>\n",
    "--BsmtQual: Bodrumun yüksekliği<br>\n",
    "--BsmtCond: Bodrum katının genel durumu<br>\n",
    "--BsmtExposure: Dışarı çıkma veya bahçe seviyesi bodrum duvarları<br>\n",
    "--BsmtFinType1: Bodrum bitmiş alanın kalitesi<br>\n",
    "--BsmtFinSF1: Tip 1 bitmiş fit kare<br>\n",
    "--BsmtFinType2: İkinci bitmiş alanın kalitesi (varsa)<br>\n",
    "--BsmtFinSF2: Tip 2 bitmiş fit kare<br>\n",
    "--BsmtUnfSF: Bitmemiş metrekarelik bodrum alanı<br>\n",
    "--TotalBsmtSF: Bodrum alanının toplam metrekaresi<br>\n",
    "--Heating: Isıtma türü<br>\n",
    "--HeatingQC: Isıtma kalitesi ve durumu<br>\n",
    "--CentralAir: Merkezi klima<br>\n",
    "--Electrical: Elektrik sistemi<br>\n",
    "--1stFlrSF: Birinci Kat metrekare<br>\n",
    "--2ndFlrSF: İkinci kat metrekare<br>\n",
    "--LowQualFinSF: Düşük kaliteli bitmiş fit kare (tüm katlar)<br>\n",
    "--GrLivArea: Metrekare üstü (zemin) yaşam alanı<br>\n",
    "--BsmtFullBath: Bodrum katı banyoları<br>\n",
    "--BsmtHalfBath: Bodrum yarım banyoları<br>\n",
    "--FullBath: Sınıfın üzerinde tam banyolar<br>\n",
    "--HalfBath: Sınıfın üzerinde yarım banyolar<br>\n",
    "--Bedroom: Bodrum katın üzerindeki yatak odası sayısı<br>\n",
    "--Kitchen: Mutfak sayısı<br>\n",
    "--KitchenQual: Mutfak kalitesi<br>\n",
    "--TotRmsAbvGrd: Sınıfın üzerindeki toplam oda sayısı (banyo dahil değildir)<br>\n",
    "--İşlevsel: Ev işlevsellik derecesi<br>\n",
    "--Şömineler: Şömine sayısı<br>\n",
    "--FireplaceQu: Şömine kalitesi<br>\n",
    "--Garaj Türü: Garaj konumu<br>\n",
    "--GarageYrBlt: Garajın yapıldığı yıl<br>\n",
    "--GarageFinish: Garajın iç kaplaması<br>\n",
    "--GarageCars: Garajın araç kapasitesi cinsinden boyutu<br>\n",
    "--GarageArea: Garajın metrekare cinsinden boyutu<br>\n",
    "--GarageQual: Garaj kalitesi<br>\n",
    "--GarageCond: Garaj durumu<br>\n",
    "--PavedDrive: Asfaltlanmış araba yolu<br>\n",
    "--WoodDeckSF: Metrekare cinsinden ahşap güverte alanı<br>\n",
    "--OpenPorchSF: Metrekare cinsinden açık sundurma alanı<br>\n",
    "--EnclosedPorch: Metrekare cinsinden kapalı sundurma alanı<br>\n",
    "--3SsnPorch: Metrekare cinsinden üç mevsimlik sundurma alanı<br>\n",
    "--ScreenPorch: Metrekare cinsinden ekran sundurma alanı<br>\n",
    "--PoolArea: Metrekare cinsinden havuz alanı<br>\n",
    "--PoolQC: Havuz kalitesi<br>\n",
    "--Çit: Çit kalitesi<br>\n",
    "--MiscFeature: Diğer kategorilerde kapsanmayan çeşitli özellik<br>\n",
    "--MiscVal: Çeşitli özelliğin Dolar Değeri<br>\n",
    "--MoSold: Satıldığı ay<br>\n",
    "--Satılan Yıl: Satılan Yıl<br>\n",
    "--Satış Türü: Satış türü<br>\n",
    "--SatışDurum: Satış durumu<br>"
   ]
  },
  {
   "cell_type": "markdown",
   "id": "97d49347-0beb-49b2-bc30-da385bb332af",
   "metadata": {},
   "source": [
    "#### NA Durumlar için notlar\n",
    "--Alley : İlgili dairenin sokak erişimi yok.<br>\n",
    "--BsmtQual : İlgili dairenin bodrum katı yok.<br>\n",
    "--BsmtCond : İlgili dairenin bodum katı olmadığından bodrum katı değerlendirilemez.<br>\n",
    "--BsmtExposure : İlgili dairenin bodum katı olmadığından bahçe seviyesi duvarları da yok.<br>\n",
    "--BsmtFinType1 : Bodrum katı olmadığından değerlendirilemez<br>\n",
    "--BsmtFinType2 : Bodrum katı olmadığından değerlendirilemez<br>\n",
    "--FireplaceQu : Şömine olmadığından değerlendirilemez<br>\n",
    "--GarageType : Garaj olmadığında değerlendirilemez<br>\n",
    "--GarageFinish : Garaj olmadığında değerlendirilemez<br>\n",
    "--GarageQual : Garaj olmadığında değerlendirilemez<br>\n",
    "--GarageCond : Garaj olmadığında değerlendirilemez<br>\n",
    "--PoolQC : Havuz olmadığında değerlendirilemez<br>\n",
    "--Fence : Çit olmadığında değerlendirilemez<br>\n",
    "--MiscFeature : Diğer kategorilerde kapsanmayan çeşitli özelliklerden bahsedilmiyorsa NA'dır.<br>"
   ]
  },
  {
   "cell_type": "code",
   "execution_count": 604,
   "id": "b6b3fcfc-e9e3-4e5c-b245-a4307ae72381",
   "metadata": {},
   "outputs": [],
   "source": [
    "#Sadece object tipindeki kolonların alınması\n",
    "df_obj = df.select_dtypes(include='object').copy()"
   ]
  },
  {
   "cell_type": "code",
   "execution_count": 605,
   "id": "e36879c7-ec28-4fa9-908a-1edcb8e4c208",
   "metadata": {},
   "outputs": [
    {
     "data": {
      "text/html": [
       "<div>\n",
       "<style scoped>\n",
       "    .dataframe tbody tr th:only-of-type {\n",
       "        vertical-align: middle;\n",
       "    }\n",
       "\n",
       "    .dataframe tbody tr th {\n",
       "        vertical-align: top;\n",
       "    }\n",
       "\n",
       "    .dataframe thead th {\n",
       "        text-align: right;\n",
       "    }\n",
       "</style>\n",
       "<table border=\"1\" class=\"dataframe\">\n",
       "  <thead>\n",
       "    <tr style=\"text-align: right;\">\n",
       "      <th></th>\n",
       "      <th>MSZoning</th>\n",
       "      <th>Street</th>\n",
       "      <th>Alley</th>\n",
       "      <th>LotShape</th>\n",
       "      <th>LandContour</th>\n",
       "      <th>Utilities</th>\n",
       "      <th>LotConfig</th>\n",
       "      <th>LandSlope</th>\n",
       "      <th>Neighborhood</th>\n",
       "      <th>Condition1</th>\n",
       "      <th>...</th>\n",
       "      <th>GarageType</th>\n",
       "      <th>GarageFinish</th>\n",
       "      <th>GarageQual</th>\n",
       "      <th>GarageCond</th>\n",
       "      <th>PavedDrive</th>\n",
       "      <th>PoolQC</th>\n",
       "      <th>Fence</th>\n",
       "      <th>MiscFeature</th>\n",
       "      <th>SaleType</th>\n",
       "      <th>SaleCondition</th>\n",
       "    </tr>\n",
       "  </thead>\n",
       "  <tbody>\n",
       "    <tr>\n",
       "      <th>0</th>\n",
       "      <td>RL</td>\n",
       "      <td>Pave</td>\n",
       "      <td>NaN</td>\n",
       "      <td>Reg</td>\n",
       "      <td>Lvl</td>\n",
       "      <td>AllPub</td>\n",
       "      <td>Inside</td>\n",
       "      <td>Gtl</td>\n",
       "      <td>CollgCr</td>\n",
       "      <td>Norm</td>\n",
       "      <td>...</td>\n",
       "      <td>Attchd</td>\n",
       "      <td>RFn</td>\n",
       "      <td>TA</td>\n",
       "      <td>TA</td>\n",
       "      <td>Y</td>\n",
       "      <td>NaN</td>\n",
       "      <td>NaN</td>\n",
       "      <td>NaN</td>\n",
       "      <td>WD</td>\n",
       "      <td>Normal</td>\n",
       "    </tr>\n",
       "    <tr>\n",
       "      <th>1</th>\n",
       "      <td>RL</td>\n",
       "      <td>Pave</td>\n",
       "      <td>NaN</td>\n",
       "      <td>Reg</td>\n",
       "      <td>Lvl</td>\n",
       "      <td>AllPub</td>\n",
       "      <td>FR2</td>\n",
       "      <td>Gtl</td>\n",
       "      <td>Veenker</td>\n",
       "      <td>Feedr</td>\n",
       "      <td>...</td>\n",
       "      <td>Attchd</td>\n",
       "      <td>RFn</td>\n",
       "      <td>TA</td>\n",
       "      <td>TA</td>\n",
       "      <td>Y</td>\n",
       "      <td>NaN</td>\n",
       "      <td>NaN</td>\n",
       "      <td>NaN</td>\n",
       "      <td>WD</td>\n",
       "      <td>Normal</td>\n",
       "    </tr>\n",
       "    <tr>\n",
       "      <th>2</th>\n",
       "      <td>RL</td>\n",
       "      <td>Pave</td>\n",
       "      <td>NaN</td>\n",
       "      <td>IR1</td>\n",
       "      <td>Lvl</td>\n",
       "      <td>AllPub</td>\n",
       "      <td>Inside</td>\n",
       "      <td>Gtl</td>\n",
       "      <td>CollgCr</td>\n",
       "      <td>Norm</td>\n",
       "      <td>...</td>\n",
       "      <td>Attchd</td>\n",
       "      <td>RFn</td>\n",
       "      <td>TA</td>\n",
       "      <td>TA</td>\n",
       "      <td>Y</td>\n",
       "      <td>NaN</td>\n",
       "      <td>NaN</td>\n",
       "      <td>NaN</td>\n",
       "      <td>WD</td>\n",
       "      <td>Normal</td>\n",
       "    </tr>\n",
       "    <tr>\n",
       "      <th>3</th>\n",
       "      <td>RL</td>\n",
       "      <td>Pave</td>\n",
       "      <td>NaN</td>\n",
       "      <td>IR1</td>\n",
       "      <td>Lvl</td>\n",
       "      <td>AllPub</td>\n",
       "      <td>Corner</td>\n",
       "      <td>Gtl</td>\n",
       "      <td>Crawfor</td>\n",
       "      <td>Norm</td>\n",
       "      <td>...</td>\n",
       "      <td>Detchd</td>\n",
       "      <td>Unf</td>\n",
       "      <td>TA</td>\n",
       "      <td>TA</td>\n",
       "      <td>Y</td>\n",
       "      <td>NaN</td>\n",
       "      <td>NaN</td>\n",
       "      <td>NaN</td>\n",
       "      <td>WD</td>\n",
       "      <td>Abnorml</td>\n",
       "    </tr>\n",
       "    <tr>\n",
       "      <th>4</th>\n",
       "      <td>RL</td>\n",
       "      <td>Pave</td>\n",
       "      <td>NaN</td>\n",
       "      <td>IR1</td>\n",
       "      <td>Lvl</td>\n",
       "      <td>AllPub</td>\n",
       "      <td>FR2</td>\n",
       "      <td>Gtl</td>\n",
       "      <td>NoRidge</td>\n",
       "      <td>Norm</td>\n",
       "      <td>...</td>\n",
       "      <td>Attchd</td>\n",
       "      <td>RFn</td>\n",
       "      <td>TA</td>\n",
       "      <td>TA</td>\n",
       "      <td>Y</td>\n",
       "      <td>NaN</td>\n",
       "      <td>NaN</td>\n",
       "      <td>NaN</td>\n",
       "      <td>WD</td>\n",
       "      <td>Normal</td>\n",
       "    </tr>\n",
       "    <tr>\n",
       "      <th>...</th>\n",
       "      <td>...</td>\n",
       "      <td>...</td>\n",
       "      <td>...</td>\n",
       "      <td>...</td>\n",
       "      <td>...</td>\n",
       "      <td>...</td>\n",
       "      <td>...</td>\n",
       "      <td>...</td>\n",
       "      <td>...</td>\n",
       "      <td>...</td>\n",
       "      <td>...</td>\n",
       "      <td>...</td>\n",
       "      <td>...</td>\n",
       "      <td>...</td>\n",
       "      <td>...</td>\n",
       "      <td>...</td>\n",
       "      <td>...</td>\n",
       "      <td>...</td>\n",
       "      <td>...</td>\n",
       "      <td>...</td>\n",
       "      <td>...</td>\n",
       "    </tr>\n",
       "    <tr>\n",
       "      <th>1455</th>\n",
       "      <td>RL</td>\n",
       "      <td>Pave</td>\n",
       "      <td>NaN</td>\n",
       "      <td>Reg</td>\n",
       "      <td>Lvl</td>\n",
       "      <td>AllPub</td>\n",
       "      <td>Inside</td>\n",
       "      <td>Gtl</td>\n",
       "      <td>Gilbert</td>\n",
       "      <td>Norm</td>\n",
       "      <td>...</td>\n",
       "      <td>Attchd</td>\n",
       "      <td>RFn</td>\n",
       "      <td>TA</td>\n",
       "      <td>TA</td>\n",
       "      <td>Y</td>\n",
       "      <td>NaN</td>\n",
       "      <td>NaN</td>\n",
       "      <td>NaN</td>\n",
       "      <td>WD</td>\n",
       "      <td>Normal</td>\n",
       "    </tr>\n",
       "    <tr>\n",
       "      <th>1456</th>\n",
       "      <td>RL</td>\n",
       "      <td>Pave</td>\n",
       "      <td>NaN</td>\n",
       "      <td>Reg</td>\n",
       "      <td>Lvl</td>\n",
       "      <td>AllPub</td>\n",
       "      <td>Inside</td>\n",
       "      <td>Gtl</td>\n",
       "      <td>NWAmes</td>\n",
       "      <td>Norm</td>\n",
       "      <td>...</td>\n",
       "      <td>Attchd</td>\n",
       "      <td>Unf</td>\n",
       "      <td>TA</td>\n",
       "      <td>TA</td>\n",
       "      <td>Y</td>\n",
       "      <td>NaN</td>\n",
       "      <td>MnPrv</td>\n",
       "      <td>NaN</td>\n",
       "      <td>WD</td>\n",
       "      <td>Normal</td>\n",
       "    </tr>\n",
       "    <tr>\n",
       "      <th>1457</th>\n",
       "      <td>RL</td>\n",
       "      <td>Pave</td>\n",
       "      <td>NaN</td>\n",
       "      <td>Reg</td>\n",
       "      <td>Lvl</td>\n",
       "      <td>AllPub</td>\n",
       "      <td>Inside</td>\n",
       "      <td>Gtl</td>\n",
       "      <td>Crawfor</td>\n",
       "      <td>Norm</td>\n",
       "      <td>...</td>\n",
       "      <td>Attchd</td>\n",
       "      <td>RFn</td>\n",
       "      <td>TA</td>\n",
       "      <td>TA</td>\n",
       "      <td>Y</td>\n",
       "      <td>NaN</td>\n",
       "      <td>GdPrv</td>\n",
       "      <td>Shed</td>\n",
       "      <td>WD</td>\n",
       "      <td>Normal</td>\n",
       "    </tr>\n",
       "    <tr>\n",
       "      <th>1458</th>\n",
       "      <td>RL</td>\n",
       "      <td>Pave</td>\n",
       "      <td>NaN</td>\n",
       "      <td>Reg</td>\n",
       "      <td>Lvl</td>\n",
       "      <td>AllPub</td>\n",
       "      <td>Inside</td>\n",
       "      <td>Gtl</td>\n",
       "      <td>NAmes</td>\n",
       "      <td>Norm</td>\n",
       "      <td>...</td>\n",
       "      <td>Attchd</td>\n",
       "      <td>Unf</td>\n",
       "      <td>TA</td>\n",
       "      <td>TA</td>\n",
       "      <td>Y</td>\n",
       "      <td>NaN</td>\n",
       "      <td>NaN</td>\n",
       "      <td>NaN</td>\n",
       "      <td>WD</td>\n",
       "      <td>Normal</td>\n",
       "    </tr>\n",
       "    <tr>\n",
       "      <th>1459</th>\n",
       "      <td>RL</td>\n",
       "      <td>Pave</td>\n",
       "      <td>NaN</td>\n",
       "      <td>Reg</td>\n",
       "      <td>Lvl</td>\n",
       "      <td>AllPub</td>\n",
       "      <td>Inside</td>\n",
       "      <td>Gtl</td>\n",
       "      <td>Edwards</td>\n",
       "      <td>Norm</td>\n",
       "      <td>...</td>\n",
       "      <td>Attchd</td>\n",
       "      <td>Fin</td>\n",
       "      <td>TA</td>\n",
       "      <td>TA</td>\n",
       "      <td>Y</td>\n",
       "      <td>NaN</td>\n",
       "      <td>NaN</td>\n",
       "      <td>NaN</td>\n",
       "      <td>WD</td>\n",
       "      <td>Normal</td>\n",
       "    </tr>\n",
       "  </tbody>\n",
       "</table>\n",
       "<p>1460 rows × 43 columns</p>\n",
       "</div>"
      ],
      "text/plain": [
       "     MSZoning Street Alley LotShape LandContour Utilities LotConfig LandSlope  \\\n",
       "0          RL   Pave   NaN      Reg         Lvl    AllPub    Inside       Gtl   \n",
       "1          RL   Pave   NaN      Reg         Lvl    AllPub       FR2       Gtl   \n",
       "2          RL   Pave   NaN      IR1         Lvl    AllPub    Inside       Gtl   \n",
       "3          RL   Pave   NaN      IR1         Lvl    AllPub    Corner       Gtl   \n",
       "4          RL   Pave   NaN      IR1         Lvl    AllPub       FR2       Gtl   \n",
       "...       ...    ...   ...      ...         ...       ...       ...       ...   \n",
       "1455       RL   Pave   NaN      Reg         Lvl    AllPub    Inside       Gtl   \n",
       "1456       RL   Pave   NaN      Reg         Lvl    AllPub    Inside       Gtl   \n",
       "1457       RL   Pave   NaN      Reg         Lvl    AllPub    Inside       Gtl   \n",
       "1458       RL   Pave   NaN      Reg         Lvl    AllPub    Inside       Gtl   \n",
       "1459       RL   Pave   NaN      Reg         Lvl    AllPub    Inside       Gtl   \n",
       "\n",
       "     Neighborhood Condition1  ... GarageType GarageFinish GarageQual  \\\n",
       "0         CollgCr       Norm  ...     Attchd          RFn         TA   \n",
       "1         Veenker      Feedr  ...     Attchd          RFn         TA   \n",
       "2         CollgCr       Norm  ...     Attchd          RFn         TA   \n",
       "3         Crawfor       Norm  ...     Detchd          Unf         TA   \n",
       "4         NoRidge       Norm  ...     Attchd          RFn         TA   \n",
       "...           ...        ...  ...        ...          ...        ...   \n",
       "1455      Gilbert       Norm  ...     Attchd          RFn         TA   \n",
       "1456       NWAmes       Norm  ...     Attchd          Unf         TA   \n",
       "1457      Crawfor       Norm  ...     Attchd          RFn         TA   \n",
       "1458        NAmes       Norm  ...     Attchd          Unf         TA   \n",
       "1459      Edwards       Norm  ...     Attchd          Fin         TA   \n",
       "\n",
       "     GarageCond PavedDrive PoolQC  Fence MiscFeature SaleType SaleCondition  \n",
       "0            TA          Y    NaN    NaN         NaN       WD        Normal  \n",
       "1            TA          Y    NaN    NaN         NaN       WD        Normal  \n",
       "2            TA          Y    NaN    NaN         NaN       WD        Normal  \n",
       "3            TA          Y    NaN    NaN         NaN       WD       Abnorml  \n",
       "4            TA          Y    NaN    NaN         NaN       WD        Normal  \n",
       "...         ...        ...    ...    ...         ...      ...           ...  \n",
       "1455         TA          Y    NaN    NaN         NaN       WD        Normal  \n",
       "1456         TA          Y    NaN  MnPrv         NaN       WD        Normal  \n",
       "1457         TA          Y    NaN  GdPrv        Shed       WD        Normal  \n",
       "1458         TA          Y    NaN    NaN         NaN       WD        Normal  \n",
       "1459         TA          Y    NaN    NaN         NaN       WD        Normal  \n",
       "\n",
       "[1460 rows x 43 columns]"
      ]
     },
     "execution_count": 605,
     "metadata": {},
     "output_type": "execute_result"
    }
   ],
   "source": [
    "df_obj"
   ]
  },
  {
   "cell_type": "markdown",
   "id": "dc655996-520d-46a3-95dc-be1139f81efe",
   "metadata": {},
   "source": [
    "### Kategorik verilerin encoding işlemleri"
   ]
  },
  {
   "cell_type": "markdown",
   "id": "2ae4977f-3bf1-4926-a7b7-0553b67e1e6e",
   "metadata": {
    "jp-MarkdownHeadingCollapsed": true,
    "tags": []
   },
   "source": [
    "#### MSZoning"
   ]
  },
  {
   "cell_type": "code",
   "execution_count": 606,
   "id": "7a17ecbc-837a-43ba-bd15-22b5d2de4ade",
   "metadata": {},
   "outputs": [
    {
     "data": {
      "text/html": [
       "<div>\n",
       "<style scoped>\n",
       "    .dataframe tbody tr th:only-of-type {\n",
       "        vertical-align: middle;\n",
       "    }\n",
       "\n",
       "    .dataframe tbody tr th {\n",
       "        vertical-align: top;\n",
       "    }\n",
       "\n",
       "    .dataframe thead th {\n",
       "        text-align: right;\n",
       "    }\n",
       "</style>\n",
       "<table border=\"1\" class=\"dataframe\">\n",
       "  <thead>\n",
       "    <tr style=\"text-align: right;\">\n",
       "      <th></th>\n",
       "      <th>MSZoning</th>\n",
       "      <th>Street</th>\n",
       "      <th>Alley</th>\n",
       "      <th>LotShape</th>\n",
       "      <th>LandContour</th>\n",
       "      <th>Utilities</th>\n",
       "      <th>LotConfig</th>\n",
       "      <th>LandSlope</th>\n",
       "      <th>Neighborhood</th>\n",
       "      <th>Condition1</th>\n",
       "      <th>...</th>\n",
       "      <th>GarageType</th>\n",
       "      <th>GarageFinish</th>\n",
       "      <th>GarageQual</th>\n",
       "      <th>GarageCond</th>\n",
       "      <th>PavedDrive</th>\n",
       "      <th>PoolQC</th>\n",
       "      <th>Fence</th>\n",
       "      <th>MiscFeature</th>\n",
       "      <th>SaleType</th>\n",
       "      <th>SaleCondition</th>\n",
       "    </tr>\n",
       "  </thead>\n",
       "  <tbody>\n",
       "  </tbody>\n",
       "</table>\n",
       "<p>0 rows × 43 columns</p>\n",
       "</div>"
      ],
      "text/plain": [
       "Empty DataFrame\n",
       "Columns: [MSZoning, Street, Alley, LotShape, LandContour, Utilities, LotConfig, LandSlope, Neighborhood, Condition1, Condition2, BldgType, HouseStyle, RoofStyle, RoofMatl, Exterior1st, Exterior2nd, MasVnrType, ExterQual, ExterCond, Foundation, BsmtQual, BsmtCond, BsmtExposure, BsmtFinType1, BsmtFinType2, Heating, HeatingQC, CentralAir, Electrical, KitchenQual, Functional, FireplaceQu, GarageType, GarageFinish, GarageQual, GarageCond, PavedDrive, PoolQC, Fence, MiscFeature, SaleType, SaleCondition]\n",
       "Index: []\n",
       "\n",
       "[0 rows x 43 columns]"
      ]
     },
     "execution_count": 606,
     "metadata": {},
     "output_type": "execute_result"
    }
   ],
   "source": [
    "df_obj[df_obj.MSZoning.isnull() == True]"
   ]
  },
  {
   "cell_type": "code",
   "execution_count": 607,
   "id": "653525da-0db9-4b52-abed-d574f702ae48",
   "metadata": {},
   "outputs": [
    {
     "data": {
      "text/plain": [
       "RL         1151\n",
       "RM          218\n",
       "FV           65\n",
       "RH           16\n",
       "C (all)      10\n",
       "Name: MSZoning, dtype: int64"
      ]
     },
     "execution_count": 607,
     "metadata": {},
     "output_type": "execute_result"
    }
   ],
   "source": [
    "df_obj.MSZoning.value_counts()"
   ]
  },
  {
   "cell_type": "code",
   "execution_count": 608,
   "id": "627d9f11-95c5-4160-bb40-6f782cdba3bf",
   "metadata": {},
   "outputs": [
    {
     "data": {
      "image/png": "[encoded data removed]",
      "text/plain": [
       "<Figure size 432x288 with 1 Axes>"
      ]
     },
     "metadata": {
      "needs_background": "light"
     },
     "output_type": "display_data"
    }
   ],
   "source": [
    "sns.boxplot(x=\"MSZoning\", y=\"SalePrice\", data=df)\n",
    "plt.show()"
   ]
  },
  {
   "cell_type": "code",
   "execution_count": 609,
   "id": "d28148cc-03c5-4e9a-b5d0-4089f6b05bd0",
   "metadata": {},
   "outputs": [
    {
     "data": {
      "image/png": "[encoded data removed]",
      "text/plain": [
       "<Figure size 432x288 with 1 Axes>"
      ]
     },
     "metadata": {
      "needs_background": "light"
     },
     "output_type": "display_data"
    }
   ],
   "source": [
    "sns.scatterplot(x='SalePrice', y='MSZoning', data=df, palette='rocket')\n",
    "plt.title('MSZoning kategorisinin Fiyat Dağılımı')\n",
    "plt.show()"
   ]
  },
  {
   "cell_type": "code",
   "execution_count": 610,
   "id": "45d2fe5f-7810-4657-9494-5e646a32ac46",
   "metadata": {},
   "outputs": [],
   "source": [
    "dictionary = {\"MSZoning\":{\"C (all)\":1,\"RH\":2, \"FV\":3, \"RM\":4, \"RL\":5}}\n",
    "df_obj = df_obj.replace(dictionary)"
   ]
  },
  {
   "cell_type": "markdown",
   "id": "71515cb5-424f-41bd-9180-6166212f52f2",
   "metadata": {
    "jp-MarkdownHeadingCollapsed": true,
    "tags": []
   },
   "source": [
    "#### Street"
   ]
  },
  {
   "cell_type": "code",
   "execution_count": 611,
   "id": "6daedeb6-1670-4378-94ed-fe3d5cb50ad9",
   "metadata": {},
   "outputs": [
    {
     "data": {
      "text/plain": [
       "Pave    1454\n",
       "Grvl       6\n",
       "Name: Street, dtype: int64"
      ]
     },
     "execution_count": 611,
     "metadata": {},
     "output_type": "execute_result"
    }
   ],
   "source": [
    "df_obj.Street.value_counts()"
   ]
  },
  {
   "cell_type": "code",
   "execution_count": 612,
   "id": "c6a43a29-814c-4b61-a1ff-9ad4e56fe797",
   "metadata": {},
   "outputs": [
    {
     "data": {
      "text/plain": [
       "0"
      ]
     },
     "execution_count": 612,
     "metadata": {},
     "output_type": "execute_result"
    }
   ],
   "source": [
    "df_obj.Street.isnull().sum()"
   ]
  },
  {
   "cell_type": "code",
   "execution_count": 613,
   "id": "f186e773-7cf6-431f-bf68-e972cdfaac91",
   "metadata": {},
   "outputs": [],
   "source": [
    "dictionary = {\"Street\":{\"Grvl\":1,\"Pave\":2}}\n",
    "df_obj = df_obj.replace(dictionary)"
   ]
  },
  {
   "cell_type": "markdown",
   "id": "4b7732b0-eabb-4981-93d7-4b04e7bdb92a",
   "metadata": {
    "tags": []
   },
   "source": [
    "#### Alley"
   ]
  },
  {
   "cell_type": "code",
   "execution_count": 614,
   "id": "a1973c3d-de95-4bee-8ed3-7baa4a316726",
   "metadata": {},
   "outputs": [
    {
     "data": {
      "text/plain": [
       "Grvl    50\n",
       "Pave    41\n",
       "Name: Alley, dtype: int64"
      ]
     },
     "execution_count": 614,
     "metadata": {},
     "output_type": "execute_result"
    }
   ],
   "source": [
    "df_obj.Alley.value_counts()"
   ]
  },
  {
   "cell_type": "code",
   "execution_count": 615,
   "id": "113689e9-a1f8-4726-8e6f-b9f65ab7b13d",
   "metadata": {},
   "outputs": [
    {
     "data": {
      "text/plain": [
       "1369"
      ]
     },
     "execution_count": 615,
     "metadata": {},
     "output_type": "execute_result"
    }
   ],
   "source": [
    "df_obj.Alley.isnull().sum()"
   ]
  },
  {
   "cell_type": "markdown",
   "id": "b17222e3-de0c-4ccd-bcea-cb028624df16",
   "metadata": {},
   "source": [
    "Alleys can lead to a better integration of automobile and foot traffic in a neighborhood which creates improved access and walkability. https://www.canr.msu.edu › news › an_argument_for_alleys <br>\n",
    "Açıklamadan  hareketle aşağıdaki sıralama yapıldı."
   ]
  },
  {
   "cell_type": "code",
   "execution_count": 616,
   "id": "8e09b273-0ad0-4890-95a4-0c9c545e35bb",
   "metadata": {},
   "outputs": [],
   "source": [
    "df_obj.Alley.fillna(0)\n",
    "dictionary = {\"Alley\":{\"Grvl\":1,\"Pave\":2}}\n",
    "df_obj = df_obj.replace(dictionary)"
   ]
  },
  {
   "cell_type": "code",
   "execution_count": 617,
   "id": "7ba1bce5-8676-4ca5-8c4e-6ebbe6154452",
   "metadata": {},
   "outputs": [
    {
     "data": {
      "text/plain": [
       "1369"
      ]
     },
     "execution_count": 617,
     "metadata": {},
     "output_type": "execute_result"
    }
   ],
   "source": [
    "df_obj.Alley.isnull().sum()"
   ]
  },
  {
   "cell_type": "code",
   "execution_count": 618,
   "id": "37bcadbb-4cb2-42b8-969e-f4399b359eab",
   "metadata": {},
   "outputs": [],
   "source": [
    "df_obj.Alley.fillna(0, inplace=True)"
   ]
  },
  {
   "cell_type": "code",
   "execution_count": 619,
   "id": "1dc837a0-01f2-4f5a-8866-30eda724ed60",
   "metadata": {},
   "outputs": [
    {
     "data": {
      "text/plain": [
       "0.0    1369\n",
       "1.0      50\n",
       "2.0      41\n",
       "Name: Alley, dtype: int64"
      ]
     },
     "execution_count": 619,
     "metadata": {},
     "output_type": "execute_result"
    }
   ],
   "source": [
    "df_obj.Alley.value_counts()"
   ]
  },
  {
   "cell_type": "markdown",
   "id": "53b49798-7924-4ccb-9752-2ace1536cb56",
   "metadata": {
    "jp-MarkdownHeadingCollapsed": true,
    "tags": []
   },
   "source": [
    "#### LotShape"
   ]
  },
  {
   "cell_type": "code",
   "execution_count": 620,
   "id": "671823bf-e870-47a3-bc9d-5118a87c011d",
   "metadata": {},
   "outputs": [
    {
     "data": {
      "text/plain": [
       "Reg    925\n",
       "IR1    484\n",
       "IR2     41\n",
       "IR3     10\n",
       "Name: LotShape, dtype: int64"
      ]
     },
     "execution_count": 620,
     "metadata": {},
     "output_type": "execute_result"
    }
   ],
   "source": [
    "df_obj.LotShape.value_counts()"
   ]
  },
  {
   "cell_type": "code",
   "execution_count": 621,
   "id": "1438bb46-acd9-4b44-9e3b-9a2173f9b23e",
   "metadata": {},
   "outputs": [
    {
     "data": {
      "text/plain": [
       "0"
      ]
     },
     "execution_count": 621,
     "metadata": {},
     "output_type": "execute_result"
    }
   ],
   "source": [
    "df_obj.LotShape.isnull().sum()"
   ]
  },
  {
   "cell_type": "markdown",
   "id": "9a6df280-f2ec-499c-9cdc-8a1087400d0b",
   "metadata": {},
   "source": [
    "The beneficial shapes are square and rectangle (with proper ratio). These plot shapes lead to prosperity, wellbeing and happiness for the owner. Other shapes, such as circle, U or L-shaped plots have missing corners that may cause serious problems, depending on the section that is missing. housing.com <br><br>\n",
    "Açıklamaya göre aşağıdaki sıralama yapıldı"
   ]
  },
  {
   "cell_type": "code",
   "execution_count": 622,
   "id": "6b6d6ab8-48c2-42c8-b96a-1a422d71d518",
   "metadata": {},
   "outputs": [],
   "source": [
    "dictionary = {\"LotShape\":{\"IR3\":0,\"IR2\":1, \"IR1\":2, \"Reg\":3}}\n",
    "df_obj = df_obj.replace(dictionary)"
   ]
  },
  {
   "cell_type": "markdown",
   "id": "c3e1e61d-4d54-4265-a948-7939356468b9",
   "metadata": {
    "jp-MarkdownHeadingCollapsed": true,
    "tags": []
   },
   "source": [
    "#### LandContour"
   ]
  },
  {
   "cell_type": "code",
   "execution_count": 623,
   "id": "7d756b5c-01d5-42c0-ad82-3248886a13c9",
   "metadata": {},
   "outputs": [
    {
     "data": {
      "text/plain": [
       "Lvl    1311\n",
       "Bnk      63\n",
       "HLS      50\n",
       "Low      36\n",
       "Name: LandContour, dtype: int64"
      ]
     },
     "execution_count": 623,
     "metadata": {},
     "output_type": "execute_result"
    }
   ],
   "source": [
    "df_obj.LandContour.value_counts()"
   ]
  },
  {
   "cell_type": "code",
   "execution_count": 624,
   "id": "100fb33e-ee02-4eea-995a-dd2bd5e10795",
   "metadata": {},
   "outputs": [
    {
     "data": {
      "text/plain": [
       "0"
      ]
     },
     "execution_count": 624,
     "metadata": {},
     "output_type": "execute_result"
    }
   ],
   "source": [
    "df_obj.LandContour.isnull().sum()"
   ]
  },
  {
   "cell_type": "code",
   "execution_count": 625,
   "id": "10d90a80-cdae-4dc0-84e3-3365ab15be9a",
   "metadata": {},
   "outputs": [
    {
     "data": {
      "image/png": "[encoded data removed]",
      "text/plain": [
       "<Figure size 432x288 with 1 Axes>"
      ]
     },
     "metadata": {
      "needs_background": "light"
     },
     "output_type": "display_data"
    }
   ],
   "source": [
    "sns.boxplot(x=\"LandContour\", y=\"SalePrice\", data=df)\n",
    "plt.show()"
   ]
  },
  {
   "cell_type": "code",
   "execution_count": 626,
   "id": "3721c5f6-43a4-416a-8f21-c4ed633f9da9",
   "metadata": {},
   "outputs": [],
   "source": [
    "dictionary = {\"LandContour\":{\"Bnk\":0,\"Low\":1, \"HLS\":2, \"Lvl\":3}}\n",
    "df_obj = df_obj.replace(dictionary)"
   ]
  },
  {
   "cell_type": "markdown",
   "id": "5b1adc94-53b0-4463-a9cd-d0c4d7afb1f7",
   "metadata": {
    "jp-MarkdownHeadingCollapsed": true,
    "tags": []
   },
   "source": [
    "#### Utilities"
   ]
  },
  {
   "cell_type": "code",
   "execution_count": 627,
   "id": "f5fc335f-32fe-451c-8776-5994123c6994",
   "metadata": {},
   "outputs": [
    {
     "data": {
      "text/plain": [
       "AllPub    1459\n",
       "NoSeWa       1\n",
       "Name: Utilities, dtype: int64"
      ]
     },
     "execution_count": 627,
     "metadata": {},
     "output_type": "execute_result"
    }
   ],
   "source": [
    "df_obj.Utilities.value_counts()"
   ]
  },
  {
   "cell_type": "code",
   "execution_count": 628,
   "id": "e740fe54-3a36-4be8-9c45-8078f8d5f5fd",
   "metadata": {},
   "outputs": [
    {
     "data": {
      "text/plain": [
       "0"
      ]
     },
     "execution_count": 628,
     "metadata": {},
     "output_type": "execute_result"
    }
   ],
   "source": [
    "df_obj.Utilities.isnull().sum()"
   ]
  },
  {
   "cell_type": "code",
   "execution_count": 629,
   "id": "0502d34e-1170-4b91-ae92-17d48f06fada",
   "metadata": {},
   "outputs": [],
   "source": [
    "dictionary = {\"Utilities\":{\"NoSeWa\":0,\"AllPub\":1}}\n",
    "df_obj = df_obj.replace(dictionary)"
   ]
  },
  {
   "cell_type": "markdown",
   "id": "65e620b0-d354-44ca-9dd1-1e56f0394be5",
   "metadata": {
    "jp-MarkdownHeadingCollapsed": true,
    "tags": []
   },
   "source": [
    "#### LotConfig"
   ]
  },
  {
   "cell_type": "code",
   "execution_count": 630,
   "id": "770aaa66-4c65-4d50-b494-067f8c7c0853",
   "metadata": {},
   "outputs": [
    {
     "data": {
      "text/plain": [
       "Inside     1052\n",
       "Corner      263\n",
       "CulDSac      94\n",
       "FR2          47\n",
       "FR3           4\n",
       "Name: LotConfig, dtype: int64"
      ]
     },
     "execution_count": 630,
     "metadata": {},
     "output_type": "execute_result"
    }
   ],
   "source": [
    "df_obj.LotConfig.value_counts()"
   ]
  },
  {
   "cell_type": "code",
   "execution_count": 631,
   "id": "025c0284-ec88-41c4-82dd-bbccd18d6d2f",
   "metadata": {},
   "outputs": [
    {
     "data": {
      "text/plain": [
       "0"
      ]
     },
     "execution_count": 631,
     "metadata": {},
     "output_type": "execute_result"
    }
   ],
   "source": [
    "df_obj.LotConfig.isnull().sum()"
   ]
  },
  {
   "cell_type": "code",
   "execution_count": 632,
   "id": "a97969cb-fcb0-4df0-baf9-089438f3e612",
   "metadata": {},
   "outputs": [
    {
     "data": {
      "image/png": "[encoded data removed]",
      "text/plain": [
       "<Figure size 432x288 with 1 Axes>"
      ]
     },
     "metadata": {
      "needs_background": "light"
     },
     "output_type": "display_data"
    }
   ],
   "source": [
    "sns.boxplot(y=\"SalePrice\", x=\"LotConfig\", data=df)\n",
    "plt.show()"
   ]
  },
  {
   "cell_type": "code",
   "execution_count": 633,
   "id": "51570968-f7aa-4b1e-97e9-acd5dba1f1c6",
   "metadata": {},
   "outputs": [
    {
     "data": {
      "image/png": "[encoded data removed]",
      "text/plain": [
       "<Figure size 432x288 with 1 Axes>"
      ]
     },
     "metadata": {
      "needs_background": "light"
     },
     "output_type": "display_data"
    }
   ],
   "source": [
    "sns.scatterplot(y=\"SalePrice\", x=\"LotConfig\", data=df)\n",
    "plt.show()"
   ]
  },
  {
   "cell_type": "code",
   "execution_count": 634,
   "id": "32bf4242-93d9-4dd1-94dc-0daf1769e6ee",
   "metadata": {},
   "outputs": [],
   "source": [
    "dictionary = {\"LotConfig\":{\"FR2\":0,\"Inside\":1, \"FR3\":2, \"Corner\":3, \"CulDSac\":4}}\n",
    "df_obj = df_obj.replace(dictionary)"
   ]
  },
  {
   "cell_type": "markdown",
   "id": "81b73103-2aa6-42d9-97ed-bde085985bb6",
   "metadata": {
    "jp-MarkdownHeadingCollapsed": true,
    "tags": []
   },
   "source": [
    "#### LandSlope"
   ]
  },
  {
   "cell_type": "code",
   "execution_count": 635,
   "id": "d6da1e22-139e-449b-b4ad-79e134c700bb",
   "metadata": {},
   "outputs": [
    {
     "data": {
      "text/plain": [
       "Gtl    1382\n",
       "Mod      65\n",
       "Sev      13\n",
       "Name: LandSlope, dtype: int64"
      ]
     },
     "execution_count": 635,
     "metadata": {},
     "output_type": "execute_result"
    }
   ],
   "source": [
    "df_obj.LandSlope.value_counts()"
   ]
  },
  {
   "cell_type": "code",
   "execution_count": 636,
   "id": "5d9eae0d-c876-453c-9962-b843884df7d7",
   "metadata": {},
   "outputs": [
    {
     "data": {
      "text/plain": [
       "0"
      ]
     },
     "execution_count": 636,
     "metadata": {},
     "output_type": "execute_result"
    }
   ],
   "source": [
    "df_obj.LandSlope.isnull().sum()"
   ]
  },
  {
   "cell_type": "code",
   "execution_count": 637,
   "id": "8eae28ed-66fb-47d7-97e3-82f2708913c0",
   "metadata": {
    "tags": []
   },
   "outputs": [
    {
     "data": {
      "image/png": "[encoded data removed]",
      "text/plain": [
       "<Figure size 432x288 with 1 Axes>"
      ]
     },
     "metadata": {
      "needs_background": "light"
     },
     "output_type": "display_data"
    }
   ],
   "source": [
    "sns.scatterplot(y=\"SalePrice\", x=\"LandSlope\", data=df)\n",
    "plt.show()"
   ]
  },
  {
   "cell_type": "code",
   "execution_count": 638,
   "id": "cb549099-12f9-4a63-8d68-3c42189a75ba",
   "metadata": {},
   "outputs": [],
   "source": [
    "dictionary = {\"LandSlope\":{\"Sev\":0,\"Mod\":1, \"Gtl\":2}}\n",
    "df_obj = df_obj.replace(dictionary)"
   ]
  },
  {
   "cell_type": "markdown",
   "id": "6ec07c57-b569-4a16-8b19-1b6eb3ff1e7c",
   "metadata": {
    "tags": []
   },
   "source": [
    "#### Neighborhood"
   ]
  },
  {
   "cell_type": "code",
   "execution_count": 639,
   "id": "20761567-7619-44c2-85e0-55b58b4d9b1c",
   "metadata": {},
   "outputs": [
    {
     "data": {
      "text/plain": [
       "NAmes      225\n",
       "CollgCr    150\n",
       "OldTown    113\n",
       "Edwards    100\n",
       "Somerst     86\n",
       "Gilbert     79\n",
       "NridgHt     77\n",
       "Sawyer      74\n",
       "NWAmes      73\n",
       "SawyerW     59\n",
       "BrkSide     58\n",
       "Crawfor     51\n",
       "Mitchel     49\n",
       "NoRidge     41\n",
       "Timber      38\n",
       "IDOTRR      37\n",
       "ClearCr     28\n",
       "StoneBr     25\n",
       "SWISU       25\n",
       "MeadowV     17\n",
       "Blmngtn     17\n",
       "BrDale      16\n",
       "Veenker     11\n",
       "NPkVill      9\n",
       "Blueste      2\n",
       "Name: Neighborhood, dtype: int64"
      ]
     },
     "execution_count": 639,
     "metadata": {},
     "output_type": "execute_result"
    }
   ],
   "source": [
    "df_obj.Neighborhood.value_counts()"
   ]
  },
  {
   "cell_type": "code",
   "execution_count": 640,
   "id": "cf0fb7d4-48be-4479-a8a4-03cdbdee4686",
   "metadata": {},
   "outputs": [
    {
     "data": {
      "image/png": "[encoded data removed]",
      "text/plain": [
       "<Figure size 720x360 with 1 Axes>"
      ]
     },
     "metadata": {
      "needs_background": "light"
     },
     "output_type": "display_data"
    }
   ],
   "source": [
    "plt.figure(figsize = (10,5))\n",
    "sns.scatterplot(y=\"SalePrice\", x=\"Neighborhood\", data=df)\n",
    "plt.xticks(rotation=90)\n",
    "plt.show()"
   ]
  },
  {
   "cell_type": "code",
   "execution_count": 641,
   "id": "0132e52e-a8ff-44ad-aa02-2402f2fdad97",
   "metadata": {},
   "outputs": [
    {
     "data": {
      "image/png": "[encoded data removed]",
      "text/plain": [
       "<Figure size 720x360 with 1 Axes>"
      ]
     },
     "metadata": {
      "needs_background": "light"
     },
     "output_type": "display_data"
    }
   ],
   "source": [
    "plt.figure(figsize = (10,5))\n",
    "sns.boxplot(y=\"SalePrice\", x=\"Neighborhood\", data=df)\n",
    "plt.xticks(rotation=90)\n",
    "plt.show()"
   ]
  },
  {
   "cell_type": "code",
   "execution_count": 642,
   "id": "9d44794b-b0f0-418f-83f4-d68d547361e9",
   "metadata": {},
   "outputs": [
    {
     "data": {
      "text/plain": [
       "0"
      ]
     },
     "execution_count": 642,
     "metadata": {},
     "output_type": "execute_result"
    }
   ],
   "source": [
    "df_obj.Neighborhood.isnull().sum()"
   ]
  },
  {
   "cell_type": "code",
   "execution_count": 643,
   "id": "812e2f26-0c8f-4d3f-b7ab-54e5362f825d",
   "metadata": {},
   "outputs": [
    {
     "data": {
      "text/html": [
       "<div>\n",
       "<style scoped>\n",
       "    .dataframe tbody tr th:only-of-type {\n",
       "        vertical-align: middle;\n",
       "    }\n",
       "\n",
       "    .dataframe tbody tr th {\n",
       "        vertical-align: top;\n",
       "    }\n",
       "\n",
       "    .dataframe thead th {\n",
       "        text-align: right;\n",
       "    }\n",
       "</style>\n",
       "<table border=\"1\" class=\"dataframe\">\n",
       "  <thead>\n",
       "    <tr style=\"text-align: right;\">\n",
       "      <th></th>\n",
       "      <th>amin</th>\n",
       "      <th>mean</th>\n",
       "      <th>std</th>\n",
       "      <th>amax</th>\n",
       "    </tr>\n",
       "    <tr>\n",
       "      <th>Neighborhood</th>\n",
       "      <th></th>\n",
       "      <th></th>\n",
       "      <th></th>\n",
       "      <th></th>\n",
       "    </tr>\n",
       "  </thead>\n",
       "  <tbody>\n",
       "    <tr>\n",
       "      <th>NoRidge</th>\n",
       "      <td>190000</td>\n",
       "      <td>335295.317073</td>\n",
       "      <td>121412.658640</td>\n",
       "      <td>755000</td>\n",
       "    </tr>\n",
       "    <tr>\n",
       "      <th>NridgHt</th>\n",
       "      <td>154000</td>\n",
       "      <td>316270.623377</td>\n",
       "      <td>96392.544954</td>\n",
       "      <td>611657</td>\n",
       "    </tr>\n",
       "    <tr>\n",
       "      <th>StoneBr</th>\n",
       "      <td>170000</td>\n",
       "      <td>310499.000000</td>\n",
       "      <td>112969.676640</td>\n",
       "      <td>556581</td>\n",
       "    </tr>\n",
       "    <tr>\n",
       "      <th>Timber</th>\n",
       "      <td>137500</td>\n",
       "      <td>242247.447368</td>\n",
       "      <td>64845.651549</td>\n",
       "      <td>378500</td>\n",
       "    </tr>\n",
       "    <tr>\n",
       "      <th>Veenker</th>\n",
       "      <td>162500</td>\n",
       "      <td>238772.727273</td>\n",
       "      <td>72369.317959</td>\n",
       "      <td>385000</td>\n",
       "    </tr>\n",
       "    <tr>\n",
       "      <th>Somerst</th>\n",
       "      <td>144152</td>\n",
       "      <td>225379.837209</td>\n",
       "      <td>56177.555888</td>\n",
       "      <td>423000</td>\n",
       "    </tr>\n",
       "    <tr>\n",
       "      <th>ClearCr</th>\n",
       "      <td>130000</td>\n",
       "      <td>212565.428571</td>\n",
       "      <td>50231.538993</td>\n",
       "      <td>328000</td>\n",
       "    </tr>\n",
       "    <tr>\n",
       "      <th>Crawfor</th>\n",
       "      <td>90350</td>\n",
       "      <td>210624.725490</td>\n",
       "      <td>68866.395472</td>\n",
       "      <td>392500</td>\n",
       "    </tr>\n",
       "    <tr>\n",
       "      <th>CollgCr</th>\n",
       "      <td>110000</td>\n",
       "      <td>197965.773333</td>\n",
       "      <td>51403.666438</td>\n",
       "      <td>424870</td>\n",
       "    </tr>\n",
       "    <tr>\n",
       "      <th>Blmngtn</th>\n",
       "      <td>159895</td>\n",
       "      <td>194870.882353</td>\n",
       "      <td>30393.229219</td>\n",
       "      <td>264561</td>\n",
       "    </tr>\n",
       "    <tr>\n",
       "      <th>Gilbert</th>\n",
       "      <td>141000</td>\n",
       "      <td>192854.506329</td>\n",
       "      <td>35986.779085</td>\n",
       "      <td>377500</td>\n",
       "    </tr>\n",
       "    <tr>\n",
       "      <th>NWAmes</th>\n",
       "      <td>82500</td>\n",
       "      <td>189050.068493</td>\n",
       "      <td>37172.218106</td>\n",
       "      <td>299800</td>\n",
       "    </tr>\n",
       "    <tr>\n",
       "      <th>SawyerW</th>\n",
       "      <td>76000</td>\n",
       "      <td>186555.796610</td>\n",
       "      <td>55651.997820</td>\n",
       "      <td>320000</td>\n",
       "    </tr>\n",
       "    <tr>\n",
       "      <th>Mitchel</th>\n",
       "      <td>84500</td>\n",
       "      <td>156270.122449</td>\n",
       "      <td>36486.625334</td>\n",
       "      <td>271000</td>\n",
       "    </tr>\n",
       "    <tr>\n",
       "      <th>NAmes</th>\n",
       "      <td>87500</td>\n",
       "      <td>145847.080000</td>\n",
       "      <td>33075.345450</td>\n",
       "      <td>345000</td>\n",
       "    </tr>\n",
       "    <tr>\n",
       "      <th>NPkVill</th>\n",
       "      <td>127500</td>\n",
       "      <td>142694.444444</td>\n",
       "      <td>9377.314529</td>\n",
       "      <td>155000</td>\n",
       "    </tr>\n",
       "    <tr>\n",
       "      <th>SWISU</th>\n",
       "      <td>60000</td>\n",
       "      <td>142591.360000</td>\n",
       "      <td>32622.917679</td>\n",
       "      <td>200000</td>\n",
       "    </tr>\n",
       "    <tr>\n",
       "      <th>Blueste</th>\n",
       "      <td>124000</td>\n",
       "      <td>137500.000000</td>\n",
       "      <td>19091.883092</td>\n",
       "      <td>151000</td>\n",
       "    </tr>\n",
       "    <tr>\n",
       "      <th>Sawyer</th>\n",
       "      <td>62383</td>\n",
       "      <td>136793.135135</td>\n",
       "      <td>22345.129157</td>\n",
       "      <td>190000</td>\n",
       "    </tr>\n",
       "    <tr>\n",
       "      <th>OldTown</th>\n",
       "      <td>37900</td>\n",
       "      <td>128225.300885</td>\n",
       "      <td>52650.583185</td>\n",
       "      <td>475000</td>\n",
       "    </tr>\n",
       "    <tr>\n",
       "      <th>Edwards</th>\n",
       "      <td>58500</td>\n",
       "      <td>128219.700000</td>\n",
       "      <td>43208.616459</td>\n",
       "      <td>320000</td>\n",
       "    </tr>\n",
       "    <tr>\n",
       "      <th>BrkSide</th>\n",
       "      <td>39300</td>\n",
       "      <td>124834.051724</td>\n",
       "      <td>40348.689270</td>\n",
       "      <td>223500</td>\n",
       "    </tr>\n",
       "    <tr>\n",
       "      <th>BrDale</th>\n",
       "      <td>83000</td>\n",
       "      <td>104493.750000</td>\n",
       "      <td>14330.176493</td>\n",
       "      <td>125000</td>\n",
       "    </tr>\n",
       "    <tr>\n",
       "      <th>IDOTRR</th>\n",
       "      <td>34900</td>\n",
       "      <td>100123.783784</td>\n",
       "      <td>33376.710117</td>\n",
       "      <td>169500</td>\n",
       "    </tr>\n",
       "    <tr>\n",
       "      <th>MeadowV</th>\n",
       "      <td>75000</td>\n",
       "      <td>98576.470588</td>\n",
       "      <td>23491.049610</td>\n",
       "      <td>151400</td>\n",
       "    </tr>\n",
       "  </tbody>\n",
       "</table>\n",
       "</div>"
      ],
      "text/plain": [
       "                amin           mean            std    amax\n",
       "Neighborhood                                              \n",
       "NoRidge       190000  335295.317073  121412.658640  755000\n",
       "NridgHt       154000  316270.623377   96392.544954  611657\n",
       "StoneBr       170000  310499.000000  112969.676640  556581\n",
       "Timber        137500  242247.447368   64845.651549  378500\n",
       "Veenker       162500  238772.727273   72369.317959  385000\n",
       "Somerst       144152  225379.837209   56177.555888  423000\n",
       "ClearCr       130000  212565.428571   50231.538993  328000\n",
       "Crawfor        90350  210624.725490   68866.395472  392500\n",
       "CollgCr       110000  197965.773333   51403.666438  424870\n",
       "Blmngtn       159895  194870.882353   30393.229219  264561\n",
       "Gilbert       141000  192854.506329   35986.779085  377500\n",
       "NWAmes         82500  189050.068493   37172.218106  299800\n",
       "SawyerW        76000  186555.796610   55651.997820  320000\n",
       "Mitchel        84500  156270.122449   36486.625334  271000\n",
       "NAmes          87500  145847.080000   33075.345450  345000\n",
       "NPkVill       127500  142694.444444    9377.314529  155000\n",
       "SWISU          60000  142591.360000   32622.917679  200000\n",
       "Blueste       124000  137500.000000   19091.883092  151000\n",
       "Sawyer         62383  136793.135135   22345.129157  190000\n",
       "OldTown        37900  128225.300885   52650.583185  475000\n",
       "Edwards        58500  128219.700000   43208.616459  320000\n",
       "BrkSide        39300  124834.051724   40348.689270  223500\n",
       "BrDale         83000  104493.750000   14330.176493  125000\n",
       "IDOTRR         34900  100123.783784   33376.710117  169500\n",
       "MeadowV        75000   98576.470588   23491.049610  151400"
      ]
     },
     "execution_count": 643,
     "metadata": {},
     "output_type": "execute_result"
    }
   ],
   "source": [
    "grouped = df.groupby('Neighborhood')\n",
    "grouped['SalePrice'].agg([np.min, np.mean, np.std, np.max]).sort_values(by=\"mean\",ascending=False)"
   ]
  },
  {
   "cell_type": "code",
   "execution_count": 644,
   "id": "d03269a9-7c1c-4763-b668-aa3ad975fed7",
   "metadata": {},
   "outputs": [
    {
     "name": "stdout",
     "output_type": "stream",
     "text": [
      "['CollgCr', 'Veenker', 'CollgCr', 'Crawfor', 'NoRidge', ..., 'Gilbert', 'NWAmes', 'Crawfor', 'NAmes', 'Edwards']\n",
      "Length: 1460\n",
      "Categories (25, object): ['MeadowV' < 'IDOTRR' < 'BrDale' < 'BrkSide' ... 'Timber' < 'StoneBr' < 'NridgHt' < 'NoRidge']\n"
     ]
    }
   ],
   "source": [
    "#Ortalamalarına göre kategorilendirildi\n",
    "categories=pd.Categorical(df_obj['Neighborhood'],\n",
    "                          categories=['MeadowV','IDOTRR','BrDale','BrkSide','Edwards','OldTown',\n",
    "                                     'Sawyer','Blueste','SWISU','NPkVill','NAmes','Mitchel','SawyerW','NWAmes',\n",
    "                                     'Gilbert','Blmngtn','CollgCr','Crawfor','ClearCr','Somerst','Veenker',\n",
    "                                     'Timber','StoneBr','NridgHt','NoRidge'],ordered=True)\n",
    "print(categories)"
   ]
  },
  {
   "cell_type": "code",
   "execution_count": 645,
   "id": "7d8bb3c0-6c70-415b-a62e-476dc047603c",
   "metadata": {},
   "outputs": [
    {
     "data": {
      "text/plain": [
       "0       16\n",
       "1       20\n",
       "2       16\n",
       "3       17\n",
       "4       24\n",
       "        ..\n",
       "1455    14\n",
       "1456    13\n",
       "1457    17\n",
       "1458    10\n",
       "1459     4\n",
       "Name: Neighborhood, Length: 1460, dtype: int64"
      ]
     },
     "execution_count": 645,
     "metadata": {},
     "output_type": "execute_result"
    }
   ],
   "source": [
    "Neighborhood,unique=pd.factorize(categories,sort=True)\n",
    "df_obj['Neighborhood']=Neighborhood\n",
    "df_obj['Neighborhood']"
   ]
  },
  {
   "cell_type": "markdown",
   "id": "d9b7be18-e274-4550-bdc4-da4f8ec46df2",
   "metadata": {
    "tags": []
   },
   "source": [
    "#### Condition1 & Condition2"
   ]
  },
  {
   "cell_type": "code",
   "execution_count": 646,
   "id": "4770c020-a244-4294-abf8-361194e1fe44",
   "metadata": {},
   "outputs": [],
   "source": [
    "df_obj = df_obj.astype({'Alley': 'int64'})"
   ]
  },
  {
   "cell_type": "code",
   "execution_count": 647,
   "id": "19608db2-5c3f-4adb-9b91-fa7e891d0969",
   "metadata": {
    "tags": []
   },
   "outputs": [
    {
     "name": "stdout",
     "output_type": "stream",
     "text": [
      "<class 'pandas.core.frame.DataFrame'>\n",
      "RangeIndex: 1460 entries, 0 to 1459\n",
      "Data columns (total 43 columns):\n",
      " #   Column         Non-Null Count  Dtype \n",
      "---  ------         --------------  ----- \n",
      " 0   MSZoning       1460 non-null   int64 \n",
      " 1   Street         1460 non-null   int64 \n",
      " 2   Alley          1460 non-null   int64 \n",
      " 3   LotShape       1460 non-null   int64 \n",
      " 4   LandContour    1460 non-null   int64 \n",
      " 5   Utilities      1460 non-null   int64 \n",
      " 6   LotConfig      1460 non-null   int64 \n",
      " 7   LandSlope      1460 non-null   int64 \n",
      " 8   Neighborhood   1460 non-null   int64 \n",
      " 9   Condition1     1460 non-null   object\n",
      " 10  Condition2     1460 non-null   object\n",
      " 11  BldgType       1460 non-null   object\n",
      " 12  HouseStyle     1460 non-null   object\n",
      " 13  RoofStyle      1460 non-null   object\n",
      " 14  RoofMatl       1460 non-null   object\n",
      " 15  Exterior1st    1460 non-null   object\n",
      " 16  Exterior2nd    1460 non-null   object\n",
      " 17  MasVnrType     1452 non-null   object\n",
      " 18  ExterQual      1460 non-null   object\n",
      " 19  ExterCond      1460 non-null   object\n",
      " 20  Foundation     1460 non-null   object\n",
      " 21  BsmtQual       1423 non-null   object\n",
      " 22  BsmtCond       1423 non-null   object\n",
      " 23  BsmtExposure   1422 non-null   object\n",
      " 24  BsmtFinType1   1423 non-null   object\n",
      " 25  BsmtFinType2   1422 non-null   object\n",
      " 26  Heating        1460 non-null   object\n",
      " 27  HeatingQC      1460 non-null   object\n",
      " 28  CentralAir     1460 non-null   object\n",
      " 29  Electrical     1459 non-null   object\n",
      " 30  KitchenQual    1460 non-null   object\n",
      " 31  Functional     1460 non-null   object\n",
      " 32  FireplaceQu    770 non-null    object\n",
      " 33  GarageType     1379 non-null   object\n",
      " 34  GarageFinish   1379 non-null   object\n",
      " 35  GarageQual     1379 non-null   object\n",
      " 36  GarageCond     1379 non-null   object\n",
      " 37  PavedDrive     1460 non-null   object\n",
      " 38  PoolQC         7 non-null      object\n",
      " 39  Fence          281 non-null    object\n",
      " 40  MiscFeature    54 non-null     object\n",
      " 41  SaleType       1460 non-null   object\n",
      " 42  SaleCondition  1460 non-null   object\n",
      "dtypes: int64(9), object(34)\n",
      "memory usage: 490.6+ KB\n"
     ]
    }
   ],
   "source": [
    "df_obj.info()"
   ]
  },
  {
   "cell_type": "code",
   "execution_count": 648,
   "id": "758114d6-ed65-4c23-8a80-2838f0b2aa9d",
   "metadata": {},
   "outputs": [
    {
     "data": {
      "text/plain": [
       "Norm      1260\n",
       "Feedr       81\n",
       "Artery      48\n",
       "RRAn        26\n",
       "PosN        19\n",
       "RRAe        11\n",
       "PosA         8\n",
       "RRNn         5\n",
       "RRNe         2\n",
       "Name: Condition1, dtype: int64"
      ]
     },
     "execution_count": 648,
     "metadata": {},
     "output_type": "execute_result"
    }
   ],
   "source": [
    "df_obj.Condition1.value_counts()"
   ]
  },
  {
   "cell_type": "code",
   "execution_count": 649,
   "id": "2534cec3-6dfc-41e7-aab8-b5d38762d9ab",
   "metadata": {},
   "outputs": [
    {
     "data": {
      "text/plain": [
       "0"
      ]
     },
     "execution_count": 649,
     "metadata": {},
     "output_type": "execute_result"
    }
   ],
   "source": [
    "df_obj.Condition1.isnull().sum()"
   ]
  },
  {
   "cell_type": "code",
   "execution_count": 650,
   "id": "ea013eaf-048e-4725-8198-303e9d62761e",
   "metadata": {},
   "outputs": [
    {
     "data": {
      "image/png": "[encoded data removed]",
      "text/plain": [
       "<Figure size 432x288 with 1 Axes>"
      ]
     },
     "metadata": {
      "needs_background": "light"
     },
     "output_type": "display_data"
    }
   ],
   "source": [
    "sns.boxplot(x=\"Condition1\", y=\"SalePrice\", data=df)\n",
    "plt.show()"
   ]
  },
  {
   "cell_type": "code",
   "execution_count": 651,
   "id": "25ae19f5-bd8f-40b0-9d27-101d697b364e",
   "metadata": {},
   "outputs": [
    {
     "data": {
      "text/html": [
       "<div>\n",
       "<style scoped>\n",
       "    .dataframe tbody tr th:only-of-type {\n",
       "        vertical-align: middle;\n",
       "    }\n",
       "\n",
       "    .dataframe tbody tr th {\n",
       "        vertical-align: top;\n",
       "    }\n",
       "\n",
       "    .dataframe thead th {\n",
       "        text-align: right;\n",
       "    }\n",
       "</style>\n",
       "<table border=\"1\" class=\"dataframe\">\n",
       "  <thead>\n",
       "    <tr style=\"text-align: right;\">\n",
       "      <th></th>\n",
       "      <th>amin</th>\n",
       "      <th>mean</th>\n",
       "      <th>std</th>\n",
       "      <th>amax</th>\n",
       "    </tr>\n",
       "    <tr>\n",
       "      <th>Condition1</th>\n",
       "      <th></th>\n",
       "      <th></th>\n",
       "      <th></th>\n",
       "      <th></th>\n",
       "    </tr>\n",
       "  </thead>\n",
       "  <tbody>\n",
       "    <tr>\n",
       "      <th>PosA</th>\n",
       "      <td>180000</td>\n",
       "      <td>225875.000000</td>\n",
       "      <td>52348.932313</td>\n",
       "      <td>335000</td>\n",
       "    </tr>\n",
       "    <tr>\n",
       "      <th>PosN</th>\n",
       "      <td>109500</td>\n",
       "      <td>215184.210526</td>\n",
       "      <td>65256.536609</td>\n",
       "      <td>385000</td>\n",
       "    </tr>\n",
       "    <tr>\n",
       "      <th>RRNn</th>\n",
       "      <td>110000</td>\n",
       "      <td>212400.000000</td>\n",
       "      <td>93823.238060</td>\n",
       "      <td>320000</td>\n",
       "    </tr>\n",
       "    <tr>\n",
       "      <th>RRNe</th>\n",
       "      <td>187000</td>\n",
       "      <td>190750.000000</td>\n",
       "      <td>5303.300859</td>\n",
       "      <td>194500</td>\n",
       "    </tr>\n",
       "    <tr>\n",
       "      <th>Norm</th>\n",
       "      <td>34900</td>\n",
       "      <td>184495.492063</td>\n",
       "      <td>81256.980125</td>\n",
       "      <td>755000</td>\n",
       "    </tr>\n",
       "    <tr>\n",
       "      <th>RRAn</th>\n",
       "      <td>79500</td>\n",
       "      <td>184396.615385</td>\n",
       "      <td>66177.922070</td>\n",
       "      <td>423000</td>\n",
       "    </tr>\n",
       "    <tr>\n",
       "      <th>Feedr</th>\n",
       "      <td>40000</td>\n",
       "      <td>142475.481481</td>\n",
       "      <td>42157.290117</td>\n",
       "      <td>244600</td>\n",
       "    </tr>\n",
       "    <tr>\n",
       "      <th>RRAe</th>\n",
       "      <td>87000</td>\n",
       "      <td>138400.000000</td>\n",
       "      <td>24030.813553</td>\n",
       "      <td>171000</td>\n",
       "    </tr>\n",
       "    <tr>\n",
       "      <th>Artery</th>\n",
       "      <td>66500</td>\n",
       "      <td>135091.666667</td>\n",
       "      <td>66226.660548</td>\n",
       "      <td>475000</td>\n",
       "    </tr>\n",
       "  </tbody>\n",
       "</table>\n",
       "</div>"
      ],
      "text/plain": [
       "              amin           mean           std    amax\n",
       "Condition1                                             \n",
       "PosA        180000  225875.000000  52348.932313  335000\n",
       "PosN        109500  215184.210526  65256.536609  385000\n",
       "RRNn        110000  212400.000000  93823.238060  320000\n",
       "RRNe        187000  190750.000000   5303.300859  194500\n",
       "Norm         34900  184495.492063  81256.980125  755000\n",
       "RRAn         79500  184396.615385  66177.922070  423000\n",
       "Feedr        40000  142475.481481  42157.290117  244600\n",
       "RRAe         87000  138400.000000  24030.813553  171000\n",
       "Artery       66500  135091.666667  66226.660548  475000"
      ]
     },
     "execution_count": 651,
     "metadata": {},
     "output_type": "execute_result"
    }
   ],
   "source": [
    "grouped = df.groupby('Condition1')\n",
    "grouped['SalePrice'].agg([np.min, np.mean, np.std, np.max]).sort_values(by=\"mean\",ascending=False)"
   ]
  },
  {
   "cell_type": "code",
   "execution_count": 652,
   "id": "96f5f387-06d1-4829-91dd-838d67c4a17c",
   "metadata": {},
   "outputs": [
    {
     "name": "stdout",
     "output_type": "stream",
     "text": [
      "['Norm', 'Feedr', 'Norm', 'Norm', 'Norm', ..., 'Norm', 'Norm', 'Norm', 'Norm', 'Norm']\n",
      "Length: 1460\n",
      "Categories (9, object): ['Artery' < 'RRAe' < 'Feedr' < 'RRAn' ... 'RRNe' < 'RRNn' < 'PosN' < 'PosA']\n"
     ]
    },
    {
     "data": {
      "text/plain": [
       "0       4\n",
       "1       2\n",
       "2       4\n",
       "3       4\n",
       "4       4\n",
       "       ..\n",
       "1455    4\n",
       "1456    4\n",
       "1457    4\n",
       "1458    4\n",
       "1459    4\n",
       "Name: Condition1, Length: 1460, dtype: int64"
      ]
     },
     "execution_count": 652,
     "metadata": {},
     "output_type": "execute_result"
    }
   ],
   "source": [
    "categories=pd.Categorical(df_obj['Condition1'],\n",
    "                          categories=['Artery','RRAe','Feedr','RRAn','Norm','RRNe',\n",
    "                                     'RRNn','PosN','PosA'],ordered=True)\n",
    "print(categories)\n",
    "Condition1,unique=pd.factorize(categories,sort=True)\n",
    "df_obj['Condition1']=Condition1\n",
    "df_obj['Condition1']"
   ]
  },
  {
   "cell_type": "code",
   "execution_count": 653,
   "id": "9958a580-32fe-4882-9c4d-59bda20cd19b",
   "metadata": {},
   "outputs": [
    {
     "name": "stdout",
     "output_type": "stream",
     "text": [
      "['Norm', 'Norm', 'Norm', 'Norm', 'Norm', ..., 'Norm', 'Norm', 'Norm', 'Norm', 'Norm']\n",
      "Length: 1460\n",
      "Categories (9, object): ['Artery' < 'RRAe' < 'Feedr' < 'RRAn' ... 'RRNe' < 'RRNn' < 'PosN' < 'PosA']\n"
     ]
    },
    {
     "data": {
      "text/plain": [
       "0       4\n",
       "1       4\n",
       "2       4\n",
       "3       4\n",
       "4       4\n",
       "       ..\n",
       "1455    4\n",
       "1456    4\n",
       "1457    4\n",
       "1458    4\n",
       "1459    4\n",
       "Name: Condition2, Length: 1460, dtype: int64"
      ]
     },
     "execution_count": 653,
     "metadata": {},
     "output_type": "execute_result"
    }
   ],
   "source": [
    "categories=pd.Categorical(df_obj['Condition2'],\n",
    "                          categories=['Artery','RRAe','Feedr','RRAn','Norm','RRNe',\n",
    "                                     'RRNn','PosN','PosA'],ordered=True)\n",
    "print(categories)\n",
    "Condition2,unique=pd.factorize(categories,sort=True)\n",
    "df_obj['Condition2']=Condition2\n",
    "df_obj['Condition2']"
   ]
  },
  {
   "cell_type": "markdown",
   "id": "46ea3f2d-1da9-4579-a2e6-bf5be40a03d2",
   "metadata": {
    "jp-MarkdownHeadingCollapsed": true,
    "tags": []
   },
   "source": [
    "#### BldgType & HouseStyle\n",
    "BldgType için OneHot Encoding yapmak istediğimden şimdilik bırakıyorum"
   ]
  },
  {
   "cell_type": "code",
   "execution_count": 654,
   "id": "356b6bfd-0ff4-4d6e-976c-65100ebf3f1c",
   "metadata": {},
   "outputs": [
    {
     "data": {
      "text/plain": [
       "1Fam      1220\n",
       "TwnhsE     114\n",
       "Duplex      52\n",
       "Twnhs       43\n",
       "2fmCon      31\n",
       "Name: BldgType, dtype: int64"
      ]
     },
     "execution_count": 654,
     "metadata": {},
     "output_type": "execute_result"
    }
   ],
   "source": [
    "df_obj.BldgType.value_counts()"
   ]
  },
  {
   "cell_type": "code",
   "execution_count": 655,
   "id": "7e09f8d7-caaf-4f64-98a6-284096c79679",
   "metadata": {},
   "outputs": [
    {
     "data": {
      "text/plain": [
       "0"
      ]
     },
     "execution_count": 655,
     "metadata": {},
     "output_type": "execute_result"
    }
   ],
   "source": [
    "df_obj.BldgType.isnull().sum()"
   ]
  },
  {
   "cell_type": "code",
   "execution_count": 656,
   "id": "59eb335d-3824-4599-9a74-ff8857d09fa1",
   "metadata": {},
   "outputs": [
    {
     "data": {
      "text/plain": [
       "<AxesSubplot:xlabel='HouseStyle', ylabel='SalePrice'>"
      ]
     },
     "execution_count": 656,
     "metadata": {},
     "output_type": "execute_result"
    },
    {
     "data": {
      "image/png": "[encoded data removed]",
      "text/plain": [
       "<Figure size 1224x360 with 3 Axes>"
      ]
     },
     "metadata": {
      "needs_background": "light"
     },
     "output_type": "display_data"
    }
   ],
   "source": [
    "fig, axes = plt.subplots(1, 3, figsize=(17, 5), sharey=True)\n",
    "\n",
    "sns.barplot(x=\"BldgType\", y=\"SalePrice\",data=df,ax=axes[0])\n",
    "sns.barplot(x=\"BldgType\", y=\"SalePrice\", hue=\"HouseStyle\",data=df, ax=axes[1])\n",
    "sns.barplot(x=\"HouseStyle\", y=\"SalePrice\",data=df, ax=axes[2])"
   ]
  },
  {
   "cell_type": "code",
   "execution_count": 657,
   "id": "11fe4dc2-89b4-4ef2-b5c3-41b59f8b73bd",
   "metadata": {},
   "outputs": [
    {
     "data": {
      "text/html": [
       "<div>\n",
       "<style scoped>\n",
       "    .dataframe tbody tr th:only-of-type {\n",
       "        vertical-align: middle;\n",
       "    }\n",
       "\n",
       "    .dataframe tbody tr th {\n",
       "        vertical-align: top;\n",
       "    }\n",
       "\n",
       "    .dataframe thead th {\n",
       "        text-align: right;\n",
       "    }\n",
       "</style>\n",
       "<table border=\"1\" class=\"dataframe\">\n",
       "  <thead>\n",
       "    <tr style=\"text-align: right;\">\n",
       "      <th></th>\n",
       "      <th>amin</th>\n",
       "      <th>mean</th>\n",
       "      <th>std</th>\n",
       "      <th>amax</th>\n",
       "    </tr>\n",
       "    <tr>\n",
       "      <th>HouseStyle</th>\n",
       "      <th></th>\n",
       "      <th></th>\n",
       "      <th></th>\n",
       "      <th></th>\n",
       "    </tr>\n",
       "  </thead>\n",
       "  <tbody>\n",
       "    <tr>\n",
       "      <th>2.5Fin</th>\n",
       "      <td>104000</td>\n",
       "      <td>220000.000000</td>\n",
       "      <td>118211.976671</td>\n",
       "      <td>475000</td>\n",
       "    </tr>\n",
       "    <tr>\n",
       "      <th>2Story</th>\n",
       "      <td>40000</td>\n",
       "      <td>210051.764045</td>\n",
       "      <td>87339.213570</td>\n",
       "      <td>755000</td>\n",
       "    </tr>\n",
       "    <tr>\n",
       "      <th>1Story</th>\n",
       "      <td>34900</td>\n",
       "      <td>175985.477961</td>\n",
       "      <td>77055.715011</td>\n",
       "      <td>611657</td>\n",
       "    </tr>\n",
       "    <tr>\n",
       "      <th>SLvl</th>\n",
       "      <td>91000</td>\n",
       "      <td>166703.384615</td>\n",
       "      <td>38305.161339</td>\n",
       "      <td>345000</td>\n",
       "    </tr>\n",
       "    <tr>\n",
       "      <th>2.5Unf</th>\n",
       "      <td>101000</td>\n",
       "      <td>157354.545455</td>\n",
       "      <td>63934.128032</td>\n",
       "      <td>325000</td>\n",
       "    </tr>\n",
       "    <tr>\n",
       "      <th>1.5Fin</th>\n",
       "      <td>37900</td>\n",
       "      <td>143116.740260</td>\n",
       "      <td>54277.941119</td>\n",
       "      <td>410000</td>\n",
       "    </tr>\n",
       "    <tr>\n",
       "      <th>SFoyer</th>\n",
       "      <td>75500</td>\n",
       "      <td>135074.486486</td>\n",
       "      <td>30480.898192</td>\n",
       "      <td>206300</td>\n",
       "    </tr>\n",
       "    <tr>\n",
       "      <th>1.5Unf</th>\n",
       "      <td>76000</td>\n",
       "      <td>110150.000000</td>\n",
       "      <td>19036.473090</td>\n",
       "      <td>139400</td>\n",
       "    </tr>\n",
       "  </tbody>\n",
       "</table>\n",
       "</div>"
      ],
      "text/plain": [
       "              amin           mean            std    amax\n",
       "HouseStyle                                              \n",
       "2.5Fin      104000  220000.000000  118211.976671  475000\n",
       "2Story       40000  210051.764045   87339.213570  755000\n",
       "1Story       34900  175985.477961   77055.715011  611657\n",
       "SLvl         91000  166703.384615   38305.161339  345000\n",
       "2.5Unf      101000  157354.545455   63934.128032  325000\n",
       "1.5Fin       37900  143116.740260   54277.941119  410000\n",
       "SFoyer       75500  135074.486486   30480.898192  206300\n",
       "1.5Unf       76000  110150.000000   19036.473090  139400"
      ]
     },
     "execution_count": 657,
     "metadata": {},
     "output_type": "execute_result"
    }
   ],
   "source": [
    "grouped = df.groupby(\"HouseStyle\")\n",
    "grouped['SalePrice'].agg([np.min, np.mean, np.std, np.max]).sort_values(by=\"mean\",ascending=False)"
   ]
  },
  {
   "cell_type": "code",
   "execution_count": 658,
   "id": "be2e74e8-69d1-470c-9dcc-bf7cb0e47ff5",
   "metadata": {},
   "outputs": [
    {
     "data": {
      "text/plain": [
       "<AxesSubplot:xlabel='BldgType', ylabel='SalePrice'>"
      ]
     },
     "execution_count": 658,
     "metadata": {},
     "output_type": "execute_result"
    },
    {
     "data": {
      "image/png": "[encoded data removed]",
      "text/plain": [
       "<Figure size 720x360 with 2 Axes>"
      ]
     },
     "metadata": {
      "needs_background": "light"
     },
     "output_type": "display_data"
    }
   ],
   "source": [
    "fig, axes = plt.subplots(1, 2, figsize=(10, 5), sharey=True)\n",
    "\n",
    "sns.barplot(x=\"BldgType\", y=\"SalePrice\",data=df,ax=axes[0])\n",
    "sns.boxplot(x=\"BldgType\", y=\"SalePrice\",data=df,ax=axes[1])"
   ]
  },
  {
   "cell_type": "code",
   "execution_count": 659,
   "id": "cf2dff0e-a33e-4b55-8826-195b16745929",
   "metadata": {},
   "outputs": [],
   "source": [
    "dictionary = {\"HouseStyle\":{\"1.5Unf\":0,\"SFoyer\":1, \"1.5Fin\":2, \"2.5Unf\":3, \"SLvl\":4,\n",
    "                           \"1Story\":5,\"2Story\":6,\"2.5Fin\":7}}\n",
    "df_obj = df_obj.replace(dictionary)"
   ]
  },
  {
   "cell_type": "code",
   "execution_count": 660,
   "id": "2b496ba4-8a67-493c-b936-da8d29ef6231",
   "metadata": {
    "tags": []
   },
   "outputs": [
    {
     "data": {
      "text/html": [
       "<div>\n",
       "<style scoped>\n",
       "    .dataframe tbody tr th:only-of-type {\n",
       "        vertical-align: middle;\n",
       "    }\n",
       "\n",
       "    .dataframe tbody tr th {\n",
       "        vertical-align: top;\n",
       "    }\n",
       "\n",
       "    .dataframe thead th {\n",
       "        text-align: right;\n",
       "    }\n",
       "</style>\n",
       "<table border=\"1\" class=\"dataframe\">\n",
       "  <thead>\n",
       "    <tr style=\"text-align: right;\">\n",
       "      <th></th>\n",
       "      <th>MSZoning</th>\n",
       "      <th>Street</th>\n",
       "      <th>Alley</th>\n",
       "      <th>LotShape</th>\n",
       "      <th>LandContour</th>\n",
       "      <th>Utilities</th>\n",
       "      <th>LotConfig</th>\n",
       "      <th>LandSlope</th>\n",
       "      <th>Neighborhood</th>\n",
       "      <th>Condition1</th>\n",
       "      <th>...</th>\n",
       "      <th>GarageType</th>\n",
       "      <th>GarageFinish</th>\n",
       "      <th>GarageQual</th>\n",
       "      <th>GarageCond</th>\n",
       "      <th>PavedDrive</th>\n",
       "      <th>PoolQC</th>\n",
       "      <th>Fence</th>\n",
       "      <th>MiscFeature</th>\n",
       "      <th>SaleType</th>\n",
       "      <th>SaleCondition</th>\n",
       "    </tr>\n",
       "  </thead>\n",
       "  <tbody>\n",
       "    <tr>\n",
       "      <th>0</th>\n",
       "      <td>5</td>\n",
       "      <td>2</td>\n",
       "      <td>0</td>\n",
       "      <td>3</td>\n",
       "      <td>3</td>\n",
       "      <td>1</td>\n",
       "      <td>1</td>\n",
       "      <td>2</td>\n",
       "      <td>16</td>\n",
       "      <td>4</td>\n",
       "      <td>...</td>\n",
       "      <td>Attchd</td>\n",
       "      <td>RFn</td>\n",
       "      <td>TA</td>\n",
       "      <td>TA</td>\n",
       "      <td>Y</td>\n",
       "      <td>NaN</td>\n",
       "      <td>NaN</td>\n",
       "      <td>NaN</td>\n",
       "      <td>WD</td>\n",
       "      <td>Normal</td>\n",
       "    </tr>\n",
       "    <tr>\n",
       "      <th>1</th>\n",
       "      <td>5</td>\n",
       "      <td>2</td>\n",
       "      <td>0</td>\n",
       "      <td>3</td>\n",
       "      <td>3</td>\n",
       "      <td>1</td>\n",
       "      <td>0</td>\n",
       "      <td>2</td>\n",
       "      <td>20</td>\n",
       "      <td>2</td>\n",
       "      <td>...</td>\n",
       "      <td>Attchd</td>\n",
       "      <td>RFn</td>\n",
       "      <td>TA</td>\n",
       "      <td>TA</td>\n",
       "      <td>Y</td>\n",
       "      <td>NaN</td>\n",
       "      <td>NaN</td>\n",
       "      <td>NaN</td>\n",
       "      <td>WD</td>\n",
       "      <td>Normal</td>\n",
       "    </tr>\n",
       "    <tr>\n",
       "      <th>2</th>\n",
       "      <td>5</td>\n",
       "      <td>2</td>\n",
       "      <td>0</td>\n",
       "      <td>2</td>\n",
       "      <td>3</td>\n",
       "      <td>1</td>\n",
       "      <td>1</td>\n",
       "      <td>2</td>\n",
       "      <td>16</td>\n",
       "      <td>4</td>\n",
       "      <td>...</td>\n",
       "      <td>Attchd</td>\n",
       "      <td>RFn</td>\n",
       "      <td>TA</td>\n",
       "      <td>TA</td>\n",
       "      <td>Y</td>\n",
       "      <td>NaN</td>\n",
       "      <td>NaN</td>\n",
       "      <td>NaN</td>\n",
       "      <td>WD</td>\n",
       "      <td>Normal</td>\n",
       "    </tr>\n",
       "    <tr>\n",
       "      <th>3</th>\n",
       "      <td>5</td>\n",
       "      <td>2</td>\n",
       "      <td>0</td>\n",
       "      <td>2</td>\n",
       "      <td>3</td>\n",
       "      <td>1</td>\n",
       "      <td>3</td>\n",
       "      <td>2</td>\n",
       "      <td>17</td>\n",
       "      <td>4</td>\n",
       "      <td>...</td>\n",
       "      <td>Detchd</td>\n",
       "      <td>Unf</td>\n",
       "      <td>TA</td>\n",
       "      <td>TA</td>\n",
       "      <td>Y</td>\n",
       "      <td>NaN</td>\n",
       "      <td>NaN</td>\n",
       "      <td>NaN</td>\n",
       "      <td>WD</td>\n",
       "      <td>Abnorml</td>\n",
       "    </tr>\n",
       "    <tr>\n",
       "      <th>4</th>\n",
       "      <td>5</td>\n",
       "      <td>2</td>\n",
       "      <td>0</td>\n",
       "      <td>2</td>\n",
       "      <td>3</td>\n",
       "      <td>1</td>\n",
       "      <td>0</td>\n",
       "      <td>2</td>\n",
       "      <td>24</td>\n",
       "      <td>4</td>\n",
       "      <td>...</td>\n",
       "      <td>Attchd</td>\n",
       "      <td>RFn</td>\n",
       "      <td>TA</td>\n",
       "      <td>TA</td>\n",
       "      <td>Y</td>\n",
       "      <td>NaN</td>\n",
       "      <td>NaN</td>\n",
       "      <td>NaN</td>\n",
       "      <td>WD</td>\n",
       "      <td>Normal</td>\n",
       "    </tr>\n",
       "    <tr>\n",
       "      <th>...</th>\n",
       "      <td>...</td>\n",
       "      <td>...</td>\n",
       "      <td>...</td>\n",
       "      <td>...</td>\n",
       "      <td>...</td>\n",
       "      <td>...</td>\n",
       "      <td>...</td>\n",
       "      <td>...</td>\n",
       "      <td>...</td>\n",
       "      <td>...</td>\n",
       "      <td>...</td>\n",
       "      <td>...</td>\n",
       "      <td>...</td>\n",
       "      <td>...</td>\n",
       "      <td>...</td>\n",
       "      <td>...</td>\n",
       "      <td>...</td>\n",
       "      <td>...</td>\n",
       "      <td>...</td>\n",
       "      <td>...</td>\n",
       "      <td>...</td>\n",
       "    </tr>\n",
       "    <tr>\n",
       "      <th>1455</th>\n",
       "      <td>5</td>\n",
       "      <td>2</td>\n",
       "      <td>0</td>\n",
       "      <td>3</td>\n",
       "      <td>3</td>\n",
       "      <td>1</td>\n",
       "      <td>1</td>\n",
       "      <td>2</td>\n",
       "      <td>14</td>\n",
       "      <td>4</td>\n",
       "      <td>...</td>\n",
       "      <td>Attchd</td>\n",
       "      <td>RFn</td>\n",
       "      <td>TA</td>\n",
       "      <td>TA</td>\n",
       "      <td>Y</td>\n",
       "      <td>NaN</td>\n",
       "      <td>NaN</td>\n",
       "      <td>NaN</td>\n",
       "      <td>WD</td>\n",
       "      <td>Normal</td>\n",
       "    </tr>\n",
       "    <tr>\n",
       "      <th>1456</th>\n",
       "      <td>5</td>\n",
       "      <td>2</td>\n",
       "      <td>0</td>\n",
       "      <td>3</td>\n",
       "      <td>3</td>\n",
       "      <td>1</td>\n",
       "      <td>1</td>\n",
       "      <td>2</td>\n",
       "      <td>13</td>\n",
       "      <td>4</td>\n",
       "      <td>...</td>\n",
       "      <td>Attchd</td>\n",
       "      <td>Unf</td>\n",
       "      <td>TA</td>\n",
       "      <td>TA</td>\n",
       "      <td>Y</td>\n",
       "      <td>NaN</td>\n",
       "      <td>MnPrv</td>\n",
       "      <td>NaN</td>\n",
       "      <td>WD</td>\n",
       "      <td>Normal</td>\n",
       "    </tr>\n",
       "    <tr>\n",
       "      <th>1457</th>\n",
       "      <td>5</td>\n",
       "      <td>2</td>\n",
       "      <td>0</td>\n",
       "      <td>3</td>\n",
       "      <td>3</td>\n",
       "      <td>1</td>\n",
       "      <td>1</td>\n",
       "      <td>2</td>\n",
       "      <td>17</td>\n",
       "      <td>4</td>\n",
       "      <td>...</td>\n",
       "      <td>Attchd</td>\n",
       "      <td>RFn</td>\n",
       "      <td>TA</td>\n",
       "      <td>TA</td>\n",
       "      <td>Y</td>\n",
       "      <td>NaN</td>\n",
       "      <td>GdPrv</td>\n",
       "      <td>Shed</td>\n",
       "      <td>WD</td>\n",
       "      <td>Normal</td>\n",
       "    </tr>\n",
       "    <tr>\n",
       "      <th>1458</th>\n",
       "      <td>5</td>\n",
       "      <td>2</td>\n",
       "      <td>0</td>\n",
       "      <td>3</td>\n",
       "      <td>3</td>\n",
       "      <td>1</td>\n",
       "      <td>1</td>\n",
       "      <td>2</td>\n",
       "      <td>10</td>\n",
       "      <td>4</td>\n",
       "      <td>...</td>\n",
       "      <td>Attchd</td>\n",
       "      <td>Unf</td>\n",
       "      <td>TA</td>\n",
       "      <td>TA</td>\n",
       "      <td>Y</td>\n",
       "      <td>NaN</td>\n",
       "      <td>NaN</td>\n",
       "      <td>NaN</td>\n",
       "      <td>WD</td>\n",
       "      <td>Normal</td>\n",
       "    </tr>\n",
       "    <tr>\n",
       "      <th>1459</th>\n",
       "      <td>5</td>\n",
       "      <td>2</td>\n",
       "      <td>0</td>\n",
       "      <td>3</td>\n",
       "      <td>3</td>\n",
       "      <td>1</td>\n",
       "      <td>1</td>\n",
       "      <td>2</td>\n",
       "      <td>4</td>\n",
       "      <td>4</td>\n",
       "      <td>...</td>\n",
       "      <td>Attchd</td>\n",
       "      <td>Fin</td>\n",
       "      <td>TA</td>\n",
       "      <td>TA</td>\n",
       "      <td>Y</td>\n",
       "      <td>NaN</td>\n",
       "      <td>NaN</td>\n",
       "      <td>NaN</td>\n",
       "      <td>WD</td>\n",
       "      <td>Normal</td>\n",
       "    </tr>\n",
       "  </tbody>\n",
       "</table>\n",
       "<p>1460 rows × 43 columns</p>\n",
       "</div>"
      ],
      "text/plain": [
       "      MSZoning  Street  Alley  LotShape  LandContour  Utilities  LotConfig  \\\n",
       "0            5       2      0         3            3          1          1   \n",
       "1            5       2      0         3            3          1          0   \n",
       "2            5       2      0         2            3          1          1   \n",
       "3            5       2      0         2            3          1          3   \n",
       "4            5       2      0         2            3          1          0   \n",
       "...        ...     ...    ...       ...          ...        ...        ...   \n",
       "1455         5       2      0         3            3          1          1   \n",
       "1456         5       2      0         3            3          1          1   \n",
       "1457         5       2      0         3            3          1          1   \n",
       "1458         5       2      0         3            3          1          1   \n",
       "1459         5       2      0         3            3          1          1   \n",
       "\n",
       "      LandSlope  Neighborhood  Condition1  ...  GarageType GarageFinish  \\\n",
       "0             2            16           4  ...      Attchd          RFn   \n",
       "1             2            20           2  ...      Attchd          RFn   \n",
       "2             2            16           4  ...      Attchd          RFn   \n",
       "3             2            17           4  ...      Detchd          Unf   \n",
       "4             2            24           4  ...      Attchd          RFn   \n",
       "...         ...           ...         ...  ...         ...          ...   \n",
       "1455          2            14           4  ...      Attchd          RFn   \n",
       "1456          2            13           4  ...      Attchd          Unf   \n",
       "1457          2            17           4  ...      Attchd          RFn   \n",
       "1458          2            10           4  ...      Attchd          Unf   \n",
       "1459          2             4           4  ...      Attchd          Fin   \n",
       "\n",
       "      GarageQual GarageCond PavedDrive PoolQC  Fence MiscFeature SaleType  \\\n",
       "0             TA         TA          Y    NaN    NaN         NaN       WD   \n",
       "1             TA         TA          Y    NaN    NaN         NaN       WD   \n",
       "2             TA         TA          Y    NaN    NaN         NaN       WD   \n",
       "3             TA         TA          Y    NaN    NaN         NaN       WD   \n",
       "4             TA         TA          Y    NaN    NaN         NaN       WD   \n",
       "...          ...        ...        ...    ...    ...         ...      ...   \n",
       "1455          TA         TA          Y    NaN    NaN         NaN       WD   \n",
       "1456          TA         TA          Y    NaN  MnPrv         NaN       WD   \n",
       "1457          TA         TA          Y    NaN  GdPrv        Shed       WD   \n",
       "1458          TA         TA          Y    NaN    NaN         NaN       WD   \n",
       "1459          TA         TA          Y    NaN    NaN         NaN       WD   \n",
       "\n",
       "     SaleCondition  \n",
       "0           Normal  \n",
       "1           Normal  \n",
       "2           Normal  \n",
       "3          Abnorml  \n",
       "4           Normal  \n",
       "...            ...  \n",
       "1455        Normal  \n",
       "1456        Normal  \n",
       "1457        Normal  \n",
       "1458        Normal  \n",
       "1459        Normal  \n",
       "\n",
       "[1460 rows x 43 columns]"
      ]
     },
     "execution_count": 660,
     "metadata": {},
     "output_type": "execute_result"
    }
   ],
   "source": [
    "df_obj"
   ]
  },
  {
   "cell_type": "code",
   "execution_count": 661,
   "id": "e0c9b29d-fe0e-4db4-933f-db9142474293",
   "metadata": {
    "tags": []
   },
   "outputs": [
    {
     "name": "stdout",
     "output_type": "stream",
     "text": [
      "<class 'pandas.core.frame.DataFrame'>\n",
      "RangeIndex: 1460 entries, 0 to 1459\n",
      "Data columns (total 43 columns):\n",
      " #   Column         Non-Null Count  Dtype \n",
      "---  ------         --------------  ----- \n",
      " 0   MSZoning       1460 non-null   int64 \n",
      " 1   Street         1460 non-null   int64 \n",
      " 2   Alley          1460 non-null   int64 \n",
      " 3   LotShape       1460 non-null   int64 \n",
      " 4   LandContour    1460 non-null   int64 \n",
      " 5   Utilities      1460 non-null   int64 \n",
      " 6   LotConfig      1460 non-null   int64 \n",
      " 7   LandSlope      1460 non-null   int64 \n",
      " 8   Neighborhood   1460 non-null   int64 \n",
      " 9   Condition1     1460 non-null   int64 \n",
      " 10  Condition2     1460 non-null   int64 \n",
      " 11  BldgType       1460 non-null   object\n",
      " 12  HouseStyle     1460 non-null   int64 \n",
      " 13  RoofStyle      1460 non-null   object\n",
      " 14  RoofMatl       1460 non-null   object\n",
      " 15  Exterior1st    1460 non-null   object\n",
      " 16  Exterior2nd    1460 non-null   object\n",
      " 17  MasVnrType     1452 non-null   object\n",
      " 18  ExterQual      1460 non-null   object\n",
      " 19  ExterCond      1460 non-null   object\n",
      " 20  Foundation     1460 non-null   object\n",
      " 21  BsmtQual       1423 non-null   object\n",
      " 22  BsmtCond       1423 non-null   object\n",
      " 23  BsmtExposure   1422 non-null   object\n",
      " 24  BsmtFinType1   1423 non-null   object\n",
      " 25  BsmtFinType2   1422 non-null   object\n",
      " 26  Heating        1460 non-null   object\n",
      " 27  HeatingQC      1460 non-null   object\n",
      " 28  CentralAir     1460 non-null   object\n",
      " 29  Electrical     1459 non-null   object\n",
      " 30  KitchenQual    1460 non-null   object\n",
      " 31  Functional     1460 non-null   object\n",
      " 32  FireplaceQu    770 non-null    object\n",
      " 33  GarageType     1379 non-null   object\n",
      " 34  GarageFinish   1379 non-null   object\n",
      " 35  GarageQual     1379 non-null   object\n",
      " 36  GarageCond     1379 non-null   object\n",
      " 37  PavedDrive     1460 non-null   object\n",
      " 38  PoolQC         7 non-null      object\n",
      " 39  Fence          281 non-null    object\n",
      " 40  MiscFeature    54 non-null     object\n",
      " 41  SaleType       1460 non-null   object\n",
      " 42  SaleCondition  1460 non-null   object\n",
      "dtypes: int64(12), object(31)\n",
      "memory usage: 490.6+ KB\n"
     ]
    }
   ],
   "source": [
    "df_obj.info()"
   ]
  },
  {
   "cell_type": "markdown",
   "id": "36b822ec-3178-42b9-b045-cea5daa1acdf",
   "metadata": {
    "tags": []
   },
   "source": [
    "#### RoofStyle & RoofMatl\n",
    "RoofStyle belki one hot encoding yaparım diye dokunmadım"
   ]
  },
  {
   "cell_type": "code",
   "execution_count": 662,
   "id": "2ba636f6-96a3-4132-8c45-1421d7366fb4",
   "metadata": {},
   "outputs": [
    {
     "data": {
      "text/plain": [
       "(array([0, 1, 2, 3, 4, 5, 6, 7]),\n",
       " [Text(0, 0, 'CompShg'),\n",
       "  Text(1, 0, 'WdShngl'),\n",
       "  Text(2, 0, 'Metal'),\n",
       "  Text(3, 0, 'WdShake'),\n",
       "  Text(4, 0, 'Membran'),\n",
       "  Text(5, 0, 'Tar&Grv'),\n",
       "  Text(6, 0, 'Roll'),\n",
       "  Text(7, 0, 'ClyTile')])"
      ]
     },
     "execution_count": 662,
     "metadata": {},
     "output_type": "execute_result"
    },
    {
     "data": {
      "image/png": "[encoded data removed]",
      "text/plain": [
       "<Figure size 1224x360 with 3 Axes>"
      ]
     },
     "metadata": {
      "needs_background": "light"
     },
     "output_type": "display_data"
    }
   ],
   "source": [
    "fig, axes = plt.subplots(1, 3, figsize=(17, 5), sharey=True)\n",
    "\n",
    "sns.barplot(x=\"RoofStyle\", y=\"SalePrice\",data=df,ax=axes[0])\n",
    "sns.barplot(x=\"RoofStyle\", y=\"SalePrice\", hue=\"RoofMatl\",data=df, ax=axes[1])\n",
    "sns.barplot(x=\"RoofMatl\", y=\"SalePrice\",data=df, ax=axes[2])\n",
    "plt.xticks(rotation=90)\n",
    "#sns.boxplot(x=\"RoofStyle\", y=\"SalePrice\",hue=\"RoofMatl\",data=df, ax=axes[3])"
   ]
  },
  {
   "cell_type": "code",
   "execution_count": 663,
   "id": "dcb68fce-2936-4069-b786-1a1fee262694",
   "metadata": {
    "tags": []
   },
   "outputs": [
    {
     "data": {
      "image/png": "[encoded data removed]",
      "text/plain": [
       "<Figure size 432x288 with 1 Axes>"
      ]
     },
     "metadata": {
      "needs_background": "light"
     },
     "output_type": "display_data"
    }
   ],
   "source": [
    "#sns.boxplot(x=\"RoofStyle\", y=\"SalePrice\",hue=\"RoofMatl\",data=df)\n",
    "sns.boxplot(x=\"RoofMatl\", y=\"SalePrice\",data=df)\n",
    "plt.xticks(rotation=90)\n",
    "plt.show()"
   ]
  },
  {
   "cell_type": "code",
   "execution_count": 664,
   "id": "05619a68-3f9e-438b-83f5-783a89f4b42c",
   "metadata": {},
   "outputs": [],
   "source": [
    "#WdShngl deki aykırı veri grafiğini çok etkiliyor mu acaba düşüncesiyle o veriyi çıkartıp tekrar denedim\n",
    "temp_df = df.drop(691).copy()"
   ]
  },
  {
   "cell_type": "code",
   "execution_count": 665,
   "id": "6356868e-005d-46a9-bb85-f6bb6f7f2fd9",
   "metadata": {},
   "outputs": [
    {
     "data": {
      "text/plain": [
       "(array([0, 1, 2, 3, 4, 5, 6, 7]),\n",
       " [Text(0, 0, 'CompShg'),\n",
       "  Text(1, 0, 'WdShngl'),\n",
       "  Text(2, 0, 'Metal'),\n",
       "  Text(3, 0, 'WdShake'),\n",
       "  Text(4, 0, 'Membran'),\n",
       "  Text(5, 0, 'Tar&Grv'),\n",
       "  Text(6, 0, 'Roll'),\n",
       "  Text(7, 0, 'ClyTile')])"
      ]
     },
     "execution_count": 665,
     "metadata": {},
     "output_type": "execute_result"
    },
    {
     "data": {
      "image/png": "[encoded data removed]",
      "text/plain": [
       "<Figure size 1224x360 with 4 Axes>"
      ]
     },
     "metadata": {
      "needs_background": "light"
     },
     "output_type": "display_data"
    }
   ],
   "source": [
    "fig, axes = plt.subplots(1, 4, figsize=(17, 5), sharey=True)\n",
    "\n",
    "sns.barplot(x=\"RoofStyle\", y=\"SalePrice\",data=temp_df,ax=axes[0])\n",
    "sns.barplot(x=\"RoofStyle\", y=\"SalePrice\", hue=\"RoofMatl\",data=temp_df, ax=axes[1])\n",
    "sns.barplot(x=\"RoofMatl\", y=\"SalePrice\",data=temp_df, ax=axes[2])\n",
    "plt.xticks(rotation=90)\n",
    "sns.barplot(x=\"RoofMatl\", y=\"SalePrice\", hue=\"RoofStyle\",data=temp_df, ax=axes[3])\n",
    "plt.xticks(rotation=90)"
   ]
  },
  {
   "cell_type": "code",
   "execution_count": 666,
   "id": "7c0aad49-6bc4-4be3-847d-f98eb6eea2db",
   "metadata": {},
   "outputs": [
    {
     "data": {
      "image/png": "[encoded data removed]",
      "text/plain": [
       "<Figure size 432x288 with 1 Axes>"
      ]
     },
     "metadata": {
      "needs_background": "light"
     },
     "output_type": "display_data"
    }
   ],
   "source": [
    "sns.boxplot(x=\"RoofMatl\", y=\"SalePrice\",data=temp_df)\n",
    "plt.xticks(rotation=90)\n",
    "plt.show()"
   ]
  },
  {
   "cell_type": "code",
   "execution_count": 667,
   "id": "94f98f51-e3fc-47a4-9b4d-550184d61d33",
   "metadata": {},
   "outputs": [
    {
     "data": {
      "text/html": [
       "<div>\n",
       "<style scoped>\n",
       "    .dataframe tbody tr th:only-of-type {\n",
       "        vertical-align: middle;\n",
       "    }\n",
       "\n",
       "    .dataframe tbody tr th {\n",
       "        vertical-align: top;\n",
       "    }\n",
       "\n",
       "    .dataframe thead th {\n",
       "        text-align: right;\n",
       "    }\n",
       "</style>\n",
       "<table border=\"1\" class=\"dataframe\">\n",
       "  <thead>\n",
       "    <tr style=\"text-align: right;\">\n",
       "      <th></th>\n",
       "      <th>Id</th>\n",
       "      <th>MSSubClass</th>\n",
       "      <th>MSZoning</th>\n",
       "      <th>LotFrontage</th>\n",
       "      <th>LotArea</th>\n",
       "      <th>Street</th>\n",
       "      <th>Alley</th>\n",
       "      <th>LotShape</th>\n",
       "      <th>LandContour</th>\n",
       "      <th>Utilities</th>\n",
       "      <th>...</th>\n",
       "      <th>PoolArea</th>\n",
       "      <th>PoolQC</th>\n",
       "      <th>Fence</th>\n",
       "      <th>MiscFeature</th>\n",
       "      <th>MiscVal</th>\n",
       "      <th>MoSold</th>\n",
       "      <th>YrSold</th>\n",
       "      <th>SaleType</th>\n",
       "      <th>SaleCondition</th>\n",
       "      <th>SalePrice</th>\n",
       "    </tr>\n",
       "  </thead>\n",
       "  <tbody>\n",
       "  </tbody>\n",
       "</table>\n",
       "<p>0 rows × 81 columns</p>\n",
       "</div>"
      ],
      "text/plain": [
       "Empty DataFrame\n",
       "Columns: [Id, MSSubClass, MSZoning, LotFrontage, LotArea, Street, Alley, LotShape, LandContour, Utilities, LotConfig, LandSlope, Neighborhood, Condition1, Condition2, BldgType, HouseStyle, OverallQual, OverallCond, YearBuilt, YearRemodAdd, RoofStyle, RoofMatl, Exterior1st, Exterior2nd, MasVnrType, MasVnrArea, ExterQual, ExterCond, Foundation, BsmtQual, BsmtCond, BsmtExposure, BsmtFinType1, BsmtFinSF1, BsmtFinType2, BsmtFinSF2, BsmtUnfSF, TotalBsmtSF, Heating, HeatingQC, CentralAir, Electrical, 1stFlrSF, 2ndFlrSF, LowQualFinSF, GrLivArea, BsmtFullBath, BsmtHalfBath, FullBath, HalfBath, BedroomAbvGr, KitchenAbvGr, KitchenQual, TotRmsAbvGrd, Functional, Fireplaces, FireplaceQu, GarageType, GarageYrBlt, GarageFinish, GarageCars, GarageArea, GarageQual, GarageCond, PavedDrive, WoodDeckSF, OpenPorchSF, EnclosedPorch, 3SsnPorch, ScreenPorch, PoolArea, PoolQC, Fence, MiscFeature, MiscVal, MoSold, YrSold, SaleType, SaleCondition, SalePrice]\n",
       "Index: []\n",
       "\n",
       "[0 rows x 81 columns]"
      ]
     },
     "execution_count": 667,
     "metadata": {},
     "output_type": "execute_result"
    }
   ],
   "source": [
    "temp_df[(temp_df.RoofMatl=='WdShngl') & (temp_df.SalePrice>600000)]"
   ]
  },
  {
   "cell_type": "code",
   "execution_count": 668,
   "id": "bd8ef9ef-05f4-4527-8eb5-ec6804e055ec",
   "metadata": {},
   "outputs": [
    {
     "data": {
      "text/plain": [
       "<AxesSubplot:xlabel='RoofMatl', ylabel='SalePrice'>"
      ]
     },
     "execution_count": 668,
     "metadata": {},
     "output_type": "execute_result"
    },
    {
     "data": {
      "image/png": "[encoded data removed]",
      "text/plain": [
       "<Figure size 720x360 with 1 Axes>"
      ]
     },
     "metadata": {
      "needs_background": "light"
     },
     "output_type": "display_data"
    }
   ],
   "source": [
    "plt.figure(figsize=(10,5))\n",
    "sns.barplot(x=\"RoofMatl\", y=\"SalePrice\", hue=\"RoofStyle\",data=temp_df)"
   ]
  },
  {
   "cell_type": "markdown",
   "id": "34324a15-77d5-4290-8214-f01ad8dad4f4",
   "metadata": {},
   "source": [
    "Is rolled roofing as good as shingles?<br>\n",
    "Rolled MSR roofing is thinner, larger, cheaper, less durable, and is horizontally installed in long strips. Besides being thicker, composite shingles or any type of shingle are far less prone to tearing or cracking because stress is distributed across a wide area of individually moving parts.\n",
    "https://www.thespruce.com › Exterior Remodel › Roof<br><br>\n",
    "\n",
    "Shingle type----Warranty------Cost<br>\n",
    "Asphalt(tar&grv)15-50 years...5 dollar per square foot (on average)<br>\n",
    "Composite.........30-50 years....10 dollar per square foot (on average)<br>\n",
    "https://roofingcalculator.com/news/"
   ]
  },
  {
   "cell_type": "code",
   "execution_count": 669,
   "id": "b7866ef0-3838-43cc-807f-30511c8974ad",
   "metadata": {},
   "outputs": [],
   "source": [
    "dictionary = {\"RoofMatl\":{\"Roll\":1, \"ClyTile\":2, \"Membran\":3, \"Metal\":4,\n",
    "                           \"CompShg\":5,\"Tar&Grv\":6,\"WdShake\":7,\"WdShngl\":8}}\n",
    "df_obj = df_obj.replace(dictionary)"
   ]
  },
  {
   "cell_type": "code",
   "execution_count": 670,
   "id": "ce99bbf1-6ff9-46d2-a1b3-322dd8df12ce",
   "metadata": {},
   "outputs": [
    {
     "data": {
      "text/plain": [
       "<AxesSubplot:xlabel='RoofStyle', ylabel='SalePrice'>"
      ]
     },
     "execution_count": 670,
     "metadata": {},
     "output_type": "execute_result"
    },
    {
     "data": {
      "image/png": "[encoded data removed]",
      "text/plain": [
       "<Figure size 720x360 with 1 Axes>"
      ]
     },
     "metadata": {
      "needs_background": "light"
     },
     "output_type": "display_data"
    }
   ],
   "source": [
    "plt.figure(figsize=(10,5))\n",
    "sns.barplot(x=\"RoofStyle\", y=\"SalePrice\", hue=\"RoofMatl\",data=temp_df)"
   ]
  },
  {
   "cell_type": "markdown",
   "id": "c179344b-affd-4ecf-aa2f-9a21b5cf26dc",
   "metadata": {
    "jp-MarkdownHeadingCollapsed": true,
    "tags": []
   },
   "source": [
    "#### Exterior1st & Exterior2nd\n",
    "Bu değerlerin one hot yapılmasına karar verildi"
   ]
  },
  {
   "cell_type": "code",
   "execution_count": 671,
   "id": "1dff4900-8638-4323-8df0-ce9b9ad4b9de",
   "metadata": {},
   "outputs": [
    {
     "data": {
      "text/plain": [
       "VinylSd    515\n",
       "HdBoard    222\n",
       "MetalSd    220\n",
       "Wd Sdng    206\n",
       "Plywood    108\n",
       "CemntBd     61\n",
       "BrkFace     50\n",
       "WdShing     26\n",
       "Stucco      25\n",
       "AsbShng     20\n",
       "BrkComm      2\n",
       "Stone        2\n",
       "AsphShn      1\n",
       "CBlock       1\n",
       "ImStucc      1\n",
       "Name: Exterior1st, dtype: int64"
      ]
     },
     "execution_count": 671,
     "metadata": {},
     "output_type": "execute_result"
    }
   ],
   "source": [
    "df_obj.Exterior1st.value_counts()"
   ]
  },
  {
   "cell_type": "code",
   "execution_count": 672,
   "id": "eddb4bc2-0906-400f-9de6-231d31e6bf7d",
   "metadata": {},
   "outputs": [
    {
     "data": {
      "text/plain": [
       "0"
      ]
     },
     "execution_count": 672,
     "metadata": {},
     "output_type": "execute_result"
    }
   ],
   "source": [
    "df_obj.Exterior1st.isnull().sum()"
   ]
  },
  {
   "cell_type": "code",
   "execution_count": 673,
   "id": "0aa80289-dc03-4875-94cc-12e4a7879dcc",
   "metadata": {},
   "outputs": [
    {
     "data": {
      "image/png": "[encoded data removed]",
      "text/plain": [
       "<Figure size 1080x360 with 2 Axes>"
      ]
     },
     "metadata": {
      "needs_background": "light"
     },
     "output_type": "display_data"
    }
   ],
   "source": [
    "fig, axes = plt.subplots(1, 2, figsize=(15, 5), sharey=True)\n",
    "sns.scatterplot(x=\"Exterior1st\", y=\"SalePrice\",data=df,ax=axes[0])\n",
    "sns.boxplot(x=\"Exterior1st\", y=\"SalePrice\",data=df, ax=axes[1])\n",
    "axes[0].tick_params(axis='x', rotation=90)\n",
    "axes[1].tick_params(axis='x', rotation=90)\n",
    "plt.show()"
   ]
  },
  {
   "cell_type": "markdown",
   "id": "80e43d24-06bf-4b5e-b960-9670eefa862a",
   "metadata": {},
   "source": [
    "VinylSd:Polyvinyl chloride (PVC),  It's one of the lowest cost options for exterior wall siding<br>\n",
    "Wood siding typically costs around 5 to 10 dollar per square foot installed.<br>\n",
    "Typically, brick siding costs around 6 to 15 dollar or more per square foot installed.<br>\n",
    "Fiber-cement siding The average cost is 6 to 12 per square foot installed (cost higher with trim) <br>\n",
    "The average cost of stone is around 10 to 30 per square foot installed, and if maintained properly, can last the lifetime of house.<br>"
   ]
  },
  {
   "cell_type": "code",
   "execution_count": 674,
   "id": "f182f407-ac10-44a0-ba4f-da1d60931e96",
   "metadata": {},
   "outputs": [
    {
     "data": {
      "image/png": "[encoded data removed]",
      "text/plain": [
       "<Figure size 720x360 with 1 Axes>"
      ]
     },
     "metadata": {
      "needs_background": "light"
     },
     "output_type": "display_data"
    }
   ],
   "source": [
    "plt.figure(figsize=(10,5))\n",
    "sns.barplot(x=\"Exterior1st\", y=\"SalePrice\",hue=\"YrSold\",data=df)\n",
    "plt.legend(bbox_to_anchor=(1.05, 1), loc=2, borderaxespad=0.)\n",
    "plt.xticks(rotation=45)\n",
    "plt.show()"
   ]
  },
  {
   "cell_type": "code",
   "execution_count": 675,
   "id": "12857643-5c16-4383-b219-592bc52e1638",
   "metadata": {},
   "outputs": [
    {
     "data": {
      "text/plain": [
       "VinylSd    515\n",
       "HdBoard    222\n",
       "MetalSd    220\n",
       "Wd Sdng    206\n",
       "Plywood    108\n",
       "CemntBd     61\n",
       "BrkFace     50\n",
       "WdShing     26\n",
       "Stucco      25\n",
       "AsbShng     20\n",
       "BrkComm      2\n",
       "Stone        2\n",
       "AsphShn      1\n",
       "CBlock       1\n",
       "ImStucc      1\n",
       "Name: Exterior1st, dtype: int64"
      ]
     },
     "execution_count": 675,
     "metadata": {},
     "output_type": "execute_result"
    }
   ],
   "source": [
    "df_obj.Exterior1st.value_counts()  ### https://www.analyticsvidhya.com/blog/2021/05/how-to-perform-one-hot-encoding-for-multi-categorical-variables/"
   ]
  },
  {
   "cell_type": "code",
   "execution_count": 676,
   "id": "f60c115e-9e8c-4419-825f-071a2e124186",
   "metadata": {},
   "outputs": [
    {
     "data": {
      "text/plain": [
       "VinylSd    510\n",
       "MetalSd    230\n",
       "HdBoard    220\n",
       "Wd Sdng    205\n",
       "Plywood    113\n",
       "CemntBd     65\n",
       "BrkFace     37\n",
       "WdShing     30\n",
       "AsbShng     24\n",
       "Stucco      18\n",
       "BrkComm      4\n",
       "AsphShn      1\n",
       "CBlock       1\n",
       "Name: Exterior1st, dtype: int64"
      ]
     },
     "execution_count": 676,
     "metadata": {},
     "output_type": "execute_result"
    }
   ],
   "source": [
    "test_df.Exterior1st.value_counts()"
   ]
  },
  {
   "cell_type": "code",
   "execution_count": null,
   "id": "10f8404a-ab32-4cf3-9b2b-d88fd8c809b6",
   "metadata": {},
   "outputs": [],
   "source": []
  },
  {
   "cell_type": "markdown",
   "id": "7a7e275c-390f-47ea-9ba1-c64da1bbaacc",
   "metadata": {
    "tags": []
   },
   "source": [
    "#### MasVnrtype"
   ]
  },
  {
   "cell_type": "code",
   "execution_count": 677,
   "id": "4ccaf877-0eb8-4d51-ae5c-18a65b482be0",
   "metadata": {},
   "outputs": [
    {
     "data": {
      "text/plain": [
       "None       864\n",
       "BrkFace    445\n",
       "Stone      128\n",
       "BrkCmn      15\n",
       "Name: MasVnrType, dtype: int64"
      ]
     },
     "execution_count": 677,
     "metadata": {},
     "output_type": "execute_result"
    }
   ],
   "source": [
    "df_obj.MasVnrType.value_counts()"
   ]
  },
  {
   "cell_type": "code",
   "execution_count": 678,
   "id": "2312de6e-0e49-4101-91a9-7cd136283c21",
   "metadata": {},
   "outputs": [
    {
     "data": {
      "text/plain": [
       "8"
      ]
     },
     "execution_count": 678,
     "metadata": {},
     "output_type": "execute_result"
    }
   ],
   "source": [
    "df_obj.MasVnrType.isnull().sum()"
   ]
  },
  {
   "cell_type": "code",
   "execution_count": 679,
   "id": "e8694ef6-7cda-42e3-b0bc-2390511228a8",
   "metadata": {},
   "outputs": [
    {
     "data": {
      "text/html": [
       "<div>\n",
       "<style scoped>\n",
       "    .dataframe tbody tr th:only-of-type {\n",
       "        vertical-align: middle;\n",
       "    }\n",
       "\n",
       "    .dataframe tbody tr th {\n",
       "        vertical-align: top;\n",
       "    }\n",
       "\n",
       "    .dataframe thead th {\n",
       "        text-align: right;\n",
       "    }\n",
       "</style>\n",
       "<table border=\"1\" class=\"dataframe\">\n",
       "  <thead>\n",
       "    <tr style=\"text-align: right;\">\n",
       "      <th></th>\n",
       "      <th>Id</th>\n",
       "      <th>MSSubClass</th>\n",
       "      <th>MSZoning</th>\n",
       "      <th>LotFrontage</th>\n",
       "      <th>LotArea</th>\n",
       "      <th>Street</th>\n",
       "      <th>Alley</th>\n",
       "      <th>LotShape</th>\n",
       "      <th>LandContour</th>\n",
       "      <th>Utilities</th>\n",
       "      <th>...</th>\n",
       "      <th>PoolArea</th>\n",
       "      <th>PoolQC</th>\n",
       "      <th>Fence</th>\n",
       "      <th>MiscFeature</th>\n",
       "      <th>MiscVal</th>\n",
       "      <th>MoSold</th>\n",
       "      <th>YrSold</th>\n",
       "      <th>SaleType</th>\n",
       "      <th>SaleCondition</th>\n",
       "      <th>SalePrice</th>\n",
       "    </tr>\n",
       "  </thead>\n",
       "  <tbody>\n",
       "    <tr>\n",
       "      <th>234</th>\n",
       "      <td>235</td>\n",
       "      <td>60</td>\n",
       "      <td>RL</td>\n",
       "      <td>NaN</td>\n",
       "      <td>7851</td>\n",
       "      <td>Pave</td>\n",
       "      <td>NaN</td>\n",
       "      <td>Reg</td>\n",
       "      <td>Lvl</td>\n",
       "      <td>AllPub</td>\n",
       "      <td>...</td>\n",
       "      <td>0</td>\n",
       "      <td>NaN</td>\n",
       "      <td>NaN</td>\n",
       "      <td>NaN</td>\n",
       "      <td>0</td>\n",
       "      <td>5</td>\n",
       "      <td>2010</td>\n",
       "      <td>WD</td>\n",
       "      <td>Normal</td>\n",
       "      <td>216500</td>\n",
       "    </tr>\n",
       "    <tr>\n",
       "      <th>529</th>\n",
       "      <td>530</td>\n",
       "      <td>20</td>\n",
       "      <td>RL</td>\n",
       "      <td>NaN</td>\n",
       "      <td>32668</td>\n",
       "      <td>Pave</td>\n",
       "      <td>NaN</td>\n",
       "      <td>IR1</td>\n",
       "      <td>Lvl</td>\n",
       "      <td>AllPub</td>\n",
       "      <td>...</td>\n",
       "      <td>0</td>\n",
       "      <td>NaN</td>\n",
       "      <td>NaN</td>\n",
       "      <td>NaN</td>\n",
       "      <td>0</td>\n",
       "      <td>3</td>\n",
       "      <td>2007</td>\n",
       "      <td>WD</td>\n",
       "      <td>Alloca</td>\n",
       "      <td>200624</td>\n",
       "    </tr>\n",
       "    <tr>\n",
       "      <th>650</th>\n",
       "      <td>651</td>\n",
       "      <td>60</td>\n",
       "      <td>FV</td>\n",
       "      <td>65.0</td>\n",
       "      <td>8125</td>\n",
       "      <td>Pave</td>\n",
       "      <td>NaN</td>\n",
       "      <td>Reg</td>\n",
       "      <td>Lvl</td>\n",
       "      <td>AllPub</td>\n",
       "      <td>...</td>\n",
       "      <td>0</td>\n",
       "      <td>NaN</td>\n",
       "      <td>NaN</td>\n",
       "      <td>NaN</td>\n",
       "      <td>0</td>\n",
       "      <td>5</td>\n",
       "      <td>2008</td>\n",
       "      <td>WD</td>\n",
       "      <td>Normal</td>\n",
       "      <td>205950</td>\n",
       "    </tr>\n",
       "    <tr>\n",
       "      <th>936</th>\n",
       "      <td>937</td>\n",
       "      <td>20</td>\n",
       "      <td>RL</td>\n",
       "      <td>67.0</td>\n",
       "      <td>10083</td>\n",
       "      <td>Pave</td>\n",
       "      <td>NaN</td>\n",
       "      <td>Reg</td>\n",
       "      <td>Lvl</td>\n",
       "      <td>AllPub</td>\n",
       "      <td>...</td>\n",
       "      <td>0</td>\n",
       "      <td>NaN</td>\n",
       "      <td>NaN</td>\n",
       "      <td>NaN</td>\n",
       "      <td>0</td>\n",
       "      <td>8</td>\n",
       "      <td>2009</td>\n",
       "      <td>WD</td>\n",
       "      <td>Normal</td>\n",
       "      <td>184900</td>\n",
       "    </tr>\n",
       "    <tr>\n",
       "      <th>973</th>\n",
       "      <td>974</td>\n",
       "      <td>20</td>\n",
       "      <td>FV</td>\n",
       "      <td>95.0</td>\n",
       "      <td>11639</td>\n",
       "      <td>Pave</td>\n",
       "      <td>NaN</td>\n",
       "      <td>Reg</td>\n",
       "      <td>Lvl</td>\n",
       "      <td>AllPub</td>\n",
       "      <td>...</td>\n",
       "      <td>0</td>\n",
       "      <td>NaN</td>\n",
       "      <td>NaN</td>\n",
       "      <td>NaN</td>\n",
       "      <td>0</td>\n",
       "      <td>12</td>\n",
       "      <td>2008</td>\n",
       "      <td>New</td>\n",
       "      <td>Partial</td>\n",
       "      <td>182000</td>\n",
       "    </tr>\n",
       "    <tr>\n",
       "      <th>977</th>\n",
       "      <td>978</td>\n",
       "      <td>120</td>\n",
       "      <td>FV</td>\n",
       "      <td>35.0</td>\n",
       "      <td>4274</td>\n",
       "      <td>Pave</td>\n",
       "      <td>Pave</td>\n",
       "      <td>IR1</td>\n",
       "      <td>Lvl</td>\n",
       "      <td>AllPub</td>\n",
       "      <td>...</td>\n",
       "      <td>0</td>\n",
       "      <td>NaN</td>\n",
       "      <td>NaN</td>\n",
       "      <td>NaN</td>\n",
       "      <td>0</td>\n",
       "      <td>11</td>\n",
       "      <td>2007</td>\n",
       "      <td>New</td>\n",
       "      <td>Partial</td>\n",
       "      <td>199900</td>\n",
       "    </tr>\n",
       "    <tr>\n",
       "      <th>1243</th>\n",
       "      <td>1244</td>\n",
       "      <td>20</td>\n",
       "      <td>RL</td>\n",
       "      <td>107.0</td>\n",
       "      <td>13891</td>\n",
       "      <td>Pave</td>\n",
       "      <td>NaN</td>\n",
       "      <td>Reg</td>\n",
       "      <td>Lvl</td>\n",
       "      <td>AllPub</td>\n",
       "      <td>...</td>\n",
       "      <td>0</td>\n",
       "      <td>NaN</td>\n",
       "      <td>NaN</td>\n",
       "      <td>NaN</td>\n",
       "      <td>0</td>\n",
       "      <td>9</td>\n",
       "      <td>2006</td>\n",
       "      <td>New</td>\n",
       "      <td>Partial</td>\n",
       "      <td>465000</td>\n",
       "    </tr>\n",
       "    <tr>\n",
       "      <th>1278</th>\n",
       "      <td>1279</td>\n",
       "      <td>60</td>\n",
       "      <td>RL</td>\n",
       "      <td>75.0</td>\n",
       "      <td>9473</td>\n",
       "      <td>Pave</td>\n",
       "      <td>NaN</td>\n",
       "      <td>Reg</td>\n",
       "      <td>Lvl</td>\n",
       "      <td>AllPub</td>\n",
       "      <td>...</td>\n",
       "      <td>0</td>\n",
       "      <td>NaN</td>\n",
       "      <td>NaN</td>\n",
       "      <td>NaN</td>\n",
       "      <td>0</td>\n",
       "      <td>3</td>\n",
       "      <td>2008</td>\n",
       "      <td>WD</td>\n",
       "      <td>Normal</td>\n",
       "      <td>237000</td>\n",
       "    </tr>\n",
       "  </tbody>\n",
       "</table>\n",
       "<p>8 rows × 81 columns</p>\n",
       "</div>"
      ],
      "text/plain": [
       "        Id  MSSubClass MSZoning  LotFrontage  LotArea Street Alley LotShape  \\\n",
       "234    235          60       RL          NaN     7851   Pave   NaN      Reg   \n",
       "529    530          20       RL          NaN    32668   Pave   NaN      IR1   \n",
       "650    651          60       FV         65.0     8125   Pave   NaN      Reg   \n",
       "936    937          20       RL         67.0    10083   Pave   NaN      Reg   \n",
       "973    974          20       FV         95.0    11639   Pave   NaN      Reg   \n",
       "977    978         120       FV         35.0     4274   Pave  Pave      IR1   \n",
       "1243  1244          20       RL        107.0    13891   Pave   NaN      Reg   \n",
       "1278  1279          60       RL         75.0     9473   Pave   NaN      Reg   \n",
       "\n",
       "     LandContour Utilities  ... PoolArea PoolQC Fence MiscFeature MiscVal  \\\n",
       "234          Lvl    AllPub  ...        0    NaN   NaN         NaN       0   \n",
       "529          Lvl    AllPub  ...        0    NaN   NaN         NaN       0   \n",
       "650          Lvl    AllPub  ...        0    NaN   NaN         NaN       0   \n",
       "936          Lvl    AllPub  ...        0    NaN   NaN         NaN       0   \n",
       "973          Lvl    AllPub  ...        0    NaN   NaN         NaN       0   \n",
       "977          Lvl    AllPub  ...        0    NaN   NaN         NaN       0   \n",
       "1243         Lvl    AllPub  ...        0    NaN   NaN         NaN       0   \n",
       "1278         Lvl    AllPub  ...        0    NaN   NaN         NaN       0   \n",
       "\n",
       "     MoSold YrSold  SaleType  SaleCondition  SalePrice  \n",
       "234       5   2010        WD         Normal     216500  \n",
       "529       3   2007        WD         Alloca     200624  \n",
       "650       5   2008        WD         Normal     205950  \n",
       "936       8   2009        WD         Normal     184900  \n",
       "973      12   2008       New        Partial     182000  \n",
       "977      11   2007       New        Partial     199900  \n",
       "1243      9   2006       New        Partial     465000  \n",
       "1278      3   2008        WD         Normal     237000  \n",
       "\n",
       "[8 rows x 81 columns]"
      ]
     },
     "execution_count": 679,
     "metadata": {},
     "output_type": "execute_result"
    }
   ],
   "source": [
    "df[df.MasVnrType.isnull() == True]"
   ]
  },
  {
   "cell_type": "code",
   "execution_count": 680,
   "id": "4dd16aa2-1d16-4911-854b-b5ce29e07d2a",
   "metadata": {},
   "outputs": [
    {
     "data": {
      "image/png": "[encoded data removed]",
      "text/plain": [
       "<Figure size 432x288 with 1 Axes>"
      ]
     },
     "metadata": {
      "needs_background": "light"
     },
     "output_type": "display_data"
    }
   ],
   "source": [
    "sns.boxplot(x=\"MasVnrType\", y=\"SalePrice\", data=df)\n",
    "plt.show()"
   ]
  },
  {
   "cell_type": "code",
   "execution_count": 681,
   "id": "10b0a71d-28a6-4d6c-8532-45b892311b7c",
   "metadata": {},
   "outputs": [],
   "source": [
    "df_obj.MasVnrType.fillna(0, inplace=True)\n",
    "dictionary = {\"MasVnrType\":{\"None\":0,\"BrkCmn\":1, \"BrkFace\":2, \"Stone\":3}}\n",
    "df_obj = df_obj.replace(dictionary)"
   ]
  },
  {
   "cell_type": "markdown",
   "id": "608b02f2-5874-439e-acaa-706c48fdf6db",
   "metadata": {
    "jp-MarkdownHeadingCollapsed": true,
    "tags": []
   },
   "source": [
    "#### ExterQual & ExterCond"
   ]
  },
  {
   "cell_type": "code",
   "execution_count": 682,
   "id": "78b7791e-6da8-4c8c-9b32-c5d6779de498",
   "metadata": {},
   "outputs": [
    {
     "data": {
      "text/plain": [
       "TA    906\n",
       "Gd    488\n",
       "Ex     52\n",
       "Fa     14\n",
       "Name: ExterQual, dtype: int64"
      ]
     },
     "execution_count": 682,
     "metadata": {},
     "output_type": "execute_result"
    }
   ],
   "source": [
    "df_obj.ExterQual.value_counts()"
   ]
  },
  {
   "cell_type": "code",
   "execution_count": 683,
   "id": "a53e6762-3ba4-43ef-9347-83a702b93e0d",
   "metadata": {},
   "outputs": [
    {
     "data": {
      "text/plain": [
       "0"
      ]
     },
     "execution_count": 683,
     "metadata": {},
     "output_type": "execute_result"
    }
   ],
   "source": [
    "df_obj.ExterQual.isnull().sum()"
   ]
  },
  {
   "cell_type": "code",
   "execution_count": 684,
   "id": "8f428fbf-074d-4be6-ae4b-b03605f7e05d",
   "metadata": {},
   "outputs": [],
   "source": [
    "dictionary = {\"ExterQual\":{\"Po\":1,\"Fa\":2, \"TA\":3, \"Gd\":4, \"Ex\":5}}\n",
    "df_obj = df_obj.replace(dictionary)"
   ]
  },
  {
   "cell_type": "code",
   "execution_count": 685,
   "id": "f73a5e40-5fcc-4ca5-84aa-b95c3474f7ba",
   "metadata": {},
   "outputs": [
    {
     "data": {
      "text/plain": [
       "TA    1282\n",
       "Gd     146\n",
       "Fa      28\n",
       "Ex       3\n",
       "Po       1\n",
       "Name: ExterCond, dtype: int64"
      ]
     },
     "execution_count": 685,
     "metadata": {},
     "output_type": "execute_result"
    }
   ],
   "source": [
    "df_obj.ExterCond.value_counts()"
   ]
  },
  {
   "cell_type": "code",
   "execution_count": 686,
   "id": "befd823a-fa93-456e-a2eb-29fe47939ea9",
   "metadata": {},
   "outputs": [],
   "source": [
    "dictionary = {\"ExterCond\":{\"Po\":1,\"Fa\":2, \"TA\":3, \"Gd\":4, \"Ex\":5}}\n",
    "df_obj = df_obj.replace(dictionary)"
   ]
  },
  {
   "cell_type": "markdown",
   "id": "75a757a2-34cf-4e35-b08d-a43774a84229",
   "metadata": {
    "jp-MarkdownHeadingCollapsed": true,
    "tags": []
   },
   "source": [
    "#### Foundation"
   ]
  },
  {
   "cell_type": "code",
   "execution_count": 687,
   "id": "1ef17d0c-26d1-4540-a99f-8ec94861470c",
   "metadata": {},
   "outputs": [
    {
     "data": {
      "text/plain": [
       "PConc     647\n",
       "CBlock    634\n",
       "BrkTil    146\n",
       "Slab       24\n",
       "Stone       6\n",
       "Wood        3\n",
       "Name: Foundation, dtype: int64"
      ]
     },
     "execution_count": 687,
     "metadata": {},
     "output_type": "execute_result"
    }
   ],
   "source": [
    "df_obj.Foundation.value_counts()"
   ]
  },
  {
   "cell_type": "code",
   "execution_count": 688,
   "id": "cac402f4-18a5-409d-a044-e9d1d78709ec",
   "metadata": {},
   "outputs": [
    {
     "data": {
      "text/plain": [
       "0"
      ]
     },
     "execution_count": 688,
     "metadata": {},
     "output_type": "execute_result"
    }
   ],
   "source": [
    "df_obj.Foundation.isnull().sum()"
   ]
  },
  {
   "cell_type": "code",
   "execution_count": 689,
   "id": "26e5d586-de7b-46ab-ab83-2dfff20d084f",
   "metadata": {},
   "outputs": [
    {
     "data": {
      "image/png": "[encoded data removed]",
      "text/plain": [
       "<Figure size 432x288 with 1 Axes>"
      ]
     },
     "metadata": {
      "needs_background": "light"
     },
     "output_type": "display_data"
    }
   ],
   "source": [
    "sns.boxplot(x=\"Foundation\", y=\"SalePrice\", data=df)\n",
    "plt.show()"
   ]
  },
  {
   "cell_type": "code",
   "execution_count": 690,
   "id": "71271a3a-06c7-4f31-b60f-d6122e5f2bc0",
   "metadata": {},
   "outputs": [],
   "source": [
    "dictionary = {\"Foundation\":{\"Slab\":1,\"BrkTil\":2, \"CBlock\":3, \"Wood\":4, \"PConc\":5, \"Stone\":6}}\n",
    "df_obj = df_obj.replace(dictionary)"
   ]
  },
  {
   "cell_type": "markdown",
   "id": "992a6b80-710e-4695-a35f-e3f7a89d228d",
   "metadata": {},
   "source": [
    "Cinder blocks had many uses in the construction industry until about 50 years ago when poured concrete wall construction became more common.<br>\n",
    "\n",
    "Poured concrete wall foundations are arguably stronger than cinder blocks. Poured walls have a better lateral strength, which means they are able to resist more pressure from the water and the soil from the outside. A poured wall doesn't have joints like a block wall so it is easier to waterproof.<br>\n",
    "\n",
    "Natural stone is by far the most durable. Bricks and concrete both deteriorate with water penetration; bricks cannot be placed below grade and are usually hollow on the inside; concrete always pits and cracks and is hard to repair. Stone, on the other hand, will almost never experience these problems.<br>\n",
    "\n",
    "Unlike concrete, treated wood doesn't absorb moisture, rather it wicks away. Concrete contains moisture in it's makeup and easily absorbs moisture from it's surroundings. In heavy rains and harsh conditions, wood is quicker to dry than concrete."
   ]
  },
  {
   "cell_type": "code",
   "execution_count": 691,
   "id": "35d5d58c-5044-4fba-bdaf-4449b2035dae",
   "metadata": {
    "tags": []
   },
   "outputs": [
    {
     "name": "stdout",
     "output_type": "stream",
     "text": [
      "<class 'pandas.core.frame.DataFrame'>\n",
      "RangeIndex: 1460 entries, 0 to 1459\n",
      "Data columns (total 43 columns):\n",
      " #   Column         Non-Null Count  Dtype \n",
      "---  ------         --------------  ----- \n",
      " 0   MSZoning       1460 non-null   int64 \n",
      " 1   Street         1460 non-null   int64 \n",
      " 2   Alley          1460 non-null   int64 \n",
      " 3   LotShape       1460 non-null   int64 \n",
      " 4   LandContour    1460 non-null   int64 \n",
      " 5   Utilities      1460 non-null   int64 \n",
      " 6   LotConfig      1460 non-null   int64 \n",
      " 7   LandSlope      1460 non-null   int64 \n",
      " 8   Neighborhood   1460 non-null   int64 \n",
      " 9   Condition1     1460 non-null   int64 \n",
      " 10  Condition2     1460 non-null   int64 \n",
      " 11  BldgType       1460 non-null   object\n",
      " 12  HouseStyle     1460 non-null   int64 \n",
      " 13  RoofStyle      1460 non-null   object\n",
      " 14  RoofMatl       1460 non-null   int64 \n",
      " 15  Exterior1st    1460 non-null   object\n",
      " 16  Exterior2nd    1460 non-null   object\n",
      " 17  MasVnrType     1460 non-null   int64 \n",
      " 18  ExterQual      1460 non-null   int64 \n",
      " 19  ExterCond      1460 non-null   int64 \n",
      " 20  Foundation     1460 non-null   int64 \n",
      " 21  BsmtQual       1423 non-null   object\n",
      " 22  BsmtCond       1423 non-null   object\n",
      " 23  BsmtExposure   1422 non-null   object\n",
      " 24  BsmtFinType1   1423 non-null   object\n",
      " 25  BsmtFinType2   1422 non-null   object\n",
      " 26  Heating        1460 non-null   object\n",
      " 27  HeatingQC      1460 non-null   object\n",
      " 28  CentralAir     1460 non-null   object\n",
      " 29  Electrical     1459 non-null   object\n",
      " 30  KitchenQual    1460 non-null   object\n",
      " 31  Functional     1460 non-null   object\n",
      " 32  FireplaceQu    770 non-null    object\n",
      " 33  GarageType     1379 non-null   object\n",
      " 34  GarageFinish   1379 non-null   object\n",
      " 35  GarageQual     1379 non-null   object\n",
      " 36  GarageCond     1379 non-null   object\n",
      " 37  PavedDrive     1460 non-null   object\n",
      " 38  PoolQC         7 non-null      object\n",
      " 39  Fence          281 non-null    object\n",
      " 40  MiscFeature    54 non-null     object\n",
      " 41  SaleType       1460 non-null   object\n",
      " 42  SaleCondition  1460 non-null   object\n",
      "dtypes: int64(17), object(26)\n",
      "memory usage: 490.6+ KB\n"
     ]
    }
   ],
   "source": [
    "df_obj.info()"
   ]
  },
  {
   "cell_type": "markdown",
   "id": "5e915386-da0a-4637-8d43-5275639722da",
   "metadata": {
    "jp-MarkdownHeadingCollapsed": true,
    "tags": []
   },
   "source": [
    "#### BsmtQual & BsmtCond & BsmtExposure & BsmtFinType1 & BsmtFinType2"
   ]
  },
  {
   "cell_type": "code",
   "execution_count": 692,
   "id": "1d9f1446-e1fd-47c2-b5c6-5600ae0f3c8b",
   "metadata": {},
   "outputs": [
    {
     "data": {
      "text/plain": [
       "TA    649\n",
       "Gd    618\n",
       "Ex    121\n",
       "Fa     35\n",
       "Name: BsmtQual, dtype: int64"
      ]
     },
     "execution_count": 692,
     "metadata": {},
     "output_type": "execute_result"
    }
   ],
   "source": [
    "df_obj.BsmtQual.value_counts()"
   ]
  },
  {
   "cell_type": "code",
   "execution_count": 693,
   "id": "21882af8-1982-4ce4-85c8-043f8b9ccb95",
   "metadata": {},
   "outputs": [
    {
     "data": {
      "text/plain": [
       "37"
      ]
     },
     "execution_count": 693,
     "metadata": {},
     "output_type": "execute_result"
    }
   ],
   "source": [
    "df_obj.BsmtQual.isnull().sum()"
   ]
  },
  {
   "cell_type": "code",
   "execution_count": 694,
   "id": "95badb5e-c21e-44df-87dc-4225350918b8",
   "metadata": {},
   "outputs": [],
   "source": [
    "df_obj.BsmtQual.fillna(0, inplace=True)\n",
    "dictionary = {\"BsmtQual\":{\"Po\":1,\"Fa\":2, \"TA\":3, \"Gd\":4, \"Ex\":5}}\n",
    "df_obj = df_obj.replace(dictionary)"
   ]
  },
  {
   "cell_type": "code",
   "execution_count": 695,
   "id": "f395f933-654d-462f-88c6-79470c1aa8d8",
   "metadata": {},
   "outputs": [
    {
     "data": {
      "text/plain": [
       "TA    1311\n",
       "Gd      65\n",
       "Fa      45\n",
       "Po       2\n",
       "Name: BsmtCond, dtype: int64"
      ]
     },
     "execution_count": 695,
     "metadata": {},
     "output_type": "execute_result"
    }
   ],
   "source": [
    "df_obj.BsmtCond.value_counts()"
   ]
  },
  {
   "cell_type": "code",
   "execution_count": 696,
   "id": "ac33d3c9-2b90-4c1d-b821-2646068053d5",
   "metadata": {},
   "outputs": [
    {
     "data": {
      "text/plain": [
       "37"
      ]
     },
     "execution_count": 696,
     "metadata": {},
     "output_type": "execute_result"
    }
   ],
   "source": [
    "df_obj.BsmtCond.isnull().sum()"
   ]
  },
  {
   "cell_type": "code",
   "execution_count": 697,
   "id": "3614420b-4c50-47c8-afb1-2db6cbef99f3",
   "metadata": {},
   "outputs": [],
   "source": [
    "df_obj.BsmtCond.fillna(0, inplace=True)\n",
    "dictionary = {\"BsmtCond\":{\"Po\":1,\"Fa\":2, \"TA\":3, \"Gd\":4, \"Ex\":5}}\n",
    "df_obj = df_obj.replace(dictionary)"
   ]
  },
  {
   "cell_type": "code",
   "execution_count": 698,
   "id": "52516231-f3bd-4983-880b-f849e889fd8c",
   "metadata": {},
   "outputs": [
    {
     "data": {
      "text/plain": [
       "No    953\n",
       "Av    221\n",
       "Gd    134\n",
       "Mn    114\n",
       "Name: BsmtExposure, dtype: int64"
      ]
     },
     "execution_count": 698,
     "metadata": {},
     "output_type": "execute_result"
    }
   ],
   "source": [
    "df_obj.BsmtExposure.value_counts()"
   ]
  },
  {
   "cell_type": "code",
   "execution_count": 699,
   "id": "e048d52f-470f-45ca-b0b8-3aa01a75b399",
   "metadata": {},
   "outputs": [
    {
     "data": {
      "text/plain": [
       "38"
      ]
     },
     "execution_count": 699,
     "metadata": {},
     "output_type": "execute_result"
    }
   ],
   "source": [
    "df_obj.BsmtExposure.isnull().sum()"
   ]
  },
  {
   "cell_type": "code",
   "execution_count": 700,
   "id": "648d4541-cc54-4df0-a1e0-4c9e20854ae8",
   "metadata": {},
   "outputs": [],
   "source": [
    "df_obj.BsmtExposure.fillna(0, inplace=True)\n",
    "dictionary = {\"BsmtExposure\":{\"No\":1,\"Mn\":2, \"Av\":3, \"Gd\":4}}\n",
    "df_obj = df_obj.replace(dictionary)"
   ]
  },
  {
   "cell_type": "code",
   "execution_count": 701,
   "id": "57d62b2b-b890-4895-a847-cc32ed4d003f",
   "metadata": {},
   "outputs": [
    {
     "data": {
      "text/plain": [
       "Unf    430\n",
       "GLQ    418\n",
       "ALQ    220\n",
       "BLQ    148\n",
       "Rec    133\n",
       "LwQ     74\n",
       "Name: BsmtFinType1, dtype: int64"
      ]
     },
     "execution_count": 701,
     "metadata": {},
     "output_type": "execute_result"
    }
   ],
   "source": [
    "df_obj.BsmtFinType1.value_counts()"
   ]
  },
  {
   "cell_type": "code",
   "execution_count": 702,
   "id": "82c52703-5a7c-4d33-ac30-7191c030f02f",
   "metadata": {},
   "outputs": [
    {
     "data": {
      "text/plain": [
       "37"
      ]
     },
     "execution_count": 702,
     "metadata": {},
     "output_type": "execute_result"
    }
   ],
   "source": [
    "df_obj.BsmtFinType1.isnull().sum()"
   ]
  },
  {
   "cell_type": "code",
   "execution_count": 703,
   "id": "5ec4ccce-e67e-45ba-b09b-da69996f78a5",
   "metadata": {},
   "outputs": [],
   "source": [
    "df_obj.BsmtFinType1.fillna(0, inplace=True)\n",
    "dictionary = {\"BsmtFinType1\":{\"Unf\":1,\"LwQ\":2, \"Rec\":3, \"BLQ\":4, \"ALQ\":5, \"GLQ\":6}}\n",
    "df_obj = df_obj.replace(dictionary)"
   ]
  },
  {
   "cell_type": "code",
   "execution_count": 704,
   "id": "2f6681a9-2b75-46b4-84fd-d126d6cba525",
   "metadata": {},
   "outputs": [
    {
     "data": {
      "text/plain": [
       "Unf    1256\n",
       "Rec      54\n",
       "LwQ      46\n",
       "BLQ      33\n",
       "ALQ      19\n",
       "GLQ      14\n",
       "Name: BsmtFinType2, dtype: int64"
      ]
     },
     "execution_count": 704,
     "metadata": {},
     "output_type": "execute_result"
    }
   ],
   "source": [
    "df_obj.BsmtFinType2.value_counts()"
   ]
  },
  {
   "cell_type": "code",
   "execution_count": 705,
   "id": "63dbe535-2347-44e5-870b-fd82aa9e947b",
   "metadata": {},
   "outputs": [
    {
     "data": {
      "text/plain": [
       "38"
      ]
     },
     "execution_count": 705,
     "metadata": {},
     "output_type": "execute_result"
    }
   ],
   "source": [
    "df_obj.BsmtFinType2.isnull().sum()"
   ]
  },
  {
   "cell_type": "code",
   "execution_count": 706,
   "id": "f3d31b13-dc91-461b-92b5-1190f2a201fd",
   "metadata": {},
   "outputs": [],
   "source": [
    "df_obj.BsmtFinType2.fillna(0, inplace=True)\n",
    "dictionary = {\"BsmtFinType2\":{\"Unf\":1,\"LwQ\":2, \"Rec\":3, \"BLQ\":4, \"ALQ\":5, \"GLQ\":6}}\n",
    "df_obj = df_obj.replace(dictionary)"
   ]
  },
  {
   "cell_type": "code",
   "execution_count": 707,
   "id": "97a449ac-c693-4727-a787-e7c2ee962eaf",
   "metadata": {},
   "outputs": [
    {
     "name": "stdout",
     "output_type": "stream",
     "text": [
      "<class 'pandas.core.frame.DataFrame'>\n",
      "RangeIndex: 1460 entries, 0 to 1459\n",
      "Data columns (total 43 columns):\n",
      " #   Column         Non-Null Count  Dtype \n",
      "---  ------         --------------  ----- \n",
      " 0   MSZoning       1460 non-null   int64 \n",
      " 1   Street         1460 non-null   int64 \n",
      " 2   Alley          1460 non-null   int64 \n",
      " 3   LotShape       1460 non-null   int64 \n",
      " 4   LandContour    1460 non-null   int64 \n",
      " 5   Utilities      1460 non-null   int64 \n",
      " 6   LotConfig      1460 non-null   int64 \n",
      " 7   LandSlope      1460 non-null   int64 \n",
      " 8   Neighborhood   1460 non-null   int64 \n",
      " 9   Condition1     1460 non-null   int64 \n",
      " 10  Condition2     1460 non-null   int64 \n",
      " 11  BldgType       1460 non-null   object\n",
      " 12  HouseStyle     1460 non-null   int64 \n",
      " 13  RoofStyle      1460 non-null   object\n",
      " 14  RoofMatl       1460 non-null   int64 \n",
      " 15  Exterior1st    1460 non-null   object\n",
      " 16  Exterior2nd    1460 non-null   object\n",
      " 17  MasVnrType     1460 non-null   int64 \n",
      " 18  ExterQual      1460 non-null   int64 \n",
      " 19  ExterCond      1460 non-null   int64 \n",
      " 20  Foundation     1460 non-null   int64 \n",
      " 21  BsmtQual       1460 non-null   int64 \n",
      " 22  BsmtCond       1460 non-null   int64 \n",
      " 23  BsmtExposure   1460 non-null   int64 \n",
      " 24  BsmtFinType1   1460 non-null   int64 \n",
      " 25  BsmtFinType2   1460 non-null   int64 \n",
      " 26  Heating        1460 non-null   object\n",
      " 27  HeatingQC      1460 non-null   object\n",
      " 28  CentralAir     1460 non-null   object\n",
      " 29  Electrical     1459 non-null   object\n",
      " 30  KitchenQual    1460 non-null   object\n",
      " 31  Functional     1460 non-null   object\n",
      " 32  FireplaceQu    770 non-null    object\n",
      " 33  GarageType     1379 non-null   object\n",
      " 34  GarageFinish   1379 non-null   object\n",
      " 35  GarageQual     1379 non-null   object\n",
      " 36  GarageCond     1379 non-null   object\n",
      " 37  PavedDrive     1460 non-null   object\n",
      " 38  PoolQC         7 non-null      object\n",
      " 39  Fence          281 non-null    object\n",
      " 40  MiscFeature    54 non-null     object\n",
      " 41  SaleType       1460 non-null   object\n",
      " 42  SaleCondition  1460 non-null   object\n",
      "dtypes: int64(22), object(21)\n",
      "memory usage: 490.6+ KB\n"
     ]
    }
   ],
   "source": [
    "df_obj.info()"
   ]
  },
  {
   "cell_type": "markdown",
   "id": "2a256260-baf9-4e6d-8a2e-38e6275caeb0",
   "metadata": {
    "jp-MarkdownHeadingCollapsed": true,
    "tags": []
   },
   "source": [
    "#### Heating & HeatingQC"
   ]
  },
  {
   "cell_type": "code",
   "execution_count": 708,
   "id": "1b0d38f1-4cc6-42ca-a040-806a990aebe6",
   "metadata": {},
   "outputs": [
    {
     "data": {
      "text/plain": [
       "GasA     1428\n",
       "GasW       18\n",
       "Grav        7\n",
       "Wall        4\n",
       "OthW        2\n",
       "Floor       1\n",
       "Name: Heating, dtype: int64"
      ]
     },
     "execution_count": 708,
     "metadata": {},
     "output_type": "execute_result"
    }
   ],
   "source": [
    "df_obj.Heating.value_counts()"
   ]
  },
  {
   "cell_type": "code",
   "execution_count": 709,
   "id": "c7391107-87f1-4869-b88d-14c99a55020d",
   "metadata": {},
   "outputs": [
    {
     "data": {
      "text/plain": [
       "0"
      ]
     },
     "execution_count": 709,
     "metadata": {},
     "output_type": "execute_result"
    }
   ],
   "source": [
    "df_obj.Heating.isnull().sum()"
   ]
  },
  {
   "cell_type": "code",
   "execution_count": 710,
   "id": "08bd1a5a-8cc2-4494-ace1-ba03f23a1456",
   "metadata": {},
   "outputs": [
    {
     "data": {
      "text/plain": [
       "<AxesSubplot:xlabel='Heating', ylabel='SalePrice'>"
      ]
     },
     "execution_count": 710,
     "metadata": {},
     "output_type": "execute_result"
    },
    {
     "data": {
      "image/png": "[encoded data removed]",
      "text/plain": [
       "<Figure size 432x288 with 1 Axes>"
      ]
     },
     "metadata": {
      "needs_background": "light"
     },
     "output_type": "display_data"
    }
   ],
   "source": [
    "sns.barplot(x=\"Heating\", y=\"SalePrice\", hue=\"HeatingQC\", data=df)"
   ]
  },
  {
   "cell_type": "code",
   "execution_count": 711,
   "id": "3b4d320b-0b83-488b-a9d8-b49509a4c2a5",
   "metadata": {},
   "outputs": [
    {
     "data": {
      "text/plain": [
       "<AxesSubplot:xlabel='Heating', ylabel='SalePrice'>"
      ]
     },
     "execution_count": 711,
     "metadata": {},
     "output_type": "execute_result"
    },
    {
     "data": {
      "image/png": "[encoded data removed]",
      "text/plain": [
       "<Figure size 432x288 with 1 Axes>"
      ]
     },
     "metadata": {
      "needs_background": "light"
     },
     "output_type": "display_data"
    }
   ],
   "source": [
    "sns.barplot(x=\"Heating\", y=\"SalePrice\", hue=\"YrSold\", data=df)"
   ]
  },
  {
   "cell_type": "code",
   "execution_count": 712,
   "id": "d0a8379b-b3d2-4544-ba6a-22f56a0e2fc7",
   "metadata": {},
   "outputs": [
    {
     "data": {
      "image/png": "[encoded data removed]",
      "text/plain": [
       "<Figure size 1069.88x288 with 5 Axes>"
      ]
     },
     "metadata": {
      "needs_background": "light"
     },
     "output_type": "display_data"
    }
   ],
   "source": [
    "g = sns.catplot(x=\"Heating\", y=\"SalePrice\",\n",
    "                hue=\"HeatingQC\", col=\"YrSold\",\n",
    "                data=df, kind=\"bar\",\n",
    "                height=4, aspect=.7);"
   ]
  },
  {
   "cell_type": "code",
   "execution_count": 713,
   "id": "f9e13898-e572-4d4f-88c7-4cb783db37dd",
   "metadata": {},
   "outputs": [
    {
     "data": {
      "text/plain": [
       "<AxesSubplot:xlabel='Heating', ylabel='SalePrice'>"
      ]
     },
     "execution_count": 713,
     "metadata": {},
     "output_type": "execute_result"
    },
    {
     "data": {
      "image/png": "[encoded data removed]",
      "text/plain": [
       "<Figure size 432x288 with 1 Axes>"
      ]
     },
     "metadata": {
      "needs_background": "light"
     },
     "output_type": "display_data"
    }
   ],
   "source": [
    "sns.boxplot(x=\"Heating\", y=\"SalePrice\", data=df)"
   ]
  },
  {
   "cell_type": "markdown",
   "id": "c34a6183-5166-4188-b8b2-c03c28e128a5",
   "metadata": {},
   "source": [
    "The average cost for furnace replacement or installation ranges from 2,500 to 7,150 dollar <br>\n",
    "The average cost for a steam boiler is about 3,500 dollar. A higher end steam boiler installation could cost up to 8,000 dollar. https://modernize.com/hvac/heating-repair-installation/boiler/steam"
   ]
  },
  {
   "cell_type": "code",
   "execution_count": 714,
   "id": "7c974cfe-d265-4174-9414-effa05db610c",
   "metadata": {},
   "outputs": [],
   "source": [
    "dictionary = {\"Heating\":{\"Grav\":1,\"Floor\":2, \"Wall\":3, \"OthW\":4, \"GasA\":5, \"GasW\":6}}\n",
    "df_obj = df_obj.replace(dictionary)"
   ]
  },
  {
   "cell_type": "code",
   "execution_count": 715,
   "id": "eb7e887e-6494-4fc8-b4d9-6b300975af98",
   "metadata": {},
   "outputs": [
    {
     "data": {
      "text/plain": [
       "Ex    741\n",
       "TA    428\n",
       "Gd    241\n",
       "Fa     49\n",
       "Po      1\n",
       "Name: HeatingQC, dtype: int64"
      ]
     },
     "execution_count": 715,
     "metadata": {},
     "output_type": "execute_result"
    }
   ],
   "source": [
    "df_obj.HeatingQC.value_counts()"
   ]
  },
  {
   "cell_type": "code",
   "execution_count": 716,
   "id": "5033591d-8499-48d2-9069-dee1703fb954",
   "metadata": {},
   "outputs": [
    {
     "data": {
      "text/plain": [
       "0"
      ]
     },
     "execution_count": 716,
     "metadata": {},
     "output_type": "execute_result"
    }
   ],
   "source": [
    "df_obj.HeatingQC.isnull().sum()"
   ]
  },
  {
   "cell_type": "code",
   "execution_count": 717,
   "id": "c7458c2c-828f-49b3-8973-60d7bf2d5663",
   "metadata": {},
   "outputs": [],
   "source": [
    "dictionary = {\"HeatingQC\":{\"Po\":1,\"Fa\":2, \"TA\":3, \"Gd\":4, \"Ex\":5}}\n",
    "df_obj = df_obj.replace(dictionary)"
   ]
  },
  {
   "cell_type": "markdown",
   "id": "8f9fa9a8-2032-416d-aa45-3d812f9261a0",
   "metadata": {
    "jp-MarkdownHeadingCollapsed": true,
    "tags": []
   },
   "source": [
    "#### CentralAir"
   ]
  },
  {
   "cell_type": "code",
   "execution_count": 718,
   "id": "6cd0fbd0-6c09-48d0-bf3a-2e0f55b758bd",
   "metadata": {},
   "outputs": [
    {
     "data": {
      "text/plain": [
       "Y    1365\n",
       "N      95\n",
       "Name: CentralAir, dtype: int64"
      ]
     },
     "execution_count": 718,
     "metadata": {},
     "output_type": "execute_result"
    }
   ],
   "source": [
    "df_obj.CentralAir.value_counts()"
   ]
  },
  {
   "cell_type": "code",
   "execution_count": 719,
   "id": "246b638f-f183-4d90-97eb-9eba0f9941a0",
   "metadata": {},
   "outputs": [
    {
     "data": {
      "text/plain": [
       "0"
      ]
     },
     "execution_count": 719,
     "metadata": {},
     "output_type": "execute_result"
    }
   ],
   "source": [
    "df_obj.CentralAir.isnull().sum()"
   ]
  },
  {
   "cell_type": "code",
   "execution_count": 720,
   "id": "24afdf77-5484-464b-b5f4-410415277ca8",
   "metadata": {},
   "outputs": [],
   "source": [
    "dictionary = {\"CentralAir\":{\"N\":0,\"Y\":1}}\n",
    "df_obj = df_obj.replace(dictionary)"
   ]
  },
  {
   "cell_type": "markdown",
   "id": "b87957ab-c984-40ab-ba23-3d2ab9622f61",
   "metadata": {
    "jp-MarkdownHeadingCollapsed": true,
    "tags": []
   },
   "source": [
    "#### Electrical"
   ]
  },
  {
   "cell_type": "code",
   "execution_count": 721,
   "id": "18f03738-f81d-4850-bd0e-e1c6335d822d",
   "metadata": {},
   "outputs": [
    {
     "data": {
      "text/plain": [
       "SBrkr    1334\n",
       "FuseA      94\n",
       "FuseF      27\n",
       "FuseP       3\n",
       "Mix         1\n",
       "Name: Electrical, dtype: int64"
      ]
     },
     "execution_count": 721,
     "metadata": {},
     "output_type": "execute_result"
    }
   ],
   "source": [
    "df_obj.Electrical.value_counts()"
   ]
  },
  {
   "cell_type": "code",
   "execution_count": 722,
   "id": "867a5bf8-b786-496b-898e-a76b8986c4c9",
   "metadata": {},
   "outputs": [
    {
     "data": {
      "text/plain": [
       "1"
      ]
     },
     "execution_count": 722,
     "metadata": {},
     "output_type": "execute_result"
    }
   ],
   "source": [
    "df_obj.Electrical.isnull().sum()"
   ]
  },
  {
   "cell_type": "code",
   "execution_count": 723,
   "id": "47d1944d-5d5b-4dad-bf29-7218abb1442c",
   "metadata": {},
   "outputs": [
    {
     "data": {
      "text/html": [
       "<div>\n",
       "<style scoped>\n",
       "    .dataframe tbody tr th:only-of-type {\n",
       "        vertical-align: middle;\n",
       "    }\n",
       "\n",
       "    .dataframe tbody tr th {\n",
       "        vertical-align: top;\n",
       "    }\n",
       "\n",
       "    .dataframe thead th {\n",
       "        text-align: right;\n",
       "    }\n",
       "</style>\n",
       "<table border=\"1\" class=\"dataframe\">\n",
       "  <thead>\n",
       "    <tr style=\"text-align: right;\">\n",
       "      <th></th>\n",
       "      <th>Id</th>\n",
       "      <th>MSSubClass</th>\n",
       "      <th>MSZoning</th>\n",
       "      <th>LotFrontage</th>\n",
       "      <th>LotArea</th>\n",
       "      <th>Street</th>\n",
       "      <th>Alley</th>\n",
       "      <th>LotShape</th>\n",
       "      <th>LandContour</th>\n",
       "      <th>Utilities</th>\n",
       "      <th>...</th>\n",
       "      <th>PoolArea</th>\n",
       "      <th>PoolQC</th>\n",
       "      <th>Fence</th>\n",
       "      <th>MiscFeature</th>\n",
       "      <th>MiscVal</th>\n",
       "      <th>MoSold</th>\n",
       "      <th>YrSold</th>\n",
       "      <th>SaleType</th>\n",
       "      <th>SaleCondition</th>\n",
       "      <th>SalePrice</th>\n",
       "    </tr>\n",
       "  </thead>\n",
       "  <tbody>\n",
       "    <tr>\n",
       "      <th>1379</th>\n",
       "      <td>1380</td>\n",
       "      <td>80</td>\n",
       "      <td>RL</td>\n",
       "      <td>73.0</td>\n",
       "      <td>9735</td>\n",
       "      <td>Pave</td>\n",
       "      <td>NaN</td>\n",
       "      <td>Reg</td>\n",
       "      <td>Lvl</td>\n",
       "      <td>AllPub</td>\n",
       "      <td>...</td>\n",
       "      <td>0</td>\n",
       "      <td>NaN</td>\n",
       "      <td>NaN</td>\n",
       "      <td>NaN</td>\n",
       "      <td>0</td>\n",
       "      <td>5</td>\n",
       "      <td>2008</td>\n",
       "      <td>WD</td>\n",
       "      <td>Normal</td>\n",
       "      <td>167500</td>\n",
       "    </tr>\n",
       "  </tbody>\n",
       "</table>\n",
       "<p>1 rows × 81 columns</p>\n",
       "</div>"
      ],
      "text/plain": [
       "        Id  MSSubClass MSZoning  LotFrontage  LotArea Street Alley LotShape  \\\n",
       "1379  1380          80       RL         73.0     9735   Pave   NaN      Reg   \n",
       "\n",
       "     LandContour Utilities  ... PoolArea PoolQC Fence MiscFeature MiscVal  \\\n",
       "1379         Lvl    AllPub  ...        0    NaN   NaN         NaN       0   \n",
       "\n",
       "     MoSold YrSold  SaleType  SaleCondition  SalePrice  \n",
       "1379      5   2008        WD         Normal     167500  \n",
       "\n",
       "[1 rows x 81 columns]"
      ]
     },
     "execution_count": 723,
     "metadata": {},
     "output_type": "execute_result"
    }
   ],
   "source": [
    "df[(df.Electrical.isnull()==True)]"
   ]
  },
  {
   "cell_type": "code",
   "execution_count": 724,
   "id": "888a8ab3-d456-49e7-9ee9-550066c45bd0",
   "metadata": {},
   "outputs": [
    {
     "data": {
      "text/plain": [
       "<AxesSubplot:xlabel='Electrical', ylabel='SalePrice'>"
      ]
     },
     "execution_count": 724,
     "metadata": {},
     "output_type": "execute_result"
    },
    {
     "data": {
      "image/png": "[encoded data removed]",
      "text/plain": [
       "<Figure size 432x288 with 1 Axes>"
      ]
     },
     "metadata": {
      "needs_background": "light"
     },
     "output_type": "display_data"
    }
   ],
   "source": [
    "sns.boxplot(x=\"Electrical\", y=\"SalePrice\", hue=\"YrSold\",data=df)"
   ]
  },
  {
   "cell_type": "code",
   "execution_count": 725,
   "id": "5dcd9d57-3ea8-4faf-b617-e39c212a8492",
   "metadata": {},
   "outputs": [],
   "source": [
    "df_obj.Electrical.fillna(3, inplace=True)\n",
    "dictionary = {\"Electrical\":{\"Mix\":1,\"FuseP\":2,\"FuseF\":3, \"FuseA\":4, \"SBrkr\":5}}\n",
    "df_obj = df_obj.replace(dictionary)"
   ]
  },
  {
   "cell_type": "markdown",
   "id": "dd39d1d3-2b4f-4d0a-b94a-70fcb1e352ad",
   "metadata": {
    "jp-MarkdownHeadingCollapsed": true,
    "tags": []
   },
   "source": [
    "#### KitchenQual"
   ]
  },
  {
   "cell_type": "code",
   "execution_count": 726,
   "id": "95c9b432-cb7a-498a-a05c-5bec445de63b",
   "metadata": {},
   "outputs": [
    {
     "data": {
      "text/plain": [
       "TA    735\n",
       "Gd    586\n",
       "Ex    100\n",
       "Fa     39\n",
       "Name: KitchenQual, dtype: int64"
      ]
     },
     "execution_count": 726,
     "metadata": {},
     "output_type": "execute_result"
    }
   ],
   "source": [
    "df_obj.KitchenQual.value_counts()"
   ]
  },
  {
   "cell_type": "code",
   "execution_count": 727,
   "id": "6a850c98-f202-4f54-88da-8591544b925a",
   "metadata": {},
   "outputs": [
    {
     "data": {
      "text/plain": [
       "0"
      ]
     },
     "execution_count": 727,
     "metadata": {},
     "output_type": "execute_result"
    }
   ],
   "source": [
    "df_obj.KitchenQual.isnull().sum()"
   ]
  },
  {
   "cell_type": "code",
   "execution_count": 728,
   "id": "2a60184b-1742-4af3-bf21-62d01e335489",
   "metadata": {},
   "outputs": [],
   "source": [
    "dictionary = {\"KitchenQual\":{\"Po\":1,\"Fa\":2,\"TA\":3, \"Gd\":4, \"Ex\":5}}\n",
    "df_obj = df_obj.replace(dictionary)"
   ]
  },
  {
   "cell_type": "markdown",
   "id": "1018fba8-730a-402f-bb24-3b518d7071f5",
   "metadata": {
    "jp-MarkdownHeadingCollapsed": true,
    "tags": []
   },
   "source": [
    "#### Functional"
   ]
  },
  {
   "cell_type": "code",
   "execution_count": 729,
   "id": "e349c731-4fce-4cc1-926e-a901b27b06e4",
   "metadata": {},
   "outputs": [
    {
     "data": {
      "text/plain": [
       "Typ     1360\n",
       "Min2      34\n",
       "Min1      31\n",
       "Mod       15\n",
       "Maj1      14\n",
       "Maj2       5\n",
       "Sev        1\n",
       "Name: Functional, dtype: int64"
      ]
     },
     "execution_count": 729,
     "metadata": {},
     "output_type": "execute_result"
    }
   ],
   "source": [
    "df_obj.Functional.value_counts()"
   ]
  },
  {
   "cell_type": "code",
   "execution_count": 730,
   "id": "58fb4414-e7b2-44c7-8dd5-479c53ff6a2d",
   "metadata": {},
   "outputs": [
    {
     "data": {
      "text/plain": [
       "0"
      ]
     },
     "execution_count": 730,
     "metadata": {},
     "output_type": "execute_result"
    }
   ],
   "source": [
    "df_obj.Functional.isnull().sum()"
   ]
  },
  {
   "cell_type": "code",
   "execution_count": 731,
   "id": "a2501a28-497d-48e2-93ab-ca767cd726bd",
   "metadata": {},
   "outputs": [
    {
     "data": {
      "text/plain": [
       "<AxesSubplot:xlabel='Functional', ylabel='SalePrice'>"
      ]
     },
     "execution_count": 731,
     "metadata": {},
     "output_type": "execute_result"
    },
    {
     "data": {
      "image/png": "[encoded data removed]",
      "text/plain": [
       "<Figure size 432x288 with 1 Axes>"
      ]
     },
     "metadata": {
      "needs_background": "light"
     },
     "output_type": "display_data"
    }
   ],
   "source": [
    "sns.boxplot(x=\"Functional\", y=\"SalePrice\", data=df)"
   ]
  },
  {
   "cell_type": "code",
   "execution_count": 732,
   "id": "9653bafe-2ebc-4847-818b-62c2670aacff",
   "metadata": {},
   "outputs": [],
   "source": [
    "dictionary = {\"Functional\":{\"Sev\":1,\"Maj2\":2,\"Maj1\":3, \"Mod\":4, \"Min1\":5, \"Min2\":6, \"Typ\":7}}\n",
    "df_obj = df_obj.replace(dictionary)"
   ]
  },
  {
   "cell_type": "markdown",
   "id": "08521487-006d-436c-8fa1-3880b78a1c49",
   "metadata": {
    "jp-MarkdownHeadingCollapsed": true,
    "tags": []
   },
   "source": [
    "#### FireplaceQu"
   ]
  },
  {
   "cell_type": "code",
   "execution_count": 733,
   "id": "5f3b3158-7b3c-4fbd-a1bb-51da4d3a5734",
   "metadata": {},
   "outputs": [
    {
     "data": {
      "text/plain": [
       "Gd    380\n",
       "TA    313\n",
       "Fa     33\n",
       "Ex     24\n",
       "Po     20\n",
       "Name: FireplaceQu, dtype: int64"
      ]
     },
     "execution_count": 733,
     "metadata": {},
     "output_type": "execute_result"
    }
   ],
   "source": [
    "df_obj.FireplaceQu.value_counts()"
   ]
  },
  {
   "cell_type": "code",
   "execution_count": 734,
   "id": "52af6feb-8e99-4b67-b6e0-97602c70a937",
   "metadata": {},
   "outputs": [
    {
     "data": {
      "text/plain": [
       "690"
      ]
     },
     "execution_count": 734,
     "metadata": {},
     "output_type": "execute_result"
    }
   ],
   "source": [
    "df_obj.FireplaceQu.isnull().sum()"
   ]
  },
  {
   "cell_type": "code",
   "execution_count": 735,
   "id": "2c4ab2e1-48ad-43d4-9416-0301bc5ca66d",
   "metadata": {},
   "outputs": [],
   "source": [
    "df_obj.FireplaceQu.fillna(0, inplace=True)\n",
    "dictionary = {\"FireplaceQu\":{\"Po\":1,\"Fa\":2,\"TA\":3, \"Gd\":4, \"Ex\":5}}\n",
    "df_obj = df_obj.replace(dictionary)"
   ]
  },
  {
   "cell_type": "code",
   "execution_count": 736,
   "id": "c6cd0590-800e-4b83-9c7d-4dc27bd8498b",
   "metadata": {},
   "outputs": [
    {
     "name": "stdout",
     "output_type": "stream",
     "text": [
      "<class 'pandas.core.frame.DataFrame'>\n",
      "RangeIndex: 1460 entries, 0 to 1459\n",
      "Data columns (total 43 columns):\n",
      " #   Column         Non-Null Count  Dtype \n",
      "---  ------         --------------  ----- \n",
      " 0   MSZoning       1460 non-null   int64 \n",
      " 1   Street         1460 non-null   int64 \n",
      " 2   Alley          1460 non-null   int64 \n",
      " 3   LotShape       1460 non-null   int64 \n",
      " 4   LandContour    1460 non-null   int64 \n",
      " 5   Utilities      1460 non-null   int64 \n",
      " 6   LotConfig      1460 non-null   int64 \n",
      " 7   LandSlope      1460 non-null   int64 \n",
      " 8   Neighborhood   1460 non-null   int64 \n",
      " 9   Condition1     1460 non-null   int64 \n",
      " 10  Condition2     1460 non-null   int64 \n",
      " 11  BldgType       1460 non-null   object\n",
      " 12  HouseStyle     1460 non-null   int64 \n",
      " 13  RoofStyle      1460 non-null   object\n",
      " 14  RoofMatl       1460 non-null   int64 \n",
      " 15  Exterior1st    1460 non-null   object\n",
      " 16  Exterior2nd    1460 non-null   object\n",
      " 17  MasVnrType     1460 non-null   int64 \n",
      " 18  ExterQual      1460 non-null   int64 \n",
      " 19  ExterCond      1460 non-null   int64 \n",
      " 20  Foundation     1460 non-null   int64 \n",
      " 21  BsmtQual       1460 non-null   int64 \n",
      " 22  BsmtCond       1460 non-null   int64 \n",
      " 23  BsmtExposure   1460 non-null   int64 \n",
      " 24  BsmtFinType1   1460 non-null   int64 \n",
      " 25  BsmtFinType2   1460 non-null   int64 \n",
      " 26  Heating        1460 non-null   int64 \n",
      " 27  HeatingQC      1460 non-null   int64 \n",
      " 28  CentralAir     1460 non-null   int64 \n",
      " 29  Electrical     1460 non-null   int64 \n",
      " 30  KitchenQual    1460 non-null   int64 \n",
      " 31  Functional     1460 non-null   int64 \n",
      " 32  FireplaceQu    1460 non-null   int64 \n",
      " 33  GarageType     1379 non-null   object\n",
      " 34  GarageFinish   1379 non-null   object\n",
      " 35  GarageQual     1379 non-null   object\n",
      " 36  GarageCond     1379 non-null   object\n",
      " 37  PavedDrive     1460 non-null   object\n",
      " 38  PoolQC         7 non-null      object\n",
      " 39  Fence          281 non-null    object\n",
      " 40  MiscFeature    54 non-null     object\n",
      " 41  SaleType       1460 non-null   object\n",
      " 42  SaleCondition  1460 non-null   object\n",
      "dtypes: int64(29), object(14)\n",
      "memory usage: 490.6+ KB\n"
     ]
    }
   ],
   "source": [
    "df_obj.info()"
   ]
  },
  {
   "cell_type": "markdown",
   "id": "6789e8e2-40ea-4077-b1e9-331864f85dc3",
   "metadata": {
    "tags": []
   },
   "source": [
    "#### GarageType & GarageFinish & GarageQual & GarageCond"
   ]
  },
  {
   "cell_type": "code",
   "execution_count": 737,
   "id": "4e13ae82-6a28-440a-a84c-9022a5a2e1e7",
   "metadata": {},
   "outputs": [
    {
     "data": {
      "text/plain": [
       "Attchd     870\n",
       "Detchd     387\n",
       "BuiltIn     88\n",
       "Basment     19\n",
       "CarPort      9\n",
       "2Types       6\n",
       "Name: GarageType, dtype: int64"
      ]
     },
     "execution_count": 737,
     "metadata": {},
     "output_type": "execute_result"
    }
   ],
   "source": [
    "df_obj.GarageType.value_counts()"
   ]
  },
  {
   "cell_type": "code",
   "execution_count": 738,
   "id": "c5c39159-7ca9-4bd6-aaaf-6af17adf7f96",
   "metadata": {},
   "outputs": [
    {
     "data": {
      "text/plain": [
       "<AxesSubplot:xlabel='GarageType', ylabel='SalePrice'>"
      ]
     },
     "execution_count": 738,
     "metadata": {},
     "output_type": "execute_result"
    },
    {
     "data": {
      "image/png": "[encoded data removed]",
      "text/plain": [
       "<Figure size 432x288 with 1 Axes>"
      ]
     },
     "metadata": {
      "needs_background": "light"
     },
     "output_type": "display_data"
    }
   ],
   "source": [
    "sns.boxplot(x=\"GarageType\", y=\"SalePrice\", data=df)"
   ]
  },
  {
   "cell_type": "code",
   "execution_count": 739,
   "id": "86758031-dda2-42b7-b79c-61987b58ed57",
   "metadata": {},
   "outputs": [
    {
     "data": {
      "text/html": [
       "<div>\n",
       "<style scoped>\n",
       "    .dataframe tbody tr th:only-of-type {\n",
       "        vertical-align: middle;\n",
       "    }\n",
       "\n",
       "    .dataframe tbody tr th {\n",
       "        vertical-align: top;\n",
       "    }\n",
       "\n",
       "    .dataframe thead th {\n",
       "        text-align: right;\n",
       "    }\n",
       "</style>\n",
       "<table border=\"1\" class=\"dataframe\">\n",
       "  <thead>\n",
       "    <tr style=\"text-align: right;\">\n",
       "      <th></th>\n",
       "      <th>amin</th>\n",
       "      <th>mean</th>\n",
       "      <th>std</th>\n",
       "      <th>amax</th>\n",
       "    </tr>\n",
       "    <tr>\n",
       "      <th>GarageType</th>\n",
       "      <th></th>\n",
       "      <th></th>\n",
       "      <th></th>\n",
       "      <th></th>\n",
       "    </tr>\n",
       "  </thead>\n",
       "  <tbody>\n",
       "    <tr>\n",
       "      <th>BuiltIn</th>\n",
       "      <td>91000</td>\n",
       "      <td>254751.738636</td>\n",
       "      <td>102230.854394</td>\n",
       "      <td>582933</td>\n",
       "    </tr>\n",
       "    <tr>\n",
       "      <th>Attchd</th>\n",
       "      <td>60000</td>\n",
       "      <td>202892.656322</td>\n",
       "      <td>77146.621778</td>\n",
       "      <td>755000</td>\n",
       "    </tr>\n",
       "    <tr>\n",
       "      <th>Basment</th>\n",
       "      <td>55993</td>\n",
       "      <td>160570.684211</td>\n",
       "      <td>63967.283574</td>\n",
       "      <td>359100</td>\n",
       "    </tr>\n",
       "    <tr>\n",
       "      <th>2Types</th>\n",
       "      <td>87000</td>\n",
       "      <td>151283.333333</td>\n",
       "      <td>34917.068415</td>\n",
       "      <td>186700</td>\n",
       "    </tr>\n",
       "    <tr>\n",
       "      <th>Detchd</th>\n",
       "      <td>35311</td>\n",
       "      <td>134091.162791</td>\n",
       "      <td>41391.549953</td>\n",
       "      <td>475000</td>\n",
       "    </tr>\n",
       "    <tr>\n",
       "      <th>CarPort</th>\n",
       "      <td>82000</td>\n",
       "      <td>109962.111111</td>\n",
       "      <td>24638.183681</td>\n",
       "      <td>164900</td>\n",
       "    </tr>\n",
       "  </tbody>\n",
       "</table>\n",
       "</div>"
      ],
      "text/plain": [
       "             amin           mean            std    amax\n",
       "GarageType                                             \n",
       "BuiltIn     91000  254751.738636  102230.854394  582933\n",
       "Attchd      60000  202892.656322   77146.621778  755000\n",
       "Basment     55993  160570.684211   63967.283574  359100\n",
       "2Types      87000  151283.333333   34917.068415  186700\n",
       "Detchd      35311  134091.162791   41391.549953  475000\n",
       "CarPort     82000  109962.111111   24638.183681  164900"
      ]
     },
     "execution_count": 739,
     "metadata": {},
     "output_type": "execute_result"
    }
   ],
   "source": [
    "grouped = df.groupby(\"GarageType\")\n",
    "grouped['SalePrice'].agg([np.min, np.mean, np.std, np.max]).sort_values(by=\"mean\",ascending=False)"
   ]
  },
  {
   "cell_type": "code",
   "execution_count": 740,
   "id": "83f2b3d1-a806-4073-b56f-11dcfe8d5d03",
   "metadata": {},
   "outputs": [],
   "source": [
    "df_obj.GarageType.fillna(0, inplace=True)\n",
    "dictionary = {\"GarageType\":{\"CarPort\":1,\"Detchd\":2,\"2Types\":3, \"Basment\":4, \"Attchd\":5, \"BuiltIn\":6}}\n",
    "df_obj = df_obj.replace(dictionary)"
   ]
  },
  {
   "cell_type": "code",
   "execution_count": 741,
   "id": "bb0bc3b6-5de6-4b37-b720-7ba928b5227a",
   "metadata": {},
   "outputs": [
    {
     "data": {
      "text/plain": [
       "Unf    605\n",
       "RFn    422\n",
       "Fin    352\n",
       "Name: GarageFinish, dtype: int64"
      ]
     },
     "execution_count": 741,
     "metadata": {},
     "output_type": "execute_result"
    }
   ],
   "source": [
    "df_obj.GarageFinish.value_counts()"
   ]
  },
  {
   "cell_type": "code",
   "execution_count": 742,
   "id": "0e99aebe-191a-4ade-8229-a9aba2363c66",
   "metadata": {},
   "outputs": [],
   "source": [
    "df_obj.GarageFinish.fillna(0, inplace=True)\n",
    "dictionary = {\"GarageFinish\":{\"Unf\":1,\"RFn\":2,\"Fin\":3}}\n",
    "df_obj = df_obj.replace(dictionary)"
   ]
  },
  {
   "cell_type": "code",
   "execution_count": 743,
   "id": "9288ad12-43d6-4678-9737-a602aa9a1ef0",
   "metadata": {},
   "outputs": [
    {
     "data": {
      "text/plain": [
       "TA    1311\n",
       "Fa      48\n",
       "Gd      14\n",
       "Po       3\n",
       "Ex       3\n",
       "Name: GarageQual, dtype: int64"
      ]
     },
     "execution_count": 743,
     "metadata": {},
     "output_type": "execute_result"
    }
   ],
   "source": [
    "df_obj.GarageQual.value_counts()"
   ]
  },
  {
   "cell_type": "code",
   "execution_count": 744,
   "id": "fef41f39-9291-47b0-b623-7bd982ae2f6f",
   "metadata": {},
   "outputs": [],
   "source": [
    "df_obj.GarageQual.fillna(0, inplace=True)\n",
    "dictionary = {\"GarageQual\":{\"Po\":1,\"Fa\":2,\"TA\":3, \"Gd\":4, \"Ex\":5}}\n",
    "df_obj = df_obj.replace(dictionary)"
   ]
  },
  {
   "cell_type": "code",
   "execution_count": 745,
   "id": "18ddae5e-353e-467a-958b-20cd3d73edbc",
   "metadata": {},
   "outputs": [],
   "source": [
    "df_obj.GarageCond.fillna(0, inplace=True)\n",
    "dictionary = {\"GarageCond\":{\"Po\":1,\"Fa\":2,\"TA\":3, \"Gd\":4, \"Ex\":5}}\n",
    "df_obj = df_obj.replace(dictionary)"
   ]
  },
  {
   "cell_type": "markdown",
   "id": "96a42395-79f0-4ba9-ac36-e0435a919c1f",
   "metadata": {
    "jp-MarkdownHeadingCollapsed": true,
    "tags": []
   },
   "source": [
    "#### PavedDrive"
   ]
  },
  {
   "cell_type": "code",
   "execution_count": 746,
   "id": "c7617551-95e5-4317-9a8f-15fecb331665",
   "metadata": {},
   "outputs": [
    {
     "data": {
      "text/plain": [
       "0"
      ]
     },
     "execution_count": 746,
     "metadata": {},
     "output_type": "execute_result"
    }
   ],
   "source": [
    "df_obj.PavedDrive.isnull().sum()"
   ]
  },
  {
   "cell_type": "code",
   "execution_count": 747,
   "id": "5e722991-b7cf-4077-af64-98038ec2e504",
   "metadata": {},
   "outputs": [
    {
     "data": {
      "text/plain": [
       "Y    1340\n",
       "N      90\n",
       "P      30\n",
       "Name: PavedDrive, dtype: int64"
      ]
     },
     "execution_count": 747,
     "metadata": {},
     "output_type": "execute_result"
    }
   ],
   "source": [
    "df_obj.PavedDrive.value_counts()"
   ]
  },
  {
   "cell_type": "code",
   "execution_count": 748,
   "id": "e40c4e6b-581b-48b4-9c45-cb5bbd9d8b9d",
   "metadata": {},
   "outputs": [
    {
     "data": {
      "text/plain": [
       "<AxesSubplot:xlabel='PavedDrive', ylabel='SalePrice'>"
      ]
     },
     "execution_count": 748,
     "metadata": {},
     "output_type": "execute_result"
    },
    {
     "data": {
      "image/png": "[encoded data removed]",
      "text/plain": [
       "<Figure size 432x288 with 1 Axes>"
      ]
     },
     "metadata": {
      "needs_background": "light"
     },
     "output_type": "display_data"
    }
   ],
   "source": [
    "sns.boxplot(x=\"PavedDrive\", y=\"SalePrice\", data=df)"
   ]
  },
  {
   "cell_type": "code",
   "execution_count": 749,
   "id": "61393cf4-b223-4350-945f-1ab0c125c239",
   "metadata": {},
   "outputs": [],
   "source": [
    "dictionary = {\"PavedDrive\":{\"N\":1,\"P\":2,\"Y\":3}}\n",
    "df_obj = df_obj.replace(dictionary)"
   ]
  },
  {
   "cell_type": "markdown",
   "id": "676f29f1-9637-492d-81ae-ec1da14e5bfb",
   "metadata": {
    "tags": []
   },
   "source": [
    "#### PoolQC"
   ]
  },
  {
   "cell_type": "code",
   "execution_count": 750,
   "id": "6f725ad5-7a94-46f9-80c7-cf8128ced173",
   "metadata": {},
   "outputs": [
    {
     "data": {
      "text/plain": [
       "Gd    3\n",
       "Fa    2\n",
       "Ex    2\n",
       "Name: PoolQC, dtype: int64"
      ]
     },
     "execution_count": 750,
     "metadata": {},
     "output_type": "execute_result"
    }
   ],
   "source": [
    "df_obj.PoolQC.value_counts()"
   ]
  },
  {
   "cell_type": "code",
   "execution_count": 751,
   "id": "a8b3a597-91be-4b65-b540-a59320fccdcf",
   "metadata": {},
   "outputs": [],
   "source": [
    "df_obj.PoolQC.fillna(0, inplace=True)\n",
    "dictionary = {\"PoolQC\":{\"Fa\":1,\"TA\":2, \"Gd\":3, \"Ex\":4}}\n",
    "df_obj = df_obj.replace(dictionary)"
   ]
  },
  {
   "cell_type": "markdown",
   "id": "0d7f39d0-3270-4c4c-bb57-0a9cc6d58db2",
   "metadata": {
    "tags": []
   },
   "source": [
    "#### Fence"
   ]
  },
  {
   "cell_type": "code",
   "execution_count": 752,
   "id": "d86baf40-628d-4c0d-8528-5d01f2bea4f4",
   "metadata": {},
   "outputs": [
    {
     "data": {
      "text/plain": [
       "MnPrv    157\n",
       "GdPrv     59\n",
       "GdWo      54\n",
       "MnWw      11\n",
       "Name: Fence, dtype: int64"
      ]
     },
     "execution_count": 752,
     "metadata": {},
     "output_type": "execute_result"
    }
   ],
   "source": [
    "df_obj.Fence.value_counts()"
   ]
  },
  {
   "cell_type": "code",
   "execution_count": 753,
   "id": "12d18e5b-bba7-43ba-b258-6a3add3df5e6",
   "metadata": {},
   "outputs": [
    {
     "data": {
      "text/plain": [
       "<AxesSubplot:xlabel='Fence', ylabel='SalePrice'>"
      ]
     },
     "execution_count": 753,
     "metadata": {},
     "output_type": "execute_result"
    },
    {
     "data": {
      "image/png": "[encoded data removed]",
      "text/plain": [
       "<Figure size 432x288 with 1 Axes>"
      ]
     },
     "metadata": {
      "needs_background": "light"
     },
     "output_type": "display_data"
    }
   ],
   "source": [
    "sns.boxplot(x=\"Fence\", y=\"SalePrice\", data=df)"
   ]
  },
  {
   "cell_type": "code",
   "execution_count": 754,
   "id": "466a73a0-4d76-4d5a-b822-355c5125b859",
   "metadata": {},
   "outputs": [
    {
     "data": {
      "text/html": [
       "<div>\n",
       "<style scoped>\n",
       "    .dataframe tbody tr th:only-of-type {\n",
       "        vertical-align: middle;\n",
       "    }\n",
       "\n",
       "    .dataframe tbody tr th {\n",
       "        vertical-align: top;\n",
       "    }\n",
       "\n",
       "    .dataframe thead th {\n",
       "        text-align: right;\n",
       "    }\n",
       "</style>\n",
       "<table border=\"1\" class=\"dataframe\">\n",
       "  <thead>\n",
       "    <tr style=\"text-align: right;\">\n",
       "      <th></th>\n",
       "      <th>amin</th>\n",
       "      <th>mean</th>\n",
       "      <th>std</th>\n",
       "      <th>amax</th>\n",
       "    </tr>\n",
       "    <tr>\n",
       "      <th>Fence</th>\n",
       "      <th></th>\n",
       "      <th></th>\n",
       "      <th></th>\n",
       "      <th></th>\n",
       "    </tr>\n",
       "  </thead>\n",
       "  <tbody>\n",
       "    <tr>\n",
       "      <th>GdPrv</th>\n",
       "      <td>108000</td>\n",
       "      <td>178927.457627</td>\n",
       "      <td>56757.237563</td>\n",
       "      <td>475000</td>\n",
       "    </tr>\n",
       "    <tr>\n",
       "      <th>MnPrv</th>\n",
       "      <td>40000</td>\n",
       "      <td>148751.089172</td>\n",
       "      <td>66096.069463</td>\n",
       "      <td>745000</td>\n",
       "    </tr>\n",
       "    <tr>\n",
       "      <th>GdWo</th>\n",
       "      <td>34900</td>\n",
       "      <td>140379.314815</td>\n",
       "      <td>53592.585059</td>\n",
       "      <td>381000</td>\n",
       "    </tr>\n",
       "    <tr>\n",
       "      <th>MnWw</th>\n",
       "      <td>110000</td>\n",
       "      <td>134286.363636</td>\n",
       "      <td>21781.805376</td>\n",
       "      <td>187000</td>\n",
       "    </tr>\n",
       "  </tbody>\n",
       "</table>\n",
       "</div>"
      ],
      "text/plain": [
       "         amin           mean           std    amax\n",
       "Fence                                             \n",
       "GdPrv  108000  178927.457627  56757.237563  475000\n",
       "MnPrv   40000  148751.089172  66096.069463  745000\n",
       "GdWo    34900  140379.314815  53592.585059  381000\n",
       "MnWw   110000  134286.363636  21781.805376  187000"
      ]
     },
     "execution_count": 754,
     "metadata": {},
     "output_type": "execute_result"
    }
   ],
   "source": [
    "grouped = df.groupby(\"Fence\")\n",
    "grouped['SalePrice'].agg([np.min, np.mean, np.std, np.max]).sort_values(by=\"mean\",ascending=False)"
   ]
  },
  {
   "cell_type": "code",
   "execution_count": 755,
   "id": "36dc5d38-f7ff-4a55-9134-ead3b0e2c437",
   "metadata": {},
   "outputs": [],
   "source": [
    "df_obj.Fence.fillna(0, inplace=True)\n",
    "dictionary = {\"Fence\":{\"MnWw\":1,\"GdWo\":2, \"MnPrv\":3, \"GdPrv\":4}}\n",
    "df_obj = df_obj.replace(dictionary)"
   ]
  },
  {
   "cell_type": "markdown",
   "id": "c8b3af8a-6d95-4815-b580-9d40d5a6800d",
   "metadata": {
    "tags": []
   },
   "source": [
    "#### MiscFeature"
   ]
  },
  {
   "cell_type": "code",
   "execution_count": 756,
   "id": "a32ebec2-ac13-4996-86e3-d892094b6399",
   "metadata": {},
   "outputs": [
    {
     "data": {
      "text/plain": [
       "Shed    49\n",
       "Othr     2\n",
       "Gar2     2\n",
       "TenC     1\n",
       "Name: MiscFeature, dtype: int64"
      ]
     },
     "execution_count": 756,
     "metadata": {},
     "output_type": "execute_result"
    }
   ],
   "source": [
    "df_obj.MiscFeature.value_counts()"
   ]
  },
  {
   "cell_type": "code",
   "execution_count": 757,
   "id": "a7a6e14d-5fdd-4799-a868-ad9ff34589e2",
   "metadata": {},
   "outputs": [
    {
     "data": {
      "text/plain": [
       "<AxesSubplot:xlabel='MiscFeature', ylabel='SalePrice'>"
      ]
     },
     "execution_count": 757,
     "metadata": {},
     "output_type": "execute_result"
    },
    {
     "data": {
      "image/png": "[encoded data removed]",
      "text/plain": [
       "<Figure size 432x288 with 1 Axes>"
      ]
     },
     "metadata": {
      "needs_background": "light"
     },
     "output_type": "display_data"
    }
   ],
   "source": [
    "sns.boxplot(x=\"MiscFeature\", y=\"SalePrice\", data=df)"
   ]
  },
  {
   "cell_type": "code",
   "execution_count": 758,
   "id": "1ab5aad9-a672-4daa-889f-bf92ce0ec760",
   "metadata": {},
   "outputs": [],
   "source": [
    "df_obj.MiscFeature.fillna(0, inplace=True)\n",
    "dictionary = {\"MiscFeature\":{\"Othr\":1,\"Shed\":2, \"Gar2\":3, \"TenC\":4}}\n",
    "df_obj = df_obj.replace(dictionary)"
   ]
  },
  {
   "cell_type": "markdown",
   "id": "0e2ad824-1885-4777-b876-aec2249e8531",
   "metadata": {
    "tags": []
   },
   "source": [
    "#### Dummy Encoding for SaleType-SaleCondition-BldgType-Exterior1st-Exterior2nd-RoofStyle"
   ]
  },
  {
   "cell_type": "code",
   "execution_count": 759,
   "id": "ecbdef7b-979f-4684-911b-13a12aa249ed",
   "metadata": {},
   "outputs": [
    {
     "data": {
      "text/plain": [
       "WD       1267\n",
       "New       122\n",
       "COD        43\n",
       "ConLD       9\n",
       "ConLw       5\n",
       "ConLI       5\n",
       "CWD         4\n",
       "Oth         3\n",
       "Con         2\n",
       "Name: SaleType, dtype: int64"
      ]
     },
     "execution_count": 759,
     "metadata": {},
     "output_type": "execute_result"
    }
   ],
   "source": [
    "df_obj.SaleType.value_counts()"
   ]
  },
  {
   "cell_type": "code",
   "execution_count": 760,
   "id": "34535192-caae-4930-b25a-71231747093d",
   "metadata": {},
   "outputs": [
    {
     "data": {
      "text/plain": [
       "0"
      ]
     },
     "execution_count": 760,
     "metadata": {},
     "output_type": "execute_result"
    }
   ],
   "source": [
    "df_obj.SaleType.isnull().sum()"
   ]
  },
  {
   "cell_type": "code",
   "execution_count": 761,
   "id": "9434050a-6f41-4376-8fb7-c2a3fde85d19",
   "metadata": {},
   "outputs": [
    {
     "data": {
      "text/plain": [
       "<AxesSubplot:xlabel='SaleType', ylabel='SalePrice'>"
      ]
     },
     "execution_count": 761,
     "metadata": {},
     "output_type": "execute_result"
    },
    {
     "data": {
      "image/png": "[encoded data removed]",
      "text/plain": [
       "<Figure size 432x288 with 1 Axes>"
      ]
     },
     "metadata": {
      "needs_background": "light"
     },
     "output_type": "display_data"
    }
   ],
   "source": [
    "sns.boxplot(x=\"SaleType\", y=\"SalePrice\", hue=\"SaleCondition\", data=df)"
   ]
  },
  {
   "cell_type": "code",
   "execution_count": 762,
   "id": "ec7c1a32-02f6-4943-9b0f-ab4565b6af12",
   "metadata": {
    "tags": []
   },
   "outputs": [
    {
     "name": "stdout",
     "output_type": "stream",
     "text": [
      "<class 'pandas.core.frame.DataFrame'>\n",
      "RangeIndex: 1460 entries, 0 to 1459\n",
      "Data columns (total 43 columns):\n",
      " #   Column         Non-Null Count  Dtype \n",
      "---  ------         --------------  ----- \n",
      " 0   MSZoning       1460 non-null   int64 \n",
      " 1   Street         1460 non-null   int64 \n",
      " 2   Alley          1460 non-null   int64 \n",
      " 3   LotShape       1460 non-null   int64 \n",
      " 4   LandContour    1460 non-null   int64 \n",
      " 5   Utilities      1460 non-null   int64 \n",
      " 6   LotConfig      1460 non-null   int64 \n",
      " 7   LandSlope      1460 non-null   int64 \n",
      " 8   Neighborhood   1460 non-null   int64 \n",
      " 9   Condition1     1460 non-null   int64 \n",
      " 10  Condition2     1460 non-null   int64 \n",
      " 11  BldgType       1460 non-null   object\n",
      " 12  HouseStyle     1460 non-null   int64 \n",
      " 13  RoofStyle      1460 non-null   object\n",
      " 14  RoofMatl       1460 non-null   int64 \n",
      " 15  Exterior1st    1460 non-null   object\n",
      " 16  Exterior2nd    1460 non-null   object\n",
      " 17  MasVnrType     1460 non-null   int64 \n",
      " 18  ExterQual      1460 non-null   int64 \n",
      " 19  ExterCond      1460 non-null   int64 \n",
      " 20  Foundation     1460 non-null   int64 \n",
      " 21  BsmtQual       1460 non-null   int64 \n",
      " 22  BsmtCond       1460 non-null   int64 \n",
      " 23  BsmtExposure   1460 non-null   int64 \n",
      " 24  BsmtFinType1   1460 non-null   int64 \n",
      " 25  BsmtFinType2   1460 non-null   int64 \n",
      " 26  Heating        1460 non-null   int64 \n",
      " 27  HeatingQC      1460 non-null   int64 \n",
      " 28  CentralAir     1460 non-null   int64 \n",
      " 29  Electrical     1460 non-null   int64 \n",
      " 30  KitchenQual    1460 non-null   int64 \n",
      " 31  Functional     1460 non-null   int64 \n",
      " 32  FireplaceQu    1460 non-null   int64 \n",
      " 33  GarageType     1460 non-null   int64 \n",
      " 34  GarageFinish   1460 non-null   int64 \n",
      " 35  GarageQual     1460 non-null   int64 \n",
      " 36  GarageCond     1460 non-null   int64 \n",
      " 37  PavedDrive     1460 non-null   int64 \n",
      " 38  PoolQC         1460 non-null   int64 \n",
      " 39  Fence          1460 non-null   int64 \n",
      " 40  MiscFeature    1460 non-null   int64 \n",
      " 41  SaleType       1460 non-null   object\n",
      " 42  SaleCondition  1460 non-null   object\n",
      "dtypes: int64(37), object(6)\n",
      "memory usage: 490.6+ KB\n"
     ]
    }
   ],
   "source": [
    "df_obj.info()"
   ]
  },
  {
   "cell_type": "code",
   "execution_count": 763,
   "id": "84c6c4a1-2f25-4b44-b9ea-5e0e98de190b",
   "metadata": {},
   "outputs": [],
   "source": [
    "from sklearn.preprocessing import OneHotEncoder"
   ]
  },
  {
   "cell_type": "code",
   "execution_count": 764,
   "id": "70496c55-49de-4073-8904-66366ebf5c27",
   "metadata": {},
   "outputs": [],
   "source": [
    "new_df2 = pd.DataFrame()"
   ]
  },
  {
   "cell_type": "code",
   "execution_count": 765,
   "id": "b3a7d7eb-f6e4-434b-9488-f8149a45c25f",
   "metadata": {},
   "outputs": [],
   "source": [
    "new_df = pd.read_csv(\"train.csv\", usecols=['BldgType','Exterior1st','Exterior2nd'])"
   ]
  },
  {
   "cell_type": "code",
   "execution_count": 766,
   "id": "1c54dfe0-5a21-4f1f-971a-02b1a38493eb",
   "metadata": {},
   "outputs": [],
   "source": [
    "top_10 = [x for x in new_df.BldgType.value_counts().sort_values(ascending=False).head(10).index]\n",
    "for label in top_10:\n",
    "    new_df2['BldgType_'+label] = np.where(new_df['BldgType']==label,1,0)"
   ]
  },
  {
   "cell_type": "code",
   "execution_count": 767,
   "id": "8f220c40-6b3b-4e11-ae5e-2a4c5dc64d77",
   "metadata": {},
   "outputs": [
    {
     "data": {
      "text/html": [
       "<div>\n",
       "<style scoped>\n",
       "    .dataframe tbody tr th:only-of-type {\n",
       "        vertical-align: middle;\n",
       "    }\n",
       "\n",
       "    .dataframe tbody tr th {\n",
       "        vertical-align: top;\n",
       "    }\n",
       "\n",
       "    .dataframe thead th {\n",
       "        text-align: right;\n",
       "    }\n",
       "</style>\n",
       "<table border=\"1\" class=\"dataframe\">\n",
       "  <thead>\n",
       "    <tr style=\"text-align: right;\">\n",
       "      <th></th>\n",
       "      <th>BldgType_1Fam</th>\n",
       "      <th>BldgType_TwnhsE</th>\n",
       "      <th>BldgType_Duplex</th>\n",
       "      <th>BldgType_Twnhs</th>\n",
       "      <th>BldgType_2fmCon</th>\n",
       "    </tr>\n",
       "  </thead>\n",
       "  <tbody>\n",
       "    <tr>\n",
       "      <th>0</th>\n",
       "      <td>1</td>\n",
       "      <td>0</td>\n",
       "      <td>0</td>\n",
       "      <td>0</td>\n",
       "      <td>0</td>\n",
       "    </tr>\n",
       "    <tr>\n",
       "      <th>1</th>\n",
       "      <td>1</td>\n",
       "      <td>0</td>\n",
       "      <td>0</td>\n",
       "      <td>0</td>\n",
       "      <td>0</td>\n",
       "    </tr>\n",
       "    <tr>\n",
       "      <th>2</th>\n",
       "      <td>1</td>\n",
       "      <td>0</td>\n",
       "      <td>0</td>\n",
       "      <td>0</td>\n",
       "      <td>0</td>\n",
       "    </tr>\n",
       "    <tr>\n",
       "      <th>3</th>\n",
       "      <td>1</td>\n",
       "      <td>0</td>\n",
       "      <td>0</td>\n",
       "      <td>0</td>\n",
       "      <td>0</td>\n",
       "    </tr>\n",
       "    <tr>\n",
       "      <th>4</th>\n",
       "      <td>1</td>\n",
       "      <td>0</td>\n",
       "      <td>0</td>\n",
       "      <td>0</td>\n",
       "      <td>0</td>\n",
       "    </tr>\n",
       "    <tr>\n",
       "      <th>...</th>\n",
       "      <td>...</td>\n",
       "      <td>...</td>\n",
       "      <td>...</td>\n",
       "      <td>...</td>\n",
       "      <td>...</td>\n",
       "    </tr>\n",
       "    <tr>\n",
       "      <th>1455</th>\n",
       "      <td>1</td>\n",
       "      <td>0</td>\n",
       "      <td>0</td>\n",
       "      <td>0</td>\n",
       "      <td>0</td>\n",
       "    </tr>\n",
       "    <tr>\n",
       "      <th>1456</th>\n",
       "      <td>1</td>\n",
       "      <td>0</td>\n",
       "      <td>0</td>\n",
       "      <td>0</td>\n",
       "      <td>0</td>\n",
       "    </tr>\n",
       "    <tr>\n",
       "      <th>1457</th>\n",
       "      <td>1</td>\n",
       "      <td>0</td>\n",
       "      <td>0</td>\n",
       "      <td>0</td>\n",
       "      <td>0</td>\n",
       "    </tr>\n",
       "    <tr>\n",
       "      <th>1458</th>\n",
       "      <td>1</td>\n",
       "      <td>0</td>\n",
       "      <td>0</td>\n",
       "      <td>0</td>\n",
       "      <td>0</td>\n",
       "    </tr>\n",
       "    <tr>\n",
       "      <th>1459</th>\n",
       "      <td>1</td>\n",
       "      <td>0</td>\n",
       "      <td>0</td>\n",
       "      <td>0</td>\n",
       "      <td>0</td>\n",
       "    </tr>\n",
       "  </tbody>\n",
       "</table>\n",
       "<p>1460 rows × 5 columns</p>\n",
       "</div>"
      ],
      "text/plain": [
       "      BldgType_1Fam  BldgType_TwnhsE  BldgType_Duplex  BldgType_Twnhs  \\\n",
       "0                 1                0                0               0   \n",
       "1                 1                0                0               0   \n",
       "2                 1                0                0               0   \n",
       "3                 1                0                0               0   \n",
       "4                 1                0                0               0   \n",
       "...             ...              ...              ...             ...   \n",
       "1455              1                0                0               0   \n",
       "1456              1                0                0               0   \n",
       "1457              1                0                0               0   \n",
       "1458              1                0                0               0   \n",
       "1459              1                0                0               0   \n",
       "\n",
       "      BldgType_2fmCon  \n",
       "0                   0  \n",
       "1                   0  \n",
       "2                   0  \n",
       "3                   0  \n",
       "4                   0  \n",
       "...               ...  \n",
       "1455                0  \n",
       "1456                0  \n",
       "1457                0  \n",
       "1458                0  \n",
       "1459                0  \n",
       "\n",
       "[1460 rows x 5 columns]"
      ]
     },
     "execution_count": 767,
     "metadata": {},
     "output_type": "execute_result"
    }
   ],
   "source": [
    "new_df2"
   ]
  },
  {
   "cell_type": "code",
   "execution_count": 768,
   "id": "37174501-05a0-4c30-9dec-0bae500c371e",
   "metadata": {},
   "outputs": [],
   "source": [
    "top_10 = [x for x in new_df.Exterior1st.value_counts().sort_values(ascending=False).head(10).index]\n",
    "for label in top_10:\n",
    "    new_df2['Exterior1st_'+label] = np.where(new_df['Exterior1st']==label,1,0)"
   ]
  },
  {
   "cell_type": "code",
   "execution_count": 769,
   "id": "9397b901-54d5-483d-ae06-10e4f3afe699",
   "metadata": {},
   "outputs": [
    {
     "data": {
      "text/html": [
       "<div>\n",
       "<style scoped>\n",
       "    .dataframe tbody tr th:only-of-type {\n",
       "        vertical-align: middle;\n",
       "    }\n",
       "\n",
       "    .dataframe tbody tr th {\n",
       "        vertical-align: top;\n",
       "    }\n",
       "\n",
       "    .dataframe thead th {\n",
       "        text-align: right;\n",
       "    }\n",
       "</style>\n",
       "<table border=\"1\" class=\"dataframe\">\n",
       "  <thead>\n",
       "    <tr style=\"text-align: right;\">\n",
       "      <th></th>\n",
       "      <th>BldgType_1Fam</th>\n",
       "      <th>BldgType_TwnhsE</th>\n",
       "      <th>BldgType_Duplex</th>\n",
       "      <th>BldgType_Twnhs</th>\n",
       "      <th>BldgType_2fmCon</th>\n",
       "      <th>Exterior1st_VinylSd</th>\n",
       "      <th>Exterior1st_HdBoard</th>\n",
       "      <th>Exterior1st_MetalSd</th>\n",
       "      <th>Exterior1st_Wd Sdng</th>\n",
       "      <th>Exterior1st_Plywood</th>\n",
       "      <th>Exterior1st_CemntBd</th>\n",
       "      <th>Exterior1st_BrkFace</th>\n",
       "      <th>Exterior1st_WdShing</th>\n",
       "      <th>Exterior1st_Stucco</th>\n",
       "      <th>Exterior1st_AsbShng</th>\n",
       "    </tr>\n",
       "  </thead>\n",
       "  <tbody>\n",
       "    <tr>\n",
       "      <th>0</th>\n",
       "      <td>1</td>\n",
       "      <td>0</td>\n",
       "      <td>0</td>\n",
       "      <td>0</td>\n",
       "      <td>0</td>\n",
       "      <td>1</td>\n",
       "      <td>0</td>\n",
       "      <td>0</td>\n",
       "      <td>0</td>\n",
       "      <td>0</td>\n",
       "      <td>0</td>\n",
       "      <td>0</td>\n",
       "      <td>0</td>\n",
       "      <td>0</td>\n",
       "      <td>0</td>\n",
       "    </tr>\n",
       "    <tr>\n",
       "      <th>1</th>\n",
       "      <td>1</td>\n",
       "      <td>0</td>\n",
       "      <td>0</td>\n",
       "      <td>0</td>\n",
       "      <td>0</td>\n",
       "      <td>0</td>\n",
       "      <td>0</td>\n",
       "      <td>1</td>\n",
       "      <td>0</td>\n",
       "      <td>0</td>\n",
       "      <td>0</td>\n",
       "      <td>0</td>\n",
       "      <td>0</td>\n",
       "      <td>0</td>\n",
       "      <td>0</td>\n",
       "    </tr>\n",
       "    <tr>\n",
       "      <th>2</th>\n",
       "      <td>1</td>\n",
       "      <td>0</td>\n",
       "      <td>0</td>\n",
       "      <td>0</td>\n",
       "      <td>0</td>\n",
       "      <td>1</td>\n",
       "      <td>0</td>\n",
       "      <td>0</td>\n",
       "      <td>0</td>\n",
       "      <td>0</td>\n",
       "      <td>0</td>\n",
       "      <td>0</td>\n",
       "      <td>0</td>\n",
       "      <td>0</td>\n",
       "      <td>0</td>\n",
       "    </tr>\n",
       "    <tr>\n",
       "      <th>3</th>\n",
       "      <td>1</td>\n",
       "      <td>0</td>\n",
       "      <td>0</td>\n",
       "      <td>0</td>\n",
       "      <td>0</td>\n",
       "      <td>0</td>\n",
       "      <td>0</td>\n",
       "      <td>0</td>\n",
       "      <td>1</td>\n",
       "      <td>0</td>\n",
       "      <td>0</td>\n",
       "      <td>0</td>\n",
       "      <td>0</td>\n",
       "      <td>0</td>\n",
       "      <td>0</td>\n",
       "    </tr>\n",
       "    <tr>\n",
       "      <th>4</th>\n",
       "      <td>1</td>\n",
       "      <td>0</td>\n",
       "      <td>0</td>\n",
       "      <td>0</td>\n",
       "      <td>0</td>\n",
       "      <td>1</td>\n",
       "      <td>0</td>\n",
       "      <td>0</td>\n",
       "      <td>0</td>\n",
       "      <td>0</td>\n",
       "      <td>0</td>\n",
       "      <td>0</td>\n",
       "      <td>0</td>\n",
       "      <td>0</td>\n",
       "      <td>0</td>\n",
       "    </tr>\n",
       "    <tr>\n",
       "      <th>...</th>\n",
       "      <td>...</td>\n",
       "      <td>...</td>\n",
       "      <td>...</td>\n",
       "      <td>...</td>\n",
       "      <td>...</td>\n",
       "      <td>...</td>\n",
       "      <td>...</td>\n",
       "      <td>...</td>\n",
       "      <td>...</td>\n",
       "      <td>...</td>\n",
       "      <td>...</td>\n",
       "      <td>...</td>\n",
       "      <td>...</td>\n",
       "      <td>...</td>\n",
       "      <td>...</td>\n",
       "    </tr>\n",
       "    <tr>\n",
       "      <th>1455</th>\n",
       "      <td>1</td>\n",
       "      <td>0</td>\n",
       "      <td>0</td>\n",
       "      <td>0</td>\n",
       "      <td>0</td>\n",
       "      <td>1</td>\n",
       "      <td>0</td>\n",
       "      <td>0</td>\n",
       "      <td>0</td>\n",
       "      <td>0</td>\n",
       "      <td>0</td>\n",
       "      <td>0</td>\n",
       "      <td>0</td>\n",
       "      <td>0</td>\n",
       "      <td>0</td>\n",
       "    </tr>\n",
       "    <tr>\n",
       "      <th>1456</th>\n",
       "      <td>1</td>\n",
       "      <td>0</td>\n",
       "      <td>0</td>\n",
       "      <td>0</td>\n",
       "      <td>0</td>\n",
       "      <td>0</td>\n",
       "      <td>0</td>\n",
       "      <td>0</td>\n",
       "      <td>0</td>\n",
       "      <td>1</td>\n",
       "      <td>0</td>\n",
       "      <td>0</td>\n",
       "      <td>0</td>\n",
       "      <td>0</td>\n",
       "      <td>0</td>\n",
       "    </tr>\n",
       "    <tr>\n",
       "      <th>1457</th>\n",
       "      <td>1</td>\n",
       "      <td>0</td>\n",
       "      <td>0</td>\n",
       "      <td>0</td>\n",
       "      <td>0</td>\n",
       "      <td>0</td>\n",
       "      <td>0</td>\n",
       "      <td>0</td>\n",
       "      <td>0</td>\n",
       "      <td>0</td>\n",
       "      <td>1</td>\n",
       "      <td>0</td>\n",
       "      <td>0</td>\n",
       "      <td>0</td>\n",
       "      <td>0</td>\n",
       "    </tr>\n",
       "    <tr>\n",
       "      <th>1458</th>\n",
       "      <td>1</td>\n",
       "      <td>0</td>\n",
       "      <td>0</td>\n",
       "      <td>0</td>\n",
       "      <td>0</td>\n",
       "      <td>0</td>\n",
       "      <td>0</td>\n",
       "      <td>1</td>\n",
       "      <td>0</td>\n",
       "      <td>0</td>\n",
       "      <td>0</td>\n",
       "      <td>0</td>\n",
       "      <td>0</td>\n",
       "      <td>0</td>\n",
       "      <td>0</td>\n",
       "    </tr>\n",
       "    <tr>\n",
       "      <th>1459</th>\n",
       "      <td>1</td>\n",
       "      <td>0</td>\n",
       "      <td>0</td>\n",
       "      <td>0</td>\n",
       "      <td>0</td>\n",
       "      <td>0</td>\n",
       "      <td>1</td>\n",
       "      <td>0</td>\n",
       "      <td>0</td>\n",
       "      <td>0</td>\n",
       "      <td>0</td>\n",
       "      <td>0</td>\n",
       "      <td>0</td>\n",
       "      <td>0</td>\n",
       "      <td>0</td>\n",
       "    </tr>\n",
       "  </tbody>\n",
       "</table>\n",
       "<p>1460 rows × 15 columns</p>\n",
       "</div>"
      ],
      "text/plain": [
       "      BldgType_1Fam  BldgType_TwnhsE  BldgType_Duplex  BldgType_Twnhs  \\\n",
       "0                 1                0                0               0   \n",
       "1                 1                0                0               0   \n",
       "2                 1                0                0               0   \n",
       "3                 1                0                0               0   \n",
       "4                 1                0                0               0   \n",
       "...             ...              ...              ...             ...   \n",
       "1455              1                0                0               0   \n",
       "1456              1                0                0               0   \n",
       "1457              1                0                0               0   \n",
       "1458              1                0                0               0   \n",
       "1459              1                0                0               0   \n",
       "\n",
       "      BldgType_2fmCon  Exterior1st_VinylSd  Exterior1st_HdBoard  \\\n",
       "0                   0                    1                    0   \n",
       "1                   0                    0                    0   \n",
       "2                   0                    1                    0   \n",
       "3                   0                    0                    0   \n",
       "4                   0                    1                    0   \n",
       "...               ...                  ...                  ...   \n",
       "1455                0                    1                    0   \n",
       "1456                0                    0                    0   \n",
       "1457                0                    0                    0   \n",
       "1458                0                    0                    0   \n",
       "1459                0                    0                    1   \n",
       "\n",
       "      Exterior1st_MetalSd  Exterior1st_Wd Sdng  Exterior1st_Plywood  \\\n",
       "0                       0                    0                    0   \n",
       "1                       1                    0                    0   \n",
       "2                       0                    0                    0   \n",
       "3                       0                    1                    0   \n",
       "4                       0                    0                    0   \n",
       "...                   ...                  ...                  ...   \n",
       "1455                    0                    0                    0   \n",
       "1456                    0                    0                    1   \n",
       "1457                    0                    0                    0   \n",
       "1458                    1                    0                    0   \n",
       "1459                    0                    0                    0   \n",
       "\n",
       "      Exterior1st_CemntBd  Exterior1st_BrkFace  Exterior1st_WdShing  \\\n",
       "0                       0                    0                    0   \n",
       "1                       0                    0                    0   \n",
       "2                       0                    0                    0   \n",
       "3                       0                    0                    0   \n",
       "4                       0                    0                    0   \n",
       "...                   ...                  ...                  ...   \n",
       "1455                    0                    0                    0   \n",
       "1456                    0                    0                    0   \n",
       "1457                    1                    0                    0   \n",
       "1458                    0                    0                    0   \n",
       "1459                    0                    0                    0   \n",
       "\n",
       "      Exterior1st_Stucco  Exterior1st_AsbShng  \n",
       "0                      0                    0  \n",
       "1                      0                    0  \n",
       "2                      0                    0  \n",
       "3                      0                    0  \n",
       "4                      0                    0  \n",
       "...                  ...                  ...  \n",
       "1455                   0                    0  \n",
       "1456                   0                    0  \n",
       "1457                   0                    0  \n",
       "1458                   0                    0  \n",
       "1459                   0                    0  \n",
       "\n",
       "[1460 rows x 15 columns]"
      ]
     },
     "execution_count": 769,
     "metadata": {},
     "output_type": "execute_result"
    }
   ],
   "source": [
    "new_df2"
   ]
  },
  {
   "cell_type": "raw",
   "id": "c5cfe82a-895c-4434-abb6-1ce3a66f370f",
   "metadata": {},
   "source": [
    "one_hot_data = pd.get_dummies(new_df, columns = ['BldgType','Exterior1st','Exterior2nd'])\n",
    "one_hot_data"
   ]
  },
  {
   "cell_type": "code",
   "execution_count": 770,
   "id": "53669564-3ac8-418c-8eff-d85e8d7b9f7f",
   "metadata": {},
   "outputs": [],
   "source": [
    "top_10 = [x for x in new_df.Exterior2nd.value_counts().sort_values(ascending=False).head(10).index]\n",
    "for label in top_10:\n",
    "    new_df2['Exterior2nd_'+label] = np.where(new_df['Exterior2nd']==label,1,0)"
   ]
  },
  {
   "cell_type": "code",
   "execution_count": 771,
   "id": "813fed8d-4396-47d2-ac04-80032471c792",
   "metadata": {},
   "outputs": [
    {
     "data": {
      "text/html": [
       "<div>\n",
       "<style scoped>\n",
       "    .dataframe tbody tr th:only-of-type {\n",
       "        vertical-align: middle;\n",
       "    }\n",
       "\n",
       "    .dataframe tbody tr th {\n",
       "        vertical-align: top;\n",
       "    }\n",
       "\n",
       "    .dataframe thead th {\n",
       "        text-align: right;\n",
       "    }\n",
       "</style>\n",
       "<table border=\"1\" class=\"dataframe\">\n",
       "  <thead>\n",
       "    <tr style=\"text-align: right;\">\n",
       "      <th></th>\n",
       "      <th>BldgType_1Fam</th>\n",
       "      <th>BldgType_TwnhsE</th>\n",
       "      <th>BldgType_Duplex</th>\n",
       "      <th>BldgType_Twnhs</th>\n",
       "      <th>BldgType_2fmCon</th>\n",
       "      <th>Exterior1st_VinylSd</th>\n",
       "      <th>Exterior1st_HdBoard</th>\n",
       "      <th>Exterior1st_MetalSd</th>\n",
       "      <th>Exterior1st_Wd Sdng</th>\n",
       "      <th>Exterior1st_Plywood</th>\n",
       "      <th>...</th>\n",
       "      <th>Exterior2nd_VinylSd</th>\n",
       "      <th>Exterior2nd_MetalSd</th>\n",
       "      <th>Exterior2nd_HdBoard</th>\n",
       "      <th>Exterior2nd_Wd Sdng</th>\n",
       "      <th>Exterior2nd_Plywood</th>\n",
       "      <th>Exterior2nd_CmentBd</th>\n",
       "      <th>Exterior2nd_Wd Shng</th>\n",
       "      <th>Exterior2nd_Stucco</th>\n",
       "      <th>Exterior2nd_BrkFace</th>\n",
       "      <th>Exterior2nd_AsbShng</th>\n",
       "    </tr>\n",
       "  </thead>\n",
       "  <tbody>\n",
       "    <tr>\n",
       "      <th>0</th>\n",
       "      <td>1</td>\n",
       "      <td>0</td>\n",
       "      <td>0</td>\n",
       "      <td>0</td>\n",
       "      <td>0</td>\n",
       "      <td>1</td>\n",
       "      <td>0</td>\n",
       "      <td>0</td>\n",
       "      <td>0</td>\n",
       "      <td>0</td>\n",
       "      <td>...</td>\n",
       "      <td>1</td>\n",
       "      <td>0</td>\n",
       "      <td>0</td>\n",
       "      <td>0</td>\n",
       "      <td>0</td>\n",
       "      <td>0</td>\n",
       "      <td>0</td>\n",
       "      <td>0</td>\n",
       "      <td>0</td>\n",
       "      <td>0</td>\n",
       "    </tr>\n",
       "    <tr>\n",
       "      <th>1</th>\n",
       "      <td>1</td>\n",
       "      <td>0</td>\n",
       "      <td>0</td>\n",
       "      <td>0</td>\n",
       "      <td>0</td>\n",
       "      <td>0</td>\n",
       "      <td>0</td>\n",
       "      <td>1</td>\n",
       "      <td>0</td>\n",
       "      <td>0</td>\n",
       "      <td>...</td>\n",
       "      <td>0</td>\n",
       "      <td>1</td>\n",
       "      <td>0</td>\n",
       "      <td>0</td>\n",
       "      <td>0</td>\n",
       "      <td>0</td>\n",
       "      <td>0</td>\n",
       "      <td>0</td>\n",
       "      <td>0</td>\n",
       "      <td>0</td>\n",
       "    </tr>\n",
       "    <tr>\n",
       "      <th>2</th>\n",
       "      <td>1</td>\n",
       "      <td>0</td>\n",
       "      <td>0</td>\n",
       "      <td>0</td>\n",
       "      <td>0</td>\n",
       "      <td>1</td>\n",
       "      <td>0</td>\n",
       "      <td>0</td>\n",
       "      <td>0</td>\n",
       "      <td>0</td>\n",
       "      <td>...</td>\n",
       "      <td>1</td>\n",
       "      <td>0</td>\n",
       "      <td>0</td>\n",
       "      <td>0</td>\n",
       "      <td>0</td>\n",
       "      <td>0</td>\n",
       "      <td>0</td>\n",
       "      <td>0</td>\n",
       "      <td>0</td>\n",
       "      <td>0</td>\n",
       "    </tr>\n",
       "    <tr>\n",
       "      <th>3</th>\n",
       "      <td>1</td>\n",
       "      <td>0</td>\n",
       "      <td>0</td>\n",
       "      <td>0</td>\n",
       "      <td>0</td>\n",
       "      <td>0</td>\n",
       "      <td>0</td>\n",
       "      <td>0</td>\n",
       "      <td>1</td>\n",
       "      <td>0</td>\n",
       "      <td>...</td>\n",
       "      <td>0</td>\n",
       "      <td>0</td>\n",
       "      <td>0</td>\n",
       "      <td>0</td>\n",
       "      <td>0</td>\n",
       "      <td>0</td>\n",
       "      <td>1</td>\n",
       "      <td>0</td>\n",
       "      <td>0</td>\n",
       "      <td>0</td>\n",
       "    </tr>\n",
       "    <tr>\n",
       "      <th>4</th>\n",
       "      <td>1</td>\n",
       "      <td>0</td>\n",
       "      <td>0</td>\n",
       "      <td>0</td>\n",
       "      <td>0</td>\n",
       "      <td>1</td>\n",
       "      <td>0</td>\n",
       "      <td>0</td>\n",
       "      <td>0</td>\n",
       "      <td>0</td>\n",
       "      <td>...</td>\n",
       "      <td>1</td>\n",
       "      <td>0</td>\n",
       "      <td>0</td>\n",
       "      <td>0</td>\n",
       "      <td>0</td>\n",
       "      <td>0</td>\n",
       "      <td>0</td>\n",
       "      <td>0</td>\n",
       "      <td>0</td>\n",
       "      <td>0</td>\n",
       "    </tr>\n",
       "    <tr>\n",
       "      <th>...</th>\n",
       "      <td>...</td>\n",
       "      <td>...</td>\n",
       "      <td>...</td>\n",
       "      <td>...</td>\n",
       "      <td>...</td>\n",
       "      <td>...</td>\n",
       "      <td>...</td>\n",
       "      <td>...</td>\n",
       "      <td>...</td>\n",
       "      <td>...</td>\n",
       "      <td>...</td>\n",
       "      <td>...</td>\n",
       "      <td>...</td>\n",
       "      <td>...</td>\n",
       "      <td>...</td>\n",
       "      <td>...</td>\n",
       "      <td>...</td>\n",
       "      <td>...</td>\n",
       "      <td>...</td>\n",
       "      <td>...</td>\n",
       "      <td>...</td>\n",
       "    </tr>\n",
       "    <tr>\n",
       "      <th>1455</th>\n",
       "      <td>1</td>\n",
       "      <td>0</td>\n",
       "      <td>0</td>\n",
       "      <td>0</td>\n",
       "      <td>0</td>\n",
       "      <td>1</td>\n",
       "      <td>0</td>\n",
       "      <td>0</td>\n",
       "      <td>0</td>\n",
       "      <td>0</td>\n",
       "      <td>...</td>\n",
       "      <td>1</td>\n",
       "      <td>0</td>\n",
       "      <td>0</td>\n",
       "      <td>0</td>\n",
       "      <td>0</td>\n",
       "      <td>0</td>\n",
       "      <td>0</td>\n",
       "      <td>0</td>\n",
       "      <td>0</td>\n",
       "      <td>0</td>\n",
       "    </tr>\n",
       "    <tr>\n",
       "      <th>1456</th>\n",
       "      <td>1</td>\n",
       "      <td>0</td>\n",
       "      <td>0</td>\n",
       "      <td>0</td>\n",
       "      <td>0</td>\n",
       "      <td>0</td>\n",
       "      <td>0</td>\n",
       "      <td>0</td>\n",
       "      <td>0</td>\n",
       "      <td>1</td>\n",
       "      <td>...</td>\n",
       "      <td>0</td>\n",
       "      <td>0</td>\n",
       "      <td>0</td>\n",
       "      <td>0</td>\n",
       "      <td>1</td>\n",
       "      <td>0</td>\n",
       "      <td>0</td>\n",
       "      <td>0</td>\n",
       "      <td>0</td>\n",
       "      <td>0</td>\n",
       "    </tr>\n",
       "    <tr>\n",
       "      <th>1457</th>\n",
       "      <td>1</td>\n",
       "      <td>0</td>\n",
       "      <td>0</td>\n",
       "      <td>0</td>\n",
       "      <td>0</td>\n",
       "      <td>0</td>\n",
       "      <td>0</td>\n",
       "      <td>0</td>\n",
       "      <td>0</td>\n",
       "      <td>0</td>\n",
       "      <td>...</td>\n",
       "      <td>0</td>\n",
       "      <td>0</td>\n",
       "      <td>0</td>\n",
       "      <td>0</td>\n",
       "      <td>0</td>\n",
       "      <td>1</td>\n",
       "      <td>0</td>\n",
       "      <td>0</td>\n",
       "      <td>0</td>\n",
       "      <td>0</td>\n",
       "    </tr>\n",
       "    <tr>\n",
       "      <th>1458</th>\n",
       "      <td>1</td>\n",
       "      <td>0</td>\n",
       "      <td>0</td>\n",
       "      <td>0</td>\n",
       "      <td>0</td>\n",
       "      <td>0</td>\n",
       "      <td>0</td>\n",
       "      <td>1</td>\n",
       "      <td>0</td>\n",
       "      <td>0</td>\n",
       "      <td>...</td>\n",
       "      <td>0</td>\n",
       "      <td>1</td>\n",
       "      <td>0</td>\n",
       "      <td>0</td>\n",
       "      <td>0</td>\n",
       "      <td>0</td>\n",
       "      <td>0</td>\n",
       "      <td>0</td>\n",
       "      <td>0</td>\n",
       "      <td>0</td>\n",
       "    </tr>\n",
       "    <tr>\n",
       "      <th>1459</th>\n",
       "      <td>1</td>\n",
       "      <td>0</td>\n",
       "      <td>0</td>\n",
       "      <td>0</td>\n",
       "      <td>0</td>\n",
       "      <td>0</td>\n",
       "      <td>1</td>\n",
       "      <td>0</td>\n",
       "      <td>0</td>\n",
       "      <td>0</td>\n",
       "      <td>...</td>\n",
       "      <td>0</td>\n",
       "      <td>0</td>\n",
       "      <td>1</td>\n",
       "      <td>0</td>\n",
       "      <td>0</td>\n",
       "      <td>0</td>\n",
       "      <td>0</td>\n",
       "      <td>0</td>\n",
       "      <td>0</td>\n",
       "      <td>0</td>\n",
       "    </tr>\n",
       "  </tbody>\n",
       "</table>\n",
       "<p>1460 rows × 25 columns</p>\n",
       "</div>"
      ],
      "text/plain": [
       "      BldgType_1Fam  BldgType_TwnhsE  BldgType_Duplex  BldgType_Twnhs  \\\n",
       "0                 1                0                0               0   \n",
       "1                 1                0                0               0   \n",
       "2                 1                0                0               0   \n",
       "3                 1                0                0               0   \n",
       "4                 1                0                0               0   \n",
       "...             ...              ...              ...             ...   \n",
       "1455              1                0                0               0   \n",
       "1456              1                0                0               0   \n",
       "1457              1                0                0               0   \n",
       "1458              1                0                0               0   \n",
       "1459              1                0                0               0   \n",
       "\n",
       "      BldgType_2fmCon  Exterior1st_VinylSd  Exterior1st_HdBoard  \\\n",
       "0                   0                    1                    0   \n",
       "1                   0                    0                    0   \n",
       "2                   0                    1                    0   \n",
       "3                   0                    0                    0   \n",
       "4                   0                    1                    0   \n",
       "...               ...                  ...                  ...   \n",
       "1455                0                    1                    0   \n",
       "1456                0                    0                    0   \n",
       "1457                0                    0                    0   \n",
       "1458                0                    0                    0   \n",
       "1459                0                    0                    1   \n",
       "\n",
       "      Exterior1st_MetalSd  Exterior1st_Wd Sdng  Exterior1st_Plywood  ...  \\\n",
       "0                       0                    0                    0  ...   \n",
       "1                       1                    0                    0  ...   \n",
       "2                       0                    0                    0  ...   \n",
       "3                       0                    1                    0  ...   \n",
       "4                       0                    0                    0  ...   \n",
       "...                   ...                  ...                  ...  ...   \n",
       "1455                    0                    0                    0  ...   \n",
       "1456                    0                    0                    1  ...   \n",
       "1457                    0                    0                    0  ...   \n",
       "1458                    1                    0                    0  ...   \n",
       "1459                    0                    0                    0  ...   \n",
       "\n",
       "      Exterior2nd_VinylSd  Exterior2nd_MetalSd  Exterior2nd_HdBoard  \\\n",
       "0                       1                    0                    0   \n",
       "1                       0                    1                    0   \n",
       "2                       1                    0                    0   \n",
       "3                       0                    0                    0   \n",
       "4                       1                    0                    0   \n",
       "...                   ...                  ...                  ...   \n",
       "1455                    1                    0                    0   \n",
       "1456                    0                    0                    0   \n",
       "1457                    0                    0                    0   \n",
       "1458                    0                    1                    0   \n",
       "1459                    0                    0                    1   \n",
       "\n",
       "      Exterior2nd_Wd Sdng  Exterior2nd_Plywood  Exterior2nd_CmentBd  \\\n",
       "0                       0                    0                    0   \n",
       "1                       0                    0                    0   \n",
       "2                       0                    0                    0   \n",
       "3                       0                    0                    0   \n",
       "4                       0                    0                    0   \n",
       "...                   ...                  ...                  ...   \n",
       "1455                    0                    0                    0   \n",
       "1456                    0                    1                    0   \n",
       "1457                    0                    0                    1   \n",
       "1458                    0                    0                    0   \n",
       "1459                    0                    0                    0   \n",
       "\n",
       "      Exterior2nd_Wd Shng  Exterior2nd_Stucco  Exterior2nd_BrkFace  \\\n",
       "0                       0                   0                    0   \n",
       "1                       0                   0                    0   \n",
       "2                       0                   0                    0   \n",
       "3                       1                   0                    0   \n",
       "4                       0                   0                    0   \n",
       "...                   ...                 ...                  ...   \n",
       "1455                    0                   0                    0   \n",
       "1456                    0                   0                    0   \n",
       "1457                    0                   0                    0   \n",
       "1458                    0                   0                    0   \n",
       "1459                    0                   0                    0   \n",
       "\n",
       "      Exterior2nd_AsbShng  \n",
       "0                       0  \n",
       "1                       0  \n",
       "2                       0  \n",
       "3                       0  \n",
       "4                       0  \n",
       "...                   ...  \n",
       "1455                    0  \n",
       "1456                    0  \n",
       "1457                    0  \n",
       "1458                    0  \n",
       "1459                    0  \n",
       "\n",
       "[1460 rows x 25 columns]"
      ]
     },
     "execution_count": 771,
     "metadata": {},
     "output_type": "execute_result"
    }
   ],
   "source": [
    "new_df2"
   ]
  },
  {
   "cell_type": "code",
   "execution_count": 772,
   "id": "f2876102-fe60-4531-b458-f4a2f414f156",
   "metadata": {
    "tags": []
   },
   "outputs": [
    {
     "name": "stdout",
     "output_type": "stream",
     "text": [
      "<class 'pandas.core.frame.DataFrame'>\n",
      "RangeIndex: 1460 entries, 0 to 1459\n",
      "Data columns (total 43 columns):\n",
      " #   Column         Non-Null Count  Dtype \n",
      "---  ------         --------------  ----- \n",
      " 0   MSZoning       1460 non-null   int64 \n",
      " 1   Street         1460 non-null   int64 \n",
      " 2   Alley          1460 non-null   int64 \n",
      " 3   LotShape       1460 non-null   int64 \n",
      " 4   LandContour    1460 non-null   int64 \n",
      " 5   Utilities      1460 non-null   int64 \n",
      " 6   LotConfig      1460 non-null   int64 \n",
      " 7   LandSlope      1460 non-null   int64 \n",
      " 8   Neighborhood   1460 non-null   int64 \n",
      " 9   Condition1     1460 non-null   int64 \n",
      " 10  Condition2     1460 non-null   int64 \n",
      " 11  BldgType       1460 non-null   object\n",
      " 12  HouseStyle     1460 non-null   int64 \n",
      " 13  RoofStyle      1460 non-null   object\n",
      " 14  RoofMatl       1460 non-null   int64 \n",
      " 15  Exterior1st    1460 non-null   object\n",
      " 16  Exterior2nd    1460 non-null   object\n",
      " 17  MasVnrType     1460 non-null   int64 \n",
      " 18  ExterQual      1460 non-null   int64 \n",
      " 19  ExterCond      1460 non-null   int64 \n",
      " 20  Foundation     1460 non-null   int64 \n",
      " 21  BsmtQual       1460 non-null   int64 \n",
      " 22  BsmtCond       1460 non-null   int64 \n",
      " 23  BsmtExposure   1460 non-null   int64 \n",
      " 24  BsmtFinType1   1460 non-null   int64 \n",
      " 25  BsmtFinType2   1460 non-null   int64 \n",
      " 26  Heating        1460 non-null   int64 \n",
      " 27  HeatingQC      1460 non-null   int64 \n",
      " 28  CentralAir     1460 non-null   int64 \n",
      " 29  Electrical     1460 non-null   int64 \n",
      " 30  KitchenQual    1460 non-null   int64 \n",
      " 31  Functional     1460 non-null   int64 \n",
      " 32  FireplaceQu    1460 non-null   int64 \n",
      " 33  GarageType     1460 non-null   int64 \n",
      " 34  GarageFinish   1460 non-null   int64 \n",
      " 35  GarageQual     1460 non-null   int64 \n",
      " 36  GarageCond     1460 non-null   int64 \n",
      " 37  PavedDrive     1460 non-null   int64 \n",
      " 38  PoolQC         1460 non-null   int64 \n",
      " 39  Fence          1460 non-null   int64 \n",
      " 40  MiscFeature    1460 non-null   int64 \n",
      " 41  SaleType       1460 non-null   object\n",
      " 42  SaleCondition  1460 non-null   object\n",
      "dtypes: int64(37), object(6)\n",
      "memory usage: 490.6+ KB\n"
     ]
    }
   ],
   "source": [
    "df_obj.info()"
   ]
  },
  {
   "cell_type": "code",
   "execution_count": 773,
   "id": "aa48b70d-265c-48db-a101-2a366a913cc0",
   "metadata": {},
   "outputs": [],
   "source": [
    "df_obj.drop(['BldgType','Exterior1st','Exterior2nd'], axis=1, inplace=True)"
   ]
  },
  {
   "cell_type": "code",
   "execution_count": 774,
   "id": "d7169805-bf8d-4db7-afe2-2450f055972a",
   "metadata": {
    "tags": []
   },
   "outputs": [
    {
     "name": "stdout",
     "output_type": "stream",
     "text": [
      "<class 'pandas.core.frame.DataFrame'>\n",
      "RangeIndex: 1460 entries, 0 to 1459\n",
      "Data columns (total 40 columns):\n",
      " #   Column         Non-Null Count  Dtype \n",
      "---  ------         --------------  ----- \n",
      " 0   MSZoning       1460 non-null   int64 \n",
      " 1   Street         1460 non-null   int64 \n",
      " 2   Alley          1460 non-null   int64 \n",
      " 3   LotShape       1460 non-null   int64 \n",
      " 4   LandContour    1460 non-null   int64 \n",
      " 5   Utilities      1460 non-null   int64 \n",
      " 6   LotConfig      1460 non-null   int64 \n",
      " 7   LandSlope      1460 non-null   int64 \n",
      " 8   Neighborhood   1460 non-null   int64 \n",
      " 9   Condition1     1460 non-null   int64 \n",
      " 10  Condition2     1460 non-null   int64 \n",
      " 11  HouseStyle     1460 non-null   int64 \n",
      " 12  RoofStyle      1460 non-null   object\n",
      " 13  RoofMatl       1460 non-null   int64 \n",
      " 14  MasVnrType     1460 non-null   int64 \n",
      " 15  ExterQual      1460 non-null   int64 \n",
      " 16  ExterCond      1460 non-null   int64 \n",
      " 17  Foundation     1460 non-null   int64 \n",
      " 18  BsmtQual       1460 non-null   int64 \n",
      " 19  BsmtCond       1460 non-null   int64 \n",
      " 20  BsmtExposure   1460 non-null   int64 \n",
      " 21  BsmtFinType1   1460 non-null   int64 \n",
      " 22  BsmtFinType2   1460 non-null   int64 \n",
      " 23  Heating        1460 non-null   int64 \n",
      " 24  HeatingQC      1460 non-null   int64 \n",
      " 25  CentralAir     1460 non-null   int64 \n",
      " 26  Electrical     1460 non-null   int64 \n",
      " 27  KitchenQual    1460 non-null   int64 \n",
      " 28  Functional     1460 non-null   int64 \n",
      " 29  FireplaceQu    1460 non-null   int64 \n",
      " 30  GarageType     1460 non-null   int64 \n",
      " 31  GarageFinish   1460 non-null   int64 \n",
      " 32  GarageQual     1460 non-null   int64 \n",
      " 33  GarageCond     1460 non-null   int64 \n",
      " 34  PavedDrive     1460 non-null   int64 \n",
      " 35  PoolQC         1460 non-null   int64 \n",
      " 36  Fence          1460 non-null   int64 \n",
      " 37  MiscFeature    1460 non-null   int64 \n",
      " 38  SaleType       1460 non-null   object\n",
      " 39  SaleCondition  1460 non-null   object\n",
      "dtypes: int64(37), object(3)\n",
      "memory usage: 456.4+ KB\n"
     ]
    }
   ],
   "source": [
    "df_obj.info()"
   ]
  },
  {
   "cell_type": "code",
   "execution_count": 775,
   "id": "98082ee7-6cdd-4171-8e9e-5a7931e41965",
   "metadata": {},
   "outputs": [],
   "source": [
    "df_obj = pd.concat([df_obj,new_df2], axis=1)"
   ]
  },
  {
   "cell_type": "code",
   "execution_count": 776,
   "id": "b50c74d1-13a8-4ecf-9e83-ee8591aca609",
   "metadata": {
    "tags": []
   },
   "outputs": [
    {
     "name": "stdout",
     "output_type": "stream",
     "text": [
      "<class 'pandas.core.frame.DataFrame'>\n",
      "RangeIndex: 1460 entries, 0 to 1459\n",
      "Data columns (total 65 columns):\n",
      " #   Column               Non-Null Count  Dtype \n",
      "---  ------               --------------  ----- \n",
      " 0   MSZoning             1460 non-null   int64 \n",
      " 1   Street               1460 non-null   int64 \n",
      " 2   Alley                1460 non-null   int64 \n",
      " 3   LotShape             1460 non-null   int64 \n",
      " 4   LandContour          1460 non-null   int64 \n",
      " 5   Utilities            1460 non-null   int64 \n",
      " 6   LotConfig            1460 non-null   int64 \n",
      " 7   LandSlope            1460 non-null   int64 \n",
      " 8   Neighborhood         1460 non-null   int64 \n",
      " 9   Condition1           1460 non-null   int64 \n",
      " 10  Condition2           1460 non-null   int64 \n",
      " 11  HouseStyle           1460 non-null   int64 \n",
      " 12  RoofStyle            1460 non-null   object\n",
      " 13  RoofMatl             1460 non-null   int64 \n",
      " 14  MasVnrType           1460 non-null   int64 \n",
      " 15  ExterQual            1460 non-null   int64 \n",
      " 16  ExterCond            1460 non-null   int64 \n",
      " 17  Foundation           1460 non-null   int64 \n",
      " 18  BsmtQual             1460 non-null   int64 \n",
      " 19  BsmtCond             1460 non-null   int64 \n",
      " 20  BsmtExposure         1460 non-null   int64 \n",
      " 21  BsmtFinType1         1460 non-null   int64 \n",
      " 22  BsmtFinType2         1460 non-null   int64 \n",
      " 23  Heating              1460 non-null   int64 \n",
      " 24  HeatingQC            1460 non-null   int64 \n",
      " 25  CentralAir           1460 non-null   int64 \n",
      " 26  Electrical           1460 non-null   int64 \n",
      " 27  KitchenQual          1460 non-null   int64 \n",
      " 28  Functional           1460 non-null   int64 \n",
      " 29  FireplaceQu          1460 non-null   int64 \n",
      " 30  GarageType           1460 non-null   int64 \n",
      " 31  GarageFinish         1460 non-null   int64 \n",
      " 32  GarageQual           1460 non-null   int64 \n",
      " 33  GarageCond           1460 non-null   int64 \n",
      " 34  PavedDrive           1460 non-null   int64 \n",
      " 35  PoolQC               1460 non-null   int64 \n",
      " 36  Fence                1460 non-null   int64 \n",
      " 37  MiscFeature          1460 non-null   int64 \n",
      " 38  SaleType             1460 non-null   object\n",
      " 39  SaleCondition        1460 non-null   object\n",
      " 40  BldgType_1Fam        1460 non-null   int32 \n",
      " 41  BldgType_TwnhsE      1460 non-null   int32 \n",
      " 42  BldgType_Duplex      1460 non-null   int32 \n",
      " 43  BldgType_Twnhs       1460 non-null   int32 \n",
      " 44  BldgType_2fmCon      1460 non-null   int32 \n",
      " 45  Exterior1st_VinylSd  1460 non-null   int32 \n",
      " 46  Exterior1st_HdBoard  1460 non-null   int32 \n",
      " 47  Exterior1st_MetalSd  1460 non-null   int32 \n",
      " 48  Exterior1st_Wd Sdng  1460 non-null   int32 \n",
      " 49  Exterior1st_Plywood  1460 non-null   int32 \n",
      " 50  Exterior1st_CemntBd  1460 non-null   int32 \n",
      " 51  Exterior1st_BrkFace  1460 non-null   int32 \n",
      " 52  Exterior1st_WdShing  1460 non-null   int32 \n",
      " 53  Exterior1st_Stucco   1460 non-null   int32 \n",
      " 54  Exterior1st_AsbShng  1460 non-null   int32 \n",
      " 55  Exterior2nd_VinylSd  1460 non-null   int32 \n",
      " 56  Exterior2nd_MetalSd  1460 non-null   int32 \n",
      " 57  Exterior2nd_HdBoard  1460 non-null   int32 \n",
      " 58  Exterior2nd_Wd Sdng  1460 non-null   int32 \n",
      " 59  Exterior2nd_Plywood  1460 non-null   int32 \n",
      " 60  Exterior2nd_CmentBd  1460 non-null   int32 \n",
      " 61  Exterior2nd_Wd Shng  1460 non-null   int32 \n",
      " 62  Exterior2nd_Stucco   1460 non-null   int32 \n",
      " 63  Exterior2nd_BrkFace  1460 non-null   int32 \n",
      " 64  Exterior2nd_AsbShng  1460 non-null   int32 \n",
      "dtypes: int32(25), int64(37), object(3)\n",
      "memory usage: 599.0+ KB\n"
     ]
    }
   ],
   "source": [
    "df_obj.info()"
   ]
  },
  {
   "cell_type": "code",
   "execution_count": 777,
   "id": "9a637f4d-9fdc-41e2-9ba5-c1897c4e00c5",
   "metadata": {},
   "outputs": [],
   "source": [
    "new_df = pd.read_csv(\"train.csv\", usecols=['RoofStyle','SaleType','SaleCondition'])"
   ]
  },
  {
   "cell_type": "code",
   "execution_count": 778,
   "id": "34ddf65e-12f8-4159-ab47-cc256f70fc00",
   "metadata": {},
   "outputs": [
    {
     "data": {
      "text/plain": [
       "['Normal', 'Partial', 'Abnorml', 'Family', 'Alloca', 'AdjLand']"
      ]
     },
     "execution_count": 778,
     "metadata": {},
     "output_type": "execute_result"
    }
   ],
   "source": [
    "top_10 = [x for x in new_df.SaleCondition.value_counts().sort_values(ascending=False).head(10).index]\n",
    "top_10"
   ]
  },
  {
   "cell_type": "code",
   "execution_count": 779,
   "id": "44b9f376-85b6-42f0-b96b-a4788c43a893",
   "metadata": {},
   "outputs": [
    {
     "data": {
      "text/html": [
       "<div>\n",
       "<style scoped>\n",
       "    .dataframe tbody tr th:only-of-type {\n",
       "        vertical-align: middle;\n",
       "    }\n",
       "\n",
       "    .dataframe tbody tr th {\n",
       "        vertical-align: top;\n",
       "    }\n",
       "\n",
       "    .dataframe thead th {\n",
       "        text-align: right;\n",
       "    }\n",
       "</style>\n",
       "<table border=\"1\" class=\"dataframe\">\n",
       "  <thead>\n",
       "    <tr style=\"text-align: right;\">\n",
       "      <th></th>\n",
       "      <th>RoofStyle_Flat</th>\n",
       "      <th>RoofStyle_Gable</th>\n",
       "      <th>RoofStyle_Gambrel</th>\n",
       "      <th>RoofStyle_Hip</th>\n",
       "      <th>RoofStyle_Mansard</th>\n",
       "      <th>RoofStyle_Shed</th>\n",
       "      <th>SaleType_COD</th>\n",
       "      <th>SaleType_CWD</th>\n",
       "      <th>SaleType_Con</th>\n",
       "      <th>SaleType_ConLD</th>\n",
       "      <th>...</th>\n",
       "      <th>SaleType_ConLw</th>\n",
       "      <th>SaleType_New</th>\n",
       "      <th>SaleType_Oth</th>\n",
       "      <th>SaleType_WD</th>\n",
       "      <th>SaleCondition_Abnorml</th>\n",
       "      <th>SaleCondition_AdjLand</th>\n",
       "      <th>SaleCondition_Alloca</th>\n",
       "      <th>SaleCondition_Family</th>\n",
       "      <th>SaleCondition_Normal</th>\n",
       "      <th>SaleCondition_Partial</th>\n",
       "    </tr>\n",
       "  </thead>\n",
       "  <tbody>\n",
       "    <tr>\n",
       "      <th>0</th>\n",
       "      <td>0</td>\n",
       "      <td>1</td>\n",
       "      <td>0</td>\n",
       "      <td>0</td>\n",
       "      <td>0</td>\n",
       "      <td>0</td>\n",
       "      <td>0</td>\n",
       "      <td>0</td>\n",
       "      <td>0</td>\n",
       "      <td>0</td>\n",
       "      <td>...</td>\n",
       "      <td>0</td>\n",
       "      <td>0</td>\n",
       "      <td>0</td>\n",
       "      <td>1</td>\n",
       "      <td>0</td>\n",
       "      <td>0</td>\n",
       "      <td>0</td>\n",
       "      <td>0</td>\n",
       "      <td>1</td>\n",
       "      <td>0</td>\n",
       "    </tr>\n",
       "    <tr>\n",
       "      <th>1</th>\n",
       "      <td>0</td>\n",
       "      <td>1</td>\n",
       "      <td>0</td>\n",
       "      <td>0</td>\n",
       "      <td>0</td>\n",
       "      <td>0</td>\n",
       "      <td>0</td>\n",
       "      <td>0</td>\n",
       "      <td>0</td>\n",
       "      <td>0</td>\n",
       "      <td>...</td>\n",
       "      <td>0</td>\n",
       "      <td>0</td>\n",
       "      <td>0</td>\n",
       "      <td>1</td>\n",
       "      <td>0</td>\n",
       "      <td>0</td>\n",
       "      <td>0</td>\n",
       "      <td>0</td>\n",
       "      <td>1</td>\n",
       "      <td>0</td>\n",
       "    </tr>\n",
       "    <tr>\n",
       "      <th>2</th>\n",
       "      <td>0</td>\n",
       "      <td>1</td>\n",
       "      <td>0</td>\n",
       "      <td>0</td>\n",
       "      <td>0</td>\n",
       "      <td>0</td>\n",
       "      <td>0</td>\n",
       "      <td>0</td>\n",
       "      <td>0</td>\n",
       "      <td>0</td>\n",
       "      <td>...</td>\n",
       "      <td>0</td>\n",
       "      <td>0</td>\n",
       "      <td>0</td>\n",
       "      <td>1</td>\n",
       "      <td>0</td>\n",
       "      <td>0</td>\n",
       "      <td>0</td>\n",
       "      <td>0</td>\n",
       "      <td>1</td>\n",
       "      <td>0</td>\n",
       "    </tr>\n",
       "    <tr>\n",
       "      <th>3</th>\n",
       "      <td>0</td>\n",
       "      <td>1</td>\n",
       "      <td>0</td>\n",
       "      <td>0</td>\n",
       "      <td>0</td>\n",
       "      <td>0</td>\n",
       "      <td>0</td>\n",
       "      <td>0</td>\n",
       "      <td>0</td>\n",
       "      <td>0</td>\n",
       "      <td>...</td>\n",
       "      <td>0</td>\n",
       "      <td>0</td>\n",
       "      <td>0</td>\n",
       "      <td>1</td>\n",
       "      <td>1</td>\n",
       "      <td>0</td>\n",
       "      <td>0</td>\n",
       "      <td>0</td>\n",
       "      <td>0</td>\n",
       "      <td>0</td>\n",
       "    </tr>\n",
       "    <tr>\n",
       "      <th>4</th>\n",
       "      <td>0</td>\n",
       "      <td>1</td>\n",
       "      <td>0</td>\n",
       "      <td>0</td>\n",
       "      <td>0</td>\n",
       "      <td>0</td>\n",
       "      <td>0</td>\n",
       "      <td>0</td>\n",
       "      <td>0</td>\n",
       "      <td>0</td>\n",
       "      <td>...</td>\n",
       "      <td>0</td>\n",
       "      <td>0</td>\n",
       "      <td>0</td>\n",
       "      <td>1</td>\n",
       "      <td>0</td>\n",
       "      <td>0</td>\n",
       "      <td>0</td>\n",
       "      <td>0</td>\n",
       "      <td>1</td>\n",
       "      <td>0</td>\n",
       "    </tr>\n",
       "    <tr>\n",
       "      <th>...</th>\n",
       "      <td>...</td>\n",
       "      <td>...</td>\n",
       "      <td>...</td>\n",
       "      <td>...</td>\n",
       "      <td>...</td>\n",
       "      <td>...</td>\n",
       "      <td>...</td>\n",
       "      <td>...</td>\n",
       "      <td>...</td>\n",
       "      <td>...</td>\n",
       "      <td>...</td>\n",
       "      <td>...</td>\n",
       "      <td>...</td>\n",
       "      <td>...</td>\n",
       "      <td>...</td>\n",
       "      <td>...</td>\n",
       "      <td>...</td>\n",
       "      <td>...</td>\n",
       "      <td>...</td>\n",
       "      <td>...</td>\n",
       "      <td>...</td>\n",
       "    </tr>\n",
       "    <tr>\n",
       "      <th>1455</th>\n",
       "      <td>0</td>\n",
       "      <td>1</td>\n",
       "      <td>0</td>\n",
       "      <td>0</td>\n",
       "      <td>0</td>\n",
       "      <td>0</td>\n",
       "      <td>0</td>\n",
       "      <td>0</td>\n",
       "      <td>0</td>\n",
       "      <td>0</td>\n",
       "      <td>...</td>\n",
       "      <td>0</td>\n",
       "      <td>0</td>\n",
       "      <td>0</td>\n",
       "      <td>1</td>\n",
       "      <td>0</td>\n",
       "      <td>0</td>\n",
       "      <td>0</td>\n",
       "      <td>0</td>\n",
       "      <td>1</td>\n",
       "      <td>0</td>\n",
       "    </tr>\n",
       "    <tr>\n",
       "      <th>1456</th>\n",
       "      <td>0</td>\n",
       "      <td>1</td>\n",
       "      <td>0</td>\n",
       "      <td>0</td>\n",
       "      <td>0</td>\n",
       "      <td>0</td>\n",
       "      <td>0</td>\n",
       "      <td>0</td>\n",
       "      <td>0</td>\n",
       "      <td>0</td>\n",
       "      <td>...</td>\n",
       "      <td>0</td>\n",
       "      <td>0</td>\n",
       "      <td>0</td>\n",
       "      <td>1</td>\n",
       "      <td>0</td>\n",
       "      <td>0</td>\n",
       "      <td>0</td>\n",
       "      <td>0</td>\n",
       "      <td>1</td>\n",
       "      <td>0</td>\n",
       "    </tr>\n",
       "    <tr>\n",
       "      <th>1457</th>\n",
       "      <td>0</td>\n",
       "      <td>1</td>\n",
       "      <td>0</td>\n",
       "      <td>0</td>\n",
       "      <td>0</td>\n",
       "      <td>0</td>\n",
       "      <td>0</td>\n",
       "      <td>0</td>\n",
       "      <td>0</td>\n",
       "      <td>0</td>\n",
       "      <td>...</td>\n",
       "      <td>0</td>\n",
       "      <td>0</td>\n",
       "      <td>0</td>\n",
       "      <td>1</td>\n",
       "      <td>0</td>\n",
       "      <td>0</td>\n",
       "      <td>0</td>\n",
       "      <td>0</td>\n",
       "      <td>1</td>\n",
       "      <td>0</td>\n",
       "    </tr>\n",
       "    <tr>\n",
       "      <th>1458</th>\n",
       "      <td>0</td>\n",
       "      <td>0</td>\n",
       "      <td>0</td>\n",
       "      <td>1</td>\n",
       "      <td>0</td>\n",
       "      <td>0</td>\n",
       "      <td>0</td>\n",
       "      <td>0</td>\n",
       "      <td>0</td>\n",
       "      <td>0</td>\n",
       "      <td>...</td>\n",
       "      <td>0</td>\n",
       "      <td>0</td>\n",
       "      <td>0</td>\n",
       "      <td>1</td>\n",
       "      <td>0</td>\n",
       "      <td>0</td>\n",
       "      <td>0</td>\n",
       "      <td>0</td>\n",
       "      <td>1</td>\n",
       "      <td>0</td>\n",
       "    </tr>\n",
       "    <tr>\n",
       "      <th>1459</th>\n",
       "      <td>0</td>\n",
       "      <td>1</td>\n",
       "      <td>0</td>\n",
       "      <td>0</td>\n",
       "      <td>0</td>\n",
       "      <td>0</td>\n",
       "      <td>0</td>\n",
       "      <td>0</td>\n",
       "      <td>0</td>\n",
       "      <td>0</td>\n",
       "      <td>...</td>\n",
       "      <td>0</td>\n",
       "      <td>0</td>\n",
       "      <td>0</td>\n",
       "      <td>1</td>\n",
       "      <td>0</td>\n",
       "      <td>0</td>\n",
       "      <td>0</td>\n",
       "      <td>0</td>\n",
       "      <td>1</td>\n",
       "      <td>0</td>\n",
       "    </tr>\n",
       "  </tbody>\n",
       "</table>\n",
       "<p>1460 rows × 21 columns</p>\n",
       "</div>"
      ],
      "text/plain": [
       "      RoofStyle_Flat  RoofStyle_Gable  RoofStyle_Gambrel  RoofStyle_Hip  \\\n",
       "0                  0                1                  0              0   \n",
       "1                  0                1                  0              0   \n",
       "2                  0                1                  0              0   \n",
       "3                  0                1                  0              0   \n",
       "4                  0                1                  0              0   \n",
       "...              ...              ...                ...            ...   \n",
       "1455               0                1                  0              0   \n",
       "1456               0                1                  0              0   \n",
       "1457               0                1                  0              0   \n",
       "1458               0                0                  0              1   \n",
       "1459               0                1                  0              0   \n",
       "\n",
       "      RoofStyle_Mansard  RoofStyle_Shed  SaleType_COD  SaleType_CWD  \\\n",
       "0                     0               0             0             0   \n",
       "1                     0               0             0             0   \n",
       "2                     0               0             0             0   \n",
       "3                     0               0             0             0   \n",
       "4                     0               0             0             0   \n",
       "...                 ...             ...           ...           ...   \n",
       "1455                  0               0             0             0   \n",
       "1456                  0               0             0             0   \n",
       "1457                  0               0             0             0   \n",
       "1458                  0               0             0             0   \n",
       "1459                  0               0             0             0   \n",
       "\n",
       "      SaleType_Con  SaleType_ConLD  ...  SaleType_ConLw  SaleType_New  \\\n",
       "0                0               0  ...               0             0   \n",
       "1                0               0  ...               0             0   \n",
       "2                0               0  ...               0             0   \n",
       "3                0               0  ...               0             0   \n",
       "4                0               0  ...               0             0   \n",
       "...            ...             ...  ...             ...           ...   \n",
       "1455             0               0  ...               0             0   \n",
       "1456             0               0  ...               0             0   \n",
       "1457             0               0  ...               0             0   \n",
       "1458             0               0  ...               0             0   \n",
       "1459             0               0  ...               0             0   \n",
       "\n",
       "      SaleType_Oth  SaleType_WD  SaleCondition_Abnorml  SaleCondition_AdjLand  \\\n",
       "0                0            1                      0                      0   \n",
       "1                0            1                      0                      0   \n",
       "2                0            1                      0                      0   \n",
       "3                0            1                      1                      0   \n",
       "4                0            1                      0                      0   \n",
       "...            ...          ...                    ...                    ...   \n",
       "1455             0            1                      0                      0   \n",
       "1456             0            1                      0                      0   \n",
       "1457             0            1                      0                      0   \n",
       "1458             0            1                      0                      0   \n",
       "1459             0            1                      0                      0   \n",
       "\n",
       "      SaleCondition_Alloca  SaleCondition_Family  SaleCondition_Normal  \\\n",
       "0                        0                     0                     1   \n",
       "1                        0                     0                     1   \n",
       "2                        0                     0                     1   \n",
       "3                        0                     0                     0   \n",
       "4                        0                     0                     1   \n",
       "...                    ...                   ...                   ...   \n",
       "1455                     0                     0                     1   \n",
       "1456                     0                     0                     1   \n",
       "1457                     0                     0                     1   \n",
       "1458                     0                     0                     1   \n",
       "1459                     0                     0                     1   \n",
       "\n",
       "      SaleCondition_Partial  \n",
       "0                         0  \n",
       "1                         0  \n",
       "2                         0  \n",
       "3                         0  \n",
       "4                         0  \n",
       "...                     ...  \n",
       "1455                      0  \n",
       "1456                      0  \n",
       "1457                      0  \n",
       "1458                      0  \n",
       "1459                      0  \n",
       "\n",
       "[1460 rows x 21 columns]"
      ]
     },
     "execution_count": 779,
     "metadata": {},
     "output_type": "execute_result"
    }
   ],
   "source": [
    "new_df2 = pd.get_dummies(new_df, columns = ['RoofStyle','SaleType','SaleCondition'])\n",
    "new_df2"
   ]
  },
  {
   "cell_type": "code",
   "execution_count": 780,
   "id": "722d79a0-b8c6-40a5-aa00-a298f2820b49",
   "metadata": {},
   "outputs": [],
   "source": [
    "df_obj.drop('BldgType_2fmCon', axis=1, inplace=True)"
   ]
  },
  {
   "cell_type": "code",
   "execution_count": 781,
   "id": "a71848b8-a09f-40ad-abce-11ed41111753",
   "metadata": {},
   "outputs": [],
   "source": [
    "df_obj = pd.concat([df_obj,new_df2], axis=1)"
   ]
  },
  {
   "cell_type": "code",
   "execution_count": 782,
   "id": "266af9c9-4863-4264-b38d-564af15006e4",
   "metadata": {},
   "outputs": [
    {
     "data": {
      "text/html": [
       "<div>\n",
       "<style scoped>\n",
       "    .dataframe tbody tr th:only-of-type {\n",
       "        vertical-align: middle;\n",
       "    }\n",
       "\n",
       "    .dataframe tbody tr th {\n",
       "        vertical-align: top;\n",
       "    }\n",
       "\n",
       "    .dataframe thead th {\n",
       "        text-align: right;\n",
       "    }\n",
       "</style>\n",
       "<table border=\"1\" class=\"dataframe\">\n",
       "  <thead>\n",
       "    <tr style=\"text-align: right;\">\n",
       "      <th></th>\n",
       "      <th>MSZoning</th>\n",
       "      <th>Street</th>\n",
       "      <th>Alley</th>\n",
       "      <th>LotShape</th>\n",
       "      <th>LandContour</th>\n",
       "      <th>Utilities</th>\n",
       "      <th>LotConfig</th>\n",
       "      <th>LandSlope</th>\n",
       "      <th>Neighborhood</th>\n",
       "      <th>Condition1</th>\n",
       "      <th>...</th>\n",
       "      <th>SaleType_ConLw</th>\n",
       "      <th>SaleType_New</th>\n",
       "      <th>SaleType_Oth</th>\n",
       "      <th>SaleType_WD</th>\n",
       "      <th>SaleCondition_Abnorml</th>\n",
       "      <th>SaleCondition_AdjLand</th>\n",
       "      <th>SaleCondition_Alloca</th>\n",
       "      <th>SaleCondition_Family</th>\n",
       "      <th>SaleCondition_Normal</th>\n",
       "      <th>SaleCondition_Partial</th>\n",
       "    </tr>\n",
       "  </thead>\n",
       "  <tbody>\n",
       "    <tr>\n",
       "      <th>0</th>\n",
       "      <td>5</td>\n",
       "      <td>2</td>\n",
       "      <td>0</td>\n",
       "      <td>3</td>\n",
       "      <td>3</td>\n",
       "      <td>1</td>\n",
       "      <td>1</td>\n",
       "      <td>2</td>\n",
       "      <td>16</td>\n",
       "      <td>4</td>\n",
       "      <td>...</td>\n",
       "      <td>0</td>\n",
       "      <td>0</td>\n",
       "      <td>0</td>\n",
       "      <td>1</td>\n",
       "      <td>0</td>\n",
       "      <td>0</td>\n",
       "      <td>0</td>\n",
       "      <td>0</td>\n",
       "      <td>1</td>\n",
       "      <td>0</td>\n",
       "    </tr>\n",
       "    <tr>\n",
       "      <th>1</th>\n",
       "      <td>5</td>\n",
       "      <td>2</td>\n",
       "      <td>0</td>\n",
       "      <td>3</td>\n",
       "      <td>3</td>\n",
       "      <td>1</td>\n",
       "      <td>0</td>\n",
       "      <td>2</td>\n",
       "      <td>20</td>\n",
       "      <td>2</td>\n",
       "      <td>...</td>\n",
       "      <td>0</td>\n",
       "      <td>0</td>\n",
       "      <td>0</td>\n",
       "      <td>1</td>\n",
       "      <td>0</td>\n",
       "      <td>0</td>\n",
       "      <td>0</td>\n",
       "      <td>0</td>\n",
       "      <td>1</td>\n",
       "      <td>0</td>\n",
       "    </tr>\n",
       "    <tr>\n",
       "      <th>2</th>\n",
       "      <td>5</td>\n",
       "      <td>2</td>\n",
       "      <td>0</td>\n",
       "      <td>2</td>\n",
       "      <td>3</td>\n",
       "      <td>1</td>\n",
       "      <td>1</td>\n",
       "      <td>2</td>\n",
       "      <td>16</td>\n",
       "      <td>4</td>\n",
       "      <td>...</td>\n",
       "      <td>0</td>\n",
       "      <td>0</td>\n",
       "      <td>0</td>\n",
       "      <td>1</td>\n",
       "      <td>0</td>\n",
       "      <td>0</td>\n",
       "      <td>0</td>\n",
       "      <td>0</td>\n",
       "      <td>1</td>\n",
       "      <td>0</td>\n",
       "    </tr>\n",
       "    <tr>\n",
       "      <th>3</th>\n",
       "      <td>5</td>\n",
       "      <td>2</td>\n",
       "      <td>0</td>\n",
       "      <td>2</td>\n",
       "      <td>3</td>\n",
       "      <td>1</td>\n",
       "      <td>3</td>\n",
       "      <td>2</td>\n",
       "      <td>17</td>\n",
       "      <td>4</td>\n",
       "      <td>...</td>\n",
       "      <td>0</td>\n",
       "      <td>0</td>\n",
       "      <td>0</td>\n",
       "      <td>1</td>\n",
       "      <td>1</td>\n",
       "      <td>0</td>\n",
       "      <td>0</td>\n",
       "      <td>0</td>\n",
       "      <td>0</td>\n",
       "      <td>0</td>\n",
       "    </tr>\n",
       "    <tr>\n",
       "      <th>4</th>\n",
       "      <td>5</td>\n",
       "      <td>2</td>\n",
       "      <td>0</td>\n",
       "      <td>2</td>\n",
       "      <td>3</td>\n",
       "      <td>1</td>\n",
       "      <td>0</td>\n",
       "      <td>2</td>\n",
       "      <td>24</td>\n",
       "      <td>4</td>\n",
       "      <td>...</td>\n",
       "      <td>0</td>\n",
       "      <td>0</td>\n",
       "      <td>0</td>\n",
       "      <td>1</td>\n",
       "      <td>0</td>\n",
       "      <td>0</td>\n",
       "      <td>0</td>\n",
       "      <td>0</td>\n",
       "      <td>1</td>\n",
       "      <td>0</td>\n",
       "    </tr>\n",
       "    <tr>\n",
       "      <th>...</th>\n",
       "      <td>...</td>\n",
       "      <td>...</td>\n",
       "      <td>...</td>\n",
       "      <td>...</td>\n",
       "      <td>...</td>\n",
       "      <td>...</td>\n",
       "      <td>...</td>\n",
       "      <td>...</td>\n",
       "      <td>...</td>\n",
       "      <td>...</td>\n",
       "      <td>...</td>\n",
       "      <td>...</td>\n",
       "      <td>...</td>\n",
       "      <td>...</td>\n",
       "      <td>...</td>\n",
       "      <td>...</td>\n",
       "      <td>...</td>\n",
       "      <td>...</td>\n",
       "      <td>...</td>\n",
       "      <td>...</td>\n",
       "      <td>...</td>\n",
       "    </tr>\n",
       "    <tr>\n",
       "      <th>1455</th>\n",
       "      <td>5</td>\n",
       "      <td>2</td>\n",
       "      <td>0</td>\n",
       "      <td>3</td>\n",
       "      <td>3</td>\n",
       "      <td>1</td>\n",
       "      <td>1</td>\n",
       "      <td>2</td>\n",
       "      <td>14</td>\n",
       "      <td>4</td>\n",
       "      <td>...</td>\n",
       "      <td>0</td>\n",
       "      <td>0</td>\n",
       "      <td>0</td>\n",
       "      <td>1</td>\n",
       "      <td>0</td>\n",
       "      <td>0</td>\n",
       "      <td>0</td>\n",
       "      <td>0</td>\n",
       "      <td>1</td>\n",
       "      <td>0</td>\n",
       "    </tr>\n",
       "    <tr>\n",
       "      <th>1456</th>\n",
       "      <td>5</td>\n",
       "      <td>2</td>\n",
       "      <td>0</td>\n",
       "      <td>3</td>\n",
       "      <td>3</td>\n",
       "      <td>1</td>\n",
       "      <td>1</td>\n",
       "      <td>2</td>\n",
       "      <td>13</td>\n",
       "      <td>4</td>\n",
       "      <td>...</td>\n",
       "      <td>0</td>\n",
       "      <td>0</td>\n",
       "      <td>0</td>\n",
       "      <td>1</td>\n",
       "      <td>0</td>\n",
       "      <td>0</td>\n",
       "      <td>0</td>\n",
       "      <td>0</td>\n",
       "      <td>1</td>\n",
       "      <td>0</td>\n",
       "    </tr>\n",
       "    <tr>\n",
       "      <th>1457</th>\n",
       "      <td>5</td>\n",
       "      <td>2</td>\n",
       "      <td>0</td>\n",
       "      <td>3</td>\n",
       "      <td>3</td>\n",
       "      <td>1</td>\n",
       "      <td>1</td>\n",
       "      <td>2</td>\n",
       "      <td>17</td>\n",
       "      <td>4</td>\n",
       "      <td>...</td>\n",
       "      <td>0</td>\n",
       "      <td>0</td>\n",
       "      <td>0</td>\n",
       "      <td>1</td>\n",
       "      <td>0</td>\n",
       "      <td>0</td>\n",
       "      <td>0</td>\n",
       "      <td>0</td>\n",
       "      <td>1</td>\n",
       "      <td>0</td>\n",
       "    </tr>\n",
       "    <tr>\n",
       "      <th>1458</th>\n",
       "      <td>5</td>\n",
       "      <td>2</td>\n",
       "      <td>0</td>\n",
       "      <td>3</td>\n",
       "      <td>3</td>\n",
       "      <td>1</td>\n",
       "      <td>1</td>\n",
       "      <td>2</td>\n",
       "      <td>10</td>\n",
       "      <td>4</td>\n",
       "      <td>...</td>\n",
       "      <td>0</td>\n",
       "      <td>0</td>\n",
       "      <td>0</td>\n",
       "      <td>1</td>\n",
       "      <td>0</td>\n",
       "      <td>0</td>\n",
       "      <td>0</td>\n",
       "      <td>0</td>\n",
       "      <td>1</td>\n",
       "      <td>0</td>\n",
       "    </tr>\n",
       "    <tr>\n",
       "      <th>1459</th>\n",
       "      <td>5</td>\n",
       "      <td>2</td>\n",
       "      <td>0</td>\n",
       "      <td>3</td>\n",
       "      <td>3</td>\n",
       "      <td>1</td>\n",
       "      <td>1</td>\n",
       "      <td>2</td>\n",
       "      <td>4</td>\n",
       "      <td>4</td>\n",
       "      <td>...</td>\n",
       "      <td>0</td>\n",
       "      <td>0</td>\n",
       "      <td>0</td>\n",
       "      <td>1</td>\n",
       "      <td>0</td>\n",
       "      <td>0</td>\n",
       "      <td>0</td>\n",
       "      <td>0</td>\n",
       "      <td>1</td>\n",
       "      <td>0</td>\n",
       "    </tr>\n",
       "  </tbody>\n",
       "</table>\n",
       "<p>1460 rows × 85 columns</p>\n",
       "</div>"
      ],
      "text/plain": [
       "      MSZoning  Street  Alley  LotShape  LandContour  Utilities  LotConfig  \\\n",
       "0            5       2      0         3            3          1          1   \n",
       "1            5       2      0         3            3          1          0   \n",
       "2            5       2      0         2            3          1          1   \n",
       "3            5       2      0         2            3          1          3   \n",
       "4            5       2      0         2            3          1          0   \n",
       "...        ...     ...    ...       ...          ...        ...        ...   \n",
       "1455         5       2      0         3            3          1          1   \n",
       "1456         5       2      0         3            3          1          1   \n",
       "1457         5       2      0         3            3          1          1   \n",
       "1458         5       2      0         3            3          1          1   \n",
       "1459         5       2      0         3            3          1          1   \n",
       "\n",
       "      LandSlope  Neighborhood  Condition1  ...  SaleType_ConLw  SaleType_New  \\\n",
       "0             2            16           4  ...               0             0   \n",
       "1             2            20           2  ...               0             0   \n",
       "2             2            16           4  ...               0             0   \n",
       "3             2            17           4  ...               0             0   \n",
       "4             2            24           4  ...               0             0   \n",
       "...         ...           ...         ...  ...             ...           ...   \n",
       "1455          2            14           4  ...               0             0   \n",
       "1456          2            13           4  ...               0             0   \n",
       "1457          2            17           4  ...               0             0   \n",
       "1458          2            10           4  ...               0             0   \n",
       "1459          2             4           4  ...               0             0   \n",
       "\n",
       "     SaleType_Oth  SaleType_WD  SaleCondition_Abnorml  SaleCondition_AdjLand  \\\n",
       "0               0            1                      0                      0   \n",
       "1               0            1                      0                      0   \n",
       "2               0            1                      0                      0   \n",
       "3               0            1                      1                      0   \n",
       "4               0            1                      0                      0   \n",
       "...           ...          ...                    ...                    ...   \n",
       "1455            0            1                      0                      0   \n",
       "1456            0            1                      0                      0   \n",
       "1457            0            1                      0                      0   \n",
       "1458            0            1                      0                      0   \n",
       "1459            0            1                      0                      0   \n",
       "\n",
       "      SaleCondition_Alloca  SaleCondition_Family  SaleCondition_Normal  \\\n",
       "0                        0                     0                     1   \n",
       "1                        0                     0                     1   \n",
       "2                        0                     0                     1   \n",
       "3                        0                     0                     0   \n",
       "4                        0                     0                     1   \n",
       "...                    ...                   ...                   ...   \n",
       "1455                     0                     0                     1   \n",
       "1456                     0                     0                     1   \n",
       "1457                     0                     0                     1   \n",
       "1458                     0                     0                     1   \n",
       "1459                     0                     0                     1   \n",
       "\n",
       "      SaleCondition_Partial  \n",
       "0                         0  \n",
       "1                         0  \n",
       "2                         0  \n",
       "3                         0  \n",
       "4                         0  \n",
       "...                     ...  \n",
       "1455                      0  \n",
       "1456                      0  \n",
       "1457                      0  \n",
       "1458                      0  \n",
       "1459                      0  \n",
       "\n",
       "[1460 rows x 85 columns]"
      ]
     },
     "execution_count": 782,
     "metadata": {},
     "output_type": "execute_result"
    }
   ],
   "source": [
    "df_obj"
   ]
  },
  {
   "cell_type": "code",
   "execution_count": 783,
   "id": "1d738797-7a69-407e-8aa9-d17c34567e0c",
   "metadata": {},
   "outputs": [],
   "source": [
    "df_obj.drop(['RoofStyle','SaleType','SaleCondition'], axis=1, inplace=True)"
   ]
  },
  {
   "cell_type": "code",
   "execution_count": 784,
   "id": "f8d31bd2-7e4d-4eea-812f-736f4104fdf2",
   "metadata": {
    "tags": []
   },
   "outputs": [
    {
     "name": "stdout",
     "output_type": "stream",
     "text": [
      "<class 'pandas.core.frame.DataFrame'>\n",
      "RangeIndex: 1460 entries, 0 to 1459\n",
      "Data columns (total 82 columns):\n",
      " #   Column                 Non-Null Count  Dtype\n",
      "---  ------                 --------------  -----\n",
      " 0   MSZoning               1460 non-null   int64\n",
      " 1   Street                 1460 non-null   int64\n",
      " 2   Alley                  1460 non-null   int64\n",
      " 3   LotShape               1460 non-null   int64\n",
      " 4   LandContour            1460 non-null   int64\n",
      " 5   Utilities              1460 non-null   int64\n",
      " 6   LotConfig              1460 non-null   int64\n",
      " 7   LandSlope              1460 non-null   int64\n",
      " 8   Neighborhood           1460 non-null   int64\n",
      " 9   Condition1             1460 non-null   int64\n",
      " 10  Condition2             1460 non-null   int64\n",
      " 11  HouseStyle             1460 non-null   int64\n",
      " 12  RoofMatl               1460 non-null   int64\n",
      " 13  MasVnrType             1460 non-null   int64\n",
      " 14  ExterQual              1460 non-null   int64\n",
      " 15  ExterCond              1460 non-null   int64\n",
      " 16  Foundation             1460 non-null   int64\n",
      " 17  BsmtQual               1460 non-null   int64\n",
      " 18  BsmtCond               1460 non-null   int64\n",
      " 19  BsmtExposure           1460 non-null   int64\n",
      " 20  BsmtFinType1           1460 non-null   int64\n",
      " 21  BsmtFinType2           1460 non-null   int64\n",
      " 22  Heating                1460 non-null   int64\n",
      " 23  HeatingQC              1460 non-null   int64\n",
      " 24  CentralAir             1460 non-null   int64\n",
      " 25  Electrical             1460 non-null   int64\n",
      " 26  KitchenQual            1460 non-null   int64\n",
      " 27  Functional             1460 non-null   int64\n",
      " 28  FireplaceQu            1460 non-null   int64\n",
      " 29  GarageType             1460 non-null   int64\n",
      " 30  GarageFinish           1460 non-null   int64\n",
      " 31  GarageQual             1460 non-null   int64\n",
      " 32  GarageCond             1460 non-null   int64\n",
      " 33  PavedDrive             1460 non-null   int64\n",
      " 34  PoolQC                 1460 non-null   int64\n",
      " 35  Fence                  1460 non-null   int64\n",
      " 36  MiscFeature            1460 non-null   int64\n",
      " 37  BldgType_1Fam          1460 non-null   int32\n",
      " 38  BldgType_TwnhsE        1460 non-null   int32\n",
      " 39  BldgType_Duplex        1460 non-null   int32\n",
      " 40  BldgType_Twnhs         1460 non-null   int32\n",
      " 41  Exterior1st_VinylSd    1460 non-null   int32\n",
      " 42  Exterior1st_HdBoard    1460 non-null   int32\n",
      " 43  Exterior1st_MetalSd    1460 non-null   int32\n",
      " 44  Exterior1st_Wd Sdng    1460 non-null   int32\n",
      " 45  Exterior1st_Plywood    1460 non-null   int32\n",
      " 46  Exterior1st_CemntBd    1460 non-null   int32\n",
      " 47  Exterior1st_BrkFace    1460 non-null   int32\n",
      " 48  Exterior1st_WdShing    1460 non-null   int32\n",
      " 49  Exterior1st_Stucco     1460 non-null   int32\n",
      " 50  Exterior1st_AsbShng    1460 non-null   int32\n",
      " 51  Exterior2nd_VinylSd    1460 non-null   int32\n",
      " 52  Exterior2nd_MetalSd    1460 non-null   int32\n",
      " 53  Exterior2nd_HdBoard    1460 non-null   int32\n",
      " 54  Exterior2nd_Wd Sdng    1460 non-null   int32\n",
      " 55  Exterior2nd_Plywood    1460 non-null   int32\n",
      " 56  Exterior2nd_CmentBd    1460 non-null   int32\n",
      " 57  Exterior2nd_Wd Shng    1460 non-null   int32\n",
      " 58  Exterior2nd_Stucco     1460 non-null   int32\n",
      " 59  Exterior2nd_BrkFace    1460 non-null   int32\n",
      " 60  Exterior2nd_AsbShng    1460 non-null   int32\n",
      " 61  RoofStyle_Flat         1460 non-null   uint8\n",
      " 62  RoofStyle_Gable        1460 non-null   uint8\n",
      " 63  RoofStyle_Gambrel      1460 non-null   uint8\n",
      " 64  RoofStyle_Hip          1460 non-null   uint8\n",
      " 65  RoofStyle_Mansard      1460 non-null   uint8\n",
      " 66  RoofStyle_Shed         1460 non-null   uint8\n",
      " 67  SaleType_COD           1460 non-null   uint8\n",
      " 68  SaleType_CWD           1460 non-null   uint8\n",
      " 69  SaleType_Con           1460 non-null   uint8\n",
      " 70  SaleType_ConLD         1460 non-null   uint8\n",
      " 71  SaleType_ConLI         1460 non-null   uint8\n",
      " 72  SaleType_ConLw         1460 non-null   uint8\n",
      " 73  SaleType_New           1460 non-null   uint8\n",
      " 74  SaleType_Oth           1460 non-null   uint8\n",
      " 75  SaleType_WD            1460 non-null   uint8\n",
      " 76  SaleCondition_Abnorml  1460 non-null   uint8\n",
      " 77  SaleCondition_AdjLand  1460 non-null   uint8\n",
      " 78  SaleCondition_Alloca   1460 non-null   uint8\n",
      " 79  SaleCondition_Family   1460 non-null   uint8\n",
      " 80  SaleCondition_Normal   1460 non-null   uint8\n",
      " 81  SaleCondition_Partial  1460 non-null   uint8\n",
      "dtypes: int32(24), int64(37), uint8(21)\n",
      "memory usage: 589.0 KB\n"
     ]
    }
   ],
   "source": [
    "df_obj.info()"
   ]
  },
  {
   "cell_type": "code",
   "execution_count": 785,
   "id": "93eb4072-e08b-43c9-93bb-655cda886da8",
   "metadata": {},
   "outputs": [],
   "source": [
    "#df_obj = df_obj.astype('Int64')"
   ]
  },
  {
   "cell_type": "code",
   "execution_count": 786,
   "id": "24cedb61-ed90-467b-9e43-40bf9114ac11",
   "metadata": {},
   "outputs": [],
   "source": [
    "df_obj.to_csv('df_objwoi.csv', index=False)"
   ]
  },
  {
   "cell_type": "code",
   "execution_count": 787,
   "id": "9f786af3-cf12-4a20-923c-b3ae58c1cc3d",
   "metadata": {},
   "outputs": [],
   "source": [
    "df_obj.to_csv('df_objwi.csv')"
   ]
  },
  {
   "cell_type": "code",
   "execution_count": 788,
   "id": "4fca6285-2846-44df-b9b2-e5150626ea19",
   "metadata": {
    "collapsed": true,
    "jupyter": {
     "outputs_hidden": true
    },
    "tags": []
   },
   "outputs": [
    {
     "name": "stdout",
     "output_type": "stream",
     "text": [
      "<class 'pandas.core.frame.DataFrame'>\n",
      "RangeIndex: 1460 entries, 0 to 1459\n",
      "Data columns (total 82 columns):\n",
      " #   Column                 Non-Null Count  Dtype\n",
      "---  ------                 --------------  -----\n",
      " 0   MSZoning               1460 non-null   int64\n",
      " 1   Street                 1460 non-null   int64\n",
      " 2   Alley                  1460 non-null   int64\n",
      " 3   LotShape               1460 non-null   int64\n",
      " 4   LandContour            1460 non-null   int64\n",
      " 5   Utilities              1460 non-null   int64\n",
      " 6   LotConfig              1460 non-null   int64\n",
      " 7   LandSlope              1460 non-null   int64\n",
      " 8   Neighborhood           1460 non-null   int64\n",
      " 9   Condition1             1460 non-null   int64\n",
      " 10  Condition2             1460 non-null   int64\n",
      " 11  HouseStyle             1460 non-null   int64\n",
      " 12  RoofMatl               1460 non-null   int64\n",
      " 13  MasVnrType             1460 non-null   int64\n",
      " 14  ExterQual              1460 non-null   int64\n",
      " 15  ExterCond              1460 non-null   int64\n",
      " 16  Foundation             1460 non-null   int64\n",
      " 17  BsmtQual               1460 non-null   int64\n",
      " 18  BsmtCond               1460 non-null   int64\n",
      " 19  BsmtExposure           1460 non-null   int64\n",
      " 20  BsmtFinType1           1460 non-null   int64\n",
      " 21  BsmtFinType2           1460 non-null   int64\n",
      " 22  Heating                1460 non-null   int64\n",
      " 23  HeatingQC              1460 non-null   int64\n",
      " 24  CentralAir             1460 non-null   int64\n",
      " 25  Electrical             1460 non-null   int64\n",
      " 26  KitchenQual            1460 non-null   int64\n",
      " 27  Functional             1460 non-null   int64\n",
      " 28  FireplaceQu            1460 non-null   int64\n",
      " 29  GarageType             1460 non-null   int64\n",
      " 30  GarageFinish           1460 non-null   int64\n",
      " 31  GarageQual             1460 non-null   int64\n",
      " 32  GarageCond             1460 non-null   int64\n",
      " 33  PavedDrive             1460 non-null   int64\n",
      " 34  PoolQC                 1460 non-null   int64\n",
      " 35  Fence                  1460 non-null   int64\n",
      " 36  MiscFeature            1460 non-null   int64\n",
      " 37  BldgType_1Fam          1460 non-null   int32\n",
      " 38  BldgType_TwnhsE        1460 non-null   int32\n",
      " 39  BldgType_Duplex        1460 non-null   int32\n",
      " 40  BldgType_Twnhs         1460 non-null   int32\n",
      " 41  Exterior1st_VinylSd    1460 non-null   int32\n",
      " 42  Exterior1st_HdBoard    1460 non-null   int32\n",
      " 43  Exterior1st_MetalSd    1460 non-null   int32\n",
      " 44  Exterior1st_Wd Sdng    1460 non-null   int32\n",
      " 45  Exterior1st_Plywood    1460 non-null   int32\n",
      " 46  Exterior1st_CemntBd    1460 non-null   int32\n",
      " 47  Exterior1st_BrkFace    1460 non-null   int32\n",
      " 48  Exterior1st_WdShing    1460 non-null   int32\n",
      " 49  Exterior1st_Stucco     1460 non-null   int32\n",
      " 50  Exterior1st_AsbShng    1460 non-null   int32\n",
      " 51  Exterior2nd_VinylSd    1460 non-null   int32\n",
      " 52  Exterior2nd_MetalSd    1460 non-null   int32\n",
      " 53  Exterior2nd_HdBoard    1460 non-null   int32\n",
      " 54  Exterior2nd_Wd Sdng    1460 non-null   int32\n",
      " 55  Exterior2nd_Plywood    1460 non-null   int32\n",
      " 56  Exterior2nd_CmentBd    1460 non-null   int32\n",
      " 57  Exterior2nd_Wd Shng    1460 non-null   int32\n",
      " 58  Exterior2nd_Stucco     1460 non-null   int32\n",
      " 59  Exterior2nd_BrkFace    1460 non-null   int32\n",
      " 60  Exterior2nd_AsbShng    1460 non-null   int32\n",
      " 61  RoofStyle_Flat         1460 non-null   uint8\n",
      " 62  RoofStyle_Gable        1460 non-null   uint8\n",
      " 63  RoofStyle_Gambrel      1460 non-null   uint8\n",
      " 64  RoofStyle_Hip          1460 non-null   uint8\n",
      " 65  RoofStyle_Mansard      1460 non-null   uint8\n",
      " 66  RoofStyle_Shed         1460 non-null   uint8\n",
      " 67  SaleType_COD           1460 non-null   uint8\n",
      " 68  SaleType_CWD           1460 non-null   uint8\n",
      " 69  SaleType_Con           1460 non-null   uint8\n",
      " 70  SaleType_ConLD         1460 non-null   uint8\n",
      " 71  SaleType_ConLI         1460 non-null   uint8\n",
      " 72  SaleType_ConLw         1460 non-null   uint8\n",
      " 73  SaleType_New           1460 non-null   uint8\n",
      " 74  SaleType_Oth           1460 non-null   uint8\n",
      " 75  SaleType_WD            1460 non-null   uint8\n",
      " 76  SaleCondition_Abnorml  1460 non-null   uint8\n",
      " 77  SaleCondition_AdjLand  1460 non-null   uint8\n",
      " 78  SaleCondition_Alloca   1460 non-null   uint8\n",
      " 79  SaleCondition_Family   1460 non-null   uint8\n",
      " 80  SaleCondition_Normal   1460 non-null   uint8\n",
      " 81  SaleCondition_Partial  1460 non-null   uint8\n",
      "dtypes: int32(24), int64(37), uint8(21)\n",
      "memory usage: 589.0 KB\n"
     ]
    }
   ],
   "source": [
    "df_obj.info()"
   ]
  },
  {
   "cell_type": "code",
   "execution_count": 789,
   "id": "6395be48-aa07-4c69-b0a9-e914862ce21d",
   "metadata": {
    "tags": []
   },
   "outputs": [
    {
     "name": "stdout",
     "output_type": "stream",
     "text": [
      "<class 'pandas.core.frame.DataFrame'>\n",
      "RangeIndex: 1460 entries, 0 to 1459\n",
      "Data columns (total 81 columns):\n",
      " #   Column         Non-Null Count  Dtype  \n",
      "---  ------         --------------  -----  \n",
      " 0   Id             1460 non-null   int64  \n",
      " 1   MSSubClass     1460 non-null   int64  \n",
      " 2   MSZoning       1460 non-null   object \n",
      " 3   LotFrontage    1201 non-null   float64\n",
      " 4   LotArea        1460 non-null   int64  \n",
      " 5   Street         1460 non-null   object \n",
      " 6   Alley          91 non-null     object \n",
      " 7   LotShape       1460 non-null   object \n",
      " 8   LandContour    1460 non-null   object \n",
      " 9   Utilities      1460 non-null   object \n",
      " 10  LotConfig      1460 non-null   object \n",
      " 11  LandSlope      1460 non-null   object \n",
      " 12  Neighborhood   1460 non-null   object \n",
      " 13  Condition1     1460 non-null   object \n",
      " 14  Condition2     1460 non-null   object \n",
      " 15  BldgType       1460 non-null   object \n",
      " 16  HouseStyle     1460 non-null   object \n",
      " 17  OverallQual    1460 non-null   int64  \n",
      " 18  OverallCond    1460 non-null   int64  \n",
      " 19  YearBuilt      1460 non-null   int64  \n",
      " 20  YearRemodAdd   1460 non-null   int64  \n",
      " 21  RoofStyle      1460 non-null   object \n",
      " 22  RoofMatl       1460 non-null   object \n",
      " 23  Exterior1st    1460 non-null   object \n",
      " 24  Exterior2nd    1460 non-null   object \n",
      " 25  MasVnrType     1452 non-null   object \n",
      " 26  MasVnrArea     1452 non-null   float64\n",
      " 27  ExterQual      1460 non-null   object \n",
      " 28  ExterCond      1460 non-null   object \n",
      " 29  Foundation     1460 non-null   object \n",
      " 30  BsmtQual       1423 non-null   object \n",
      " 31  BsmtCond       1423 non-null   object \n",
      " 32  BsmtExposure   1422 non-null   object \n",
      " 33  BsmtFinType1   1423 non-null   object \n",
      " 34  BsmtFinSF1     1460 non-null   int64  \n",
      " 35  BsmtFinType2   1422 non-null   object \n",
      " 36  BsmtFinSF2     1460 non-null   int64  \n",
      " 37  BsmtUnfSF      1460 non-null   int64  \n",
      " 38  TotalBsmtSF    1460 non-null   int64  \n",
      " 39  Heating        1460 non-null   object \n",
      " 40  HeatingQC      1460 non-null   object \n",
      " 41  CentralAir     1460 non-null   object \n",
      " 42  Electrical     1459 non-null   object \n",
      " 43  1stFlrSF       1460 non-null   int64  \n",
      " 44  2ndFlrSF       1460 non-null   int64  \n",
      " 45  LowQualFinSF   1460 non-null   int64  \n",
      " 46  GrLivArea      1460 non-null   int64  \n",
      " 47  BsmtFullBath   1460 non-null   int64  \n",
      " 48  BsmtHalfBath   1460 non-null   int64  \n",
      " 49  FullBath       1460 non-null   int64  \n",
      " 50  HalfBath       1460 non-null   int64  \n",
      " 51  BedroomAbvGr   1460 non-null   int64  \n",
      " 52  KitchenAbvGr   1460 non-null   int64  \n",
      " 53  KitchenQual    1460 non-null   object \n",
      " 54  TotRmsAbvGrd   1460 non-null   int64  \n",
      " 55  Functional     1460 non-null   object \n",
      " 56  Fireplaces     1460 non-null   int64  \n",
      " 57  FireplaceQu    770 non-null    object \n",
      " 58  GarageType     1379 non-null   object \n",
      " 59  GarageYrBlt    1379 non-null   float64\n",
      " 60  GarageFinish   1379 non-null   object \n",
      " 61  GarageCars     1460 non-null   int64  \n",
      " 62  GarageArea     1460 non-null   int64  \n",
      " 63  GarageQual     1379 non-null   object \n",
      " 64  GarageCond     1379 non-null   object \n",
      " 65  PavedDrive     1460 non-null   object \n",
      " 66  WoodDeckSF     1460 non-null   int64  \n",
      " 67  OpenPorchSF    1460 non-null   int64  \n",
      " 68  EnclosedPorch  1460 non-null   int64  \n",
      " 69  3SsnPorch      1460 non-null   int64  \n",
      " 70  ScreenPorch    1460 non-null   int64  \n",
      " 71  PoolArea       1460 non-null   int64  \n",
      " 72  PoolQC         7 non-null      object \n",
      " 73  Fence          281 non-null    object \n",
      " 74  MiscFeature    54 non-null     object \n",
      " 75  MiscVal        1460 non-null   int64  \n",
      " 76  MoSold         1460 non-null   int64  \n",
      " 77  YrSold         1460 non-null   int64  \n",
      " 78  SaleType       1460 non-null   object \n",
      " 79  SaleCondition  1460 non-null   object \n",
      " 80  SalePrice      1460 non-null   int64  \n",
      "dtypes: float64(3), int64(35), object(43)\n",
      "memory usage: 924.0+ KB\n"
     ]
    }
   ],
   "source": [
    "df.info()"
   ]
  },
  {
   "cell_type": "code",
   "execution_count": 790,
   "id": "a723eab6-2e66-456b-ad9c-96a72b0bd39b",
   "metadata": {},
   "outputs": [],
   "source": [
    "num_df = df.select_dtypes(include=['int64','float64']).copy()"
   ]
  },
  {
   "cell_type": "code",
   "execution_count": 791,
   "id": "7a539b9b-11dd-41b0-b91b-8c586af649ef",
   "metadata": {},
   "outputs": [],
   "source": [
    "num_df.reset_index(inplace=True, drop=True)"
   ]
  },
  {
   "cell_type": "code",
   "execution_count": 792,
   "id": "941b6579-7262-4889-98e6-5aeed9d2ef32",
   "metadata": {},
   "outputs": [],
   "source": [
    "df_obj.reset_index(inplace=True, drop=True)"
   ]
  },
  {
   "cell_type": "code",
   "execution_count": 793,
   "id": "45f2562d-a5f9-4d04-9052-b95fdc053178",
   "metadata": {},
   "outputs": [],
   "source": [
    "train_df_final= pd.concat([num_df,df_obj], axis=1)"
   ]
  },
  {
   "cell_type": "code",
   "execution_count": 794,
   "id": "e67d4d8a-0abb-440b-83e0-a2a84fe74ec2",
   "metadata": {},
   "outputs": [],
   "source": [
    "train_df_final.drop(['Id'],axis=1, inplace=True)"
   ]
  },
  {
   "cell_type": "code",
   "execution_count": 795,
   "id": "777f97fd-38ab-403a-a861-238fb9f37a01",
   "metadata": {},
   "outputs": [],
   "source": [
    "train_df_final.drop([1459], inplace=True)"
   ]
  },
  {
   "cell_type": "code",
   "execution_count": 796,
   "id": "3008e443-b3dc-444b-b781-7139697bb7de",
   "metadata": {},
   "outputs": [
    {
     "data": {
      "text/html": [
       "<div>\n",
       "<style scoped>\n",
       "    .dataframe tbody tr th:only-of-type {\n",
       "        vertical-align: middle;\n",
       "    }\n",
       "\n",
       "    .dataframe tbody tr th {\n",
       "        vertical-align: top;\n",
       "    }\n",
       "\n",
       "    .dataframe thead th {\n",
       "        text-align: right;\n",
       "    }\n",
       "</style>\n",
       "<table border=\"1\" class=\"dataframe\">\n",
       "  <thead>\n",
       "    <tr style=\"text-align: right;\">\n",
       "      <th></th>\n",
       "      <th>MSSubClass</th>\n",
       "      <th>LotFrontage</th>\n",
       "      <th>LotArea</th>\n",
       "      <th>OverallQual</th>\n",
       "      <th>OverallCond</th>\n",
       "      <th>YearBuilt</th>\n",
       "      <th>YearRemodAdd</th>\n",
       "      <th>MasVnrArea</th>\n",
       "      <th>BsmtFinSF1</th>\n",
       "      <th>BsmtFinSF2</th>\n",
       "      <th>...</th>\n",
       "      <th>SaleType_ConLw</th>\n",
       "      <th>SaleType_New</th>\n",
       "      <th>SaleType_Oth</th>\n",
       "      <th>SaleType_WD</th>\n",
       "      <th>SaleCondition_Abnorml</th>\n",
       "      <th>SaleCondition_AdjLand</th>\n",
       "      <th>SaleCondition_Alloca</th>\n",
       "      <th>SaleCondition_Family</th>\n",
       "      <th>SaleCondition_Normal</th>\n",
       "      <th>SaleCondition_Partial</th>\n",
       "    </tr>\n",
       "  </thead>\n",
       "  <tbody>\n",
       "    <tr>\n",
       "      <th>0</th>\n",
       "      <td>60</td>\n",
       "      <td>65.0</td>\n",
       "      <td>8450</td>\n",
       "      <td>7</td>\n",
       "      <td>5</td>\n",
       "      <td>2003</td>\n",
       "      <td>2003</td>\n",
       "      <td>196.0</td>\n",
       "      <td>706</td>\n",
       "      <td>0</td>\n",
       "      <td>...</td>\n",
       "      <td>0</td>\n",
       "      <td>0</td>\n",
       "      <td>0</td>\n",
       "      <td>1</td>\n",
       "      <td>0</td>\n",
       "      <td>0</td>\n",
       "      <td>0</td>\n",
       "      <td>0</td>\n",
       "      <td>1</td>\n",
       "      <td>0</td>\n",
       "    </tr>\n",
       "    <tr>\n",
       "      <th>1</th>\n",
       "      <td>20</td>\n",
       "      <td>80.0</td>\n",
       "      <td>9600</td>\n",
       "      <td>6</td>\n",
       "      <td>8</td>\n",
       "      <td>1976</td>\n",
       "      <td>1976</td>\n",
       "      <td>0.0</td>\n",
       "      <td>978</td>\n",
       "      <td>0</td>\n",
       "      <td>...</td>\n",
       "      <td>0</td>\n",
       "      <td>0</td>\n",
       "      <td>0</td>\n",
       "      <td>1</td>\n",
       "      <td>0</td>\n",
       "      <td>0</td>\n",
       "      <td>0</td>\n",
       "      <td>0</td>\n",
       "      <td>1</td>\n",
       "      <td>0</td>\n",
       "    </tr>\n",
       "    <tr>\n",
       "      <th>2</th>\n",
       "      <td>60</td>\n",
       "      <td>68.0</td>\n",
       "      <td>11250</td>\n",
       "      <td>7</td>\n",
       "      <td>5</td>\n",
       "      <td>2001</td>\n",
       "      <td>2002</td>\n",
       "      <td>162.0</td>\n",
       "      <td>486</td>\n",
       "      <td>0</td>\n",
       "      <td>...</td>\n",
       "      <td>0</td>\n",
       "      <td>0</td>\n",
       "      <td>0</td>\n",
       "      <td>1</td>\n",
       "      <td>0</td>\n",
       "      <td>0</td>\n",
       "      <td>0</td>\n",
       "      <td>0</td>\n",
       "      <td>1</td>\n",
       "      <td>0</td>\n",
       "    </tr>\n",
       "    <tr>\n",
       "      <th>3</th>\n",
       "      <td>70</td>\n",
       "      <td>60.0</td>\n",
       "      <td>9550</td>\n",
       "      <td>7</td>\n",
       "      <td>5</td>\n",
       "      <td>1915</td>\n",
       "      <td>1970</td>\n",
       "      <td>0.0</td>\n",
       "      <td>216</td>\n",
       "      <td>0</td>\n",
       "      <td>...</td>\n",
       "      <td>0</td>\n",
       "      <td>0</td>\n",
       "      <td>0</td>\n",
       "      <td>1</td>\n",
       "      <td>1</td>\n",
       "      <td>0</td>\n",
       "      <td>0</td>\n",
       "      <td>0</td>\n",
       "      <td>0</td>\n",
       "      <td>0</td>\n",
       "    </tr>\n",
       "    <tr>\n",
       "      <th>4</th>\n",
       "      <td>60</td>\n",
       "      <td>84.0</td>\n",
       "      <td>14260</td>\n",
       "      <td>8</td>\n",
       "      <td>5</td>\n",
       "      <td>2000</td>\n",
       "      <td>2000</td>\n",
       "      <td>350.0</td>\n",
       "      <td>655</td>\n",
       "      <td>0</td>\n",
       "      <td>...</td>\n",
       "      <td>0</td>\n",
       "      <td>0</td>\n",
       "      <td>0</td>\n",
       "      <td>1</td>\n",
       "      <td>0</td>\n",
       "      <td>0</td>\n",
       "      <td>0</td>\n",
       "      <td>0</td>\n",
       "      <td>1</td>\n",
       "      <td>0</td>\n",
       "    </tr>\n",
       "    <tr>\n",
       "      <th>...</th>\n",
       "      <td>...</td>\n",
       "      <td>...</td>\n",
       "      <td>...</td>\n",
       "      <td>...</td>\n",
       "      <td>...</td>\n",
       "      <td>...</td>\n",
       "      <td>...</td>\n",
       "      <td>...</td>\n",
       "      <td>...</td>\n",
       "      <td>...</td>\n",
       "      <td>...</td>\n",
       "      <td>...</td>\n",
       "      <td>...</td>\n",
       "      <td>...</td>\n",
       "      <td>...</td>\n",
       "      <td>...</td>\n",
       "      <td>...</td>\n",
       "      <td>...</td>\n",
       "      <td>...</td>\n",
       "      <td>...</td>\n",
       "      <td>...</td>\n",
       "    </tr>\n",
       "    <tr>\n",
       "      <th>1454</th>\n",
       "      <td>20</td>\n",
       "      <td>62.0</td>\n",
       "      <td>7500</td>\n",
       "      <td>7</td>\n",
       "      <td>5</td>\n",
       "      <td>2004</td>\n",
       "      <td>2005</td>\n",
       "      <td>0.0</td>\n",
       "      <td>410</td>\n",
       "      <td>0</td>\n",
       "      <td>...</td>\n",
       "      <td>0</td>\n",
       "      <td>0</td>\n",
       "      <td>0</td>\n",
       "      <td>1</td>\n",
       "      <td>0</td>\n",
       "      <td>0</td>\n",
       "      <td>0</td>\n",
       "      <td>0</td>\n",
       "      <td>1</td>\n",
       "      <td>0</td>\n",
       "    </tr>\n",
       "    <tr>\n",
       "      <th>1455</th>\n",
       "      <td>60</td>\n",
       "      <td>62.0</td>\n",
       "      <td>7917</td>\n",
       "      <td>6</td>\n",
       "      <td>5</td>\n",
       "      <td>1999</td>\n",
       "      <td>2000</td>\n",
       "      <td>0.0</td>\n",
       "      <td>0</td>\n",
       "      <td>0</td>\n",
       "      <td>...</td>\n",
       "      <td>0</td>\n",
       "      <td>0</td>\n",
       "      <td>0</td>\n",
       "      <td>1</td>\n",
       "      <td>0</td>\n",
       "      <td>0</td>\n",
       "      <td>0</td>\n",
       "      <td>0</td>\n",
       "      <td>1</td>\n",
       "      <td>0</td>\n",
       "    </tr>\n",
       "    <tr>\n",
       "      <th>1456</th>\n",
       "      <td>20</td>\n",
       "      <td>85.0</td>\n",
       "      <td>13175</td>\n",
       "      <td>6</td>\n",
       "      <td>6</td>\n",
       "      <td>1978</td>\n",
       "      <td>1988</td>\n",
       "      <td>119.0</td>\n",
       "      <td>790</td>\n",
       "      <td>163</td>\n",
       "      <td>...</td>\n",
       "      <td>0</td>\n",
       "      <td>0</td>\n",
       "      <td>0</td>\n",
       "      <td>1</td>\n",
       "      <td>0</td>\n",
       "      <td>0</td>\n",
       "      <td>0</td>\n",
       "      <td>0</td>\n",
       "      <td>1</td>\n",
       "      <td>0</td>\n",
       "    </tr>\n",
       "    <tr>\n",
       "      <th>1457</th>\n",
       "      <td>70</td>\n",
       "      <td>66.0</td>\n",
       "      <td>9042</td>\n",
       "      <td>7</td>\n",
       "      <td>9</td>\n",
       "      <td>1941</td>\n",
       "      <td>2006</td>\n",
       "      <td>0.0</td>\n",
       "      <td>275</td>\n",
       "      <td>0</td>\n",
       "      <td>...</td>\n",
       "      <td>0</td>\n",
       "      <td>0</td>\n",
       "      <td>0</td>\n",
       "      <td>1</td>\n",
       "      <td>0</td>\n",
       "      <td>0</td>\n",
       "      <td>0</td>\n",
       "      <td>0</td>\n",
       "      <td>1</td>\n",
       "      <td>0</td>\n",
       "    </tr>\n",
       "    <tr>\n",
       "      <th>1458</th>\n",
       "      <td>20</td>\n",
       "      <td>68.0</td>\n",
       "      <td>9717</td>\n",
       "      <td>5</td>\n",
       "      <td>6</td>\n",
       "      <td>1950</td>\n",
       "      <td>1996</td>\n",
       "      <td>0.0</td>\n",
       "      <td>49</td>\n",
       "      <td>1029</td>\n",
       "      <td>...</td>\n",
       "      <td>0</td>\n",
       "      <td>0</td>\n",
       "      <td>0</td>\n",
       "      <td>1</td>\n",
       "      <td>0</td>\n",
       "      <td>0</td>\n",
       "      <td>0</td>\n",
       "      <td>0</td>\n",
       "      <td>1</td>\n",
       "      <td>0</td>\n",
       "    </tr>\n",
       "  </tbody>\n",
       "</table>\n",
       "<p>1459 rows × 119 columns</p>\n",
       "</div>"
      ],
      "text/plain": [
       "      MSSubClass  LotFrontage  LotArea  OverallQual  OverallCond  YearBuilt  \\\n",
       "0             60         65.0     8450            7            5       2003   \n",
       "1             20         80.0     9600            6            8       1976   \n",
       "2             60         68.0    11250            7            5       2001   \n",
       "3             70         60.0     9550            7            5       1915   \n",
       "4             60         84.0    14260            8            5       2000   \n",
       "...          ...          ...      ...          ...          ...        ...   \n",
       "1454          20         62.0     7500            7            5       2004   \n",
       "1455          60         62.0     7917            6            5       1999   \n",
       "1456          20         85.0    13175            6            6       1978   \n",
       "1457          70         66.0     9042            7            9       1941   \n",
       "1458          20         68.0     9717            5            6       1950   \n",
       "\n",
       "      YearRemodAdd  MasVnrArea  BsmtFinSF1  BsmtFinSF2  ...  SaleType_ConLw  \\\n",
       "0             2003       196.0         706           0  ...               0   \n",
       "1             1976         0.0         978           0  ...               0   \n",
       "2             2002       162.0         486           0  ...               0   \n",
       "3             1970         0.0         216           0  ...               0   \n",
       "4             2000       350.0         655           0  ...               0   \n",
       "...            ...         ...         ...         ...  ...             ...   \n",
       "1454          2005         0.0         410           0  ...               0   \n",
       "1455          2000         0.0           0           0  ...               0   \n",
       "1456          1988       119.0         790         163  ...               0   \n",
       "1457          2006         0.0         275           0  ...               0   \n",
       "1458          1996         0.0          49        1029  ...               0   \n",
       "\n",
       "      SaleType_New  SaleType_Oth  SaleType_WD  SaleCondition_Abnorml  \\\n",
       "0                0             0            1                      0   \n",
       "1                0             0            1                      0   \n",
       "2                0             0            1                      0   \n",
       "3                0             0            1                      1   \n",
       "4                0             0            1                      0   \n",
       "...            ...           ...          ...                    ...   \n",
       "1454             0             0            1                      0   \n",
       "1455             0             0            1                      0   \n",
       "1456             0             0            1                      0   \n",
       "1457             0             0            1                      0   \n",
       "1458             0             0            1                      0   \n",
       "\n",
       "      SaleCondition_AdjLand  SaleCondition_Alloca  SaleCondition_Family  \\\n",
       "0                         0                     0                     0   \n",
       "1                         0                     0                     0   \n",
       "2                         0                     0                     0   \n",
       "3                         0                     0                     0   \n",
       "4                         0                     0                     0   \n",
       "...                     ...                   ...                   ...   \n",
       "1454                      0                     0                     0   \n",
       "1455                      0                     0                     0   \n",
       "1456                      0                     0                     0   \n",
       "1457                      0                     0                     0   \n",
       "1458                      0                     0                     0   \n",
       "\n",
       "      SaleCondition_Normal  SaleCondition_Partial  \n",
       "0                        1                      0  \n",
       "1                        1                      0  \n",
       "2                        1                      0  \n",
       "3                        0                      0  \n",
       "4                        1                      0  \n",
       "...                    ...                    ...  \n",
       "1454                     1                      0  \n",
       "1455                     1                      0  \n",
       "1456                     1                      0  \n",
       "1457                     1                      0  \n",
       "1458                     1                      0  \n",
       "\n",
       "[1459 rows x 119 columns]"
      ]
     },
     "execution_count": 796,
     "metadata": {},
     "output_type": "execute_result"
    }
   ],
   "source": [
    "train_df_final"
   ]
  },
  {
   "cell_type": "code",
   "execution_count": 797,
   "id": "9f9603b9-cba5-4436-bda0-abdd2d4dd11b",
   "metadata": {},
   "outputs": [],
   "source": [
    "train_df_final.to_csv('train_df_final.csv', index=False)"
   ]
  },
  {
   "cell_type": "code",
   "execution_count": 799,
   "id": "c97d8e8f-1a80-4d32-9883-bddbcfe0d5e8",
   "metadata": {},
   "outputs": [],
   "source": [
    "df_obj.to_csv('train_obj_toInt.csv',index=False)"
   ]
  },
  {
   "cell_type": "code",
   "execution_count": null,
   "id": "a1150e95-2b77-4127-8998-3061c5bffb0f",
   "metadata": {},
   "outputs": [],
   "source": []
  }
 ],
 "metadata": {
  "kernelspec": {
   "display_name": "Python 3 (ipykernel)",
   "language": "python",
   "name": "python3"
  },
  "language_info": {
   "codemirror_mode": {
    "name": "ipython",
    "version": 3
   },
   "file_extension": ".py",
   "mimetype": "text/x-python",
   "name": "python",
   "nbconvert_exporter": "python",
   "pygments_lexer": "ipython3",
   "version": "3.7.9"
  }
 },
 "nbformat": 4,
 "nbformat_minor": 5
}
