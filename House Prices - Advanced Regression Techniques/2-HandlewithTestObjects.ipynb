{
 "cells": [
  {
   "cell_type": "code",
   "execution_count": 674,
   "id": "4fe516bc-ce15-42dc-9cc5-b69977c93dd5",
   "metadata": {},
   "outputs": [],
   "source": [
    "import numpy as np\n",
    "import pandas as pd\n",
    "import matplotlib.pyplot as plt\n",
    "import warnings\n",
    "import seaborn as sns\n",
    "warnings.filterwarnings(\"ignore\")"
   ]
  },
  {
   "cell_type": "markdown",
   "id": "c76f91d5-d90d-437e-8f74-e9137d221eba",
   "metadata": {
    "tags": []
   },
   "source": [
    "#### Preparing train dataset"
   ]
  },
  {
   "cell_type": "code",
   "execution_count": 675,
   "id": "19a46c76-9732-478f-88e3-871789393f2a",
   "metadata": {},
   "outputs": [
    {
     "data": {
      "text/html": [
       "<div>\n",
       "<style scoped>\n",
       "    .dataframe tbody tr th:only-of-type {\n",
       "        vertical-align: middle;\n",
       "    }\n",
       "\n",
       "    .dataframe tbody tr th {\n",
       "        vertical-align: top;\n",
       "    }\n",
       "\n",
       "    .dataframe thead th {\n",
       "        text-align: right;\n",
       "    }\n",
       "</style>\n",
       "<table border=\"1\" class=\"dataframe\">\n",
       "  <thead>\n",
       "    <tr style=\"text-align: right;\">\n",
       "      <th></th>\n",
       "      <th>MSZoning</th>\n",
       "      <th>Street</th>\n",
       "      <th>Alley</th>\n",
       "      <th>LotShape</th>\n",
       "      <th>LandContour</th>\n",
       "      <th>Utilities</th>\n",
       "      <th>LotConfig</th>\n",
       "      <th>LandSlope</th>\n",
       "      <th>Neighborhood</th>\n",
       "      <th>Condition1</th>\n",
       "      <th>...</th>\n",
       "      <th>SaleType_ConLw</th>\n",
       "      <th>SaleType_New</th>\n",
       "      <th>SaleType_Oth</th>\n",
       "      <th>SaleType_WD</th>\n",
       "      <th>SaleCondition_Abnorml</th>\n",
       "      <th>SaleCondition_AdjLand</th>\n",
       "      <th>SaleCondition_Alloca</th>\n",
       "      <th>SaleCondition_Family</th>\n",
       "      <th>SaleCondition_Normal</th>\n",
       "      <th>SaleCondition_Partial</th>\n",
       "    </tr>\n",
       "  </thead>\n",
       "  <tbody>\n",
       "    <tr>\n",
       "      <th>0</th>\n",
       "      <td>5</td>\n",
       "      <td>2</td>\n",
       "      <td>0</td>\n",
       "      <td>3</td>\n",
       "      <td>3</td>\n",
       "      <td>1</td>\n",
       "      <td>1</td>\n",
       "      <td>2</td>\n",
       "      <td>16</td>\n",
       "      <td>4</td>\n",
       "      <td>...</td>\n",
       "      <td>0</td>\n",
       "      <td>0</td>\n",
       "      <td>0</td>\n",
       "      <td>1</td>\n",
       "      <td>0</td>\n",
       "      <td>0</td>\n",
       "      <td>0</td>\n",
       "      <td>0</td>\n",
       "      <td>1</td>\n",
       "      <td>0</td>\n",
       "    </tr>\n",
       "    <tr>\n",
       "      <th>1</th>\n",
       "      <td>5</td>\n",
       "      <td>2</td>\n",
       "      <td>0</td>\n",
       "      <td>3</td>\n",
       "      <td>3</td>\n",
       "      <td>1</td>\n",
       "      <td>0</td>\n",
       "      <td>2</td>\n",
       "      <td>20</td>\n",
       "      <td>2</td>\n",
       "      <td>...</td>\n",
       "      <td>0</td>\n",
       "      <td>0</td>\n",
       "      <td>0</td>\n",
       "      <td>1</td>\n",
       "      <td>0</td>\n",
       "      <td>0</td>\n",
       "      <td>0</td>\n",
       "      <td>0</td>\n",
       "      <td>1</td>\n",
       "      <td>0</td>\n",
       "    </tr>\n",
       "    <tr>\n",
       "      <th>2</th>\n",
       "      <td>5</td>\n",
       "      <td>2</td>\n",
       "      <td>0</td>\n",
       "      <td>2</td>\n",
       "      <td>3</td>\n",
       "      <td>1</td>\n",
       "      <td>1</td>\n",
       "      <td>2</td>\n",
       "      <td>16</td>\n",
       "      <td>4</td>\n",
       "      <td>...</td>\n",
       "      <td>0</td>\n",
       "      <td>0</td>\n",
       "      <td>0</td>\n",
       "      <td>1</td>\n",
       "      <td>0</td>\n",
       "      <td>0</td>\n",
       "      <td>0</td>\n",
       "      <td>0</td>\n",
       "      <td>1</td>\n",
       "      <td>0</td>\n",
       "    </tr>\n",
       "    <tr>\n",
       "      <th>3</th>\n",
       "      <td>5</td>\n",
       "      <td>2</td>\n",
       "      <td>0</td>\n",
       "      <td>2</td>\n",
       "      <td>3</td>\n",
       "      <td>1</td>\n",
       "      <td>3</td>\n",
       "      <td>2</td>\n",
       "      <td>17</td>\n",
       "      <td>4</td>\n",
       "      <td>...</td>\n",
       "      <td>0</td>\n",
       "      <td>0</td>\n",
       "      <td>0</td>\n",
       "      <td>1</td>\n",
       "      <td>1</td>\n",
       "      <td>0</td>\n",
       "      <td>0</td>\n",
       "      <td>0</td>\n",
       "      <td>0</td>\n",
       "      <td>0</td>\n",
       "    </tr>\n",
       "    <tr>\n",
       "      <th>4</th>\n",
       "      <td>5</td>\n",
       "      <td>2</td>\n",
       "      <td>0</td>\n",
       "      <td>2</td>\n",
       "      <td>3</td>\n",
       "      <td>1</td>\n",
       "      <td>0</td>\n",
       "      <td>2</td>\n",
       "      <td>24</td>\n",
       "      <td>4</td>\n",
       "      <td>...</td>\n",
       "      <td>0</td>\n",
       "      <td>0</td>\n",
       "      <td>0</td>\n",
       "      <td>1</td>\n",
       "      <td>0</td>\n",
       "      <td>0</td>\n",
       "      <td>0</td>\n",
       "      <td>0</td>\n",
       "      <td>1</td>\n",
       "      <td>0</td>\n",
       "    </tr>\n",
       "  </tbody>\n",
       "</table>\n",
       "<p>5 rows × 82 columns</p>\n",
       "</div>"
      ],
      "text/plain": [
       "   MSZoning  Street  Alley  LotShape  LandContour  Utilities  LotConfig  \\\n",
       "0         5       2      0         3            3          1          1   \n",
       "1         5       2      0         3            3          1          0   \n",
       "2         5       2      0         2            3          1          1   \n",
       "3         5       2      0         2            3          1          3   \n",
       "4         5       2      0         2            3          1          0   \n",
       "\n",
       "   LandSlope  Neighborhood  Condition1  ...  SaleType_ConLw  SaleType_New  \\\n",
       "0          2            16           4  ...               0             0   \n",
       "1          2            20           2  ...               0             0   \n",
       "2          2            16           4  ...               0             0   \n",
       "3          2            17           4  ...               0             0   \n",
       "4          2            24           4  ...               0             0   \n",
       "\n",
       "   SaleType_Oth  SaleType_WD  SaleCondition_Abnorml  SaleCondition_AdjLand  \\\n",
       "0             0            1                      0                      0   \n",
       "1             0            1                      0                      0   \n",
       "2             0            1                      0                      0   \n",
       "3             0            1                      1                      0   \n",
       "4             0            1                      0                      0   \n",
       "\n",
       "   SaleCondition_Alloca  SaleCondition_Family  SaleCondition_Normal  \\\n",
       "0                     0                     0                     1   \n",
       "1                     0                     0                     1   \n",
       "2                     0                     0                     1   \n",
       "3                     0                     0                     0   \n",
       "4                     0                     0                     1   \n",
       "\n",
       "   SaleCondition_Partial  \n",
       "0                      0  \n",
       "1                      0  \n",
       "2                      0  \n",
       "3                      0  \n",
       "4                      0  \n",
       "\n",
       "[5 rows x 82 columns]"
      ]
     },
     "execution_count": 675,
     "metadata": {},
     "output_type": "execute_result"
    }
   ],
   "source": [
    "raw_df = pd.read_csv(\"train.csv\")\n",
    "df=raw_df.copy()\n",
    "obj_df = pd.read_csv(\"df_objwoi.csv\")\n",
    "obj_df.head()"
   ]
  },
  {
   "cell_type": "code",
   "execution_count": 676,
   "id": "2533813a-ba5f-4d42-a1e0-28674d88f2f9",
   "metadata": {
    "tags": []
   },
   "outputs": [
    {
     "name": "stdout",
     "output_type": "stream",
     "text": [
      "<class 'pandas.core.frame.DataFrame'>\n",
      "RangeIndex: 1460 entries, 0 to 1459\n",
      "Data columns (total 81 columns):\n",
      " #   Column         Non-Null Count  Dtype  \n",
      "---  ------         --------------  -----  \n",
      " 0   Id             1460 non-null   int64  \n",
      " 1   MSSubClass     1460 non-null   int64  \n",
      " 2   MSZoning       1460 non-null   object \n",
      " 3   LotFrontage    1201 non-null   float64\n",
      " 4   LotArea        1460 non-null   int64  \n",
      " 5   Street         1460 non-null   object \n",
      " 6   Alley          91 non-null     object \n",
      " 7   LotShape       1460 non-null   object \n",
      " 8   LandContour    1460 non-null   object \n",
      " 9   Utilities      1460 non-null   object \n",
      " 10  LotConfig      1460 non-null   object \n",
      " 11  LandSlope      1460 non-null   object \n",
      " 12  Neighborhood   1460 non-null   object \n",
      " 13  Condition1     1460 non-null   object \n",
      " 14  Condition2     1460 non-null   object \n",
      " 15  BldgType       1460 non-null   object \n",
      " 16  HouseStyle     1460 non-null   object \n",
      " 17  OverallQual    1460 non-null   int64  \n",
      " 18  OverallCond    1460 non-null   int64  \n",
      " 19  YearBuilt      1460 non-null   int64  \n",
      " 20  YearRemodAdd   1460 non-null   int64  \n",
      " 21  RoofStyle      1460 non-null   object \n",
      " 22  RoofMatl       1460 non-null   object \n",
      " 23  Exterior1st    1460 non-null   object \n",
      " 24  Exterior2nd    1460 non-null   object \n",
      " 25  MasVnrType     1452 non-null   object \n",
      " 26  MasVnrArea     1452 non-null   float64\n",
      " 27  ExterQual      1460 non-null   object \n",
      " 28  ExterCond      1460 non-null   object \n",
      " 29  Foundation     1460 non-null   object \n",
      " 30  BsmtQual       1423 non-null   object \n",
      " 31  BsmtCond       1423 non-null   object \n",
      " 32  BsmtExposure   1422 non-null   object \n",
      " 33  BsmtFinType1   1423 non-null   object \n",
      " 34  BsmtFinSF1     1460 non-null   int64  \n",
      " 35  BsmtFinType2   1422 non-null   object \n",
      " 36  BsmtFinSF2     1460 non-null   int64  \n",
      " 37  BsmtUnfSF      1460 non-null   int64  \n",
      " 38  TotalBsmtSF    1460 non-null   int64  \n",
      " 39  Heating        1460 non-null   object \n",
      " 40  HeatingQC      1460 non-null   object \n",
      " 41  CentralAir     1460 non-null   object \n",
      " 42  Electrical     1459 non-null   object \n",
      " 43  1stFlrSF       1460 non-null   int64  \n",
      " 44  2ndFlrSF       1460 non-null   int64  \n",
      " 45  LowQualFinSF   1460 non-null   int64  \n",
      " 46  GrLivArea      1460 non-null   int64  \n",
      " 47  BsmtFullBath   1460 non-null   int64  \n",
      " 48  BsmtHalfBath   1460 non-null   int64  \n",
      " 49  FullBath       1460 non-null   int64  \n",
      " 50  HalfBath       1460 non-null   int64  \n",
      " 51  BedroomAbvGr   1460 non-null   int64  \n",
      " 52  KitchenAbvGr   1460 non-null   int64  \n",
      " 53  KitchenQual    1460 non-null   object \n",
      " 54  TotRmsAbvGrd   1460 non-null   int64  \n",
      " 55  Functional     1460 non-null   object \n",
      " 56  Fireplaces     1460 non-null   int64  \n",
      " 57  FireplaceQu    770 non-null    object \n",
      " 58  GarageType     1379 non-null   object \n",
      " 59  GarageYrBlt    1379 non-null   float64\n",
      " 60  GarageFinish   1379 non-null   object \n",
      " 61  GarageCars     1460 non-null   int64  \n",
      " 62  GarageArea     1460 non-null   int64  \n",
      " 63  GarageQual     1379 non-null   object \n",
      " 64  GarageCond     1379 non-null   object \n",
      " 65  PavedDrive     1460 non-null   object \n",
      " 66  WoodDeckSF     1460 non-null   int64  \n",
      " 67  OpenPorchSF    1460 non-null   int64  \n",
      " 68  EnclosedPorch  1460 non-null   int64  \n",
      " 69  3SsnPorch      1460 non-null   int64  \n",
      " 70  ScreenPorch    1460 non-null   int64  \n",
      " 71  PoolArea       1460 non-null   int64  \n",
      " 72  PoolQC         7 non-null      object \n",
      " 73  Fence          281 non-null    object \n",
      " 74  MiscFeature    54 non-null     object \n",
      " 75  MiscVal        1460 non-null   int64  \n",
      " 76  MoSold         1460 non-null   int64  \n",
      " 77  YrSold         1460 non-null   int64  \n",
      " 78  SaleType       1460 non-null   object \n",
      " 79  SaleCondition  1460 non-null   object \n",
      " 80  SalePrice      1460 non-null   int64  \n",
      "dtypes: float64(3), int64(35), object(43)\n",
      "memory usage: 924.0+ KB\n"
     ]
    }
   ],
   "source": [
    "df.info()"
   ]
  },
  {
   "cell_type": "code",
   "execution_count": 677,
   "id": "b6a26f5e-9d08-4bdb-b422-f81d8a28eb4a",
   "metadata": {},
   "outputs": [],
   "source": [
    "col_list = list(df.select_dtypes(include=['object']).columns)"
   ]
  },
  {
   "cell_type": "code",
   "execution_count": 678,
   "id": "d1587b15-7e29-4192-b388-1971cbcbcc4a",
   "metadata": {},
   "outputs": [],
   "source": [
    "df.drop(col_list, axis=1, inplace=True)"
   ]
  },
  {
   "cell_type": "code",
   "execution_count": 679,
   "id": "7fdc2204-fa08-4ea9-a97d-82d498a83522",
   "metadata": {},
   "outputs": [],
   "source": [
    "df = pd.concat([df,obj_df], axis=1)"
   ]
  },
  {
   "cell_type": "code",
   "execution_count": 680,
   "id": "5545b2bb-7d4b-40bf-b973-ac2adb60c39f",
   "metadata": {},
   "outputs": [
    {
     "data": {
      "text/html": [
       "<div>\n",
       "<style scoped>\n",
       "    .dataframe tbody tr th:only-of-type {\n",
       "        vertical-align: middle;\n",
       "    }\n",
       "\n",
       "    .dataframe tbody tr th {\n",
       "        vertical-align: top;\n",
       "    }\n",
       "\n",
       "    .dataframe thead th {\n",
       "        text-align: right;\n",
       "    }\n",
       "</style>\n",
       "<table border=\"1\" class=\"dataframe\">\n",
       "  <thead>\n",
       "    <tr style=\"text-align: right;\">\n",
       "      <th></th>\n",
       "      <th>Id</th>\n",
       "      <th>MSSubClass</th>\n",
       "      <th>MSZoning</th>\n",
       "      <th>LotFrontage</th>\n",
       "      <th>LotArea</th>\n",
       "      <th>Street</th>\n",
       "      <th>Alley</th>\n",
       "      <th>LotShape</th>\n",
       "      <th>LandContour</th>\n",
       "      <th>Utilities</th>\n",
       "      <th>...</th>\n",
       "      <th>ScreenPorch</th>\n",
       "      <th>PoolArea</th>\n",
       "      <th>PoolQC</th>\n",
       "      <th>Fence</th>\n",
       "      <th>MiscFeature</th>\n",
       "      <th>MiscVal</th>\n",
       "      <th>MoSold</th>\n",
       "      <th>YrSold</th>\n",
       "      <th>SaleType</th>\n",
       "      <th>SaleCondition</th>\n",
       "    </tr>\n",
       "  </thead>\n",
       "  <tbody>\n",
       "    <tr>\n",
       "      <th>0</th>\n",
       "      <td>1461</td>\n",
       "      <td>20</td>\n",
       "      <td>RH</td>\n",
       "      <td>80.0</td>\n",
       "      <td>11622</td>\n",
       "      <td>Pave</td>\n",
       "      <td>NaN</td>\n",
       "      <td>Reg</td>\n",
       "      <td>Lvl</td>\n",
       "      <td>AllPub</td>\n",
       "      <td>...</td>\n",
       "      <td>120</td>\n",
       "      <td>0</td>\n",
       "      <td>NaN</td>\n",
       "      <td>MnPrv</td>\n",
       "      <td>NaN</td>\n",
       "      <td>0</td>\n",
       "      <td>6</td>\n",
       "      <td>2010</td>\n",
       "      <td>WD</td>\n",
       "      <td>Normal</td>\n",
       "    </tr>\n",
       "    <tr>\n",
       "      <th>1</th>\n",
       "      <td>1462</td>\n",
       "      <td>20</td>\n",
       "      <td>RL</td>\n",
       "      <td>81.0</td>\n",
       "      <td>14267</td>\n",
       "      <td>Pave</td>\n",
       "      <td>NaN</td>\n",
       "      <td>IR1</td>\n",
       "      <td>Lvl</td>\n",
       "      <td>AllPub</td>\n",
       "      <td>...</td>\n",
       "      <td>0</td>\n",
       "      <td>0</td>\n",
       "      <td>NaN</td>\n",
       "      <td>NaN</td>\n",
       "      <td>Gar2</td>\n",
       "      <td>12500</td>\n",
       "      <td>6</td>\n",
       "      <td>2010</td>\n",
       "      <td>WD</td>\n",
       "      <td>Normal</td>\n",
       "    </tr>\n",
       "    <tr>\n",
       "      <th>2</th>\n",
       "      <td>1463</td>\n",
       "      <td>60</td>\n",
       "      <td>RL</td>\n",
       "      <td>74.0</td>\n",
       "      <td>13830</td>\n",
       "      <td>Pave</td>\n",
       "      <td>NaN</td>\n",
       "      <td>IR1</td>\n",
       "      <td>Lvl</td>\n",
       "      <td>AllPub</td>\n",
       "      <td>...</td>\n",
       "      <td>0</td>\n",
       "      <td>0</td>\n",
       "      <td>NaN</td>\n",
       "      <td>MnPrv</td>\n",
       "      <td>NaN</td>\n",
       "      <td>0</td>\n",
       "      <td>3</td>\n",
       "      <td>2010</td>\n",
       "      <td>WD</td>\n",
       "      <td>Normal</td>\n",
       "    </tr>\n",
       "    <tr>\n",
       "      <th>3</th>\n",
       "      <td>1464</td>\n",
       "      <td>60</td>\n",
       "      <td>RL</td>\n",
       "      <td>78.0</td>\n",
       "      <td>9978</td>\n",
       "      <td>Pave</td>\n",
       "      <td>NaN</td>\n",
       "      <td>IR1</td>\n",
       "      <td>Lvl</td>\n",
       "      <td>AllPub</td>\n",
       "      <td>...</td>\n",
       "      <td>0</td>\n",
       "      <td>0</td>\n",
       "      <td>NaN</td>\n",
       "      <td>NaN</td>\n",
       "      <td>NaN</td>\n",
       "      <td>0</td>\n",
       "      <td>6</td>\n",
       "      <td>2010</td>\n",
       "      <td>WD</td>\n",
       "      <td>Normal</td>\n",
       "    </tr>\n",
       "    <tr>\n",
       "      <th>4</th>\n",
       "      <td>1465</td>\n",
       "      <td>120</td>\n",
       "      <td>RL</td>\n",
       "      <td>43.0</td>\n",
       "      <td>5005</td>\n",
       "      <td>Pave</td>\n",
       "      <td>NaN</td>\n",
       "      <td>IR1</td>\n",
       "      <td>HLS</td>\n",
       "      <td>AllPub</td>\n",
       "      <td>...</td>\n",
       "      <td>144</td>\n",
       "      <td>0</td>\n",
       "      <td>NaN</td>\n",
       "      <td>NaN</td>\n",
       "      <td>NaN</td>\n",
       "      <td>0</td>\n",
       "      <td>1</td>\n",
       "      <td>2010</td>\n",
       "      <td>WD</td>\n",
       "      <td>Normal</td>\n",
       "    </tr>\n",
       "  </tbody>\n",
       "</table>\n",
       "<p>5 rows × 80 columns</p>\n",
       "</div>"
      ],
      "text/plain": [
       "     Id  MSSubClass MSZoning  LotFrontage  LotArea Street Alley LotShape  \\\n",
       "0  1461          20       RH         80.0    11622   Pave   NaN      Reg   \n",
       "1  1462          20       RL         81.0    14267   Pave   NaN      IR1   \n",
       "2  1463          60       RL         74.0    13830   Pave   NaN      IR1   \n",
       "3  1464          60       RL         78.0     9978   Pave   NaN      IR1   \n",
       "4  1465         120       RL         43.0     5005   Pave   NaN      IR1   \n",
       "\n",
       "  LandContour Utilities  ... ScreenPorch PoolArea PoolQC  Fence MiscFeature  \\\n",
       "0         Lvl    AllPub  ...         120        0    NaN  MnPrv         NaN   \n",
       "1         Lvl    AllPub  ...           0        0    NaN    NaN        Gar2   \n",
       "2         Lvl    AllPub  ...           0        0    NaN  MnPrv         NaN   \n",
       "3         Lvl    AllPub  ...           0        0    NaN    NaN         NaN   \n",
       "4         HLS    AllPub  ...         144        0    NaN    NaN         NaN   \n",
       "\n",
       "  MiscVal MoSold  YrSold  SaleType  SaleCondition  \n",
       "0       0      6    2010        WD         Normal  \n",
       "1   12500      6    2010        WD         Normal  \n",
       "2       0      3    2010        WD         Normal  \n",
       "3       0      6    2010        WD         Normal  \n",
       "4       0      1    2010        WD         Normal  \n",
       "\n",
       "[5 rows x 80 columns]"
      ]
     },
     "execution_count": 680,
     "metadata": {},
     "output_type": "execute_result"
    }
   ],
   "source": [
    "raw_test = pd.read_csv(\"test.csv\")\n",
    "test_df=raw_test.copy()\n",
    "test_df.head()"
   ]
  },
  {
   "cell_type": "code",
   "execution_count": 681,
   "id": "9471e52a-1402-4e82-82b7-47086010dd6a",
   "metadata": {
    "tags": []
   },
   "outputs": [
    {
     "name": "stdout",
     "output_type": "stream",
     "text": [
      "<class 'pandas.core.frame.DataFrame'>\n",
      "RangeIndex: 1459 entries, 0 to 1458\n",
      "Data columns (total 80 columns):\n",
      " #   Column         Non-Null Count  Dtype  \n",
      "---  ------         --------------  -----  \n",
      " 0   Id             1459 non-null   int64  \n",
      " 1   MSSubClass     1459 non-null   int64  \n",
      " 2   MSZoning       1455 non-null   object \n",
      " 3   LotFrontage    1232 non-null   float64\n",
      " 4   LotArea        1459 non-null   int64  \n",
      " 5   Street         1459 non-null   object \n",
      " 6   Alley          107 non-null    object \n",
      " 7   LotShape       1459 non-null   object \n",
      " 8   LandContour    1459 non-null   object \n",
      " 9   Utilities      1457 non-null   object \n",
      " 10  LotConfig      1459 non-null   object \n",
      " 11  LandSlope      1459 non-null   object \n",
      " 12  Neighborhood   1459 non-null   object \n",
      " 13  Condition1     1459 non-null   object \n",
      " 14  Condition2     1459 non-null   object \n",
      " 15  BldgType       1459 non-null   object \n",
      " 16  HouseStyle     1459 non-null   object \n",
      " 17  OverallQual    1459 non-null   int64  \n",
      " 18  OverallCond    1459 non-null   int64  \n",
      " 19  YearBuilt      1459 non-null   int64  \n",
      " 20  YearRemodAdd   1459 non-null   int64  \n",
      " 21  RoofStyle      1459 non-null   object \n",
      " 22  RoofMatl       1459 non-null   object \n",
      " 23  Exterior1st    1458 non-null   object \n",
      " 24  Exterior2nd    1458 non-null   object \n",
      " 25  MasVnrType     1443 non-null   object \n",
      " 26  MasVnrArea     1444 non-null   float64\n",
      " 27  ExterQual      1459 non-null   object \n",
      " 28  ExterCond      1459 non-null   object \n",
      " 29  Foundation     1459 non-null   object \n",
      " 30  BsmtQual       1415 non-null   object \n",
      " 31  BsmtCond       1414 non-null   object \n",
      " 32  BsmtExposure   1415 non-null   object \n",
      " 33  BsmtFinType1   1417 non-null   object \n",
      " 34  BsmtFinSF1     1458 non-null   float64\n",
      " 35  BsmtFinType2   1417 non-null   object \n",
      " 36  BsmtFinSF2     1458 non-null   float64\n",
      " 37  BsmtUnfSF      1458 non-null   float64\n",
      " 38  TotalBsmtSF    1458 non-null   float64\n",
      " 39  Heating        1459 non-null   object \n",
      " 40  HeatingQC      1459 non-null   object \n",
      " 41  CentralAir     1459 non-null   object \n",
      " 42  Electrical     1459 non-null   object \n",
      " 43  1stFlrSF       1459 non-null   int64  \n",
      " 44  2ndFlrSF       1459 non-null   int64  \n",
      " 45  LowQualFinSF   1459 non-null   int64  \n",
      " 46  GrLivArea      1459 non-null   int64  \n",
      " 47  BsmtFullBath   1457 non-null   float64\n",
      " 48  BsmtHalfBath   1457 non-null   float64\n",
      " 49  FullBath       1459 non-null   int64  \n",
      " 50  HalfBath       1459 non-null   int64  \n",
      " 51  BedroomAbvGr   1459 non-null   int64  \n",
      " 52  KitchenAbvGr   1459 non-null   int64  \n",
      " 53  KitchenQual    1458 non-null   object \n",
      " 54  TotRmsAbvGrd   1459 non-null   int64  \n",
      " 55  Functional     1457 non-null   object \n",
      " 56  Fireplaces     1459 non-null   int64  \n",
      " 57  FireplaceQu    729 non-null    object \n",
      " 58  GarageType     1383 non-null   object \n",
      " 59  GarageYrBlt    1381 non-null   float64\n",
      " 60  GarageFinish   1381 non-null   object \n",
      " 61  GarageCars     1458 non-null   float64\n",
      " 62  GarageArea     1458 non-null   float64\n",
      " 63  GarageQual     1381 non-null   object \n",
      " 64  GarageCond     1381 non-null   object \n",
      " 65  PavedDrive     1459 non-null   object \n",
      " 66  WoodDeckSF     1459 non-null   int64  \n",
      " 67  OpenPorchSF    1459 non-null   int64  \n",
      " 68  EnclosedPorch  1459 non-null   int64  \n",
      " 69  3SsnPorch      1459 non-null   int64  \n",
      " 70  ScreenPorch    1459 non-null   int64  \n",
      " 71  PoolArea       1459 non-null   int64  \n",
      " 72  PoolQC         3 non-null      object \n",
      " 73  Fence          290 non-null    object \n",
      " 74  MiscFeature    51 non-null     object \n",
      " 75  MiscVal        1459 non-null   int64  \n",
      " 76  MoSold         1459 non-null   int64  \n",
      " 77  YrSold         1459 non-null   int64  \n",
      " 78  SaleType       1458 non-null   object \n",
      " 79  SaleCondition  1459 non-null   object \n",
      "dtypes: float64(11), int64(26), object(43)\n",
      "memory usage: 912.0+ KB\n"
     ]
    }
   ],
   "source": [
    "test_df.info()"
   ]
  },
  {
   "cell_type": "code",
   "execution_count": 682,
   "id": "a2126330-93f6-4458-a419-129b5995101a",
   "metadata": {},
   "outputs": [],
   "source": [
    "test_obj  = test_df.select_dtypes(include=['object'])"
   ]
  },
  {
   "cell_type": "code",
   "execution_count": 683,
   "id": "f971e085-8191-474c-a7db-fd5ad28171f9",
   "metadata": {
    "tags": []
   },
   "outputs": [
    {
     "name": "stdout",
     "output_type": "stream",
     "text": [
      "<class 'pandas.core.frame.DataFrame'>\n",
      "RangeIndex: 1459 entries, 0 to 1458\n",
      "Data columns (total 43 columns):\n",
      " #   Column         Non-Null Count  Dtype \n",
      "---  ------         --------------  ----- \n",
      " 0   MSZoning       1455 non-null   object\n",
      " 1   Street         1459 non-null   object\n",
      " 2   Alley          107 non-null    object\n",
      " 3   LotShape       1459 non-null   object\n",
      " 4   LandContour    1459 non-null   object\n",
      " 5   Utilities      1457 non-null   object\n",
      " 6   LotConfig      1459 non-null   object\n",
      " 7   LandSlope      1459 non-null   object\n",
      " 8   Neighborhood   1459 non-null   object\n",
      " 9   Condition1     1459 non-null   object\n",
      " 10  Condition2     1459 non-null   object\n",
      " 11  BldgType       1459 non-null   object\n",
      " 12  HouseStyle     1459 non-null   object\n",
      " 13  RoofStyle      1459 non-null   object\n",
      " 14  RoofMatl       1459 non-null   object\n",
      " 15  Exterior1st    1458 non-null   object\n",
      " 16  Exterior2nd    1458 non-null   object\n",
      " 17  MasVnrType     1443 non-null   object\n",
      " 18  ExterQual      1459 non-null   object\n",
      " 19  ExterCond      1459 non-null   object\n",
      " 20  Foundation     1459 non-null   object\n",
      " 21  BsmtQual       1415 non-null   object\n",
      " 22  BsmtCond       1414 non-null   object\n",
      " 23  BsmtExposure   1415 non-null   object\n",
      " 24  BsmtFinType1   1417 non-null   object\n",
      " 25  BsmtFinType2   1417 non-null   object\n",
      " 26  Heating        1459 non-null   object\n",
      " 27  HeatingQC      1459 non-null   object\n",
      " 28  CentralAir     1459 non-null   object\n",
      " 29  Electrical     1459 non-null   object\n",
      " 30  KitchenQual    1458 non-null   object\n",
      " 31  Functional     1457 non-null   object\n",
      " 32  FireplaceQu    729 non-null    object\n",
      " 33  GarageType     1383 non-null   object\n",
      " 34  GarageFinish   1381 non-null   object\n",
      " 35  GarageQual     1381 non-null   object\n",
      " 36  GarageCond     1381 non-null   object\n",
      " 37  PavedDrive     1459 non-null   object\n",
      " 38  PoolQC         3 non-null      object\n",
      " 39  Fence          290 non-null    object\n",
      " 40  MiscFeature    51 non-null     object\n",
      " 41  SaleType       1458 non-null   object\n",
      " 42  SaleCondition  1459 non-null   object\n",
      "dtypes: object(43)\n",
      "memory usage: 490.3+ KB\n"
     ]
    }
   ],
   "source": [
    "test_obj.info()"
   ]
  },
  {
   "cell_type": "code",
   "execution_count": 684,
   "id": "9c5e5a47-ebd2-4e28-8cca-e9aca20f4c58",
   "metadata": {},
   "outputs": [],
   "source": [
    "def valcount_isnull(data, variable):\n",
    "    listv = data[variable].value_counts()\n",
    "    lists = data[variable].isnull().sum()\n",
    "    print(listv)\n",
    "    print(\"Null sum..: \", lists)"
   ]
  },
  {
   "cell_type": "markdown",
   "id": "2d5e6f67-14e5-4cec-a2da-a2f6c02dda83",
   "metadata": {
    "jp-MarkdownHeadingCollapsed": true,
    "tags": []
   },
   "source": [
    "#### MSZoning"
   ]
  },
  {
   "cell_type": "code",
   "execution_count": 685,
   "id": "948e3f6a-a30d-4541-bbf7-c82bc990bcf7",
   "metadata": {},
   "outputs": [
    {
     "name": "stdout",
     "output_type": "stream",
     "text": [
      "RL         1114\n",
      "RM          242\n",
      "FV           74\n",
      "C (all)      15\n",
      "RH           10\n",
      "Name: MSZoning, dtype: int64\n",
      "Null sum..:  4\n"
     ]
    }
   ],
   "source": [
    "valcount_isnull(test_obj, 'MSZoning')"
   ]
  },
  {
   "cell_type": "code",
   "execution_count": 686,
   "id": "46cddc94-a195-47fe-859d-2f9633b48f4a",
   "metadata": {},
   "outputs": [
    {
     "data": {
      "text/html": [
       "<div>\n",
       "<style scoped>\n",
       "    .dataframe tbody tr th:only-of-type {\n",
       "        vertical-align: middle;\n",
       "    }\n",
       "\n",
       "    .dataframe tbody tr th {\n",
       "        vertical-align: top;\n",
       "    }\n",
       "\n",
       "    .dataframe thead th {\n",
       "        text-align: right;\n",
       "    }\n",
       "</style>\n",
       "<table border=\"1\" class=\"dataframe\">\n",
       "  <thead>\n",
       "    <tr style=\"text-align: right;\">\n",
       "      <th></th>\n",
       "      <th>Id</th>\n",
       "      <th>MSSubClass</th>\n",
       "      <th>MSZoning</th>\n",
       "      <th>LotFrontage</th>\n",
       "      <th>LotArea</th>\n",
       "      <th>Street</th>\n",
       "      <th>Alley</th>\n",
       "      <th>LotShape</th>\n",
       "      <th>LandContour</th>\n",
       "      <th>Utilities</th>\n",
       "      <th>...</th>\n",
       "      <th>ScreenPorch</th>\n",
       "      <th>PoolArea</th>\n",
       "      <th>PoolQC</th>\n",
       "      <th>Fence</th>\n",
       "      <th>MiscFeature</th>\n",
       "      <th>MiscVal</th>\n",
       "      <th>MoSold</th>\n",
       "      <th>YrSold</th>\n",
       "      <th>SaleType</th>\n",
       "      <th>SaleCondition</th>\n",
       "    </tr>\n",
       "  </thead>\n",
       "  <tbody>\n",
       "    <tr>\n",
       "      <th>455</th>\n",
       "      <td>1916</td>\n",
       "      <td>30</td>\n",
       "      <td>NaN</td>\n",
       "      <td>109.0</td>\n",
       "      <td>21780</td>\n",
       "      <td>Grvl</td>\n",
       "      <td>NaN</td>\n",
       "      <td>Reg</td>\n",
       "      <td>Lvl</td>\n",
       "      <td>NaN</td>\n",
       "      <td>...</td>\n",
       "      <td>0</td>\n",
       "      <td>0</td>\n",
       "      <td>NaN</td>\n",
       "      <td>NaN</td>\n",
       "      <td>NaN</td>\n",
       "      <td>0</td>\n",
       "      <td>3</td>\n",
       "      <td>2009</td>\n",
       "      <td>ConLD</td>\n",
       "      <td>Normal</td>\n",
       "    </tr>\n",
       "    <tr>\n",
       "      <th>756</th>\n",
       "      <td>2217</td>\n",
       "      <td>20</td>\n",
       "      <td>NaN</td>\n",
       "      <td>80.0</td>\n",
       "      <td>14584</td>\n",
       "      <td>Pave</td>\n",
       "      <td>NaN</td>\n",
       "      <td>Reg</td>\n",
       "      <td>Low</td>\n",
       "      <td>AllPub</td>\n",
       "      <td>...</td>\n",
       "      <td>0</td>\n",
       "      <td>0</td>\n",
       "      <td>NaN</td>\n",
       "      <td>NaN</td>\n",
       "      <td>NaN</td>\n",
       "      <td>0</td>\n",
       "      <td>2</td>\n",
       "      <td>2008</td>\n",
       "      <td>WD</td>\n",
       "      <td>Abnorml</td>\n",
       "    </tr>\n",
       "    <tr>\n",
       "      <th>790</th>\n",
       "      <td>2251</td>\n",
       "      <td>70</td>\n",
       "      <td>NaN</td>\n",
       "      <td>NaN</td>\n",
       "      <td>56600</td>\n",
       "      <td>Pave</td>\n",
       "      <td>NaN</td>\n",
       "      <td>IR1</td>\n",
       "      <td>Low</td>\n",
       "      <td>AllPub</td>\n",
       "      <td>...</td>\n",
       "      <td>0</td>\n",
       "      <td>0</td>\n",
       "      <td>NaN</td>\n",
       "      <td>NaN</td>\n",
       "      <td>NaN</td>\n",
       "      <td>0</td>\n",
       "      <td>1</td>\n",
       "      <td>2008</td>\n",
       "      <td>WD</td>\n",
       "      <td>Normal</td>\n",
       "    </tr>\n",
       "    <tr>\n",
       "      <th>1444</th>\n",
       "      <td>2905</td>\n",
       "      <td>20</td>\n",
       "      <td>NaN</td>\n",
       "      <td>125.0</td>\n",
       "      <td>31250</td>\n",
       "      <td>Pave</td>\n",
       "      <td>NaN</td>\n",
       "      <td>Reg</td>\n",
       "      <td>Lvl</td>\n",
       "      <td>AllPub</td>\n",
       "      <td>...</td>\n",
       "      <td>0</td>\n",
       "      <td>0</td>\n",
       "      <td>NaN</td>\n",
       "      <td>NaN</td>\n",
       "      <td>NaN</td>\n",
       "      <td>0</td>\n",
       "      <td>5</td>\n",
       "      <td>2006</td>\n",
       "      <td>WD</td>\n",
       "      <td>Normal</td>\n",
       "    </tr>\n",
       "  </tbody>\n",
       "</table>\n",
       "<p>4 rows × 80 columns</p>\n",
       "</div>"
      ],
      "text/plain": [
       "        Id  MSSubClass MSZoning  LotFrontage  LotArea Street Alley LotShape  \\\n",
       "455   1916          30      NaN        109.0    21780   Grvl   NaN      Reg   \n",
       "756   2217          20      NaN         80.0    14584   Pave   NaN      Reg   \n",
       "790   2251          70      NaN          NaN    56600   Pave   NaN      IR1   \n",
       "1444  2905          20      NaN        125.0    31250   Pave   NaN      Reg   \n",
       "\n",
       "     LandContour Utilities  ... ScreenPorch PoolArea PoolQC Fence MiscFeature  \\\n",
       "455          Lvl       NaN  ...           0        0    NaN   NaN         NaN   \n",
       "756          Low    AllPub  ...           0        0    NaN   NaN         NaN   \n",
       "790          Low    AllPub  ...           0        0    NaN   NaN         NaN   \n",
       "1444         Lvl    AllPub  ...           0        0    NaN   NaN         NaN   \n",
       "\n",
       "     MiscVal MoSold  YrSold  SaleType  SaleCondition  \n",
       "455        0      3    2009     ConLD         Normal  \n",
       "756        0      2    2008        WD        Abnorml  \n",
       "790        0      1    2008        WD         Normal  \n",
       "1444       0      5    2006        WD         Normal  \n",
       "\n",
       "[4 rows x 80 columns]"
      ]
     },
     "execution_count": 686,
     "metadata": {},
     "output_type": "execute_result"
    }
   ],
   "source": [
    "test_df[test_df['MSZoning'].isnull() == True ]"
   ]
  },
  {
   "cell_type": "code",
   "execution_count": 687,
   "id": "a063485f-3285-4039-b778-f94c3fcab3b5",
   "metadata": {},
   "outputs": [
    {
     "data": {
      "text/plain": [
       "<AxesSubplot:xlabel='LotArea', ylabel='SalePrice'>"
      ]
     },
     "execution_count": 687,
     "metadata": {},
     "output_type": "execute_result"
    },
    {
     "data": {
      "image/png": "[encoded data removed]",
      "text/plain": [
       "<Figure size 432x288 with 1 Axes>"
      ]
     },
     "metadata": {
      "needs_background": "light"
     },
     "output_type": "display_data"
    }
   ],
   "source": [
    "sns.scatterplot(x=\"LotArea\", y=\"SalePrice\", hue=\"MSZoning\", data=raw_df)"
   ]
  },
  {
   "cell_type": "code",
   "execution_count": 688,
   "id": "8b7109be-9d2d-4447-9969-bbb573b287f3",
   "metadata": {},
   "outputs": [],
   "source": [
    "test_obj.MSZoning.fillna(4, inplace=True)\n",
    "dictionary = {\"MSZoning\":{\"C (all)\":1,\"RH\":2, \"FV\":3, \"RM\":4, \"RL\":5}}\n",
    "test_obj = test_obj.replace(dictionary)"
   ]
  },
  {
   "cell_type": "code",
   "execution_count": 689,
   "id": "e516efda-9cde-4160-aff5-d426264afe07",
   "metadata": {},
   "outputs": [
    {
     "data": {
      "text/plain": [
       "MSZoning            0\n",
       "Street              0\n",
       "Alley            1352\n",
       "LotShape            0\n",
       "LandContour         0\n",
       "Utilities           2\n",
       "LotConfig           0\n",
       "LandSlope           0\n",
       "Neighborhood        0\n",
       "Condition1          0\n",
       "Condition2          0\n",
       "BldgType            0\n",
       "HouseStyle          0\n",
       "RoofStyle           0\n",
       "RoofMatl            0\n",
       "Exterior1st         1\n",
       "Exterior2nd         1\n",
       "MasVnrType         16\n",
       "ExterQual           0\n",
       "ExterCond           0\n",
       "Foundation          0\n",
       "BsmtQual           44\n",
       "BsmtCond           45\n",
       "BsmtExposure       44\n",
       "BsmtFinType1       42\n",
       "BsmtFinType2       42\n",
       "Heating             0\n",
       "HeatingQC           0\n",
       "CentralAir          0\n",
       "Electrical          0\n",
       "KitchenQual         1\n",
       "Functional          2\n",
       "FireplaceQu       730\n",
       "GarageType         76\n",
       "GarageFinish       78\n",
       "GarageQual         78\n",
       "GarageCond         78\n",
       "PavedDrive          0\n",
       "PoolQC           1456\n",
       "Fence            1169\n",
       "MiscFeature      1408\n",
       "SaleType            1\n",
       "SaleCondition       0\n",
       "dtype: int64"
      ]
     },
     "execution_count": 689,
     "metadata": {},
     "output_type": "execute_result"
    }
   ],
   "source": [
    "test_obj.isnull().sum()"
   ]
  },
  {
   "cell_type": "code",
   "execution_count": 690,
   "id": "730dc6ed-1dbc-421b-8a0d-64f1bbe9c1dd",
   "metadata": {},
   "outputs": [
    {
     "name": "stdout",
     "output_type": "stream",
     "text": [
      "5    1114\n",
      "4     246\n",
      "3      74\n",
      "1      15\n",
      "2      10\n",
      "Name: MSZoning, dtype: int64\n",
      "Null sum..:  0\n"
     ]
    }
   ],
   "source": [
    "valcount_isnull(test_obj, 'MSZoning')"
   ]
  },
  {
   "cell_type": "markdown",
   "id": "85410cb4-320d-4968-a2a7-3de788a54395",
   "metadata": {
    "jp-MarkdownHeadingCollapsed": true,
    "tags": []
   },
   "source": [
    "#### Street"
   ]
  },
  {
   "cell_type": "code",
   "execution_count": 691,
   "id": "a9cdcacc-0a99-4acf-8aa8-1dc0e0ebb066",
   "metadata": {},
   "outputs": [
    {
     "name": "stdout",
     "output_type": "stream",
     "text": [
      "Pave    1453\n",
      "Grvl       6\n",
      "Name: Street, dtype: int64\n",
      "Null sum..:  0\n"
     ]
    }
   ],
   "source": [
    "valcount_isnull(test_obj, 'Street')"
   ]
  },
  {
   "cell_type": "code",
   "execution_count": 692,
   "id": "6d84b157-a3ca-4394-a945-d6794bb654b9",
   "metadata": {},
   "outputs": [],
   "source": [
    "dictionary = {\"Street\":{\"Grvl\":1,\"Pave\":2}}\n",
    "test_obj = test_obj.replace(dictionary)"
   ]
  },
  {
   "cell_type": "markdown",
   "id": "de2d5a02-2254-4c83-b1ee-8641224ed719",
   "metadata": {
    "jp-MarkdownHeadingCollapsed": true,
    "tags": []
   },
   "source": [
    "#### Alley"
   ]
  },
  {
   "cell_type": "code",
   "execution_count": 693,
   "id": "1904d6cb-8c86-4b09-b7c6-35b84f945a4b",
   "metadata": {
    "tags": []
   },
   "outputs": [
    {
     "name": "stdout",
     "output_type": "stream",
     "text": [
      "Grvl    70\n",
      "Pave    37\n",
      "Name: Alley, dtype: int64\n",
      "Null sum..:  1352\n"
     ]
    }
   ],
   "source": [
    "valcount_isnull(test_obj, 'Alley')"
   ]
  },
  {
   "cell_type": "code",
   "execution_count": 694,
   "id": "a160a505-f0f5-4a86-9e2e-19ac59b32318",
   "metadata": {},
   "outputs": [],
   "source": [
    "test_obj.Alley.fillna(0, inplace=True)\n",
    "dictionary = {\"Alley\":{\"Grvl\":1,\"Pave\":2}}\n",
    "test_obj = test_obj.replace(dictionary)"
   ]
  },
  {
   "cell_type": "code",
   "execution_count": 695,
   "id": "37e72a33-91b1-4779-919d-aa041a35ccd3",
   "metadata": {},
   "outputs": [
    {
     "name": "stdout",
     "output_type": "stream",
     "text": [
      "0    1352\n",
      "1      70\n",
      "2      37\n",
      "Name: Alley, dtype: int64\n",
      "Null sum..:  0\n"
     ]
    }
   ],
   "source": [
    "valcount_isnull(test_obj, 'Alley')"
   ]
  },
  {
   "cell_type": "markdown",
   "id": "9c8ad232-fad4-4cf5-8f8f-9ed4e420f584",
   "metadata": {
    "jp-MarkdownHeadingCollapsed": true,
    "tags": []
   },
   "source": [
    "#### LotShape"
   ]
  },
  {
   "cell_type": "code",
   "execution_count": 696,
   "id": "a485a652-9006-49b0-8ec7-d344339a15b1",
   "metadata": {},
   "outputs": [
    {
     "name": "stdout",
     "output_type": "stream",
     "text": [
      "Reg    934\n",
      "IR1    484\n",
      "IR2     35\n",
      "IR3      6\n",
      "Name: LotShape, dtype: int64\n",
      "Null sum..:  0\n"
     ]
    }
   ],
   "source": [
    "valcount_isnull(test_obj, 'LotShape')"
   ]
  },
  {
   "cell_type": "code",
   "execution_count": 697,
   "id": "b3d31595-88f3-44b3-9ac5-8006c70d619b",
   "metadata": {},
   "outputs": [],
   "source": [
    "dictionary = {\"LotShape\":{\"IR3\":0,\"IR2\":1, \"IR1\":2, \"Reg\":3}}\n",
    "test_obj = test_obj.replace(dictionary)"
   ]
  },
  {
   "cell_type": "markdown",
   "id": "4f11c277-1537-4ada-85da-935210adeebd",
   "metadata": {
    "jp-MarkdownHeadingCollapsed": true,
    "tags": []
   },
   "source": [
    "#### LandContour"
   ]
  },
  {
   "cell_type": "code",
   "execution_count": 698,
   "id": "a96cda24-ad0e-4bb3-80bb-c75305ed2805",
   "metadata": {},
   "outputs": [
    {
     "name": "stdout",
     "output_type": "stream",
     "text": [
      "Lvl    1311\n",
      "HLS      70\n",
      "Bnk      54\n",
      "Low      24\n",
      "Name: LandContour, dtype: int64\n",
      "Null sum..:  0\n"
     ]
    }
   ],
   "source": [
    "valcount_isnull(test_obj, 'LandContour')"
   ]
  },
  {
   "cell_type": "code",
   "execution_count": 699,
   "id": "5815c5d1-f8fc-4986-ab21-e5f79a28ee51",
   "metadata": {},
   "outputs": [],
   "source": [
    "dictionary = {\"LandContour\":{\"Bnk\":0,\"Low\":1, \"HLS\":2, \"Lvl\":3}}\n",
    "test_obj = test_obj.replace(dictionary)"
   ]
  },
  {
   "cell_type": "markdown",
   "id": "d8040470-66c4-4615-ab19-c6de959bdf94",
   "metadata": {
    "jp-MarkdownHeadingCollapsed": true,
    "tags": []
   },
   "source": [
    "#### Utilities"
   ]
  },
  {
   "cell_type": "code",
   "execution_count": 700,
   "id": "43fff4ae-2198-48b0-873d-ef2b49e8352e",
   "metadata": {},
   "outputs": [
    {
     "name": "stdout",
     "output_type": "stream",
     "text": [
      "AllPub    1457\n",
      "Name: Utilities, dtype: int64\n",
      "Null sum..:  2\n"
     ]
    }
   ],
   "source": [
    "valcount_isnull(test_obj, 'Utilities')"
   ]
  },
  {
   "cell_type": "code",
   "execution_count": 701,
   "id": "549d07e9-a731-4680-9fd4-5de9878c7f3c",
   "metadata": {},
   "outputs": [
    {
     "data": {
      "text/html": [
       "<div>\n",
       "<style scoped>\n",
       "    .dataframe tbody tr th:only-of-type {\n",
       "        vertical-align: middle;\n",
       "    }\n",
       "\n",
       "    .dataframe tbody tr th {\n",
       "        vertical-align: top;\n",
       "    }\n",
       "\n",
       "    .dataframe thead th {\n",
       "        text-align: right;\n",
       "    }\n",
       "</style>\n",
       "<table border=\"1\" class=\"dataframe\">\n",
       "  <thead>\n",
       "    <tr style=\"text-align: right;\">\n",
       "      <th></th>\n",
       "      <th>Id</th>\n",
       "      <th>MSSubClass</th>\n",
       "      <th>MSZoning</th>\n",
       "      <th>LotFrontage</th>\n",
       "      <th>LotArea</th>\n",
       "      <th>Street</th>\n",
       "      <th>Alley</th>\n",
       "      <th>LotShape</th>\n",
       "      <th>LandContour</th>\n",
       "      <th>Utilities</th>\n",
       "      <th>...</th>\n",
       "      <th>ScreenPorch</th>\n",
       "      <th>PoolArea</th>\n",
       "      <th>PoolQC</th>\n",
       "      <th>Fence</th>\n",
       "      <th>MiscFeature</th>\n",
       "      <th>MiscVal</th>\n",
       "      <th>MoSold</th>\n",
       "      <th>YrSold</th>\n",
       "      <th>SaleType</th>\n",
       "      <th>SaleCondition</th>\n",
       "    </tr>\n",
       "  </thead>\n",
       "  <tbody>\n",
       "    <tr>\n",
       "      <th>455</th>\n",
       "      <td>1916</td>\n",
       "      <td>30</td>\n",
       "      <td>NaN</td>\n",
       "      <td>109.0</td>\n",
       "      <td>21780</td>\n",
       "      <td>Grvl</td>\n",
       "      <td>NaN</td>\n",
       "      <td>Reg</td>\n",
       "      <td>Lvl</td>\n",
       "      <td>NaN</td>\n",
       "      <td>...</td>\n",
       "      <td>0</td>\n",
       "      <td>0</td>\n",
       "      <td>NaN</td>\n",
       "      <td>NaN</td>\n",
       "      <td>NaN</td>\n",
       "      <td>0</td>\n",
       "      <td>3</td>\n",
       "      <td>2009</td>\n",
       "      <td>ConLD</td>\n",
       "      <td>Normal</td>\n",
       "    </tr>\n",
       "    <tr>\n",
       "      <th>485</th>\n",
       "      <td>1946</td>\n",
       "      <td>20</td>\n",
       "      <td>RL</td>\n",
       "      <td>NaN</td>\n",
       "      <td>31220</td>\n",
       "      <td>Pave</td>\n",
       "      <td>NaN</td>\n",
       "      <td>IR1</td>\n",
       "      <td>Bnk</td>\n",
       "      <td>NaN</td>\n",
       "      <td>...</td>\n",
       "      <td>0</td>\n",
       "      <td>0</td>\n",
       "      <td>NaN</td>\n",
       "      <td>NaN</td>\n",
       "      <td>Shed</td>\n",
       "      <td>750</td>\n",
       "      <td>5</td>\n",
       "      <td>2008</td>\n",
       "      <td>WD</td>\n",
       "      <td>Normal</td>\n",
       "    </tr>\n",
       "  </tbody>\n",
       "</table>\n",
       "<p>2 rows × 80 columns</p>\n",
       "</div>"
      ],
      "text/plain": [
       "       Id  MSSubClass MSZoning  LotFrontage  LotArea Street Alley LotShape  \\\n",
       "455  1916          30      NaN        109.0    21780   Grvl   NaN      Reg   \n",
       "485  1946          20       RL          NaN    31220   Pave   NaN      IR1   \n",
       "\n",
       "    LandContour Utilities  ... ScreenPorch PoolArea PoolQC Fence MiscFeature  \\\n",
       "455         Lvl       NaN  ...           0        0    NaN   NaN         NaN   \n",
       "485         Bnk       NaN  ...           0        0    NaN   NaN        Shed   \n",
       "\n",
       "    MiscVal MoSold  YrSold  SaleType  SaleCondition  \n",
       "455       0      3    2009     ConLD         Normal  \n",
       "485     750      5    2008        WD         Normal  \n",
       "\n",
       "[2 rows x 80 columns]"
      ]
     },
     "execution_count": 701,
     "metadata": {},
     "output_type": "execute_result"
    }
   ],
   "source": [
    "test_df[test_df.Utilities.isnull() == True]"
   ]
  },
  {
   "cell_type": "code",
   "execution_count": 702,
   "id": "ed30fd70-c15f-4c5b-8938-588ba1936731",
   "metadata": {},
   "outputs": [
    {
     "data": {
      "text/html": [
       "<div>\n",
       "<style scoped>\n",
       "    .dataframe tbody tr th:only-of-type {\n",
       "        vertical-align: middle;\n",
       "    }\n",
       "\n",
       "    .dataframe tbody tr th {\n",
       "        vertical-align: top;\n",
       "    }\n",
       "\n",
       "    .dataframe thead th {\n",
       "        text-align: right;\n",
       "    }\n",
       "</style>\n",
       "<table border=\"1\" class=\"dataframe\">\n",
       "  <thead>\n",
       "    <tr style=\"text-align: right;\">\n",
       "      <th></th>\n",
       "      <th>Id</th>\n",
       "      <th>MSSubClass</th>\n",
       "      <th>MSZoning</th>\n",
       "      <th>LotFrontage</th>\n",
       "      <th>LotArea</th>\n",
       "      <th>Street</th>\n",
       "      <th>Alley</th>\n",
       "      <th>LotShape</th>\n",
       "      <th>LandContour</th>\n",
       "      <th>Utilities</th>\n",
       "      <th>...</th>\n",
       "      <th>PoolArea</th>\n",
       "      <th>PoolQC</th>\n",
       "      <th>Fence</th>\n",
       "      <th>MiscFeature</th>\n",
       "      <th>MiscVal</th>\n",
       "      <th>MoSold</th>\n",
       "      <th>YrSold</th>\n",
       "      <th>SaleType</th>\n",
       "      <th>SaleCondition</th>\n",
       "      <th>SalePrice</th>\n",
       "    </tr>\n",
       "  </thead>\n",
       "  <tbody>\n",
       "    <tr>\n",
       "      <th>944</th>\n",
       "      <td>945</td>\n",
       "      <td>20</td>\n",
       "      <td>RL</td>\n",
       "      <td>NaN</td>\n",
       "      <td>14375</td>\n",
       "      <td>Pave</td>\n",
       "      <td>NaN</td>\n",
       "      <td>IR1</td>\n",
       "      <td>Lvl</td>\n",
       "      <td>NoSeWa</td>\n",
       "      <td>...</td>\n",
       "      <td>0</td>\n",
       "      <td>NaN</td>\n",
       "      <td>NaN</td>\n",
       "      <td>NaN</td>\n",
       "      <td>0</td>\n",
       "      <td>1</td>\n",
       "      <td>2009</td>\n",
       "      <td>COD</td>\n",
       "      <td>Abnorml</td>\n",
       "      <td>137500</td>\n",
       "    </tr>\n",
       "  </tbody>\n",
       "</table>\n",
       "<p>1 rows × 81 columns</p>\n",
       "</div>"
      ],
      "text/plain": [
       "      Id  MSSubClass MSZoning  LotFrontage  LotArea Street Alley LotShape  \\\n",
       "944  945          20       RL          NaN    14375   Pave   NaN      IR1   \n",
       "\n",
       "    LandContour Utilities  ... PoolArea PoolQC Fence MiscFeature MiscVal  \\\n",
       "944         Lvl    NoSeWa  ...        0    NaN   NaN         NaN       0   \n",
       "\n",
       "    MoSold YrSold  SaleType  SaleCondition  SalePrice  \n",
       "944      1   2009       COD        Abnorml     137500  \n",
       "\n",
       "[1 rows x 81 columns]"
      ]
     },
     "execution_count": 702,
     "metadata": {},
     "output_type": "execute_result"
    }
   ],
   "source": [
    "raw_df[raw_df.Utilities == 'NoSeWa']"
   ]
  },
  {
   "cell_type": "code",
   "execution_count": 703,
   "id": "b0c76a25-032e-4a05-883b-51a67a33a797",
   "metadata": {},
   "outputs": [],
   "source": [
    "test_obj.Utilities.fillna(1, inplace=True)\n",
    "dictionary = {\"Utilities\":{\"NoSeWa\":0,\"AllPub\":1}}\n",
    "test_obj = test_obj.replace(dictionary)"
   ]
  },
  {
   "cell_type": "markdown",
   "id": "9ae39d80-48df-4414-bfaa-4d3890bc430a",
   "metadata": {
    "jp-MarkdownHeadingCollapsed": true,
    "tags": []
   },
   "source": [
    "#### LotConfig"
   ]
  },
  {
   "cell_type": "code",
   "execution_count": 704,
   "id": "17d6921e-ee23-4a96-84f6-b38e3d39dedd",
   "metadata": {},
   "outputs": [
    {
     "name": "stdout",
     "output_type": "stream",
     "text": [
      "Inside     1081\n",
      "Corner      248\n",
      "CulDSac      82\n",
      "FR2          38\n",
      "FR3          10\n",
      "Name: LotConfig, dtype: int64\n",
      "Null sum..:  0\n"
     ]
    }
   ],
   "source": [
    "valcount_isnull(test_obj, 'LotConfig')"
   ]
  },
  {
   "cell_type": "code",
   "execution_count": 705,
   "id": "bf89caec-f486-43be-a847-f94074b07085",
   "metadata": {},
   "outputs": [],
   "source": [
    "dictionary = {\"LotConfig\":{\"FR2\":0,\"Inside\":1, \"FR3\":2, \"Corner\":3, \"CulDSac\":4}}\n",
    "test_obj = test_obj.replace(dictionary)"
   ]
  },
  {
   "cell_type": "markdown",
   "id": "df7cb898-de27-4a77-bcd0-303638f2565f",
   "metadata": {
    "jp-MarkdownHeadingCollapsed": true,
    "tags": []
   },
   "source": [
    "#### LandSlope"
   ]
  },
  {
   "cell_type": "code",
   "execution_count": 706,
   "id": "c94bbd99-1885-4017-b412-98f27756d086",
   "metadata": {},
   "outputs": [
    {
     "name": "stdout",
     "output_type": "stream",
     "text": [
      "Gtl    1396\n",
      "Mod      60\n",
      "Sev       3\n",
      "Name: LandSlope, dtype: int64\n",
      "Null sum..:  0\n"
     ]
    }
   ],
   "source": [
    "valcount_isnull(test_obj, 'LandSlope')"
   ]
  },
  {
   "cell_type": "code",
   "execution_count": 707,
   "id": "7dbb272e-6b0e-4934-9706-418785241935",
   "metadata": {},
   "outputs": [],
   "source": [
    "dictionary = {\"LandSlope\":{\"Sev\":0,\"Mod\":1, \"Gtl\":2}}\n",
    "test_obj = test_obj.replace(dictionary)"
   ]
  },
  {
   "cell_type": "markdown",
   "id": "0d3ca014-6ac3-4f8d-9802-56087edbe45b",
   "metadata": {
    "jp-MarkdownHeadingCollapsed": true,
    "tags": []
   },
   "source": [
    "#### Neighborhood"
   ]
  },
  {
   "cell_type": "code",
   "execution_count": 708,
   "id": "933ad7ad-3330-46e3-a885-6e8fa4cd6dad",
   "metadata": {},
   "outputs": [
    {
     "name": "stdout",
     "output_type": "stream",
     "text": [
      "NAmes      218\n",
      "OldTown    126\n",
      "CollgCr    117\n",
      "Somerst     96\n",
      "Edwards     94\n",
      "NridgHt     89\n",
      "Gilbert     86\n",
      "Sawyer      77\n",
      "SawyerW     66\n",
      "Mitchel     65\n",
      "NWAmes      58\n",
      "IDOTRR      56\n",
      "Crawfor     52\n",
      "BrkSide     50\n",
      "Timber      34\n",
      "NoRidge     30\n",
      "StoneBr     26\n",
      "SWISU       23\n",
      "MeadowV     20\n",
      "ClearCr     16\n",
      "NPkVill     14\n",
      "BrDale      14\n",
      "Veenker     13\n",
      "Blmngtn     11\n",
      "Blueste      8\n",
      "Name: Neighborhood, dtype: int64\n",
      "Null sum..:  0\n"
     ]
    }
   ],
   "source": [
    "valcount_isnull(test_obj, 'Neighborhood')"
   ]
  },
  {
   "cell_type": "code",
   "execution_count": 709,
   "id": "7d31b07b-63a1-494b-b76c-e0fbb87bc34d",
   "metadata": {},
   "outputs": [
    {
     "name": "stdout",
     "output_type": "stream",
     "text": [
      "['NAmes', 'NAmes', 'Gilbert', 'Gilbert', 'StoneBr', ..., 'MeadowV', 'MeadowV', 'Mitchel', 'Mitchel', 'Mitchel']\n",
      "Length: 1459\n",
      "Categories (25, object): ['MeadowV' < 'IDOTRR' < 'BrDale' < 'BrkSide' ... 'Timber' < 'StoneBr' < 'NridgHt' < 'NoRidge']\n"
     ]
    }
   ],
   "source": [
    "categories=pd.Categorical(test_obj['Neighborhood'],\n",
    "                          categories=['MeadowV','IDOTRR','BrDale','BrkSide','Edwards','OldTown',\n",
    "                                     'Sawyer','Blueste','SWISU','NPkVill','NAmes','Mitchel','SawyerW','NWAmes',\n",
    "                                     'Gilbert','Blmngtn','CollgCr','Crawfor','ClearCr','Somerst','Veenker',\n",
    "                                     'Timber','StoneBr','NridgHt','NoRidge'],ordered=True)\n",
    "print(categories)"
   ]
  },
  {
   "cell_type": "code",
   "execution_count": 710,
   "id": "ae761a43-e6d4-4f00-a0bc-999b7420d4de",
   "metadata": {},
   "outputs": [
    {
     "data": {
      "text/plain": [
       "0       10\n",
       "1       10\n",
       "2       14\n",
       "3       14\n",
       "4       22\n",
       "        ..\n",
       "1454     0\n",
       "1455     0\n",
       "1456    11\n",
       "1457    11\n",
       "1458    11\n",
       "Name: Neighborhood, Length: 1459, dtype: int64"
      ]
     },
     "execution_count": 710,
     "metadata": {},
     "output_type": "execute_result"
    }
   ],
   "source": [
    "Neighborhood,unique=pd.factorize(categories,sort=True)\n",
    "test_obj['Neighborhood']=Neighborhood\n",
    "test_obj['Neighborhood']"
   ]
  },
  {
   "cell_type": "markdown",
   "id": "5c6e7c0a-953d-4a99-8884-f84dbb379b5e",
   "metadata": {
    "jp-MarkdownHeadingCollapsed": true,
    "tags": []
   },
   "source": [
    "#### Condition1 & Condition2"
   ]
  },
  {
   "cell_type": "code",
   "execution_count": 711,
   "id": "964578a0-670f-49db-8d9a-93db8c9cebf5",
   "metadata": {},
   "outputs": [
    {
     "name": "stdout",
     "output_type": "stream",
     "text": [
      "Norm      1251\n",
      "Feedr       83\n",
      "Artery      44\n",
      "RRAn        24\n",
      "PosN        20\n",
      "RRAe        17\n",
      "PosA        12\n",
      "RRNe         4\n",
      "RRNn         4\n",
      "Name: Condition1, dtype: int64\n",
      "Null sum..:  0\n"
     ]
    }
   ],
   "source": [
    "valcount_isnull(test_obj, 'Condition1')"
   ]
  },
  {
   "cell_type": "code",
   "execution_count": 712,
   "id": "8f837a0f-a7c6-4c24-8aa9-ed76a6f606f4",
   "metadata": {},
   "outputs": [
    {
     "name": "stdout",
     "output_type": "stream",
     "text": [
      "Norm      1444\n",
      "Feedr        7\n",
      "PosA         3\n",
      "Artery       3\n",
      "PosN         2\n",
      "Name: Condition2, dtype: int64\n",
      "Null sum..:  0\n"
     ]
    }
   ],
   "source": [
    "valcount_isnull(test_obj, 'Condition2')"
   ]
  },
  {
   "cell_type": "code",
   "execution_count": 713,
   "id": "24d79338-30e0-4454-b18b-f08f58c336ec",
   "metadata": {},
   "outputs": [
    {
     "name": "stdout",
     "output_type": "stream",
     "text": [
      "['Feedr', 'Norm', 'Norm', 'Norm', 'Norm', ..., 'Norm', 'Norm', 'Norm', 'Norm', 'Norm']\n",
      "Length: 1459\n",
      "Categories (9, object): ['Artery' < 'RRAe' < 'Feedr' < 'RRAn' ... 'RRNe' < 'RRNn' < 'PosN' < 'PosA']\n"
     ]
    },
    {
     "data": {
      "text/plain": [
       "0       2\n",
       "1       4\n",
       "2       4\n",
       "3       4\n",
       "4       4\n",
       "       ..\n",
       "1454    4\n",
       "1455    4\n",
       "1456    4\n",
       "1457    4\n",
       "1458    4\n",
       "Name: Condition1, Length: 1459, dtype: int64"
      ]
     },
     "execution_count": 713,
     "metadata": {},
     "output_type": "execute_result"
    }
   ],
   "source": [
    "categories=pd.Categorical(test_obj['Condition1'],\n",
    "                          categories=['Artery','RRAe','Feedr','RRAn','Norm','RRNe',\n",
    "                                     'RRNn','PosN','PosA'],ordered=True)\n",
    "print(categories)\n",
    "Condition1,unique=pd.factorize(categories,sort=True)\n",
    "test_obj['Condition1']=Condition1\n",
    "test_obj['Condition1']"
   ]
  },
  {
   "cell_type": "code",
   "execution_count": 714,
   "id": "fb583f4b-34e2-49e0-b2fd-ca123d6d3965",
   "metadata": {},
   "outputs": [
    {
     "name": "stdout",
     "output_type": "stream",
     "text": [
      "['Norm', 'Norm', 'Norm', 'Norm', 'Norm', ..., 'Norm', 'Norm', 'Norm', 'Norm', 'Norm']\n",
      "Length: 1459\n",
      "Categories (9, object): ['Artery' < 'RRAe' < 'Feedr' < 'RRAn' ... 'RRNe' < 'RRNn' < 'PosN' < 'PosA']\n"
     ]
    },
    {
     "data": {
      "text/plain": [
       "0       2\n",
       "1       2\n",
       "2       2\n",
       "3       2\n",
       "4       2\n",
       "       ..\n",
       "1454    2\n",
       "1455    2\n",
       "1456    2\n",
       "1457    2\n",
       "1458    2\n",
       "Name: Condition2, Length: 1459, dtype: int64"
      ]
     },
     "execution_count": 714,
     "metadata": {},
     "output_type": "execute_result"
    }
   ],
   "source": [
    "categories=pd.Categorical(test_obj['Condition2'],\n",
    "                          categories=['Artery','RRAe','Feedr','RRAn','Norm','RRNe',\n",
    "                                     'RRNn','PosN','PosA'],ordered=True)\n",
    "print(categories)\n",
    "Condition1,unique=pd.factorize(categories,sort=True)\n",
    "test_obj['Condition2']=Condition1\n",
    "test_obj['Condition2']"
   ]
  },
  {
   "cell_type": "markdown",
   "id": "c1c79325-9bb4-4c53-93de-6e4c78bdbc89",
   "metadata": {
    "jp-MarkdownHeadingCollapsed": true,
    "tags": []
   },
   "source": [
    "#### HouseStyle"
   ]
  },
  {
   "cell_type": "code",
   "execution_count": 715,
   "id": "13e7a3ea-b619-4180-9c4a-e6a6fbe6fa22",
   "metadata": {},
   "outputs": [
    {
     "name": "stdout",
     "output_type": "stream",
     "text": [
      "1Story    745\n",
      "2Story    427\n",
      "1.5Fin    160\n",
      "SLvl       63\n",
      "SFoyer     46\n",
      "2.5Unf     13\n",
      "1.5Unf      5\n",
      "Name: HouseStyle, dtype: int64\n",
      "Null sum..:  0\n"
     ]
    }
   ],
   "source": [
    "valcount_isnull(test_obj, 'HouseStyle')"
   ]
  },
  {
   "cell_type": "code",
   "execution_count": 716,
   "id": "1c818e0d-0186-4e2c-ad16-006339b4a05c",
   "metadata": {},
   "outputs": [],
   "source": [
    "dictionary = {\"HouseStyle\":{\"1.5Unf\":0,\"SFoyer\":1, \"1.5Fin\":2, \"2.5Unf\":3, \"SLvl\":4,\n",
    "                           \"1Story\":5,\"2Story\":6,\"2.5Fin\":7}}\n",
    "test_obj = test_obj.replace(dictionary)"
   ]
  },
  {
   "cell_type": "markdown",
   "id": "fbb39806-46e6-4a2c-baba-8e879341bbac",
   "metadata": {
    "jp-MarkdownHeadingCollapsed": true,
    "tags": []
   },
   "source": [
    "#### RoofMatl"
   ]
  },
  {
   "cell_type": "code",
   "execution_count": 717,
   "id": "22cf6d07-7c12-4d62-b881-bcc7001f2e2f",
   "metadata": {},
   "outputs": [
    {
     "name": "stdout",
     "output_type": "stream",
     "text": [
      "CompShg    1442\n",
      "Tar&Grv      12\n",
      "WdShake       4\n",
      "WdShngl       1\n",
      "Name: RoofMatl, dtype: int64\n",
      "Null sum..:  0\n"
     ]
    }
   ],
   "source": [
    "valcount_isnull(test_obj, 'RoofMatl')"
   ]
  },
  {
   "cell_type": "code",
   "execution_count": 718,
   "id": "93897570-5dec-4fe6-aecf-7f4751531789",
   "metadata": {},
   "outputs": [],
   "source": [
    "\n",
    "dictionary = {\"RoofMatl\":{\"Roll\":1, \"ClyTile\":2, \"Membran\":3, \"Metal\":4,\n",
    "                           \"CompShg\":5,\"Tar&Grv\":6,\"WdShake\":7,\"WdShngl\":8}}\n",
    "test_obj = test_obj.replace(dictionary)"
   ]
  },
  {
   "cell_type": "markdown",
   "id": "c47cd1ef-93eb-4691-a506-465e25aeda07",
   "metadata": {
    "tags": []
   },
   "source": [
    "#### MasVnrType"
   ]
  },
  {
   "cell_type": "code",
   "execution_count": 719,
   "id": "19396d9a-8cc0-4bbf-842a-9305cb580a5b",
   "metadata": {},
   "outputs": [
    {
     "name": "stdout",
     "output_type": "stream",
     "text": [
      "None       878\n",
      "BrkFace    434\n",
      "Stone      121\n",
      "BrkCmn      10\n",
      "Name: MasVnrType, dtype: int64\n",
      "Null sum..:  16\n"
     ]
    }
   ],
   "source": [
    "valcount_isnull(test_obj, 'MasVnrType')"
   ]
  },
  {
   "cell_type": "code",
   "execution_count": 720,
   "id": "0394d5d1-3484-4562-b764-087360ea425a",
   "metadata": {},
   "outputs": [],
   "source": [
    "#test_df[test_df.MasVnrType.]['MasVnrArea'].sort_values(ascending=False)"
   ]
  },
  {
   "cell_type": "code",
   "execution_count": 721,
   "id": "9a7c1070-6a4e-4735-a89b-7f431adde1b2",
   "metadata": {},
   "outputs": [
    {
     "data": {
      "text/plain": [
       "OverallQual    0.433052\n",
       "YearBuilt      0.444813\n",
       "MasVnrArea     0.657269\n",
       "SalePrice      0.411798\n",
       "MasVnrType     1.000000\n",
       "Name: MasVnrType, dtype: float64"
      ]
     },
     "execution_count": 721,
     "metadata": {},
     "output_type": "execute_result"
    }
   ],
   "source": [
    "df.corr()['MasVnrType'][df.corr()['MasVnrType'] > 0.4] "
   ]
  },
  {
   "cell_type": "code",
   "execution_count": 722,
   "id": "914604d9-0ead-4119-9a5b-301a85d58a3e",
   "metadata": {},
   "outputs": [
    {
     "data": {
      "text/html": [
       "<div>\n",
       "<style scoped>\n",
       "    .dataframe tbody tr th:only-of-type {\n",
       "        vertical-align: middle;\n",
       "    }\n",
       "\n",
       "    .dataframe tbody tr th {\n",
       "        vertical-align: top;\n",
       "    }\n",
       "\n",
       "    .dataframe thead th {\n",
       "        text-align: right;\n",
       "    }\n",
       "</style>\n",
       "<table border=\"1\" class=\"dataframe\">\n",
       "  <thead>\n",
       "    <tr style=\"text-align: right;\">\n",
       "      <th></th>\n",
       "      <th>OverallQual</th>\n",
       "      <th>YearBuilt</th>\n",
       "      <th>MasVnrArea</th>\n",
       "      <th>MasVnrType</th>\n",
       "    </tr>\n",
       "  </thead>\n",
       "  <tbody>\n",
       "    <tr>\n",
       "      <th>0</th>\n",
       "      <td>5</td>\n",
       "      <td>1961</td>\n",
       "      <td>0.0</td>\n",
       "      <td>None</td>\n",
       "    </tr>\n",
       "    <tr>\n",
       "      <th>1</th>\n",
       "      <td>6</td>\n",
       "      <td>1958</td>\n",
       "      <td>108.0</td>\n",
       "      <td>BrkFace</td>\n",
       "    </tr>\n",
       "    <tr>\n",
       "      <th>2</th>\n",
       "      <td>5</td>\n",
       "      <td>1997</td>\n",
       "      <td>0.0</td>\n",
       "      <td>None</td>\n",
       "    </tr>\n",
       "    <tr>\n",
       "      <th>3</th>\n",
       "      <td>6</td>\n",
       "      <td>1998</td>\n",
       "      <td>20.0</td>\n",
       "      <td>BrkFace</td>\n",
       "    </tr>\n",
       "    <tr>\n",
       "      <th>4</th>\n",
       "      <td>8</td>\n",
       "      <td>1992</td>\n",
       "      <td>0.0</td>\n",
       "      <td>None</td>\n",
       "    </tr>\n",
       "    <tr>\n",
       "      <th>...</th>\n",
       "      <td>...</td>\n",
       "      <td>...</td>\n",
       "      <td>...</td>\n",
       "      <td>...</td>\n",
       "    </tr>\n",
       "    <tr>\n",
       "      <th>1454</th>\n",
       "      <td>4</td>\n",
       "      <td>1970</td>\n",
       "      <td>0.0</td>\n",
       "      <td>None</td>\n",
       "    </tr>\n",
       "    <tr>\n",
       "      <th>1455</th>\n",
       "      <td>4</td>\n",
       "      <td>1970</td>\n",
       "      <td>0.0</td>\n",
       "      <td>None</td>\n",
       "    </tr>\n",
       "    <tr>\n",
       "      <th>1456</th>\n",
       "      <td>5</td>\n",
       "      <td>1960</td>\n",
       "      <td>0.0</td>\n",
       "      <td>None</td>\n",
       "    </tr>\n",
       "    <tr>\n",
       "      <th>1457</th>\n",
       "      <td>5</td>\n",
       "      <td>1992</td>\n",
       "      <td>0.0</td>\n",
       "      <td>None</td>\n",
       "    </tr>\n",
       "    <tr>\n",
       "      <th>1458</th>\n",
       "      <td>7</td>\n",
       "      <td>1993</td>\n",
       "      <td>94.0</td>\n",
       "      <td>BrkFace</td>\n",
       "    </tr>\n",
       "  </tbody>\n",
       "</table>\n",
       "<p>1459 rows × 4 columns</p>\n",
       "</div>"
      ],
      "text/plain": [
       "      OverallQual  YearBuilt  MasVnrArea MasVnrType\n",
       "0               5       1961         0.0       None\n",
       "1               6       1958       108.0    BrkFace\n",
       "2               5       1997         0.0       None\n",
       "3               6       1998        20.0    BrkFace\n",
       "4               8       1992         0.0       None\n",
       "...           ...        ...         ...        ...\n",
       "1454            4       1970         0.0       None\n",
       "1455            4       1970         0.0       None\n",
       "1456            5       1960         0.0       None\n",
       "1457            5       1992         0.0       None\n",
       "1458            7       1993        94.0    BrkFace\n",
       "\n",
       "[1459 rows x 4 columns]"
      ]
     },
     "execution_count": 722,
     "metadata": {},
     "output_type": "execute_result"
    }
   ],
   "source": [
    "#test_df[test_df.MasVnrType.isnull() == True][['OverallQual','YearBuilt','MasVnrArea']]\n",
    "test_df[['OverallQual','YearBuilt','MasVnrArea','MasVnrType']]"
   ]
  },
  {
   "cell_type": "code",
   "execution_count": 723,
   "id": "5bd8a487-c63a-49d5-a54c-7d3337a1f89a",
   "metadata": {},
   "outputs": [
    {
     "data": {
      "text/html": [
       "<div>\n",
       "<style scoped>\n",
       "    .dataframe tbody tr th:only-of-type {\n",
       "        vertical-align: middle;\n",
       "    }\n",
       "\n",
       "    .dataframe tbody tr th {\n",
       "        vertical-align: top;\n",
       "    }\n",
       "\n",
       "    .dataframe thead th {\n",
       "        text-align: right;\n",
       "    }\n",
       "</style>\n",
       "<table border=\"1\" class=\"dataframe\">\n",
       "  <thead>\n",
       "    <tr style=\"text-align: right;\">\n",
       "      <th></th>\n",
       "      <th>MasVnrType</th>\n",
       "      <th>OverallQual</th>\n",
       "      <th>YearBuilt</th>\n",
       "      <th>MasVnrArea</th>\n",
       "    </tr>\n",
       "  </thead>\n",
       "  <tbody>\n",
       "    <tr>\n",
       "      <th>0</th>\n",
       "      <td>BrkFace</td>\n",
       "      <td>7</td>\n",
       "      <td>2003</td>\n",
       "      <td>196.0</td>\n",
       "    </tr>\n",
       "    <tr>\n",
       "      <th>1</th>\n",
       "      <td>None</td>\n",
       "      <td>6</td>\n",
       "      <td>1976</td>\n",
       "      <td>0.0</td>\n",
       "    </tr>\n",
       "    <tr>\n",
       "      <th>2</th>\n",
       "      <td>BrkFace</td>\n",
       "      <td>7</td>\n",
       "      <td>2001</td>\n",
       "      <td>162.0</td>\n",
       "    </tr>\n",
       "    <tr>\n",
       "      <th>3</th>\n",
       "      <td>None</td>\n",
       "      <td>7</td>\n",
       "      <td>1915</td>\n",
       "      <td>0.0</td>\n",
       "    </tr>\n",
       "    <tr>\n",
       "      <th>4</th>\n",
       "      <td>BrkFace</td>\n",
       "      <td>8</td>\n",
       "      <td>2000</td>\n",
       "      <td>350.0</td>\n",
       "    </tr>\n",
       "  </tbody>\n",
       "</table>\n",
       "</div>"
      ],
      "text/plain": [
       "  MasVnrType  OverallQual  YearBuilt  MasVnrArea\n",
       "0    BrkFace            7       2003       196.0\n",
       "1       None            6       1976         0.0\n",
       "2    BrkFace            7       2001       162.0\n",
       "3       None            7       1915         0.0\n",
       "4    BrkFace            8       2000       350.0"
      ]
     },
     "execution_count": 723,
     "metadata": {},
     "output_type": "execute_result"
    }
   ],
   "source": [
    "raw_df[['MasVnrType','OverallQual','YearBuilt','MasVnrArea']].head()"
   ]
  },
  {
   "cell_type": "code",
   "execution_count": 724,
   "id": "4c5c2eda-99cf-479c-8ffc-6e4473f4bc93",
   "metadata": {},
   "outputs": [
    {
     "data": {
      "text/plain": [
       "<AxesSubplot:xlabel='OverallQual', ylabel='MasVnrType'>"
      ]
     },
     "execution_count": 724,
     "metadata": {},
     "output_type": "execute_result"
    },
    {
     "data": {
      "image/png": "[encoded data removed]",
      "text/plain": [
       "<Figure size 432x288 with 1 Axes>"
      ]
     },
     "metadata": {
      "needs_background": "light"
     },
     "output_type": "display_data"
    }
   ],
   "source": [
    "sns.scatterplot(x=\"OverallQual\", y='MasVnrType', hue=\"YearBuilt\", data=raw_df)"
   ]
  },
  {
   "cell_type": "code",
   "execution_count": 725,
   "id": "918609d0-7001-43ad-bb79-0e08d3a13f6b",
   "metadata": {
    "tags": []
   },
   "outputs": [],
   "source": [
    "#test_obj.MasVnrType.fillna(-1, inplace=True)\n",
    "dictionary = {\"MasVnrType\":{\"None\":0,\"BrkCmn\":1, \"BrkFace\":2, \"Stone\":3}}\n",
    "test_df = test_df.replace(dictionary)"
   ]
  },
  {
   "cell_type": "code",
   "execution_count": 726,
   "id": "9e13cd10-34c2-4503-bf81-ca0f25413faa",
   "metadata": {},
   "outputs": [
    {
     "data": {
      "text/plain": [
       "OverallQual    0.433052\n",
       "YearBuilt      0.444813\n",
       "MasVnrArea     0.657269\n",
       "SalePrice      0.411798\n",
       "MasVnrType     1.000000\n",
       "Name: MasVnrType, dtype: float64"
      ]
     },
     "execution_count": 726,
     "metadata": {},
     "output_type": "execute_result"
    }
   ],
   "source": [
    "df.corr()['MasVnrType'][df.corr()['MasVnrType'] >= 0.4] "
   ]
  },
  {
   "cell_type": "code",
   "execution_count": 727,
   "id": "0914ada8-ab64-468d-a9a4-bba7c0848ddd",
   "metadata": {},
   "outputs": [],
   "source": [
    "masvnrtypedf = test_df[test_df.MasVnrType.isnull() == True][['MasVnrType','MasVnrArea','OverallQual','YearBuilt']].copy()"
   ]
  },
  {
   "cell_type": "code",
   "execution_count": 728,
   "id": "8854ea6f-20f3-44a6-aa0b-25ed831eca9f",
   "metadata": {},
   "outputs": [
    {
     "data": {
      "text/html": [
       "<div>\n",
       "<style scoped>\n",
       "    .dataframe tbody tr th:only-of-type {\n",
       "        vertical-align: middle;\n",
       "    }\n",
       "\n",
       "    .dataframe tbody tr th {\n",
       "        vertical-align: top;\n",
       "    }\n",
       "\n",
       "    .dataframe thead th {\n",
       "        text-align: right;\n",
       "    }\n",
       "</style>\n",
       "<table border=\"1\" class=\"dataframe\">\n",
       "  <thead>\n",
       "    <tr style=\"text-align: right;\">\n",
       "      <th></th>\n",
       "      <th>MasVnrType</th>\n",
       "      <th>MasVnrArea</th>\n",
       "      <th>OverallQual</th>\n",
       "      <th>YearBuilt</th>\n",
       "    </tr>\n",
       "  </thead>\n",
       "  <tbody>\n",
       "    <tr>\n",
       "      <th>231</th>\n",
       "      <td>NaN</td>\n",
       "      <td>NaN</td>\n",
       "      <td>8</td>\n",
       "      <td>2002</td>\n",
       "    </tr>\n",
       "    <tr>\n",
       "      <th>246</th>\n",
       "      <td>NaN</td>\n",
       "      <td>NaN</td>\n",
       "      <td>7</td>\n",
       "      <td>2008</td>\n",
       "    </tr>\n",
       "    <tr>\n",
       "      <th>422</th>\n",
       "      <td>NaN</td>\n",
       "      <td>NaN</td>\n",
       "      <td>7</td>\n",
       "      <td>2002</td>\n",
       "    </tr>\n",
       "    <tr>\n",
       "      <th>532</th>\n",
       "      <td>NaN</td>\n",
       "      <td>NaN</td>\n",
       "      <td>7</td>\n",
       "      <td>2002</td>\n",
       "    </tr>\n",
       "    <tr>\n",
       "      <th>544</th>\n",
       "      <td>NaN</td>\n",
       "      <td>NaN</td>\n",
       "      <td>8</td>\n",
       "      <td>2006</td>\n",
       "    </tr>\n",
       "    <tr>\n",
       "      <th>581</th>\n",
       "      <td>NaN</td>\n",
       "      <td>NaN</td>\n",
       "      <td>7</td>\n",
       "      <td>2002</td>\n",
       "    </tr>\n",
       "    <tr>\n",
       "      <th>851</th>\n",
       "      <td>NaN</td>\n",
       "      <td>NaN</td>\n",
       "      <td>6</td>\n",
       "      <td>2007</td>\n",
       "    </tr>\n",
       "    <tr>\n",
       "      <th>865</th>\n",
       "      <td>NaN</td>\n",
       "      <td>NaN</td>\n",
       "      <td>7</td>\n",
       "      <td>2003</td>\n",
       "    </tr>\n",
       "    <tr>\n",
       "      <th>880</th>\n",
       "      <td>NaN</td>\n",
       "      <td>NaN</td>\n",
       "      <td>7</td>\n",
       "      <td>2007</td>\n",
       "    </tr>\n",
       "    <tr>\n",
       "      <th>889</th>\n",
       "      <td>NaN</td>\n",
       "      <td>NaN</td>\n",
       "      <td>8</td>\n",
       "      <td>2007</td>\n",
       "    </tr>\n",
       "    <tr>\n",
       "      <th>908</th>\n",
       "      <td>NaN</td>\n",
       "      <td>NaN</td>\n",
       "      <td>8</td>\n",
       "      <td>2006</td>\n",
       "    </tr>\n",
       "    <tr>\n",
       "      <th>1132</th>\n",
       "      <td>NaN</td>\n",
       "      <td>NaN</td>\n",
       "      <td>8</td>\n",
       "      <td>2006</td>\n",
       "    </tr>\n",
       "    <tr>\n",
       "      <th>1150</th>\n",
       "      <td>NaN</td>\n",
       "      <td>198.0</td>\n",
       "      <td>4</td>\n",
       "      <td>1961</td>\n",
       "    </tr>\n",
       "    <tr>\n",
       "      <th>1197</th>\n",
       "      <td>NaN</td>\n",
       "      <td>NaN</td>\n",
       "      <td>8</td>\n",
       "      <td>2005</td>\n",
       "    </tr>\n",
       "    <tr>\n",
       "      <th>1226</th>\n",
       "      <td>NaN</td>\n",
       "      <td>NaN</td>\n",
       "      <td>8</td>\n",
       "      <td>2006</td>\n",
       "    </tr>\n",
       "    <tr>\n",
       "      <th>1402</th>\n",
       "      <td>NaN</td>\n",
       "      <td>NaN</td>\n",
       "      <td>6</td>\n",
       "      <td>2002</td>\n",
       "    </tr>\n",
       "  </tbody>\n",
       "</table>\n",
       "</div>"
      ],
      "text/plain": [
       "      MasVnrType  MasVnrArea  OverallQual  YearBuilt\n",
       "231          NaN         NaN            8       2002\n",
       "246          NaN         NaN            7       2008\n",
       "422          NaN         NaN            7       2002\n",
       "532          NaN         NaN            7       2002\n",
       "544          NaN         NaN            8       2006\n",
       "581          NaN         NaN            7       2002\n",
       "851          NaN         NaN            6       2007\n",
       "865          NaN         NaN            7       2003\n",
       "880          NaN         NaN            7       2007\n",
       "889          NaN         NaN            8       2007\n",
       "908          NaN         NaN            8       2006\n",
       "1132         NaN         NaN            8       2006\n",
       "1150         NaN       198.0            4       1961\n",
       "1197         NaN         NaN            8       2005\n",
       "1226         NaN         NaN            8       2006\n",
       "1402         NaN         NaN            6       2002"
      ]
     },
     "execution_count": 728,
     "metadata": {},
     "output_type": "execute_result"
    }
   ],
   "source": [
    "masvnrtypedf"
   ]
  },
  {
   "cell_type": "code",
   "execution_count": 729,
   "id": "b25b0048-b71d-44c7-8125-f3d4c05c1aaa",
   "metadata": {},
   "outputs": [],
   "source": [
    "#(df[(df.OverallQual == 8) & (df.YearBuilt == 2002)].MasVnrType.mean() + test_df[(test_df.OverallQual == 8) & (test_df.YearBuilt == 2002)].MasVnrType.mean())/2\n",
    "#test_df[['MasVnrType','MasVnrArea']]\n",
    "\n",
    "\n",
    "for i in range(len(masvnrtypedf.index)):\n",
    "    OverallQual = masvnrtypedf.iloc[i].OverallQual\n",
    "    YearBuilt = masvnrtypedf.iloc[i].YearBuilt\n",
    "    \n",
    "    mean_type = round((df[(df.OverallQual == OverallQual) & (df.YearBuilt == YearBuilt)].MasVnrType.mean() + test_df[(test_df.OverallQual == OverallQual) & (test_df.YearBuilt == YearBuilt)].MasVnrType.mean())/2)\n",
    "    mean_area = round((df[(df.OverallQual == OverallQual) & (df.YearBuilt == YearBuilt)].MasVnrArea.mean() + test_df[(test_df.OverallQual == OverallQual) & (test_df.YearBuilt == YearBuilt)].MasVnrArea.mean())/2)\n",
    "    \n",
    "    test_df[(test_df.OverallQual == OverallQual) & (test_df.YearBuilt == YearBuilt)].MasVnrType.fillna(mean_type, inplace=True)\n",
    "    test_df[(test_df.OverallQual == OverallQual) & (test_df.YearBuilt == YearBuilt)].MasVnrArea.fillna(mean_area, inplace=True)\n"
   ]
  },
  {
   "cell_type": "code",
   "execution_count": 730,
   "id": "3a02c466-35c9-4609-acb5-0d17a6bf57de",
   "metadata": {},
   "outputs": [
    {
     "data": {
      "text/html": [
       "<div>\n",
       "<style scoped>\n",
       "    .dataframe tbody tr th:only-of-type {\n",
       "        vertical-align: middle;\n",
       "    }\n",
       "\n",
       "    .dataframe tbody tr th {\n",
       "        vertical-align: top;\n",
       "    }\n",
       "\n",
       "    .dataframe thead th {\n",
       "        text-align: right;\n",
       "    }\n",
       "</style>\n",
       "<table border=\"1\" class=\"dataframe\">\n",
       "  <thead>\n",
       "    <tr style=\"text-align: right;\">\n",
       "      <th></th>\n",
       "      <th>MasVnrType</th>\n",
       "    </tr>\n",
       "  </thead>\n",
       "  <tbody>\n",
       "    <tr>\n",
       "      <th>0</th>\n",
       "      <td>0.0</td>\n",
       "    </tr>\n",
       "    <tr>\n",
       "      <th>1</th>\n",
       "      <td>2.0</td>\n",
       "    </tr>\n",
       "    <tr>\n",
       "      <th>2</th>\n",
       "      <td>0.0</td>\n",
       "    </tr>\n",
       "    <tr>\n",
       "      <th>3</th>\n",
       "      <td>2.0</td>\n",
       "    </tr>\n",
       "    <tr>\n",
       "      <th>4</th>\n",
       "      <td>0.0</td>\n",
       "    </tr>\n",
       "    <tr>\n",
       "      <th>...</th>\n",
       "      <td>...</td>\n",
       "    </tr>\n",
       "    <tr>\n",
       "      <th>1454</th>\n",
       "      <td>0.0</td>\n",
       "    </tr>\n",
       "    <tr>\n",
       "      <th>1455</th>\n",
       "      <td>0.0</td>\n",
       "    </tr>\n",
       "    <tr>\n",
       "      <th>1456</th>\n",
       "      <td>0.0</td>\n",
       "    </tr>\n",
       "    <tr>\n",
       "      <th>1457</th>\n",
       "      <td>0.0</td>\n",
       "    </tr>\n",
       "    <tr>\n",
       "      <th>1458</th>\n",
       "      <td>2.0</td>\n",
       "    </tr>\n",
       "  </tbody>\n",
       "</table>\n",
       "<p>1459 rows × 1 columns</p>\n",
       "</div>"
      ],
      "text/plain": [
       "      MasVnrType\n",
       "0            0.0\n",
       "1            2.0\n",
       "2            0.0\n",
       "3            2.0\n",
       "4            0.0\n",
       "...          ...\n",
       "1454         0.0\n",
       "1455         0.0\n",
       "1456         0.0\n",
       "1457         0.0\n",
       "1458         2.0\n",
       "\n",
       "[1459 rows x 1 columns]"
      ]
     },
     "execution_count": 730,
     "metadata": {},
     "output_type": "execute_result"
    }
   ],
   "source": [
    "test_df[['MasVnrType']]"
   ]
  },
  {
   "cell_type": "code",
   "execution_count": 731,
   "id": "3493c7d4-1c48-48f7-b658-81ac93274b49",
   "metadata": {},
   "outputs": [
    {
     "data": {
      "text/plain": [
       "OverallQual    0.411876\n",
       "MasVnrArea     1.000000\n",
       "SalePrice      0.477493\n",
       "MasVnrType     0.657269\n",
       "Name: MasVnrArea, dtype: float64"
      ]
     },
     "execution_count": 731,
     "metadata": {},
     "output_type": "execute_result"
    }
   ],
   "source": [
    "df.corr()['MasVnrArea'][df.corr()['MasVnrArea'] >= 0.4] "
   ]
  },
  {
   "cell_type": "code",
   "execution_count": 732,
   "id": "c2d8b882-5974-4734-8293-a4a8df3d2c4f",
   "metadata": {},
   "outputs": [
    {
     "data": {
      "text/html": [
       "<div>\n",
       "<style scoped>\n",
       "    .dataframe tbody tr th:only-of-type {\n",
       "        vertical-align: middle;\n",
       "    }\n",
       "\n",
       "    .dataframe tbody tr th {\n",
       "        vertical-align: top;\n",
       "    }\n",
       "\n",
       "    .dataframe thead th {\n",
       "        text-align: right;\n",
       "    }\n",
       "</style>\n",
       "<table border=\"1\" class=\"dataframe\">\n",
       "  <thead>\n",
       "    <tr style=\"text-align: right;\">\n",
       "      <th></th>\n",
       "      <th>MasVnrType</th>\n",
       "      <th>MasVnrArea</th>\n",
       "      <th>OverallQual</th>\n",
       "      <th>YearBuilt</th>\n",
       "    </tr>\n",
       "  </thead>\n",
       "  <tbody>\n",
       "    <tr>\n",
       "      <th>231</th>\n",
       "      <td>NaN</td>\n",
       "      <td>NaN</td>\n",
       "      <td>8</td>\n",
       "      <td>2002</td>\n",
       "    </tr>\n",
       "    <tr>\n",
       "      <th>246</th>\n",
       "      <td>NaN</td>\n",
       "      <td>NaN</td>\n",
       "      <td>7</td>\n",
       "      <td>2008</td>\n",
       "    </tr>\n",
       "    <tr>\n",
       "      <th>422</th>\n",
       "      <td>NaN</td>\n",
       "      <td>NaN</td>\n",
       "      <td>7</td>\n",
       "      <td>2002</td>\n",
       "    </tr>\n",
       "    <tr>\n",
       "      <th>532</th>\n",
       "      <td>NaN</td>\n",
       "      <td>NaN</td>\n",
       "      <td>7</td>\n",
       "      <td>2002</td>\n",
       "    </tr>\n",
       "    <tr>\n",
       "      <th>544</th>\n",
       "      <td>NaN</td>\n",
       "      <td>NaN</td>\n",
       "      <td>8</td>\n",
       "      <td>2006</td>\n",
       "    </tr>\n",
       "    <tr>\n",
       "      <th>581</th>\n",
       "      <td>NaN</td>\n",
       "      <td>NaN</td>\n",
       "      <td>7</td>\n",
       "      <td>2002</td>\n",
       "    </tr>\n",
       "    <tr>\n",
       "      <th>851</th>\n",
       "      <td>NaN</td>\n",
       "      <td>NaN</td>\n",
       "      <td>6</td>\n",
       "      <td>2007</td>\n",
       "    </tr>\n",
       "    <tr>\n",
       "      <th>865</th>\n",
       "      <td>NaN</td>\n",
       "      <td>NaN</td>\n",
       "      <td>7</td>\n",
       "      <td>2003</td>\n",
       "    </tr>\n",
       "    <tr>\n",
       "      <th>880</th>\n",
       "      <td>NaN</td>\n",
       "      <td>NaN</td>\n",
       "      <td>7</td>\n",
       "      <td>2007</td>\n",
       "    </tr>\n",
       "    <tr>\n",
       "      <th>889</th>\n",
       "      <td>NaN</td>\n",
       "      <td>NaN</td>\n",
       "      <td>8</td>\n",
       "      <td>2007</td>\n",
       "    </tr>\n",
       "    <tr>\n",
       "      <th>908</th>\n",
       "      <td>NaN</td>\n",
       "      <td>NaN</td>\n",
       "      <td>8</td>\n",
       "      <td>2006</td>\n",
       "    </tr>\n",
       "    <tr>\n",
       "      <th>1132</th>\n",
       "      <td>NaN</td>\n",
       "      <td>NaN</td>\n",
       "      <td>8</td>\n",
       "      <td>2006</td>\n",
       "    </tr>\n",
       "    <tr>\n",
       "      <th>1197</th>\n",
       "      <td>NaN</td>\n",
       "      <td>NaN</td>\n",
       "      <td>8</td>\n",
       "      <td>2005</td>\n",
       "    </tr>\n",
       "    <tr>\n",
       "      <th>1226</th>\n",
       "      <td>NaN</td>\n",
       "      <td>NaN</td>\n",
       "      <td>8</td>\n",
       "      <td>2006</td>\n",
       "    </tr>\n",
       "    <tr>\n",
       "      <th>1402</th>\n",
       "      <td>NaN</td>\n",
       "      <td>NaN</td>\n",
       "      <td>6</td>\n",
       "      <td>2002</td>\n",
       "    </tr>\n",
       "  </tbody>\n",
       "</table>\n",
       "</div>"
      ],
      "text/plain": [
       "      MasVnrType  MasVnrArea  OverallQual  YearBuilt\n",
       "231          NaN         NaN            8       2002\n",
       "246          NaN         NaN            7       2008\n",
       "422          NaN         NaN            7       2002\n",
       "532          NaN         NaN            7       2002\n",
       "544          NaN         NaN            8       2006\n",
       "581          NaN         NaN            7       2002\n",
       "851          NaN         NaN            6       2007\n",
       "865          NaN         NaN            7       2003\n",
       "880          NaN         NaN            7       2007\n",
       "889          NaN         NaN            8       2007\n",
       "908          NaN         NaN            8       2006\n",
       "1132         NaN         NaN            8       2006\n",
       "1197         NaN         NaN            8       2005\n",
       "1226         NaN         NaN            8       2006\n",
       "1402         NaN         NaN            6       2002"
      ]
     },
     "execution_count": 732,
     "metadata": {},
     "output_type": "execute_result"
    }
   ],
   "source": [
    "test_df[test_df.MasVnrArea.isnull() == True][['MasVnrType','MasVnrArea','OverallQual','YearBuilt']]"
   ]
  },
  {
   "cell_type": "markdown",
   "id": "6c533ae7-3366-4429-a573-c01b4e86fbfb",
   "metadata": {},
   "source": [
    "Şu ana kadar yapılanlar..:<br>\n",
    "MsVnrArea ve MsVnrType değerlerine ait train ve test datasetlerindeki verilerin OverallQual\tYearBuilt kolonlarına göre toplamıp ortalamaları alındı ve Nan değerlere atandı"
   ]
  },
  {
   "cell_type": "code",
   "execution_count": 733,
   "id": "f6022d6a-7f74-4d19-a73e-781bd7e4e579",
   "metadata": {},
   "outputs": [],
   "source": [
    "test_obj.MasVnrType = test_df.MasVnrType.copy()"
   ]
  },
  {
   "cell_type": "markdown",
   "id": "9a606e84-72b5-4a61-9c56-0428b5da7b69",
   "metadata": {
    "jp-MarkdownHeadingCollapsed": true,
    "tags": []
   },
   "source": [
    "#### ExterQual & ExterCond"
   ]
  },
  {
   "cell_type": "code",
   "execution_count": 734,
   "id": "fe0ea670-b335-46c3-b840-3d40a4fd0a99",
   "metadata": {},
   "outputs": [
    {
     "name": "stdout",
     "output_type": "stream",
     "text": [
      "TA    892\n",
      "Gd    491\n",
      "Ex     55\n",
      "Fa     21\n",
      "Name: ExterQual, dtype: int64\n",
      "Null sum..:  0\n"
     ]
    }
   ],
   "source": [
    "valcount_isnull(test_obj, 'ExterQual')"
   ]
  },
  {
   "cell_type": "code",
   "execution_count": 735,
   "id": "9e321300-31ba-4fc9-ad46-dfd66abb4156",
   "metadata": {},
   "outputs": [
    {
     "name": "stdout",
     "output_type": "stream",
     "text": [
      "TA    1256\n",
      "Gd     153\n",
      "Fa      39\n",
      "Ex       9\n",
      "Po       2\n",
      "Name: ExterCond, dtype: int64\n",
      "Null sum..:  0\n"
     ]
    }
   ],
   "source": [
    "valcount_isnull(test_obj, 'ExterCond')"
   ]
  },
  {
   "cell_type": "code",
   "execution_count": 736,
   "id": "f4d0abc8-5aed-4fc6-aecd-3d512446c1e5",
   "metadata": {},
   "outputs": [],
   "source": [
    "dictionary = {\"ExterQual\":{\"Po\":1,\"Fa\":2, \"TA\":3, \"Gd\":4, \"Ex\":5}}\n",
    "test_obj = test_obj.replace(dictionary)"
   ]
  },
  {
   "cell_type": "code",
   "execution_count": 737,
   "id": "32ce3364-685f-4ed4-9061-b436e83810c0",
   "metadata": {},
   "outputs": [],
   "source": [
    "dictionary = {\"ExterCond\":{\"Po\":1,\"Fa\":2, \"TA\":3, \"Gd\":4, \"Ex\":5}}\n",
    "test_obj = test_obj.replace(dictionary)"
   ]
  },
  {
   "cell_type": "markdown",
   "id": "bf7f7f04-12e1-400f-b23e-78c190fe432e",
   "metadata": {
    "jp-MarkdownHeadingCollapsed": true,
    "tags": []
   },
   "source": [
    "#### Foundation"
   ]
  },
  {
   "cell_type": "code",
   "execution_count": 738,
   "id": "b9ca0b15-80a4-4090-a6ca-1e5c98fb0558",
   "metadata": {},
   "outputs": [
    {
     "name": "stdout",
     "output_type": "stream",
     "text": [
      "PConc     661\n",
      "CBlock    601\n",
      "BrkTil    165\n",
      "Slab       25\n",
      "Stone       5\n",
      "Wood        2\n",
      "Name: Foundation, dtype: int64\n",
      "Null sum..:  0\n"
     ]
    }
   ],
   "source": [
    "valcount_isnull(test_obj, 'Foundation')"
   ]
  },
  {
   "cell_type": "code",
   "execution_count": 739,
   "id": "9d52c05d-6473-4f78-8073-b1bd060f1871",
   "metadata": {},
   "outputs": [],
   "source": [
    "dictionary = {\"Foundation\":{\"Slab\":1,\"BrkTil\":2, \"CBlock\":3, \"Wood\":4, \"PConc\":5, \"Stone\":6}}\n",
    "test_obj = test_obj.replace(dictionary)"
   ]
  },
  {
   "cell_type": "markdown",
   "id": "34c63d8b-3399-4c21-b956-008d1e7dbe6d",
   "metadata": {
    "tags": []
   },
   "source": [
    "#### BsmtQual & BsmtCond & BsmtExposure & BsmtFinType1 & BsmtFinType2"
   ]
  },
  {
   "cell_type": "code",
   "execution_count": 740,
   "id": "3d371f19-1dea-4fbb-ace8-4386ea6912f8",
   "metadata": {},
   "outputs": [
    {
     "name": "stdout",
     "output_type": "stream",
     "text": [
      "TA    634\n",
      "Gd    591\n",
      "Ex    137\n",
      "Fa     53\n",
      "Name: BsmtQual, dtype: int64\n",
      "Null sum..:  44\n"
     ]
    }
   ],
   "source": [
    "valcount_isnull(test_obj, 'BsmtQual')"
   ]
  },
  {
   "cell_type": "code",
   "execution_count": 741,
   "id": "07c16d8c-0d02-455b-a278-2f3101f264d7",
   "metadata": {},
   "outputs": [],
   "source": [
    "test_obj.BsmtQual.fillna(0, inplace=True)\n",
    "dictionary = {\"BsmtQual\":{\"Po\":1,\"Fa\":2, \"TA\":3, \"Gd\":4, \"Ex\":5}}\n",
    "test_obj = test_obj.replace(dictionary)"
   ]
  },
  {
   "cell_type": "code",
   "execution_count": 742,
   "id": "23dc3cf1-e65a-45d9-90aa-66d3917f5a4d",
   "metadata": {},
   "outputs": [
    {
     "name": "stdout",
     "output_type": "stream",
     "text": [
      "TA    1295\n",
      "Fa      59\n",
      "Gd      57\n",
      "Po       3\n",
      "Name: BsmtCond, dtype: int64\n",
      "Null sum..:  45\n"
     ]
    }
   ],
   "source": [
    "valcount_isnull(test_obj, 'BsmtCond')"
   ]
  },
  {
   "cell_type": "code",
   "execution_count": 743,
   "id": "bc30f111-c4e6-40e5-acf5-199d40736464",
   "metadata": {},
   "outputs": [],
   "source": [
    "test_obj.BsmtCond.fillna(0, inplace=True)\n",
    "dictionary = {\"BsmtCond\":{\"Po\":1,\"Fa\":2, \"TA\":3, \"Gd\":4, \"Ex\":5}}\n",
    "test_obj = test_obj.replace(dictionary)"
   ]
  },
  {
   "cell_type": "code",
   "execution_count": 744,
   "id": "6183f0e8-65ab-4fe7-96cd-7004fd156af5",
   "metadata": {},
   "outputs": [
    {
     "name": "stdout",
     "output_type": "stream",
     "text": [
      "No    951\n",
      "Av    197\n",
      "Gd    142\n",
      "Mn    125\n",
      "Name: BsmtExposure, dtype: int64\n",
      "Null sum..:  44\n"
     ]
    }
   ],
   "source": [
    "valcount_isnull(test_obj, 'BsmtExposure')"
   ]
  },
  {
   "cell_type": "code",
   "execution_count": 745,
   "id": "e64ef7f3-705a-40c0-b2e7-c63ed415b4e7",
   "metadata": {},
   "outputs": [],
   "source": [
    "test_obj.BsmtExposure.fillna(0, inplace=True)\n",
    "dictionary = {\"BsmtExposure\":{\"No\":1,\"Mn\":2, \"Av\":3, \"Gd\":4}}\n",
    "test_obj = test_obj.replace(dictionary)"
   ]
  },
  {
   "cell_type": "code",
   "execution_count": 746,
   "id": "0930481f-951a-4378-812d-5a912495ff41",
   "metadata": {},
   "outputs": [
    {
     "name": "stdout",
     "output_type": "stream",
     "text": [
      "GLQ    431\n",
      "Unf    421\n",
      "ALQ    209\n",
      "Rec    155\n",
      "BLQ    121\n",
      "LwQ     80\n",
      "Name: BsmtFinType1, dtype: int64\n",
      "Null sum..:  42\n"
     ]
    }
   ],
   "source": [
    "valcount_isnull(test_obj, 'BsmtFinType1')"
   ]
  },
  {
   "cell_type": "code",
   "execution_count": 747,
   "id": "0b044d0d-fd83-450b-80a8-f1bbf5b2cafd",
   "metadata": {},
   "outputs": [],
   "source": [
    "test_obj.BsmtFinType1.fillna(0, inplace=True)\n",
    "dictionary = {\"BsmtFinType1\":{\"Unf\":1,\"LwQ\":2, \"Rec\":3, \"BLQ\":4, \"ALQ\":5, \"GLQ\":6}}\n",
    "test_obj = test_obj.replace(dictionary)"
   ]
  },
  {
   "cell_type": "code",
   "execution_count": 748,
   "id": "e93295bc-7e81-4d14-90a1-1e01b1ec4689",
   "metadata": {},
   "outputs": [
    {
     "name": "stdout",
     "output_type": "stream",
     "text": [
      "Unf    1237\n",
      "Rec      51\n",
      "LwQ      41\n",
      "BLQ      35\n",
      "ALQ      33\n",
      "GLQ      20\n",
      "Name: BsmtFinType2, dtype: int64\n",
      "Null sum..:  42\n"
     ]
    }
   ],
   "source": [
    "valcount_isnull(test_obj, 'BsmtFinType2')"
   ]
  },
  {
   "cell_type": "code",
   "execution_count": 749,
   "id": "9d1cd731-d92b-455a-b77c-d5573d987f6f",
   "metadata": {},
   "outputs": [],
   "source": [
    "test_obj.BsmtFinType2.fillna(0, inplace=True)\n",
    "dictionary = {\"BsmtFinType2\":{\"Unf\":1,\"LwQ\":2, \"Rec\":3, \"BLQ\":4, \"ALQ\":5, \"GLQ\":6}}\n",
    "test_obj = test_obj.replace(dictionary)"
   ]
  },
  {
   "cell_type": "markdown",
   "id": "57bc6814-ad93-4078-a623-7223c2d41baf",
   "metadata": {
    "jp-MarkdownHeadingCollapsed": true,
    "tags": []
   },
   "source": [
    "#### Heating & HeatingQC"
   ]
  },
  {
   "cell_type": "code",
   "execution_count": 750,
   "id": "5c3098b9-ec5a-497f-99a1-059aef947119",
   "metadata": {},
   "outputs": [
    {
     "name": "stdout",
     "output_type": "stream",
     "text": [
      "GasA    1446\n",
      "GasW       9\n",
      "Grav       2\n",
      "Wall       2\n",
      "Name: Heating, dtype: int64\n",
      "Null sum..:  0\n"
     ]
    }
   ],
   "source": [
    "valcount_isnull(test_obj, 'Heating')"
   ]
  },
  {
   "cell_type": "code",
   "execution_count": 751,
   "id": "7fd4a38b-d12f-4317-a626-cd76b4bf9b4b",
   "metadata": {},
   "outputs": [],
   "source": [
    "dictionary = {\"Heating\":{\"Grav\":1,\"Floor\":2, \"Wall\":3, \"OthW\":4, \"GasA\":5, \"GasW\":6}}\n",
    "test_obj = test_obj.replace(dictionary)"
   ]
  },
  {
   "cell_type": "code",
   "execution_count": 752,
   "id": "bf794952-5281-43c4-8a79-f641a4a4da2c",
   "metadata": {},
   "outputs": [
    {
     "name": "stdout",
     "output_type": "stream",
     "text": [
      "Ex    752\n",
      "TA    429\n",
      "Gd    233\n",
      "Fa     43\n",
      "Po      2\n",
      "Name: HeatingQC, dtype: int64\n",
      "Null sum..:  0\n"
     ]
    }
   ],
   "source": [
    "valcount_isnull(test_obj, 'HeatingQC')"
   ]
  },
  {
   "cell_type": "code",
   "execution_count": 753,
   "id": "02d961a4-f9c5-4a69-9147-6f7ddef61519",
   "metadata": {},
   "outputs": [],
   "source": [
    "dictionary = {\"HeatingQC\":{\"Po\":1,\"Fa\":2, \"TA\":3, \"Gd\":4, \"Ex\":5}}\n",
    "test_obj = test_obj.replace(dictionary)"
   ]
  },
  {
   "cell_type": "markdown",
   "id": "da41a194-d774-4bf2-9809-83a394f4da2a",
   "metadata": {
    "jp-MarkdownHeadingCollapsed": true,
    "tags": []
   },
   "source": [
    "#### CentralAir"
   ]
  },
  {
   "cell_type": "code",
   "execution_count": 754,
   "id": "730e6697-5e32-47d9-959d-4c5ea990f6e9",
   "metadata": {},
   "outputs": [
    {
     "name": "stdout",
     "output_type": "stream",
     "text": [
      "Y    1358\n",
      "N     101\n",
      "Name: CentralAir, dtype: int64\n",
      "Null sum..:  0\n"
     ]
    }
   ],
   "source": [
    "valcount_isnull(test_obj, 'CentralAir')"
   ]
  },
  {
   "cell_type": "code",
   "execution_count": 755,
   "id": "78073a36-104b-4c00-8cb6-b8a88e3b05e2",
   "metadata": {},
   "outputs": [],
   "source": [
    "dictionary = {\"CentralAir\":{\"N\":0,\"Y\":1}}\n",
    "test_obj = test_obj.replace(dictionary)"
   ]
  },
  {
   "cell_type": "markdown",
   "id": "85927730-ef45-4b72-80bc-035c556a931e",
   "metadata": {
    "jp-MarkdownHeadingCollapsed": true,
    "tags": []
   },
   "source": [
    "#### Electrical"
   ]
  },
  {
   "cell_type": "code",
   "execution_count": 756,
   "id": "369bc535-c131-4a44-80bc-202460663d7b",
   "metadata": {},
   "outputs": [
    {
     "name": "stdout",
     "output_type": "stream",
     "text": [
      "SBrkr    1337\n",
      "FuseA      94\n",
      "FuseF      23\n",
      "FuseP       5\n",
      "Name: Electrical, dtype: int64\n",
      "Null sum..:  0\n"
     ]
    }
   ],
   "source": [
    "valcount_isnull(test_obj, 'Electrical')"
   ]
  },
  {
   "cell_type": "code",
   "execution_count": 757,
   "id": "8fd12b4b-5fcc-4105-ad77-8f4d198ea8bc",
   "metadata": {},
   "outputs": [],
   "source": [
    "dictionary = {\"Electrical\":{\"Mix\":1,\"FuseP\":2,\"FuseF\":3, \"FuseA\":4, \"SBrkr\":5}}\n",
    "test_obj = test_obj.replace(dictionary)"
   ]
  },
  {
   "cell_type": "markdown",
   "id": "8b570f44-ddcd-4116-9f34-d7b82b38d768",
   "metadata": {
    "jp-MarkdownHeadingCollapsed": true,
    "tags": []
   },
   "source": [
    "#### KitchenQual"
   ]
  },
  {
   "cell_type": "code",
   "execution_count": 758,
   "id": "69a9c860-ce22-4724-a0dc-8e2ec0642558",
   "metadata": {},
   "outputs": [
    {
     "name": "stdout",
     "output_type": "stream",
     "text": [
      "TA    757\n",
      "Gd    565\n",
      "Ex    105\n",
      "Fa     31\n",
      "Name: KitchenQual, dtype: int64\n",
      "Null sum..:  1\n"
     ]
    }
   ],
   "source": [
    "valcount_isnull(test_obj, 'KitchenQual')"
   ]
  },
  {
   "cell_type": "code",
   "execution_count": 759,
   "id": "c7932e67-f810-4fe4-b1fd-601c6ce7f9f1",
   "metadata": {},
   "outputs": [
    {
     "data": {
      "text/plain": [
       "OverallQual     0.673331\n",
       "YearBuilt       0.530165\n",
       "YearRemodAdd    0.625316\n",
       "TotalBsmtSF     0.432630\n",
       "GrLivArea       0.420563\n",
       "FullBath        0.434648\n",
       "GarageYrBlt     0.527013\n",
       "GarageCars      0.509810\n",
       "GarageArea      0.489606\n",
       "SalePrice       0.659600\n",
       "Neighborhood    0.566358\n",
       "ExterQual       0.716122\n",
       "Foundation      0.518235\n",
       "BsmtQual        0.510938\n",
       "HeatingQC       0.504228\n",
       "KitchenQual     1.000000\n",
       "GarageType      0.400813\n",
       "GarageFinish    0.474570\n",
       "Name: KitchenQual, dtype: float64"
      ]
     },
     "execution_count": 759,
     "metadata": {},
     "output_type": "execute_result"
    }
   ],
   "source": [
    "df.corr()['KitchenQual'][df.corr()['KitchenQual'] > 0.4] "
   ]
  },
  {
   "cell_type": "code",
   "execution_count": 760,
   "id": "a7a2beb9-1f70-46ff-9588-dea9733cb63b",
   "metadata": {},
   "outputs": [
    {
     "data": {
      "text/html": [
       "<div>\n",
       "<style scoped>\n",
       "    .dataframe tbody tr th:only-of-type {\n",
       "        vertical-align: middle;\n",
       "    }\n",
       "\n",
       "    .dataframe tbody tr th {\n",
       "        vertical-align: top;\n",
       "    }\n",
       "\n",
       "    .dataframe thead th {\n",
       "        text-align: right;\n",
       "    }\n",
       "</style>\n",
       "<table border=\"1\" class=\"dataframe\">\n",
       "  <thead>\n",
       "    <tr style=\"text-align: right;\">\n",
       "      <th></th>\n",
       "      <th>ExterQual</th>\n",
       "      <th>KitchenQual</th>\n",
       "    </tr>\n",
       "  </thead>\n",
       "  <tbody>\n",
       "    <tr>\n",
       "      <th>0</th>\n",
       "      <td>Gd</td>\n",
       "      <td>Gd</td>\n",
       "    </tr>\n",
       "    <tr>\n",
       "      <th>1</th>\n",
       "      <td>TA</td>\n",
       "      <td>TA</td>\n",
       "    </tr>\n",
       "    <tr>\n",
       "      <th>2</th>\n",
       "      <td>Gd</td>\n",
       "      <td>Gd</td>\n",
       "    </tr>\n",
       "    <tr>\n",
       "      <th>3</th>\n",
       "      <td>TA</td>\n",
       "      <td>Gd</td>\n",
       "    </tr>\n",
       "    <tr>\n",
       "      <th>4</th>\n",
       "      <td>Gd</td>\n",
       "      <td>Gd</td>\n",
       "    </tr>\n",
       "    <tr>\n",
       "      <th>...</th>\n",
       "      <td>...</td>\n",
       "      <td>...</td>\n",
       "    </tr>\n",
       "    <tr>\n",
       "      <th>1455</th>\n",
       "      <td>TA</td>\n",
       "      <td>TA</td>\n",
       "    </tr>\n",
       "    <tr>\n",
       "      <th>1456</th>\n",
       "      <td>TA</td>\n",
       "      <td>TA</td>\n",
       "    </tr>\n",
       "    <tr>\n",
       "      <th>1457</th>\n",
       "      <td>Ex</td>\n",
       "      <td>Gd</td>\n",
       "    </tr>\n",
       "    <tr>\n",
       "      <th>1458</th>\n",
       "      <td>TA</td>\n",
       "      <td>Gd</td>\n",
       "    </tr>\n",
       "    <tr>\n",
       "      <th>1459</th>\n",
       "      <td>Gd</td>\n",
       "      <td>TA</td>\n",
       "    </tr>\n",
       "  </tbody>\n",
       "</table>\n",
       "<p>1460 rows × 2 columns</p>\n",
       "</div>"
      ],
      "text/plain": [
       "     ExterQual KitchenQual\n",
       "0           Gd          Gd\n",
       "1           TA          TA\n",
       "2           Gd          Gd\n",
       "3           TA          Gd\n",
       "4           Gd          Gd\n",
       "...        ...         ...\n",
       "1455        TA          TA\n",
       "1456        TA          TA\n",
       "1457        Ex          Gd\n",
       "1458        TA          Gd\n",
       "1459        Gd          TA\n",
       "\n",
       "[1460 rows x 2 columns]"
      ]
     },
     "execution_count": 760,
     "metadata": {},
     "output_type": "execute_result"
    }
   ],
   "source": [
    "raw_df[['ExterQual','KitchenQual']]"
   ]
  },
  {
   "cell_type": "code",
   "execution_count": 761,
   "id": "7e558fcc-4991-4050-80f7-5a90e98b803d",
   "metadata": {},
   "outputs": [
    {
     "data": {
      "text/plain": [
       "95    3\n",
       "Name: ExterQual, dtype: int64"
      ]
     },
     "execution_count": 761,
     "metadata": {},
     "output_type": "execute_result"
    }
   ],
   "source": [
    "test_obj[test_obj.KitchenQual.isnull() == True]['ExterQual']"
   ]
  },
  {
   "cell_type": "code",
   "execution_count": 762,
   "id": "c60353b9-bb28-41dc-a3b4-1c6d43ab6c89",
   "metadata": {},
   "outputs": [],
   "source": [
    "#KitchenQual %71 oranında ExterQual ile korele olduğuundan bu değere göre dolduruldu"
   ]
  },
  {
   "cell_type": "code",
   "execution_count": 763,
   "id": "ecc1fef5-088f-4015-9400-972bfc56a83a",
   "metadata": {},
   "outputs": [],
   "source": [
    "test_obj.KitchenQual.fillna(3, inplace=True)\n",
    "dictionary = {\"KitchenQual\":{\"Po\":1,\"Fa\":2,\"TA\":3, \"Gd\":4, \"Ex\":5}}\n",
    "test_obj = test_obj.replace(dictionary)"
   ]
  },
  {
   "cell_type": "markdown",
   "id": "66b78621-e978-479a-b107-e83c5361ced3",
   "metadata": {
    "tags": []
   },
   "source": [
    "#### Functional"
   ]
  },
  {
   "cell_type": "code",
   "execution_count": 764,
   "id": "683bf23c-6b7f-422f-b9e0-104d70520676",
   "metadata": {},
   "outputs": [
    {
     "name": "stdout",
     "output_type": "stream",
     "text": [
      "Typ     1357\n",
      "Min2      36\n",
      "Min1      34\n",
      "Mod       20\n",
      "Maj1       5\n",
      "Maj2       4\n",
      "Sev        1\n",
      "Name: Functional, dtype: int64\n",
      "Null sum..:  2\n"
     ]
    }
   ],
   "source": [
    "valcount_isnull(test_obj, 'Functional')"
   ]
  },
  {
   "cell_type": "code",
   "execution_count": 765,
   "id": "b9adbddd-54db-4df9-a408-4750fd95f5d9",
   "metadata": {},
   "outputs": [
    {
     "data": {
      "text/plain": [
       "OverallQual     0.137160\n",
       "OverallCond     0.118978\n",
       "YearBuilt       0.138408\n",
       "GarageYrBlt     0.126227\n",
       "SalePrice       0.105996\n",
       "Neighborhood    0.139698\n",
       "ExterCond       0.111963\n",
       "Foundation      0.152563\n",
       "BsmtQual        0.129048\n",
       "BsmtCond        0.138740\n",
       "BsmtFinType1    0.108530\n",
       "KitchenQual     0.113064\n",
       "Functional      1.000000\n",
       "GarageType      0.122352\n",
       "GarageFinish    0.121698\n",
       "Name: Functional, dtype: float64"
      ]
     },
     "execution_count": 765,
     "metadata": {},
     "output_type": "execute_result"
    }
   ],
   "source": [
    "df.corr()['Functional'][df.corr()['Functional'] > 0.1] "
   ]
  },
  {
   "cell_type": "code",
   "execution_count": 766,
   "id": "8baf115c-fcd6-4771-89e7-81af2cbfe813",
   "metadata": {},
   "outputs": [],
   "source": [
    "test_obj[test_obj.Functional.isnull() ==True][['Functional']].fillna('Typ', inplace=True)"
   ]
  },
  {
   "cell_type": "code",
   "execution_count": 767,
   "id": "5392fc06-86e5-4f93-bd37-4c4639ccff07",
   "metadata": {},
   "outputs": [],
   "source": [
    "dictionary = {\"Functional\":{\"Sev\":1,\"Maj2\":2,\"Maj1\":3, \"Mod\":4, \"Min1\":5, \"Min2\":6, \"Typ\":7}}\n",
    "test_obj = test_obj.replace(dictionary)"
   ]
  },
  {
   "cell_type": "markdown",
   "id": "73e9c22c-d514-4358-a820-7fcc9ad3cb60",
   "metadata": {
    "jp-MarkdownHeadingCollapsed": true,
    "tags": []
   },
   "source": [
    "#### FireplaceQu"
   ]
  },
  {
   "cell_type": "code",
   "execution_count": 768,
   "id": "9421df48-e726-4393-95e0-e4b715cceb86",
   "metadata": {},
   "outputs": [
    {
     "name": "stdout",
     "output_type": "stream",
     "text": [
      "Gd    364\n",
      "TA    279\n",
      "Fa     41\n",
      "Po     26\n",
      "Ex     19\n",
      "Name: FireplaceQu, dtype: int64\n",
      "Null sum..:  730\n"
     ]
    }
   ],
   "source": [
    "valcount_isnull(test_obj, 'FireplaceQu')"
   ]
  },
  {
   "cell_type": "code",
   "execution_count": 769,
   "id": "1661ae6f-b1ef-4634-baff-cb98d89cdc82",
   "metadata": {},
   "outputs": [],
   "source": [
    "test_obj.FireplaceQu.fillna(0, inplace=True)\n",
    "dictionary = {\"FireplaceQu\":{\"Po\":1,\"Fa\":2,\"TA\":3, \"Gd\":4, \"Ex\":5}}\n",
    "test_obj = test_obj.replace(dictionary)"
   ]
  },
  {
   "cell_type": "markdown",
   "id": "6b5c01b9-1bd3-49ef-b96e-73bb13981a6b",
   "metadata": {
    "jp-MarkdownHeadingCollapsed": true,
    "tags": []
   },
   "source": [
    "####  GarageType & GarageFinish & GarageQual & GarageCond"
   ]
  },
  {
   "cell_type": "code",
   "execution_count": 770,
   "id": "827205f7-c6f0-4888-b377-35d14fc478bc",
   "metadata": {},
   "outputs": [
    {
     "name": "stdout",
     "output_type": "stream",
     "text": [
      "Attchd     853\n",
      "Detchd     392\n",
      "BuiltIn     98\n",
      "2Types      17\n",
      "Basment     17\n",
      "CarPort      6\n",
      "Name: GarageType, dtype: int64\n",
      "Null sum..:  76\n"
     ]
    }
   ],
   "source": [
    "valcount_isnull(test_obj, 'GarageType')"
   ]
  },
  {
   "cell_type": "code",
   "execution_count": 771,
   "id": "92c6a28f-5bcf-40e6-ac43-a9c61a18457f",
   "metadata": {},
   "outputs": [],
   "source": [
    "test_obj.GarageType.fillna(0, inplace=True)\n",
    "dictionary = {\"GarageType\":{\"CarPort\":1,\"Detchd\":2,\"2Types\":3, \"Basment\":4, \"Attchd\":5, \"BuiltIn\":6}}\n",
    "test_obj = test_obj.replace(dictionary)"
   ]
  },
  {
   "cell_type": "code",
   "execution_count": 772,
   "id": "7b06cb7e-c4cb-4917-bc32-f6f988683dfc",
   "metadata": {},
   "outputs": [
    {
     "name": "stdout",
     "output_type": "stream",
     "text": [
      "Unf    625\n",
      "RFn    389\n",
      "Fin    367\n",
      "Name: GarageFinish, dtype: int64\n",
      "Null sum..:  78\n"
     ]
    }
   ],
   "source": [
    "valcount_isnull(test_obj, 'GarageFinish')"
   ]
  },
  {
   "cell_type": "code",
   "execution_count": 773,
   "id": "6dbcbab1-afa1-467d-b9ef-11b9af0cbc70",
   "metadata": {},
   "outputs": [],
   "source": [
    "test_obj.GarageFinish.fillna(0, inplace=True)\n",
    "dictionary = {\"GarageFinish\":{\"Unf\":1,\"RFn\":2,\"Fin\":3}}\n",
    "test_obj = test_obj.replace(dictionary)"
   ]
  },
  {
   "cell_type": "code",
   "execution_count": 774,
   "id": "69db24c8-2c2f-4195-9b90-8849faf45972",
   "metadata": {},
   "outputs": [
    {
     "name": "stdout",
     "output_type": "stream",
     "text": [
      "TA    1293\n",
      "Fa      76\n",
      "Gd      10\n",
      "Po       2\n",
      "Name: GarageQual, dtype: int64\n",
      "Null sum..:  78\n"
     ]
    }
   ],
   "source": [
    "valcount_isnull(test_obj, 'GarageQual')"
   ]
  },
  {
   "cell_type": "code",
   "execution_count": 775,
   "id": "74dd48a2-7ac8-4aaa-8f64-2468dab61db7",
   "metadata": {},
   "outputs": [],
   "source": [
    "test_obj.GarageQual.fillna(0, inplace=True)\n",
    "dictionary = {\"GarageQual\":{\"Po\":1,\"Fa\":2,\"TA\":3, \"Gd\":4, \"Ex\":5}}\n",
    "test_obj = test_obj.replace(dictionary)"
   ]
  },
  {
   "cell_type": "code",
   "execution_count": 776,
   "id": "c64794b1-68e9-46ea-9f4f-85a695dd5ed1",
   "metadata": {},
   "outputs": [],
   "source": [
    "test_obj.GarageCond.fillna(0, inplace=True)\n",
    "dictionary = {\"GarageCond\":{\"Po\":1,\"Fa\":2,\"TA\":3, \"Gd\":4, \"Ex\":5}}\n",
    "test_obj = test_obj.replace(dictionary)"
   ]
  },
  {
   "cell_type": "markdown",
   "id": "e9af91e3-c8e1-4f3c-a356-87a7ca7533f3",
   "metadata": {
    "jp-MarkdownHeadingCollapsed": true,
    "tags": []
   },
   "source": [
    "#### PavedDrive"
   ]
  },
  {
   "cell_type": "code",
   "execution_count": 777,
   "id": "fa38f78d-98ce-430e-9086-d81077bb58d0",
   "metadata": {},
   "outputs": [
    {
     "name": "stdout",
     "output_type": "stream",
     "text": [
      "Y    1301\n",
      "N     126\n",
      "P      32\n",
      "Name: PavedDrive, dtype: int64\n",
      "Null sum..:  0\n"
     ]
    }
   ],
   "source": [
    "valcount_isnull(test_obj, 'PavedDrive')"
   ]
  },
  {
   "cell_type": "code",
   "execution_count": 778,
   "id": "08bc6bde-2bb5-4faf-a37c-c5b1084dc383",
   "metadata": {},
   "outputs": [],
   "source": [
    "dictionary = {\"PavedDrive\":{\"N\":1,\"P\":2,\"Y\":3}}\n",
    "test_obj = test_obj.replace(dictionary)"
   ]
  },
  {
   "cell_type": "markdown",
   "id": "94ba850c-7a3c-4e6f-b262-adcf70de5dc8",
   "metadata": {
    "jp-MarkdownHeadingCollapsed": true,
    "tags": []
   },
   "source": [
    "#### PoolQC"
   ]
  },
  {
   "cell_type": "code",
   "execution_count": 779,
   "id": "389f1681-0953-4c31-8f77-bbcf0a700bbc",
   "metadata": {},
   "outputs": [
    {
     "name": "stdout",
     "output_type": "stream",
     "text": [
      "Ex    2\n",
      "Gd    1\n",
      "Name: PoolQC, dtype: int64\n",
      "Null sum..:  1456\n"
     ]
    }
   ],
   "source": [
    "valcount_isnull(test_obj, 'PoolQC')"
   ]
  },
  {
   "cell_type": "code",
   "execution_count": 780,
   "id": "0e7a35ea-e1e7-4bc5-af12-1d6d2649394a",
   "metadata": {},
   "outputs": [],
   "source": [
    "test_obj.PoolQC.fillna(0, inplace=True)\n",
    "dictionary = {\"PoolQC\":{\"Fa\":1,\"TA\":2, \"Gd\":3, \"Ex\":4}}\n",
    "test_obj = test_obj.replace(dictionary)"
   ]
  },
  {
   "cell_type": "markdown",
   "id": "48393850-2cb0-42a1-9eae-97a23a6854b2",
   "metadata": {
    "jp-MarkdownHeadingCollapsed": true,
    "tags": []
   },
   "source": [
    "#### Fence"
   ]
  },
  {
   "cell_type": "code",
   "execution_count": 781,
   "id": "87febf05-a142-4374-b38b-2d29af7a0196",
   "metadata": {},
   "outputs": [
    {
     "name": "stdout",
     "output_type": "stream",
     "text": [
      "MnPrv    172\n",
      "GdPrv     59\n",
      "GdWo      58\n",
      "MnWw       1\n",
      "Name: Fence, dtype: int64\n",
      "Null sum..:  1169\n"
     ]
    }
   ],
   "source": [
    "valcount_isnull(test_obj, 'Fence')"
   ]
  },
  {
   "cell_type": "code",
   "execution_count": 782,
   "id": "de93cb1a-e305-4fa5-bfc9-00c972cabca7",
   "metadata": {},
   "outputs": [],
   "source": [
    "test_obj.Fence.fillna(0, inplace=True)\n",
    "dictionary = {\"Fence\":{\"MnWw\":1,\"GdWo\":2, \"MnPrv\":3, \"GdPrv\":4}}\n",
    "test_obj = test_obj.replace(dictionary)"
   ]
  },
  {
   "cell_type": "markdown",
   "id": "24b95dc3-1e98-47bb-803b-df078e44c5b2",
   "metadata": {
    "jp-MarkdownHeadingCollapsed": true,
    "tags": []
   },
   "source": [
    "#### MiscFeature"
   ]
  },
  {
   "cell_type": "code",
   "execution_count": 783,
   "id": "ddd9dad1-2886-461a-9435-9e34a97c7f26",
   "metadata": {},
   "outputs": [
    {
     "name": "stdout",
     "output_type": "stream",
     "text": [
      "Shed    46\n",
      "Gar2     3\n",
      "Othr     2\n",
      "Name: MiscFeature, dtype: int64\n",
      "Null sum..:  1408\n"
     ]
    }
   ],
   "source": [
    "valcount_isnull(test_obj, 'MiscFeature')"
   ]
  },
  {
   "cell_type": "code",
   "execution_count": 784,
   "id": "785ca1dc-ebbc-40d3-be77-10c6bb4dde42",
   "metadata": {},
   "outputs": [],
   "source": [
    "test_obj.MiscFeature.fillna(0, inplace=True)\n",
    "dictionary = {\"MiscFeature\":{\"Othr\":1,\"Shed\":2, \"Gar2\":3, \"TenC\":4}}\n",
    "test_obj = test_obj.replace(dictionary)"
   ]
  },
  {
   "cell_type": "markdown",
   "id": "205850f3-d57e-4724-928e-9269c109441a",
   "metadata": {
    "tags": []
   },
   "source": [
    "#### Dummy Encoding for SaleType-SaleCondition-BldgType-Exterior1st-Exterior2nd-RoofStyle"
   ]
  },
  {
   "cell_type": "code",
   "execution_count": 785,
   "id": "4586ee84-805f-496b-99fb-c7b4dcd41958",
   "metadata": {},
   "outputs": [
    {
     "name": "stdout",
     "output_type": "stream",
     "text": [
      "WD       1258\n",
      "New       117\n",
      "COD        44\n",
      "ConLD      17\n",
      "CWD         8\n",
      "Oth         4\n",
      "ConLI       4\n",
      "Con         3\n",
      "ConLw       3\n",
      "Name: SaleType, dtype: int64\n",
      "Null sum..:  1\n"
     ]
    }
   ],
   "source": [
    "valcount_isnull(test_obj, 'SaleType')"
   ]
  },
  {
   "cell_type": "code",
   "execution_count": 786,
   "id": "e72bb429-a22d-4fd9-b798-881b42403958",
   "metadata": {},
   "outputs": [],
   "source": [
    "test_obj[test_obj.SaleType.isnull()==True][['SaleType']].fillna('WD', inplace=True)"
   ]
  },
  {
   "cell_type": "code",
   "execution_count": 787,
   "id": "53fee333-0632-4a71-9fd0-df807b704fc3",
   "metadata": {},
   "outputs": [
    {
     "name": "stdout",
     "output_type": "stream",
     "text": [
      "VinylSd    510\n",
      "MetalSd    230\n",
      "HdBoard    220\n",
      "Wd Sdng    205\n",
      "Plywood    113\n",
      "CemntBd     65\n",
      "BrkFace     37\n",
      "WdShing     30\n",
      "AsbShng     24\n",
      "Stucco      18\n",
      "BrkComm      4\n",
      "CBlock       1\n",
      "AsphShn      1\n",
      "Name: Exterior1st, dtype: int64\n",
      "Null sum..:  1\n"
     ]
    }
   ],
   "source": [
    "valcount_isnull(test_obj, 'Exterior1st')"
   ]
  },
  {
   "cell_type": "code",
   "execution_count": 788,
   "id": "c9077444-99a2-427c-b463-891425274527",
   "metadata": {},
   "outputs": [],
   "source": [
    "test_obj[test_obj.Exterior1st.isnull() == True][['Exterior1st']].fillna('VinylSd', inplace=True)"
   ]
  },
  {
   "cell_type": "code",
   "execution_count": 789,
   "id": "5f52c41e-2090-4713-b138-2bec4316a5ad",
   "metadata": {},
   "outputs": [],
   "source": [
    "new_df2 = pd.DataFrame()\n",
    "new_df = test_obj[['BldgType','Exterior1st','Exterior2nd']].copy()"
   ]
  },
  {
   "cell_type": "code",
   "execution_count": 790,
   "id": "fb73c3ba-2d1e-4a8c-9e23-c44d3bbb25de",
   "metadata": {},
   "outputs": [
    {
     "data": {
      "text/html": [
       "<div>\n",
       "<style scoped>\n",
       "    .dataframe tbody tr th:only-of-type {\n",
       "        vertical-align: middle;\n",
       "    }\n",
       "\n",
       "    .dataframe tbody tr th {\n",
       "        vertical-align: top;\n",
       "    }\n",
       "\n",
       "    .dataframe thead th {\n",
       "        text-align: right;\n",
       "    }\n",
       "</style>\n",
       "<table border=\"1\" class=\"dataframe\">\n",
       "  <thead>\n",
       "    <tr style=\"text-align: right;\">\n",
       "      <th></th>\n",
       "      <th>BldgType_1Fam</th>\n",
       "      <th>BldgType_TwnhsE</th>\n",
       "      <th>BldgType_Duplex</th>\n",
       "      <th>BldgType_Twnhs</th>\n",
       "      <th>BldgType_2fmCon</th>\n",
       "    </tr>\n",
       "  </thead>\n",
       "  <tbody>\n",
       "    <tr>\n",
       "      <th>0</th>\n",
       "      <td>1</td>\n",
       "      <td>0</td>\n",
       "      <td>0</td>\n",
       "      <td>0</td>\n",
       "      <td>0</td>\n",
       "    </tr>\n",
       "    <tr>\n",
       "      <th>1</th>\n",
       "      <td>1</td>\n",
       "      <td>0</td>\n",
       "      <td>0</td>\n",
       "      <td>0</td>\n",
       "      <td>0</td>\n",
       "    </tr>\n",
       "    <tr>\n",
       "      <th>2</th>\n",
       "      <td>1</td>\n",
       "      <td>0</td>\n",
       "      <td>0</td>\n",
       "      <td>0</td>\n",
       "      <td>0</td>\n",
       "    </tr>\n",
       "    <tr>\n",
       "      <th>3</th>\n",
       "      <td>1</td>\n",
       "      <td>0</td>\n",
       "      <td>0</td>\n",
       "      <td>0</td>\n",
       "      <td>0</td>\n",
       "    </tr>\n",
       "    <tr>\n",
       "      <th>4</th>\n",
       "      <td>0</td>\n",
       "      <td>1</td>\n",
       "      <td>0</td>\n",
       "      <td>0</td>\n",
       "      <td>0</td>\n",
       "    </tr>\n",
       "    <tr>\n",
       "      <th>...</th>\n",
       "      <td>...</td>\n",
       "      <td>...</td>\n",
       "      <td>...</td>\n",
       "      <td>...</td>\n",
       "      <td>...</td>\n",
       "    </tr>\n",
       "    <tr>\n",
       "      <th>1454</th>\n",
       "      <td>0</td>\n",
       "      <td>0</td>\n",
       "      <td>0</td>\n",
       "      <td>1</td>\n",
       "      <td>0</td>\n",
       "    </tr>\n",
       "    <tr>\n",
       "      <th>1455</th>\n",
       "      <td>0</td>\n",
       "      <td>1</td>\n",
       "      <td>0</td>\n",
       "      <td>0</td>\n",
       "      <td>0</td>\n",
       "    </tr>\n",
       "    <tr>\n",
       "      <th>1456</th>\n",
       "      <td>1</td>\n",
       "      <td>0</td>\n",
       "      <td>0</td>\n",
       "      <td>0</td>\n",
       "      <td>0</td>\n",
       "    </tr>\n",
       "    <tr>\n",
       "      <th>1457</th>\n",
       "      <td>1</td>\n",
       "      <td>0</td>\n",
       "      <td>0</td>\n",
       "      <td>0</td>\n",
       "      <td>0</td>\n",
       "    </tr>\n",
       "    <tr>\n",
       "      <th>1458</th>\n",
       "      <td>1</td>\n",
       "      <td>0</td>\n",
       "      <td>0</td>\n",
       "      <td>0</td>\n",
       "      <td>0</td>\n",
       "    </tr>\n",
       "  </tbody>\n",
       "</table>\n",
       "<p>1459 rows × 5 columns</p>\n",
       "</div>"
      ],
      "text/plain": [
       "      BldgType_1Fam  BldgType_TwnhsE  BldgType_Duplex  BldgType_Twnhs  \\\n",
       "0                 1                0                0               0   \n",
       "1                 1                0                0               0   \n",
       "2                 1                0                0               0   \n",
       "3                 1                0                0               0   \n",
       "4                 0                1                0               0   \n",
       "...             ...              ...              ...             ...   \n",
       "1454              0                0                0               1   \n",
       "1455              0                1                0               0   \n",
       "1456              1                0                0               0   \n",
       "1457              1                0                0               0   \n",
       "1458              1                0                0               0   \n",
       "\n",
       "      BldgType_2fmCon  \n",
       "0                   0  \n",
       "1                   0  \n",
       "2                   0  \n",
       "3                   0  \n",
       "4                   0  \n",
       "...               ...  \n",
       "1454                0  \n",
       "1455                0  \n",
       "1456                0  \n",
       "1457                0  \n",
       "1458                0  \n",
       "\n",
       "[1459 rows x 5 columns]"
      ]
     },
     "execution_count": 790,
     "metadata": {},
     "output_type": "execute_result"
    }
   ],
   "source": [
    "top_10 = [x for x in new_df.BldgType.value_counts().sort_values(ascending=False).head(10).index]\n",
    "for label in top_10:\n",
    "    new_df2['BldgType_'+label] = np.where(new_df['BldgType']==label,1,0)\n",
    "    \n",
    "new_df2"
   ]
  },
  {
   "cell_type": "code",
   "execution_count": 791,
   "id": "21bab1a1-81eb-4dcf-a9a0-4341ee56273e",
   "metadata": {},
   "outputs": [],
   "source": [
    "top_10 = [x for x in new_df.Exterior1st.value_counts().sort_values(ascending=False).head(10).index]\n",
    "for label in top_10:\n",
    "    new_df2['Exterior1st_'+label] = np.where(new_df['Exterior1st']==label,1,0)"
   ]
  },
  {
   "cell_type": "code",
   "execution_count": 792,
   "id": "809270d6-04e1-4cfc-a925-667ea8f870ea",
   "metadata": {},
   "outputs": [],
   "source": [
    "top_10 = [x for x in new_df.Exterior2nd.value_counts().sort_values(ascending=False).head(10).index]\n",
    "for label in top_10:\n",
    "    new_df2['Exterior2nd_'+label] = np.where(new_df['Exterior2nd']==label,1,0)"
   ]
  },
  {
   "cell_type": "code",
   "execution_count": 793,
   "id": "1f2860ae-81f0-4cda-92be-a2fec8cde98b",
   "metadata": {},
   "outputs": [],
   "source": [
    "test_obj.drop(['BldgType','Exterior1st','Exterior2nd'], axis=1, inplace=True)"
   ]
  },
  {
   "cell_type": "code",
   "execution_count": 794,
   "id": "12e5bfdc-f322-40d6-a0fc-aa03790e9b6d",
   "metadata": {},
   "outputs": [
    {
     "name": "stdout",
     "output_type": "stream",
     "text": [
      "<class 'pandas.core.frame.DataFrame'>\n",
      "RangeIndex: 1459 entries, 0 to 1458\n",
      "Data columns (total 40 columns):\n",
      " #   Column         Non-Null Count  Dtype  \n",
      "---  ------         --------------  -----  \n",
      " 0   MSZoning       1459 non-null   int64  \n",
      " 1   Street         1459 non-null   int64  \n",
      " 2   Alley          1459 non-null   int64  \n",
      " 3   LotShape       1459 non-null   int64  \n",
      " 4   LandContour    1459 non-null   int64  \n",
      " 5   Utilities      1459 non-null   int64  \n",
      " 6   LotConfig      1459 non-null   int64  \n",
      " 7   LandSlope      1459 non-null   int64  \n",
      " 8   Neighborhood   1459 non-null   int64  \n",
      " 9   Condition1     1459 non-null   int64  \n",
      " 10  Condition2     1459 non-null   int64  \n",
      " 11  HouseStyle     1459 non-null   int64  \n",
      " 12  RoofStyle      1459 non-null   object \n",
      " 13  RoofMatl       1459 non-null   int64  \n",
      " 14  MasVnrType     1443 non-null   float64\n",
      " 15  ExterQual      1459 non-null   int64  \n",
      " 16  ExterCond      1459 non-null   int64  \n",
      " 17  Foundation     1459 non-null   int64  \n",
      " 18  BsmtQual       1459 non-null   int64  \n",
      " 19  BsmtCond       1459 non-null   int64  \n",
      " 20  BsmtExposure   1459 non-null   int64  \n",
      " 21  BsmtFinType1   1459 non-null   int64  \n",
      " 22  BsmtFinType2   1459 non-null   int64  \n",
      " 23  Heating        1459 non-null   int64  \n",
      " 24  HeatingQC      1459 non-null   int64  \n",
      " 25  CentralAir     1459 non-null   int64  \n",
      " 26  Electrical     1459 non-null   int64  \n",
      " 27  KitchenQual    1459 non-null   int64  \n",
      " 28  Functional     1457 non-null   float64\n",
      " 29  FireplaceQu    1459 non-null   int64  \n",
      " 30  GarageType     1459 non-null   int64  \n",
      " 31  GarageFinish   1459 non-null   int64  \n",
      " 32  GarageQual     1459 non-null   int64  \n",
      " 33  GarageCond     1459 non-null   int64  \n",
      " 34  PavedDrive     1459 non-null   int64  \n",
      " 35  PoolQC         1459 non-null   int64  \n",
      " 36  Fence          1459 non-null   int64  \n",
      " 37  MiscFeature    1459 non-null   int64  \n",
      " 38  SaleType       1458 non-null   object \n",
      " 39  SaleCondition  1459 non-null   object \n",
      "dtypes: float64(2), int64(35), object(3)\n",
      "memory usage: 456.1+ KB\n"
     ]
    }
   ],
   "source": [
    "test_obj.info()"
   ]
  },
  {
   "cell_type": "code",
   "execution_count": 795,
   "id": "d7868c73-0727-422a-a131-882cf0ea69d1",
   "metadata": {},
   "outputs": [],
   "source": [
    "new_df = test_obj[['RoofStyle','SaleType','SaleCondition']].copy()"
   ]
  },
  {
   "cell_type": "code",
   "execution_count": 796,
   "id": "cc845e53-bb9e-4a70-8972-60941d3529d7",
   "metadata": {},
   "outputs": [
    {
     "data": {
      "text/html": [
       "<div>\n",
       "<style scoped>\n",
       "    .dataframe tbody tr th:only-of-type {\n",
       "        vertical-align: middle;\n",
       "    }\n",
       "\n",
       "    .dataframe tbody tr th {\n",
       "        vertical-align: top;\n",
       "    }\n",
       "\n",
       "    .dataframe thead th {\n",
       "        text-align: right;\n",
       "    }\n",
       "</style>\n",
       "<table border=\"1\" class=\"dataframe\">\n",
       "  <thead>\n",
       "    <tr style=\"text-align: right;\">\n",
       "      <th></th>\n",
       "      <th>RoofStyle_Flat</th>\n",
       "      <th>RoofStyle_Gable</th>\n",
       "      <th>RoofStyle_Gambrel</th>\n",
       "      <th>RoofStyle_Hip</th>\n",
       "      <th>RoofStyle_Mansard</th>\n",
       "      <th>RoofStyle_Shed</th>\n",
       "      <th>SaleType_COD</th>\n",
       "      <th>SaleType_CWD</th>\n",
       "      <th>SaleType_Con</th>\n",
       "      <th>SaleType_ConLD</th>\n",
       "      <th>...</th>\n",
       "      <th>SaleType_ConLw</th>\n",
       "      <th>SaleType_New</th>\n",
       "      <th>SaleType_Oth</th>\n",
       "      <th>SaleType_WD</th>\n",
       "      <th>SaleCondition_Abnorml</th>\n",
       "      <th>SaleCondition_AdjLand</th>\n",
       "      <th>SaleCondition_Alloca</th>\n",
       "      <th>SaleCondition_Family</th>\n",
       "      <th>SaleCondition_Normal</th>\n",
       "      <th>SaleCondition_Partial</th>\n",
       "    </tr>\n",
       "  </thead>\n",
       "  <tbody>\n",
       "    <tr>\n",
       "      <th>0</th>\n",
       "      <td>0</td>\n",
       "      <td>1</td>\n",
       "      <td>0</td>\n",
       "      <td>0</td>\n",
       "      <td>0</td>\n",
       "      <td>0</td>\n",
       "      <td>0</td>\n",
       "      <td>0</td>\n",
       "      <td>0</td>\n",
       "      <td>0</td>\n",
       "      <td>...</td>\n",
       "      <td>0</td>\n",
       "      <td>0</td>\n",
       "      <td>0</td>\n",
       "      <td>1</td>\n",
       "      <td>0</td>\n",
       "      <td>0</td>\n",
       "      <td>0</td>\n",
       "      <td>0</td>\n",
       "      <td>1</td>\n",
       "      <td>0</td>\n",
       "    </tr>\n",
       "    <tr>\n",
       "      <th>1</th>\n",
       "      <td>0</td>\n",
       "      <td>0</td>\n",
       "      <td>0</td>\n",
       "      <td>1</td>\n",
       "      <td>0</td>\n",
       "      <td>0</td>\n",
       "      <td>0</td>\n",
       "      <td>0</td>\n",
       "      <td>0</td>\n",
       "      <td>0</td>\n",
       "      <td>...</td>\n",
       "      <td>0</td>\n",
       "      <td>0</td>\n",
       "      <td>0</td>\n",
       "      <td>1</td>\n",
       "      <td>0</td>\n",
       "      <td>0</td>\n",
       "      <td>0</td>\n",
       "      <td>0</td>\n",
       "      <td>1</td>\n",
       "      <td>0</td>\n",
       "    </tr>\n",
       "    <tr>\n",
       "      <th>2</th>\n",
       "      <td>0</td>\n",
       "      <td>1</td>\n",
       "      <td>0</td>\n",
       "      <td>0</td>\n",
       "      <td>0</td>\n",
       "      <td>0</td>\n",
       "      <td>0</td>\n",
       "      <td>0</td>\n",
       "      <td>0</td>\n",
       "      <td>0</td>\n",
       "      <td>...</td>\n",
       "      <td>0</td>\n",
       "      <td>0</td>\n",
       "      <td>0</td>\n",
       "      <td>1</td>\n",
       "      <td>0</td>\n",
       "      <td>0</td>\n",
       "      <td>0</td>\n",
       "      <td>0</td>\n",
       "      <td>1</td>\n",
       "      <td>0</td>\n",
       "    </tr>\n",
       "    <tr>\n",
       "      <th>3</th>\n",
       "      <td>0</td>\n",
       "      <td>1</td>\n",
       "      <td>0</td>\n",
       "      <td>0</td>\n",
       "      <td>0</td>\n",
       "      <td>0</td>\n",
       "      <td>0</td>\n",
       "      <td>0</td>\n",
       "      <td>0</td>\n",
       "      <td>0</td>\n",
       "      <td>...</td>\n",
       "      <td>0</td>\n",
       "      <td>0</td>\n",
       "      <td>0</td>\n",
       "      <td>1</td>\n",
       "      <td>0</td>\n",
       "      <td>0</td>\n",
       "      <td>0</td>\n",
       "      <td>0</td>\n",
       "      <td>1</td>\n",
       "      <td>0</td>\n",
       "    </tr>\n",
       "    <tr>\n",
       "      <th>4</th>\n",
       "      <td>0</td>\n",
       "      <td>1</td>\n",
       "      <td>0</td>\n",
       "      <td>0</td>\n",
       "      <td>0</td>\n",
       "      <td>0</td>\n",
       "      <td>0</td>\n",
       "      <td>0</td>\n",
       "      <td>0</td>\n",
       "      <td>0</td>\n",
       "      <td>...</td>\n",
       "      <td>0</td>\n",
       "      <td>0</td>\n",
       "      <td>0</td>\n",
       "      <td>1</td>\n",
       "      <td>0</td>\n",
       "      <td>0</td>\n",
       "      <td>0</td>\n",
       "      <td>0</td>\n",
       "      <td>1</td>\n",
       "      <td>0</td>\n",
       "    </tr>\n",
       "    <tr>\n",
       "      <th>...</th>\n",
       "      <td>...</td>\n",
       "      <td>...</td>\n",
       "      <td>...</td>\n",
       "      <td>...</td>\n",
       "      <td>...</td>\n",
       "      <td>...</td>\n",
       "      <td>...</td>\n",
       "      <td>...</td>\n",
       "      <td>...</td>\n",
       "      <td>...</td>\n",
       "      <td>...</td>\n",
       "      <td>...</td>\n",
       "      <td>...</td>\n",
       "      <td>...</td>\n",
       "      <td>...</td>\n",
       "      <td>...</td>\n",
       "      <td>...</td>\n",
       "      <td>...</td>\n",
       "      <td>...</td>\n",
       "      <td>...</td>\n",
       "      <td>...</td>\n",
       "    </tr>\n",
       "    <tr>\n",
       "      <th>1454</th>\n",
       "      <td>0</td>\n",
       "      <td>1</td>\n",
       "      <td>0</td>\n",
       "      <td>0</td>\n",
       "      <td>0</td>\n",
       "      <td>0</td>\n",
       "      <td>0</td>\n",
       "      <td>0</td>\n",
       "      <td>0</td>\n",
       "      <td>0</td>\n",
       "      <td>...</td>\n",
       "      <td>0</td>\n",
       "      <td>0</td>\n",
       "      <td>0</td>\n",
       "      <td>1</td>\n",
       "      <td>0</td>\n",
       "      <td>0</td>\n",
       "      <td>0</td>\n",
       "      <td>0</td>\n",
       "      <td>1</td>\n",
       "      <td>0</td>\n",
       "    </tr>\n",
       "    <tr>\n",
       "      <th>1455</th>\n",
       "      <td>0</td>\n",
       "      <td>1</td>\n",
       "      <td>0</td>\n",
       "      <td>0</td>\n",
       "      <td>0</td>\n",
       "      <td>0</td>\n",
       "      <td>0</td>\n",
       "      <td>0</td>\n",
       "      <td>0</td>\n",
       "      <td>0</td>\n",
       "      <td>...</td>\n",
       "      <td>0</td>\n",
       "      <td>0</td>\n",
       "      <td>0</td>\n",
       "      <td>1</td>\n",
       "      <td>1</td>\n",
       "      <td>0</td>\n",
       "      <td>0</td>\n",
       "      <td>0</td>\n",
       "      <td>0</td>\n",
       "      <td>0</td>\n",
       "    </tr>\n",
       "    <tr>\n",
       "      <th>1456</th>\n",
       "      <td>0</td>\n",
       "      <td>1</td>\n",
       "      <td>0</td>\n",
       "      <td>0</td>\n",
       "      <td>0</td>\n",
       "      <td>0</td>\n",
       "      <td>0</td>\n",
       "      <td>0</td>\n",
       "      <td>0</td>\n",
       "      <td>0</td>\n",
       "      <td>...</td>\n",
       "      <td>0</td>\n",
       "      <td>0</td>\n",
       "      <td>0</td>\n",
       "      <td>1</td>\n",
       "      <td>1</td>\n",
       "      <td>0</td>\n",
       "      <td>0</td>\n",
       "      <td>0</td>\n",
       "      <td>0</td>\n",
       "      <td>0</td>\n",
       "    </tr>\n",
       "    <tr>\n",
       "      <th>1457</th>\n",
       "      <td>0</td>\n",
       "      <td>1</td>\n",
       "      <td>0</td>\n",
       "      <td>0</td>\n",
       "      <td>0</td>\n",
       "      <td>0</td>\n",
       "      <td>0</td>\n",
       "      <td>0</td>\n",
       "      <td>0</td>\n",
       "      <td>0</td>\n",
       "      <td>...</td>\n",
       "      <td>0</td>\n",
       "      <td>0</td>\n",
       "      <td>0</td>\n",
       "      <td>1</td>\n",
       "      <td>0</td>\n",
       "      <td>0</td>\n",
       "      <td>0</td>\n",
       "      <td>0</td>\n",
       "      <td>1</td>\n",
       "      <td>0</td>\n",
       "    </tr>\n",
       "    <tr>\n",
       "      <th>1458</th>\n",
       "      <td>0</td>\n",
       "      <td>1</td>\n",
       "      <td>0</td>\n",
       "      <td>0</td>\n",
       "      <td>0</td>\n",
       "      <td>0</td>\n",
       "      <td>0</td>\n",
       "      <td>0</td>\n",
       "      <td>0</td>\n",
       "      <td>0</td>\n",
       "      <td>...</td>\n",
       "      <td>0</td>\n",
       "      <td>0</td>\n",
       "      <td>0</td>\n",
       "      <td>1</td>\n",
       "      <td>0</td>\n",
       "      <td>0</td>\n",
       "      <td>0</td>\n",
       "      <td>0</td>\n",
       "      <td>1</td>\n",
       "      <td>0</td>\n",
       "    </tr>\n",
       "  </tbody>\n",
       "</table>\n",
       "<p>1459 rows × 21 columns</p>\n",
       "</div>"
      ],
      "text/plain": [
       "      RoofStyle_Flat  RoofStyle_Gable  RoofStyle_Gambrel  RoofStyle_Hip  \\\n",
       "0                  0                1                  0              0   \n",
       "1                  0                0                  0              1   \n",
       "2                  0                1                  0              0   \n",
       "3                  0                1                  0              0   \n",
       "4                  0                1                  0              0   \n",
       "...              ...              ...                ...            ...   \n",
       "1454               0                1                  0              0   \n",
       "1455               0                1                  0              0   \n",
       "1456               0                1                  0              0   \n",
       "1457               0                1                  0              0   \n",
       "1458               0                1                  0              0   \n",
       "\n",
       "      RoofStyle_Mansard  RoofStyle_Shed  SaleType_COD  SaleType_CWD  \\\n",
       "0                     0               0             0             0   \n",
       "1                     0               0             0             0   \n",
       "2                     0               0             0             0   \n",
       "3                     0               0             0             0   \n",
       "4                     0               0             0             0   \n",
       "...                 ...             ...           ...           ...   \n",
       "1454                  0               0             0             0   \n",
       "1455                  0               0             0             0   \n",
       "1456                  0               0             0             0   \n",
       "1457                  0               0             0             0   \n",
       "1458                  0               0             0             0   \n",
       "\n",
       "      SaleType_Con  SaleType_ConLD  ...  SaleType_ConLw  SaleType_New  \\\n",
       "0                0               0  ...               0             0   \n",
       "1                0               0  ...               0             0   \n",
       "2                0               0  ...               0             0   \n",
       "3                0               0  ...               0             0   \n",
       "4                0               0  ...               0             0   \n",
       "...            ...             ...  ...             ...           ...   \n",
       "1454             0               0  ...               0             0   \n",
       "1455             0               0  ...               0             0   \n",
       "1456             0               0  ...               0             0   \n",
       "1457             0               0  ...               0             0   \n",
       "1458             0               0  ...               0             0   \n",
       "\n",
       "      SaleType_Oth  SaleType_WD  SaleCondition_Abnorml  SaleCondition_AdjLand  \\\n",
       "0                0            1                      0                      0   \n",
       "1                0            1                      0                      0   \n",
       "2                0            1                      0                      0   \n",
       "3                0            1                      0                      0   \n",
       "4                0            1                      0                      0   \n",
       "...            ...          ...                    ...                    ...   \n",
       "1454             0            1                      0                      0   \n",
       "1455             0            1                      1                      0   \n",
       "1456             0            1                      1                      0   \n",
       "1457             0            1                      0                      0   \n",
       "1458             0            1                      0                      0   \n",
       "\n",
       "      SaleCondition_Alloca  SaleCondition_Family  SaleCondition_Normal  \\\n",
       "0                        0                     0                     1   \n",
       "1                        0                     0                     1   \n",
       "2                        0                     0                     1   \n",
       "3                        0                     0                     1   \n",
       "4                        0                     0                     1   \n",
       "...                    ...                   ...                   ...   \n",
       "1454                     0                     0                     1   \n",
       "1455                     0                     0                     0   \n",
       "1456                     0                     0                     0   \n",
       "1457                     0                     0                     1   \n",
       "1458                     0                     0                     1   \n",
       "\n",
       "      SaleCondition_Partial  \n",
       "0                         0  \n",
       "1                         0  \n",
       "2                         0  \n",
       "3                         0  \n",
       "4                         0  \n",
       "...                     ...  \n",
       "1454                      0  \n",
       "1455                      0  \n",
       "1456                      0  \n",
       "1457                      0  \n",
       "1458                      0  \n",
       "\n",
       "[1459 rows x 21 columns]"
      ]
     },
     "execution_count": 796,
     "metadata": {},
     "output_type": "execute_result"
    }
   ],
   "source": [
    "new_df3 = pd.get_dummies(new_df, columns = ['RoofStyle','SaleType','SaleCondition'])\n",
    "new_df3"
   ]
  },
  {
   "cell_type": "code",
   "execution_count": 797,
   "id": "4fdcee89-1c46-4722-a16f-de70edaa67c4",
   "metadata": {},
   "outputs": [],
   "source": [
    "test_obj.drop(['RoofStyle','SaleType','SaleCondition'], axis=1, inplace=True)"
   ]
  },
  {
   "cell_type": "code",
   "execution_count": 798,
   "id": "7bfcdce5-8f44-44c5-8138-2a997c02d632",
   "metadata": {},
   "outputs": [
    {
     "name": "stdout",
     "output_type": "stream",
     "text": [
      "<class 'pandas.core.frame.DataFrame'>\n",
      "RangeIndex: 1459 entries, 0 to 1458\n",
      "Data columns (total 37 columns):\n",
      " #   Column        Non-Null Count  Dtype  \n",
      "---  ------        --------------  -----  \n",
      " 0   MSZoning      1459 non-null   int64  \n",
      " 1   Street        1459 non-null   int64  \n",
      " 2   Alley         1459 non-null   int64  \n",
      " 3   LotShape      1459 non-null   int64  \n",
      " 4   LandContour   1459 non-null   int64  \n",
      " 5   Utilities     1459 non-null   int64  \n",
      " 6   LotConfig     1459 non-null   int64  \n",
      " 7   LandSlope     1459 non-null   int64  \n",
      " 8   Neighborhood  1459 non-null   int64  \n",
      " 9   Condition1    1459 non-null   int64  \n",
      " 10  Condition2    1459 non-null   int64  \n",
      " 11  HouseStyle    1459 non-null   int64  \n",
      " 12  RoofMatl      1459 non-null   int64  \n",
      " 13  MasVnrType    1443 non-null   float64\n",
      " 14  ExterQual     1459 non-null   int64  \n",
      " 15  ExterCond     1459 non-null   int64  \n",
      " 16  Foundation    1459 non-null   int64  \n",
      " 17  BsmtQual      1459 non-null   int64  \n",
      " 18  BsmtCond      1459 non-null   int64  \n",
      " 19  BsmtExposure  1459 non-null   int64  \n",
      " 20  BsmtFinType1  1459 non-null   int64  \n",
      " 21  BsmtFinType2  1459 non-null   int64  \n",
      " 22  Heating       1459 non-null   int64  \n",
      " 23  HeatingQC     1459 non-null   int64  \n",
      " 24  CentralAir    1459 non-null   int64  \n",
      " 25  Electrical    1459 non-null   int64  \n",
      " 26  KitchenQual   1459 non-null   int64  \n",
      " 27  Functional    1457 non-null   float64\n",
      " 28  FireplaceQu   1459 non-null   int64  \n",
      " 29  GarageType    1459 non-null   int64  \n",
      " 30  GarageFinish  1459 non-null   int64  \n",
      " 31  GarageQual    1459 non-null   int64  \n",
      " 32  GarageCond    1459 non-null   int64  \n",
      " 33  PavedDrive    1459 non-null   int64  \n",
      " 34  PoolQC        1459 non-null   int64  \n",
      " 35  Fence         1459 non-null   int64  \n",
      " 36  MiscFeature   1459 non-null   int64  \n",
      "dtypes: float64(2), int64(35)\n",
      "memory usage: 421.9 KB\n"
     ]
    }
   ],
   "source": [
    "test_obj.info()"
   ]
  },
  {
   "cell_type": "code",
   "execution_count": 799,
   "id": "b0762daf-e2fc-49b9-afc7-2efd252a23a4",
   "metadata": {},
   "outputs": [
    {
     "name": "stdout",
     "output_type": "stream",
     "text": [
      "<class 'pandas.core.frame.DataFrame'>\n",
      "RangeIndex: 1459 entries, 0 to 1458\n",
      "Data columns (total 37 columns):\n",
      " #   Column        Non-Null Count  Dtype  \n",
      "---  ------        --------------  -----  \n",
      " 0   MSZoning      1459 non-null   int64  \n",
      " 1   Street        1459 non-null   int64  \n",
      " 2   Alley         1459 non-null   int64  \n",
      " 3   LotShape      1459 non-null   int64  \n",
      " 4   LandContour   1459 non-null   int64  \n",
      " 5   Utilities     1459 non-null   int64  \n",
      " 6   LotConfig     1459 non-null   int64  \n",
      " 7   LandSlope     1459 non-null   int64  \n",
      " 8   Neighborhood  1459 non-null   int64  \n",
      " 9   Condition1    1459 non-null   int64  \n",
      " 10  Condition2    1459 non-null   int64  \n",
      " 11  HouseStyle    1459 non-null   int64  \n",
      " 12  RoofMatl      1459 non-null   int64  \n",
      " 13  MasVnrType    1443 non-null   float64\n",
      " 14  ExterQual     1459 non-null   int64  \n",
      " 15  ExterCond     1459 non-null   int64  \n",
      " 16  Foundation    1459 non-null   int64  \n",
      " 17  BsmtQual      1459 non-null   int64  \n",
      " 18  BsmtCond      1459 non-null   int64  \n",
      " 19  BsmtExposure  1459 non-null   int64  \n",
      " 20  BsmtFinType1  1459 non-null   int64  \n",
      " 21  BsmtFinType2  1459 non-null   int64  \n",
      " 22  Heating       1459 non-null   int64  \n",
      " 23  HeatingQC     1459 non-null   int64  \n",
      " 24  CentralAir    1459 non-null   int64  \n",
      " 25  Electrical    1459 non-null   int64  \n",
      " 26  KitchenQual   1459 non-null   int64  \n",
      " 27  Functional    1457 non-null   float64\n",
      " 28  FireplaceQu   1459 non-null   int64  \n",
      " 29  GarageType    1459 non-null   int64  \n",
      " 30  GarageFinish  1459 non-null   int64  \n",
      " 31  GarageQual    1459 non-null   int64  \n",
      " 32  GarageCond    1459 non-null   int64  \n",
      " 33  PavedDrive    1459 non-null   int64  \n",
      " 34  PoolQC        1459 non-null   int64  \n",
      " 35  Fence         1459 non-null   int64  \n",
      " 36  MiscFeature   1459 non-null   int64  \n",
      "dtypes: float64(2), int64(35)\n",
      "memory usage: 421.9 KB\n"
     ]
    }
   ],
   "source": [
    "test_obj.info()"
   ]
  },
  {
   "cell_type": "code",
   "execution_count": 800,
   "id": "5cb4b055-fa36-4e1e-980f-2cc6db4445ee",
   "metadata": {},
   "outputs": [
    {
     "data": {
      "text/html": [
       "<div>\n",
       "<style scoped>\n",
       "    .dataframe tbody tr th:only-of-type {\n",
       "        vertical-align: middle;\n",
       "    }\n",
       "\n",
       "    .dataframe tbody tr th {\n",
       "        vertical-align: top;\n",
       "    }\n",
       "\n",
       "    .dataframe thead th {\n",
       "        text-align: right;\n",
       "    }\n",
       "</style>\n",
       "<table border=\"1\" class=\"dataframe\">\n",
       "  <thead>\n",
       "    <tr style=\"text-align: right;\">\n",
       "      <th></th>\n",
       "      <th>MSZoning</th>\n",
       "      <th>Street</th>\n",
       "      <th>Alley</th>\n",
       "      <th>LotShape</th>\n",
       "      <th>LandContour</th>\n",
       "      <th>Utilities</th>\n",
       "      <th>LotConfig</th>\n",
       "      <th>LandSlope</th>\n",
       "      <th>Neighborhood</th>\n",
       "      <th>Condition1</th>\n",
       "      <th>...</th>\n",
       "      <th>Functional</th>\n",
       "      <th>FireplaceQu</th>\n",
       "      <th>GarageType</th>\n",
       "      <th>GarageFinish</th>\n",
       "      <th>GarageQual</th>\n",
       "      <th>GarageCond</th>\n",
       "      <th>PavedDrive</th>\n",
       "      <th>PoolQC</th>\n",
       "      <th>Fence</th>\n",
       "      <th>MiscFeature</th>\n",
       "    </tr>\n",
       "  </thead>\n",
       "  <tbody>\n",
       "  </tbody>\n",
       "</table>\n",
       "<p>0 rows × 37 columns</p>\n",
       "</div>"
      ],
      "text/plain": [
       "Empty DataFrame\n",
       "Columns: [MSZoning, Street, Alley, LotShape, LandContour, Utilities, LotConfig, LandSlope, Neighborhood, Condition1, Condition2, HouseStyle, RoofMatl, MasVnrType, ExterQual, ExterCond, Foundation, BsmtQual, BsmtCond, BsmtExposure, BsmtFinType1, BsmtFinType2, Heating, HeatingQC, CentralAir, Electrical, KitchenQual, Functional, FireplaceQu, GarageType, GarageFinish, GarageQual, GarageCond, PavedDrive, PoolQC, Fence, MiscFeature]\n",
       "Index: []\n",
       "\n",
       "[0 rows x 37 columns]"
      ]
     },
     "execution_count": 800,
     "metadata": {},
     "output_type": "execute_result"
    }
   ],
   "source": [
    "test_obj[test_obj.MSZoning.isnull() == True]"
   ]
  },
  {
   "cell_type": "code",
   "execution_count": 801,
   "id": "ebeb78a2-f601-4300-ba5a-6257188564f8",
   "metadata": {},
   "outputs": [],
   "source": [
    "test_obj.reset_index(inplace=True, drop=True)"
   ]
  },
  {
   "cell_type": "code",
   "execution_count": 802,
   "id": "157a9aad-3785-447b-bfc6-65abb1e1e973",
   "metadata": {},
   "outputs": [],
   "source": [
    "new_df2.reset_index(inplace=True, drop=True)"
   ]
  },
  {
   "cell_type": "code",
   "execution_count": 803,
   "id": "cc23a8b0-fb0b-47a3-bc9f-08d491b961a1",
   "metadata": {},
   "outputs": [],
   "source": [
    "new_df3.reset_index(inplace=True, drop=True)"
   ]
  },
  {
   "cell_type": "code",
   "execution_count": 804,
   "id": "c73339e3-e370-43a2-9051-e7083719aeed",
   "metadata": {},
   "outputs": [],
   "source": [
    "test_obj = pd.concat([test_obj,new_df2,new_df3], axis=1)"
   ]
  },
  {
   "cell_type": "code",
   "execution_count": 805,
   "id": "f3de87e1-1bc2-4b65-a9f2-9cde85829afd",
   "metadata": {},
   "outputs": [],
   "source": [
    "#test_obj = test_obj.astype('Int64')"
   ]
  },
  {
   "cell_type": "code",
   "execution_count": 806,
   "id": "172b0df8-1eec-4d57-99af-7ea753be0e6f",
   "metadata": {},
   "outputs": [],
   "source": [
    "test_obj.drop(['BldgType_2fmCon'], axis=1, inplace=True)"
   ]
  },
  {
   "cell_type": "code",
   "execution_count": 807,
   "id": "32ad57dd-ecbd-4e17-b7ec-719c00768e38",
   "metadata": {
    "tags": []
   },
   "outputs": [
    {
     "data": {
      "text/html": [
       "<div>\n",
       "<style scoped>\n",
       "    .dataframe tbody tr th:only-of-type {\n",
       "        vertical-align: middle;\n",
       "    }\n",
       "\n",
       "    .dataframe tbody tr th {\n",
       "        vertical-align: top;\n",
       "    }\n",
       "\n",
       "    .dataframe thead th {\n",
       "        text-align: right;\n",
       "    }\n",
       "</style>\n",
       "<table border=\"1\" class=\"dataframe\">\n",
       "  <thead>\n",
       "    <tr style=\"text-align: right;\">\n",
       "      <th></th>\n",
       "      <th>MSZoning</th>\n",
       "      <th>Street</th>\n",
       "      <th>Alley</th>\n",
       "      <th>LotShape</th>\n",
       "      <th>LandContour</th>\n",
       "      <th>Utilities</th>\n",
       "      <th>LotConfig</th>\n",
       "      <th>LandSlope</th>\n",
       "      <th>Neighborhood</th>\n",
       "      <th>Condition1</th>\n",
       "      <th>...</th>\n",
       "      <th>SaleType_ConLw</th>\n",
       "      <th>SaleType_New</th>\n",
       "      <th>SaleType_Oth</th>\n",
       "      <th>SaleType_WD</th>\n",
       "      <th>SaleCondition_Abnorml</th>\n",
       "      <th>SaleCondition_AdjLand</th>\n",
       "      <th>SaleCondition_Alloca</th>\n",
       "      <th>SaleCondition_Family</th>\n",
       "      <th>SaleCondition_Normal</th>\n",
       "      <th>SaleCondition_Partial</th>\n",
       "    </tr>\n",
       "  </thead>\n",
       "  <tbody>\n",
       "    <tr>\n",
       "      <th>0</th>\n",
       "      <td>2</td>\n",
       "      <td>2</td>\n",
       "      <td>0</td>\n",
       "      <td>3</td>\n",
       "      <td>3</td>\n",
       "      <td>1</td>\n",
       "      <td>1</td>\n",
       "      <td>2</td>\n",
       "      <td>10</td>\n",
       "      <td>2</td>\n",
       "      <td>...</td>\n",
       "      <td>0</td>\n",
       "      <td>0</td>\n",
       "      <td>0</td>\n",
       "      <td>1</td>\n",
       "      <td>0</td>\n",
       "      <td>0</td>\n",
       "      <td>0</td>\n",
       "      <td>0</td>\n",
       "      <td>1</td>\n",
       "      <td>0</td>\n",
       "    </tr>\n",
       "    <tr>\n",
       "      <th>1</th>\n",
       "      <td>5</td>\n",
       "      <td>2</td>\n",
       "      <td>0</td>\n",
       "      <td>2</td>\n",
       "      <td>3</td>\n",
       "      <td>1</td>\n",
       "      <td>3</td>\n",
       "      <td>2</td>\n",
       "      <td>10</td>\n",
       "      <td>4</td>\n",
       "      <td>...</td>\n",
       "      <td>0</td>\n",
       "      <td>0</td>\n",
       "      <td>0</td>\n",
       "      <td>1</td>\n",
       "      <td>0</td>\n",
       "      <td>0</td>\n",
       "      <td>0</td>\n",
       "      <td>0</td>\n",
       "      <td>1</td>\n",
       "      <td>0</td>\n",
       "    </tr>\n",
       "    <tr>\n",
       "      <th>2</th>\n",
       "      <td>5</td>\n",
       "      <td>2</td>\n",
       "      <td>0</td>\n",
       "      <td>2</td>\n",
       "      <td>3</td>\n",
       "      <td>1</td>\n",
       "      <td>1</td>\n",
       "      <td>2</td>\n",
       "      <td>14</td>\n",
       "      <td>4</td>\n",
       "      <td>...</td>\n",
       "      <td>0</td>\n",
       "      <td>0</td>\n",
       "      <td>0</td>\n",
       "      <td>1</td>\n",
       "      <td>0</td>\n",
       "      <td>0</td>\n",
       "      <td>0</td>\n",
       "      <td>0</td>\n",
       "      <td>1</td>\n",
       "      <td>0</td>\n",
       "    </tr>\n",
       "    <tr>\n",
       "      <th>3</th>\n",
       "      <td>5</td>\n",
       "      <td>2</td>\n",
       "      <td>0</td>\n",
       "      <td>2</td>\n",
       "      <td>3</td>\n",
       "      <td>1</td>\n",
       "      <td>1</td>\n",
       "      <td>2</td>\n",
       "      <td>14</td>\n",
       "      <td>4</td>\n",
       "      <td>...</td>\n",
       "      <td>0</td>\n",
       "      <td>0</td>\n",
       "      <td>0</td>\n",
       "      <td>1</td>\n",
       "      <td>0</td>\n",
       "      <td>0</td>\n",
       "      <td>0</td>\n",
       "      <td>0</td>\n",
       "      <td>1</td>\n",
       "      <td>0</td>\n",
       "    </tr>\n",
       "    <tr>\n",
       "      <th>4</th>\n",
       "      <td>5</td>\n",
       "      <td>2</td>\n",
       "      <td>0</td>\n",
       "      <td>2</td>\n",
       "      <td>2</td>\n",
       "      <td>1</td>\n",
       "      <td>1</td>\n",
       "      <td>2</td>\n",
       "      <td>22</td>\n",
       "      <td>4</td>\n",
       "      <td>...</td>\n",
       "      <td>0</td>\n",
       "      <td>0</td>\n",
       "      <td>0</td>\n",
       "      <td>1</td>\n",
       "      <td>0</td>\n",
       "      <td>0</td>\n",
       "      <td>0</td>\n",
       "      <td>0</td>\n",
       "      <td>1</td>\n",
       "      <td>0</td>\n",
       "    </tr>\n",
       "    <tr>\n",
       "      <th>...</th>\n",
       "      <td>...</td>\n",
       "      <td>...</td>\n",
       "      <td>...</td>\n",
       "      <td>...</td>\n",
       "      <td>...</td>\n",
       "      <td>...</td>\n",
       "      <td>...</td>\n",
       "      <td>...</td>\n",
       "      <td>...</td>\n",
       "      <td>...</td>\n",
       "      <td>...</td>\n",
       "      <td>...</td>\n",
       "      <td>...</td>\n",
       "      <td>...</td>\n",
       "      <td>...</td>\n",
       "      <td>...</td>\n",
       "      <td>...</td>\n",
       "      <td>...</td>\n",
       "      <td>...</td>\n",
       "      <td>...</td>\n",
       "      <td>...</td>\n",
       "    </tr>\n",
       "    <tr>\n",
       "      <th>1454</th>\n",
       "      <td>4</td>\n",
       "      <td>2</td>\n",
       "      <td>0</td>\n",
       "      <td>3</td>\n",
       "      <td>3</td>\n",
       "      <td>1</td>\n",
       "      <td>1</td>\n",
       "      <td>2</td>\n",
       "      <td>0</td>\n",
       "      <td>4</td>\n",
       "      <td>...</td>\n",
       "      <td>0</td>\n",
       "      <td>0</td>\n",
       "      <td>0</td>\n",
       "      <td>1</td>\n",
       "      <td>0</td>\n",
       "      <td>0</td>\n",
       "      <td>0</td>\n",
       "      <td>0</td>\n",
       "      <td>1</td>\n",
       "      <td>0</td>\n",
       "    </tr>\n",
       "    <tr>\n",
       "      <th>1455</th>\n",
       "      <td>4</td>\n",
       "      <td>2</td>\n",
       "      <td>0</td>\n",
       "      <td>3</td>\n",
       "      <td>3</td>\n",
       "      <td>1</td>\n",
       "      <td>1</td>\n",
       "      <td>2</td>\n",
       "      <td>0</td>\n",
       "      <td>4</td>\n",
       "      <td>...</td>\n",
       "      <td>0</td>\n",
       "      <td>0</td>\n",
       "      <td>0</td>\n",
       "      <td>1</td>\n",
       "      <td>1</td>\n",
       "      <td>0</td>\n",
       "      <td>0</td>\n",
       "      <td>0</td>\n",
       "      <td>0</td>\n",
       "      <td>0</td>\n",
       "    </tr>\n",
       "    <tr>\n",
       "      <th>1456</th>\n",
       "      <td>5</td>\n",
       "      <td>2</td>\n",
       "      <td>0</td>\n",
       "      <td>3</td>\n",
       "      <td>3</td>\n",
       "      <td>1</td>\n",
       "      <td>1</td>\n",
       "      <td>2</td>\n",
       "      <td>11</td>\n",
       "      <td>4</td>\n",
       "      <td>...</td>\n",
       "      <td>0</td>\n",
       "      <td>0</td>\n",
       "      <td>0</td>\n",
       "      <td>1</td>\n",
       "      <td>1</td>\n",
       "      <td>0</td>\n",
       "      <td>0</td>\n",
       "      <td>0</td>\n",
       "      <td>0</td>\n",
       "      <td>0</td>\n",
       "    </tr>\n",
       "    <tr>\n",
       "      <th>1457</th>\n",
       "      <td>5</td>\n",
       "      <td>2</td>\n",
       "      <td>0</td>\n",
       "      <td>3</td>\n",
       "      <td>3</td>\n",
       "      <td>1</td>\n",
       "      <td>1</td>\n",
       "      <td>2</td>\n",
       "      <td>11</td>\n",
       "      <td>4</td>\n",
       "      <td>...</td>\n",
       "      <td>0</td>\n",
       "      <td>0</td>\n",
       "      <td>0</td>\n",
       "      <td>1</td>\n",
       "      <td>0</td>\n",
       "      <td>0</td>\n",
       "      <td>0</td>\n",
       "      <td>0</td>\n",
       "      <td>1</td>\n",
       "      <td>0</td>\n",
       "    </tr>\n",
       "    <tr>\n",
       "      <th>1458</th>\n",
       "      <td>5</td>\n",
       "      <td>2</td>\n",
       "      <td>0</td>\n",
       "      <td>3</td>\n",
       "      <td>3</td>\n",
       "      <td>1</td>\n",
       "      <td>1</td>\n",
       "      <td>1</td>\n",
       "      <td>11</td>\n",
       "      <td>4</td>\n",
       "      <td>...</td>\n",
       "      <td>0</td>\n",
       "      <td>0</td>\n",
       "      <td>0</td>\n",
       "      <td>1</td>\n",
       "      <td>0</td>\n",
       "      <td>0</td>\n",
       "      <td>0</td>\n",
       "      <td>0</td>\n",
       "      <td>1</td>\n",
       "      <td>0</td>\n",
       "    </tr>\n",
       "  </tbody>\n",
       "</table>\n",
       "<p>1459 rows × 82 columns</p>\n",
       "</div>"
      ],
      "text/plain": [
       "      MSZoning  Street  Alley  LotShape  LandContour  Utilities  LotConfig  \\\n",
       "0            2       2      0         3            3          1          1   \n",
       "1            5       2      0         2            3          1          3   \n",
       "2            5       2      0         2            3          1          1   \n",
       "3            5       2      0         2            3          1          1   \n",
       "4            5       2      0         2            2          1          1   \n",
       "...        ...     ...    ...       ...          ...        ...        ...   \n",
       "1454         4       2      0         3            3          1          1   \n",
       "1455         4       2      0         3            3          1          1   \n",
       "1456         5       2      0         3            3          1          1   \n",
       "1457         5       2      0         3            3          1          1   \n",
       "1458         5       2      0         3            3          1          1   \n",
       "\n",
       "      LandSlope  Neighborhood  Condition1  ...  SaleType_ConLw  SaleType_New  \\\n",
       "0             2            10           2  ...               0             0   \n",
       "1             2            10           4  ...               0             0   \n",
       "2             2            14           4  ...               0             0   \n",
       "3             2            14           4  ...               0             0   \n",
       "4             2            22           4  ...               0             0   \n",
       "...         ...           ...         ...  ...             ...           ...   \n",
       "1454          2             0           4  ...               0             0   \n",
       "1455          2             0           4  ...               0             0   \n",
       "1456          2            11           4  ...               0             0   \n",
       "1457          2            11           4  ...               0             0   \n",
       "1458          1            11           4  ...               0             0   \n",
       "\n",
       "      SaleType_Oth  SaleType_WD  SaleCondition_Abnorml  SaleCondition_AdjLand  \\\n",
       "0                0            1                      0                      0   \n",
       "1                0            1                      0                      0   \n",
       "2                0            1                      0                      0   \n",
       "3                0            1                      0                      0   \n",
       "4                0            1                      0                      0   \n",
       "...            ...          ...                    ...                    ...   \n",
       "1454             0            1                      0                      0   \n",
       "1455             0            1                      1                      0   \n",
       "1456             0            1                      1                      0   \n",
       "1457             0            1                      0                      0   \n",
       "1458             0            1                      0                      0   \n",
       "\n",
       "      SaleCondition_Alloca  SaleCondition_Family  SaleCondition_Normal  \\\n",
       "0                        0                     0                     1   \n",
       "1                        0                     0                     1   \n",
       "2                        0                     0                     1   \n",
       "3                        0                     0                     1   \n",
       "4                        0                     0                     1   \n",
       "...                    ...                   ...                   ...   \n",
       "1454                     0                     0                     1   \n",
       "1455                     0                     0                     0   \n",
       "1456                     0                     0                     0   \n",
       "1457                     0                     0                     1   \n",
       "1458                     0                     0                     1   \n",
       "\n",
       "      SaleCondition_Partial  \n",
       "0                         0  \n",
       "1                         0  \n",
       "2                         0  \n",
       "3                         0  \n",
       "4                         0  \n",
       "...                     ...  \n",
       "1454                      0  \n",
       "1455                      0  \n",
       "1456                      0  \n",
       "1457                      0  \n",
       "1458                      0  \n",
       "\n",
       "[1459 rows x 82 columns]"
      ]
     },
     "execution_count": 807,
     "metadata": {},
     "output_type": "execute_result"
    }
   ],
   "source": [
    "test_obj"
   ]
  },
  {
   "cell_type": "code",
   "execution_count": 808,
   "id": "ef73b3d8-dd3e-4b27-9433-5c0aa2a0567d",
   "metadata": {},
   "outputs": [],
   "source": [
    "num_df = test_df.select_dtypes(include=['int64','float64']).copy()"
   ]
  },
  {
   "cell_type": "code",
   "execution_count": 809,
   "id": "544e7ed9-725e-46f5-aa1f-0dcfe472aee3",
   "metadata": {},
   "outputs": [],
   "source": [
    "num_df.reset_index(inplace=True, drop=True)"
   ]
  },
  {
   "cell_type": "code",
   "execution_count": 810,
   "id": "dd998f77-eed5-40ce-a6fd-e7c93d411752",
   "metadata": {},
   "outputs": [],
   "source": [
    "test_df_final = pd.concat([num_df, test_obj], axis=1)"
   ]
  },
  {
   "cell_type": "code",
   "execution_count": 811,
   "id": "7f0afc7e-a950-4908-b452-78ff62ce7d5e",
   "metadata": {},
   "outputs": [],
   "source": [
    "test_df_final.drop(['Id'],axis=1, inplace=True)"
   ]
  },
  {
   "cell_type": "code",
   "execution_count": 812,
   "id": "5534f907-5c67-44fe-a490-c95419a9bd64",
   "metadata": {},
   "outputs": [
    {
     "name": "stdout",
     "output_type": "stream",
     "text": [
      "<class 'pandas.core.frame.DataFrame'>\n",
      "RangeIndex: 1459 entries, 0 to 1458\n",
      "Columns: 119 entries, MSSubClass to SaleCondition_Partial\n",
      "dtypes: float64(14), int32(24), int64(60), uint8(21)\n",
      "memory usage: 1010.3 KB\n"
     ]
    }
   ],
   "source": [
    "test_df_final.info()"
   ]
  },
  {
   "cell_type": "code",
   "execution_count": 813,
   "id": "bc294ad9-4305-40f9-a841-b71702fcca4d",
   "metadata": {},
   "outputs": [],
   "source": [
    "#test_df_final = test_df_final.astype('Int64')"
   ]
  },
  {
   "cell_type": "code",
   "execution_count": 814,
   "id": "dd63dc67-4f17-458d-be21-42616bd947cc",
   "metadata": {},
   "outputs": [
    {
     "name": "stdout",
     "output_type": "stream",
     "text": [
      "<class 'pandas.core.frame.DataFrame'>\n",
      "RangeIndex: 1459 entries, 0 to 1458\n",
      "Columns: 119 entries, MSSubClass to SaleCondition_Partial\n",
      "dtypes: float64(14), int32(24), int64(60), uint8(21)\n",
      "memory usage: 1010.3 KB\n"
     ]
    }
   ],
   "source": [
    "test_df_final.info()"
   ]
  },
  {
   "cell_type": "code",
   "execution_count": 815,
   "id": "aca86a04-4da8-4c49-9897-c48b2a855e85",
   "metadata": {},
   "outputs": [],
   "source": [
    "test_df_final.to_csv('test_df_final.csv', index=False)"
   ]
  },
  {
   "cell_type": "code",
   "execution_count": 816,
   "id": "84c58bce-04f9-42e1-9bbe-e29b74067a97",
   "metadata": {},
   "outputs": [],
   "source": [
    "test_obj.to_csv('test_obj_toInt.csv', index=False)"
   ]
  },
  {
   "cell_type": "code",
   "execution_count": 817,
   "id": "6f061c5f-0e41-4056-a499-47eb3e35f47d",
   "metadata": {},
   "outputs": [
    {
     "data": {
      "text/html": [
       "<div>\n",
       "<style scoped>\n",
       "    .dataframe tbody tr th:only-of-type {\n",
       "        vertical-align: middle;\n",
       "    }\n",
       "\n",
       "    .dataframe tbody tr th {\n",
       "        vertical-align: top;\n",
       "    }\n",
       "\n",
       "    .dataframe thead th {\n",
       "        text-align: right;\n",
       "    }\n",
       "</style>\n",
       "<table border=\"1\" class=\"dataframe\">\n",
       "  <thead>\n",
       "    <tr style=\"text-align: right;\">\n",
       "      <th></th>\n",
       "      <th>MasVnrType</th>\n",
       "    </tr>\n",
       "  </thead>\n",
       "  <tbody>\n",
       "    <tr>\n",
       "      <th>0</th>\n",
       "      <td>0.0</td>\n",
       "    </tr>\n",
       "    <tr>\n",
       "      <th>1</th>\n",
       "      <td>2.0</td>\n",
       "    </tr>\n",
       "    <tr>\n",
       "      <th>2</th>\n",
       "      <td>0.0</td>\n",
       "    </tr>\n",
       "    <tr>\n",
       "      <th>3</th>\n",
       "      <td>2.0</td>\n",
       "    </tr>\n",
       "    <tr>\n",
       "      <th>4</th>\n",
       "      <td>0.0</td>\n",
       "    </tr>\n",
       "    <tr>\n",
       "      <th>...</th>\n",
       "      <td>...</td>\n",
       "    </tr>\n",
       "    <tr>\n",
       "      <th>1454</th>\n",
       "      <td>0.0</td>\n",
       "    </tr>\n",
       "    <tr>\n",
       "      <th>1455</th>\n",
       "      <td>0.0</td>\n",
       "    </tr>\n",
       "    <tr>\n",
       "      <th>1456</th>\n",
       "      <td>0.0</td>\n",
       "    </tr>\n",
       "    <tr>\n",
       "      <th>1457</th>\n",
       "      <td>0.0</td>\n",
       "    </tr>\n",
       "    <tr>\n",
       "      <th>1458</th>\n",
       "      <td>2.0</td>\n",
       "    </tr>\n",
       "  </tbody>\n",
       "</table>\n",
       "<p>1459 rows × 1 columns</p>\n",
       "</div>"
      ],
      "text/plain": [
       "      MasVnrType\n",
       "0            0.0\n",
       "1            2.0\n",
       "2            0.0\n",
       "3            2.0\n",
       "4            0.0\n",
       "...          ...\n",
       "1454         0.0\n",
       "1455         0.0\n",
       "1456         0.0\n",
       "1457         0.0\n",
       "1458         2.0\n",
       "\n",
       "[1459 rows x 1 columns]"
      ]
     },
     "execution_count": 817,
     "metadata": {},
     "output_type": "execute_result"
    }
   ],
   "source": [
    "test_obj[['MasVnrType']]"
   ]
  },
  {
   "cell_type": "code",
   "execution_count": 818,
   "id": "7310ed76-a1c4-4240-9f5d-77ddada31b2c",
   "metadata": {},
   "outputs": [
    {
     "name": "stdout",
     "output_type": "stream",
     "text": [
      "<class 'pandas.core.frame.DataFrame'>\n",
      "RangeIndex: 1459 entries, 0 to 1458\n",
      "Columns: 119 entries, MSSubClass to SaleCondition_Partial\n",
      "dtypes: float64(14), int32(24), int64(60), uint8(21)\n",
      "memory usage: 1010.3 KB\n"
     ]
    }
   ],
   "source": [
    "test_df_final.info()"
   ]
  },
  {
   "cell_type": "code",
   "execution_count": 819,
   "id": "e92ddf56-450f-4918-ba09-fe9b4efdd113",
   "metadata": {},
   "outputs": [
    {
     "name": "stdout",
     "output_type": "stream",
     "text": [
      "<class 'pandas.core.frame.DataFrame'>\n",
      "RangeIndex: 1459 entries, 0 to 1458\n",
      "Data columns (total 82 columns):\n",
      " #   Column                 Non-Null Count  Dtype  \n",
      "---  ------                 --------------  -----  \n",
      " 0   MSZoning               1459 non-null   int64  \n",
      " 1   Street                 1459 non-null   int64  \n",
      " 2   Alley                  1459 non-null   int64  \n",
      " 3   LotShape               1459 non-null   int64  \n",
      " 4   LandContour            1459 non-null   int64  \n",
      " 5   Utilities              1459 non-null   int64  \n",
      " 6   LotConfig              1459 non-null   int64  \n",
      " 7   LandSlope              1459 non-null   int64  \n",
      " 8   Neighborhood           1459 non-null   int64  \n",
      " 9   Condition1             1459 non-null   int64  \n",
      " 10  Condition2             1459 non-null   int64  \n",
      " 11  HouseStyle             1459 non-null   int64  \n",
      " 12  RoofMatl               1459 non-null   int64  \n",
      " 13  MasVnrType             1443 non-null   float64\n",
      " 14  ExterQual              1459 non-null   int64  \n",
      " 15  ExterCond              1459 non-null   int64  \n",
      " 16  Foundation             1459 non-null   int64  \n",
      " 17  BsmtQual               1459 non-null   int64  \n",
      " 18  BsmtCond               1459 non-null   int64  \n",
      " 19  BsmtExposure           1459 non-null   int64  \n",
      " 20  BsmtFinType1           1459 non-null   int64  \n",
      " 21  BsmtFinType2           1459 non-null   int64  \n",
      " 22  Heating                1459 non-null   int64  \n",
      " 23  HeatingQC              1459 non-null   int64  \n",
      " 24  CentralAir             1459 non-null   int64  \n",
      " 25  Electrical             1459 non-null   int64  \n",
      " 26  KitchenQual            1459 non-null   int64  \n",
      " 27  Functional             1457 non-null   float64\n",
      " 28  FireplaceQu            1459 non-null   int64  \n",
      " 29  GarageType             1459 non-null   int64  \n",
      " 30  GarageFinish           1459 non-null   int64  \n",
      " 31  GarageQual             1459 non-null   int64  \n",
      " 32  GarageCond             1459 non-null   int64  \n",
      " 33  PavedDrive             1459 non-null   int64  \n",
      " 34  PoolQC                 1459 non-null   int64  \n",
      " 35  Fence                  1459 non-null   int64  \n",
      " 36  MiscFeature            1459 non-null   int64  \n",
      " 37  BldgType_1Fam          1459 non-null   int32  \n",
      " 38  BldgType_TwnhsE        1459 non-null   int32  \n",
      " 39  BldgType_Duplex        1459 non-null   int32  \n",
      " 40  BldgType_Twnhs         1459 non-null   int32  \n",
      " 41  Exterior1st_VinylSd    1459 non-null   int32  \n",
      " 42  Exterior1st_MetalSd    1459 non-null   int32  \n",
      " 43  Exterior1st_HdBoard    1459 non-null   int32  \n",
      " 44  Exterior1st_Wd Sdng    1459 non-null   int32  \n",
      " 45  Exterior1st_Plywood    1459 non-null   int32  \n",
      " 46  Exterior1st_CemntBd    1459 non-null   int32  \n",
      " 47  Exterior1st_BrkFace    1459 non-null   int32  \n",
      " 48  Exterior1st_WdShing    1459 non-null   int32  \n",
      " 49  Exterior1st_AsbShng    1459 non-null   int32  \n",
      " 50  Exterior1st_Stucco     1459 non-null   int32  \n",
      " 51  Exterior2nd_VinylSd    1459 non-null   int32  \n",
      " 52  Exterior2nd_MetalSd    1459 non-null   int32  \n",
      " 53  Exterior2nd_HdBoard    1459 non-null   int32  \n",
      " 54  Exterior2nd_Wd Sdng    1459 non-null   int32  \n",
      " 55  Exterior2nd_Plywood    1459 non-null   int32  \n",
      " 56  Exterior2nd_CmentBd    1459 non-null   int32  \n",
      " 57  Exterior2nd_Wd Shng    1459 non-null   int32  \n",
      " 58  Exterior2nd_BrkFace    1459 non-null   int32  \n",
      " 59  Exterior2nd_Stucco     1459 non-null   int32  \n",
      " 60  Exterior2nd_AsbShng    1459 non-null   int32  \n",
      " 61  RoofStyle_Flat         1459 non-null   uint8  \n",
      " 62  RoofStyle_Gable        1459 non-null   uint8  \n",
      " 63  RoofStyle_Gambrel      1459 non-null   uint8  \n",
      " 64  RoofStyle_Hip          1459 non-null   uint8  \n",
      " 65  RoofStyle_Mansard      1459 non-null   uint8  \n",
      " 66  RoofStyle_Shed         1459 non-null   uint8  \n",
      " 67  SaleType_COD           1459 non-null   uint8  \n",
      " 68  SaleType_CWD           1459 non-null   uint8  \n",
      " 69  SaleType_Con           1459 non-null   uint8  \n",
      " 70  SaleType_ConLD         1459 non-null   uint8  \n",
      " 71  SaleType_ConLI         1459 non-null   uint8  \n",
      " 72  SaleType_ConLw         1459 non-null   uint8  \n",
      " 73  SaleType_New           1459 non-null   uint8  \n",
      " 74  SaleType_Oth           1459 non-null   uint8  \n",
      " 75  SaleType_WD            1459 non-null   uint8  \n",
      " 76  SaleCondition_Abnorml  1459 non-null   uint8  \n",
      " 77  SaleCondition_AdjLand  1459 non-null   uint8  \n",
      " 78  SaleCondition_Alloca   1459 non-null   uint8  \n",
      " 79  SaleCondition_Family   1459 non-null   uint8  \n",
      " 80  SaleCondition_Normal   1459 non-null   uint8  \n",
      " 81  SaleCondition_Partial  1459 non-null   uint8  \n",
      "dtypes: float64(2), int32(24), int64(35), uint8(21)\n",
      "memory usage: 588.6 KB\n"
     ]
    }
   ],
   "source": [
    "test_obj.info()"
   ]
  },
  {
   "cell_type": "code",
   "execution_count": 820,
   "id": "99a01f8a-0b3c-4a78-b197-1a78c831810f",
   "metadata": {},
   "outputs": [
    {
     "data": {
      "text/plain": [
       "array([1, 2, 3, 4, 5, 6])"
      ]
     },
     "execution_count": 820,
     "metadata": {},
     "output_type": "execute_result"
    }
   ],
   "source": [
    "np.arange(1,7)"
   ]
  },
  {
   "cell_type": "code",
   "execution_count": null,
   "id": "0370c783-7fb4-4553-a1ef-30797cd555ee",
   "metadata": {},
   "outputs": [],
   "source": []
  }
 ],
 "metadata": {
  "kernelspec": {
   "display_name": "Python 3 (ipykernel)",
   "language": "python",
   "name": "python3"
  },
  "language_info": {
   "codemirror_mode": {
    "name": "ipython",
    "version": 3
   },
   "file_extension": ".py",
   "mimetype": "text/x-python",
   "name": "python",
   "nbconvert_exporter": "python",
   "pygments_lexer": "ipython3",
   "version": "3.7.9"
  }
 },
 "nbformat": 4,
 "nbformat_minor": 5
}
