{
 "cells": [
  {
   "cell_type": "code",
   "execution_count": 1,
   "id": "dd8fe4f4-a9ad-47ce-a05f-6ff6bbf00c3f",
   "metadata": {},
   "outputs": [],
   "source": [
    "import numpy as np\n",
    "import pandas as pd\n",
    "import matplotlib.pyplot as plt\n",
    "import warnings\n",
    "import seaborn as sns\n",
    "warnings.filterwarnings(\"ignore\")"
   ]
  },
  {
   "cell_type": "code",
   "execution_count": 2,
   "id": "24b07922-7450-4a01-a42c-ccd8d003713b",
   "metadata": {},
   "outputs": [],
   "source": [
    "raw_train = pd.read_csv(\"train_df_final.csv\")\n",
    "train_df = raw_train.copy()\n",
    "raw_test = pd.read_csv(\"test_df_final.csv\")\n",
    "test_df = raw_test.copy()\n",
    "\n",
    "train_obj = pd.read_csv(\"train_obj_toInt.csv\")\n",
    "test_obj = pd.read_csv(\"test_obj_toInt.csv\")"
   ]
  },
  {
   "cell_type": "markdown",
   "id": "efe67c44-0fc5-4f7c-8197-3486702ae493",
   "metadata": {},
   "source": [
    "#### Kalan Bazı Null Değerlerin doldurulması ve train, test verilerinin hazır hale getirilmesi"
   ]
  },
  {
   "cell_type": "code",
   "execution_count": 3,
   "id": "3f65933d-643d-418f-ac43-6caf402689cf",
   "metadata": {},
   "outputs": [],
   "source": [
    "columns =list(train_obj.columns.values)"
   ]
  },
  {
   "cell_type": "code",
   "execution_count": 4,
   "id": "9f1ec194-72be-4bb1-a347-7544169bc466",
   "metadata": {},
   "outputs": [],
   "source": [
    "num_train = train_df.drop(columns, axis=1).copy()"
   ]
  },
  {
   "cell_type": "code",
   "execution_count": 5,
   "id": "06c7b5b3-1a09-4f28-aa25-23dbfba5765a",
   "metadata": {},
   "outputs": [],
   "source": [
    "train_df.LotFrontage.fillna(0, inplace=True)\n",
    "num_train.LotFrontage.fillna(0, inplace=True)"
   ]
  },
  {
   "cell_type": "code",
   "execution_count": 720,
   "id": "4f087010-0e4a-4122-aab0-cd2b9362eb80",
   "metadata": {},
   "outputs": [
    {
     "data": {
      "text/plain": [
       "GarageArea    0\n",
       "dtype: int64"
      ]
     },
     "execution_count": 720,
     "metadata": {},
     "output_type": "execute_result"
    }
   ],
   "source": [
    "train_df[train_df.GarageYrBlt.isnull() == True][['GarageArea']].sum()"
   ]
  },
  {
   "cell_type": "code",
   "execution_count": 6,
   "id": "951af4c0-ec6c-4797-81f2-fa771b6f1fde",
   "metadata": {},
   "outputs": [],
   "source": [
    "train_df.GarageYrBlt.fillna(0, inplace=True)\n",
    "num_train.GarageYrBlt.fillna(0, inplace=True)"
   ]
  },
  {
   "cell_type": "code",
   "execution_count": 722,
   "id": "ad429cea-34fe-447c-a48e-e09d807b9ac0",
   "metadata": {
    "collapsed": true,
    "jupyter": {
     "outputs_hidden": true
    },
    "tags": []
   },
   "outputs": [
    {
     "data": {
      "text/html": [
       "<div>\n",
       "<style scoped>\n",
       "    .dataframe tbody tr th:only-of-type {\n",
       "        vertical-align: middle;\n",
       "    }\n",
       "\n",
       "    .dataframe tbody tr th {\n",
       "        vertical-align: top;\n",
       "    }\n",
       "\n",
       "    .dataframe thead th {\n",
       "        text-align: right;\n",
       "    }\n",
       "</style>\n",
       "<table border=\"1\" class=\"dataframe\">\n",
       "  <thead>\n",
       "    <tr style=\"text-align: right;\">\n",
       "      <th></th>\n",
       "      <th>MasVnrType</th>\n",
       "    </tr>\n",
       "  </thead>\n",
       "  <tbody>\n",
       "    <tr>\n",
       "      <th>234</th>\n",
       "      <td>0</td>\n",
       "    </tr>\n",
       "    <tr>\n",
       "      <th>529</th>\n",
       "      <td>0</td>\n",
       "    </tr>\n",
       "    <tr>\n",
       "      <th>650</th>\n",
       "      <td>0</td>\n",
       "    </tr>\n",
       "    <tr>\n",
       "      <th>936</th>\n",
       "      <td>0</td>\n",
       "    </tr>\n",
       "    <tr>\n",
       "      <th>973</th>\n",
       "      <td>0</td>\n",
       "    </tr>\n",
       "    <tr>\n",
       "      <th>977</th>\n",
       "      <td>0</td>\n",
       "    </tr>\n",
       "    <tr>\n",
       "      <th>1243</th>\n",
       "      <td>0</td>\n",
       "    </tr>\n",
       "    <tr>\n",
       "      <th>1278</th>\n",
       "      <td>0</td>\n",
       "    </tr>\n",
       "  </tbody>\n",
       "</table>\n",
       "</div>"
      ],
      "text/plain": [
       "      MasVnrType\n",
       "234            0\n",
       "529            0\n",
       "650            0\n",
       "936            0\n",
       "973            0\n",
       "977            0\n",
       "1243           0\n",
       "1278           0"
      ]
     },
     "execution_count": 722,
     "metadata": {},
     "output_type": "execute_result"
    }
   ],
   "source": [
    "train_df[train_df.MasVnrArea.isnull() == True][['MasVnrType']]"
   ]
  },
  {
   "cell_type": "code",
   "execution_count": 7,
   "id": "f76f5d75-4694-4a47-aaca-2437ea6f095d",
   "metadata": {},
   "outputs": [],
   "source": [
    "train_df.MasVnrArea.fillna(0, inplace=True)\n",
    "num_train.MasVnrArea.fillna(0, inplace=True)"
   ]
  },
  {
   "cell_type": "code",
   "execution_count": 8,
   "id": "c263e3ba-d766-45b7-bdfd-900db6ccbfaf",
   "metadata": {
    "tags": []
   },
   "outputs": [],
   "source": [
    "num_col = list(num_train.columns.values)"
   ]
  },
  {
   "cell_type": "code",
   "execution_count": 9,
   "id": "dbc33e83-7170-45c2-ab1a-fec687178b10",
   "metadata": {},
   "outputs": [],
   "source": [
    "train_df.drop(num_col, axis=1, inplace=True)"
   ]
  },
  {
   "cell_type": "code",
   "execution_count": 10,
   "id": "2c9cc827-1d55-4e25-baac-c602ab6355db",
   "metadata": {},
   "outputs": [],
   "source": [
    "train_df = pd.concat([train_df,num_train], axis=1)"
   ]
  },
  {
   "cell_type": "code",
   "execution_count": 727,
   "id": "c9facf81-8cc5-4fc4-8ed9-9a1fae493d76",
   "metadata": {
    "tags": []
   },
   "outputs": [
    {
     "name": "stdout",
     "output_type": "stream",
     "text": [
      "<class 'pandas.core.frame.DataFrame'>\n",
      "RangeIndex: 1459 entries, 0 to 1458\n",
      "Columns: 119 entries, MSZoning to SalePrice\n",
      "dtypes: float64(3), int64(116)\n",
      "memory usage: 1.3 MB\n"
     ]
    }
   ],
   "source": [
    "train_df.info()"
   ]
  },
  {
   "cell_type": "code",
   "execution_count": 11,
   "id": "8466e058-f745-46e7-b887-26638fd01969",
   "metadata": {},
   "outputs": [],
   "source": [
    "test_df.drop(['MasVnrType.1'], axis=1, inplace=True)\n",
    "columns_test =list(test_obj.columns.values)"
   ]
  },
  {
   "cell_type": "code",
   "execution_count": 12,
   "id": "49b20efe-6d7d-483a-b399-b1b12c2bdabd",
   "metadata": {},
   "outputs": [],
   "source": [
    "num_test = test_df.drop(columns_test, axis=1).copy()"
   ]
  },
  {
   "cell_type": "code",
   "execution_count": 13,
   "id": "7ef2227a-037f-4b17-9876-a1afaf64a50a",
   "metadata": {},
   "outputs": [],
   "source": [
    "train_df.fillna(0, inplace=True)\n",
    "num_train.fillna(0, inplace=True)"
   ]
  },
  {
   "cell_type": "code",
   "execution_count": null,
   "id": "e9a5dad2-7c0d-478a-b2e3-1a6688fcc1ad",
   "metadata": {},
   "outputs": [],
   "source": [
    "num_test = test_df.drop(columns, axis=1).copy()\n",
    "test_df.fillna(0, inplace=True)\n",
    "num_test.fillna(0, inplace=True)"
   ]
  },
  {
   "cell_type": "code",
   "execution_count": 732,
   "id": "342c5cc4-0eee-4d81-888b-d07e570b8830",
   "metadata": {},
   "outputs": [],
   "source": [
    "from sklearn.preprocessing import StandardScaler"
   ]
  },
  {
   "cell_type": "code",
   "execution_count": 733,
   "id": "d3de1d80-0014-41b1-9f5b-a54960bf2930",
   "metadata": {},
   "outputs": [],
   "source": [
    "X = train_df.iloc[:, :-1]\n",
    "y = train_df.iloc[:, -1:]"
   ]
  },
  {
   "cell_type": "code",
   "execution_count": 734,
   "id": "ef8a23c3-a0d1-4d76-aec9-b57a2413a8fd",
   "metadata": {},
   "outputs": [],
   "source": [
    "sc_X = StandardScaler()\n",
    "sc_y = StandardScaler()\n",
    "X_s = sc_X.fit_transform(X)\n",
    "y_s = sc_y.fit_transform(y)"
   ]
  },
  {
   "cell_type": "code",
   "execution_count": null,
   "id": "2aa038d1-459d-4c2d-8321-704883df80d3",
   "metadata": {},
   "outputs": [],
   "source": [
    "X_test = test_df.copy()\n",
    "sc_test = StandardScaler()\n",
    "X_test_s = sc_X.fit_transform(X_test)"
   ]
  },
  {
   "cell_type": "markdown",
   "id": "3a3f075d-9861-42da-93af-c84cf9dedd26",
   "metadata": {},
   "source": [
    "#### SVR"
   ]
  },
  {
   "cell_type": "code",
   "execution_count": 735,
   "id": "2227d546-61ff-408b-abcc-327352b220b6",
   "metadata": {},
   "outputs": [
    {
     "data": {
      "text/plain": [
       "SVR()"
      ]
     },
     "execution_count": 735,
     "metadata": {},
     "output_type": "execute_result"
    }
   ],
   "source": [
    "from sklearn.svm import SVR\n",
    "regressor = SVR(kernel = 'rbf')\n",
    "regressor.fit(X_s, y_s)"
   ]
  },
  {
   "cell_type": "code",
   "execution_count": 739,
   "id": "29cff3bd-9e16-4074-a4b6-562a2c649c23",
   "metadata": {},
   "outputs": [],
   "source": [
    "y_pred = regressor.predict(X_test_s)\n",
    "y_pred = sc_y.inverse_transform(y_pred) "
   ]
  },
  {
   "cell_type": "code",
   "execution_count": 740,
   "id": "92260381-9ecc-4207-9497-069f4747f179",
   "metadata": {},
   "outputs": [],
   "source": [
    "prediction = pd.DataFrame(data=range(1461, 2920), columns=['Id'])"
   ]
  },
  {
   "cell_type": "code",
   "execution_count": 741,
   "id": "c87aa8b6-eaf2-43ef-93db-ebd3df6fae85",
   "metadata": {},
   "outputs": [],
   "source": [
    "prediction['SalePrice'] = y_pred"
   ]
  },
  {
   "cell_type": "code",
   "execution_count": 743,
   "id": "bc680245-b902-42cd-b1bc-fff2b5b594ce",
   "metadata": {},
   "outputs": [],
   "source": [
    "prediction.to_csv('prediction_svr.csv', index=False)"
   ]
  },
  {
   "cell_type": "code",
   "execution_count": 744,
   "id": "5eaf0ccd-e840-46e4-8239-fad70793f1a2",
   "metadata": {},
   "outputs": [],
   "source": [
    "#train=>X_s, y_s, test=>X_test"
   ]
  },
  {
   "cell_type": "markdown",
   "id": "10fbd2aa-5477-40be-a824-e10bfad9471d",
   "metadata": {
    "jp-MarkdownHeadingCollapsed": true,
    "tags": []
   },
   "source": [
    "#### XGB Regressor"
   ]
  },
  {
   "cell_type": "code",
   "execution_count": 745,
   "id": "6defc1a0-0a0c-4e43-9b34-a5eb56e71dca",
   "metadata": {},
   "outputs": [],
   "source": [
    "import xgboost as xgb"
   ]
  },
  {
   "cell_type": "code",
   "execution_count": 746,
   "id": "0b07dd85-b0c8-4cf7-b332-0eeb39331fbb",
   "metadata": {},
   "outputs": [],
   "source": [
    "xgbr = xgb.XGBRegressor(verbosity=2) "
   ]
  },
  {
   "cell_type": "code",
   "execution_count": 747,
   "id": "c5b14083-7d1a-4eaf-b96e-c805992d2ca5",
   "metadata": {
    "collapsed": true,
    "jupyter": {
     "outputs_hidden": true
    },
    "tags": []
   },
   "outputs": [
    {
     "name": "stdout",
     "output_type": "stream",
     "text": [
      "[05:24:05] INFO: ..\\src\\tree\\updater_prune.cc:101: tree pruning end, 50 extra nodes, 0 pruned nodes, max_depth=6\n",
      "[05:24:05] INFO: ..\\src\\tree\\updater_prune.cc:101: tree pruning end, 64 extra nodes, 0 pruned nodes, max_depth=6\n",
      "[05:24:05] INFO: ..\\src\\tree\\updater_prune.cc:101: tree pruning end, 76 extra nodes, 0 pruned nodes, max_depth=6\n",
      "[05:24:05] INFO: ..\\src\\tree\\updater_prune.cc:101: tree pruning end, 76 extra nodes, 0 pruned nodes, max_depth=6\n",
      "[05:24:05] INFO: ..\\src\\tree\\updater_prune.cc:101: tree pruning end, 88 extra nodes, 0 pruned nodes, max_depth=6\n",
      "[05:24:05] INFO: ..\\src\\tree\\updater_prune.cc:101: tree pruning end, 82 extra nodes, 0 pruned nodes, max_depth=6\n",
      "[05:24:05] INFO: ..\\src\\tree\\updater_prune.cc:101: tree pruning end, 96 extra nodes, 0 pruned nodes, max_depth=6\n",
      "[05:24:05] INFO: ..\\src\\tree\\updater_prune.cc:101: tree pruning end, 98 extra nodes, 0 pruned nodes, max_depth=6\n",
      "[05:24:05] INFO: ..\\src\\tree\\updater_prune.cc:101: tree pruning end, 82 extra nodes, 0 pruned nodes, max_depth=6\n",
      "[05:24:05] INFO: ..\\src\\tree\\updater_prune.cc:101: tree pruning end, 78 extra nodes, 0 pruned nodes, max_depth=6\n",
      "[05:24:05] INFO: ..\\src\\tree\\updater_prune.cc:101: tree pruning end, 80 extra nodes, 0 pruned nodes, max_depth=6\n",
      "[05:24:05] INFO: ..\\src\\tree\\updater_prune.cc:101: tree pruning end, 74 extra nodes, 0 pruned nodes, max_depth=6\n",
      "[05:24:05] INFO: ..\\src\\tree\\updater_prune.cc:101: tree pruning end, 68 extra nodes, 0 pruned nodes, max_depth=6\n",
      "[05:24:05] INFO: ..\\src\\tree\\updater_prune.cc:101: tree pruning end, 62 extra nodes, 0 pruned nodes, max_depth=6\n",
      "[05:24:05] INFO: ..\\src\\tree\\updater_prune.cc:101: tree pruning end, 56 extra nodes, 0 pruned nodes, max_depth=6\n",
      "[05:24:05] INFO: ..\\src\\tree\\updater_prune.cc:101: tree pruning end, 74 extra nodes, 0 pruned nodes, max_depth=6\n",
      "[05:24:05] INFO: ..\\src\\tree\\updater_prune.cc:101: tree pruning end, 96 extra nodes, 0 pruned nodes, max_depth=6\n",
      "[05:24:05] INFO: ..\\src\\tree\\updater_prune.cc:101: tree pruning end, 58 extra nodes, 0 pruned nodes, max_depth=6\n",
      "[05:24:05] INFO: ..\\src\\tree\\updater_prune.cc:101: tree pruning end, 62 extra nodes, 0 pruned nodes, max_depth=6\n",
      "[05:24:05] INFO: ..\\src\\tree\\updater_prune.cc:101: tree pruning end, 48 extra nodes, 0 pruned nodes, max_depth=6\n",
      "[05:24:05] INFO: ..\\src\\tree\\updater_prune.cc:101: tree pruning end, 92 extra nodes, 0 pruned nodes, max_depth=6\n",
      "[05:24:05] INFO: ..\\src\\tree\\updater_prune.cc:101: tree pruning end, 102 extra nodes, 0 pruned nodes, max_depth=6\n",
      "[05:24:05] INFO: ..\\src\\tree\\updater_prune.cc:101: tree pruning end, 48 extra nodes, 0 pruned nodes, max_depth=6\n",
      "[05:24:05] INFO: ..\\src\\tree\\updater_prune.cc:101: tree pruning end, 42 extra nodes, 0 pruned nodes, max_depth=6\n",
      "[05:24:05] INFO: ..\\src\\tree\\updater_prune.cc:101: tree pruning end, 36 extra nodes, 0 pruned nodes, max_depth=6\n",
      "[05:24:05] INFO: ..\\src\\tree\\updater_prune.cc:101: tree pruning end, 88 extra nodes, 0 pruned nodes, max_depth=6\n",
      "[05:24:05] INFO: ..\\src\\tree\\updater_prune.cc:101: tree pruning end, 84 extra nodes, 0 pruned nodes, max_depth=6\n",
      "[05:24:05] INFO: ..\\src\\tree\\updater_prune.cc:101: tree pruning end, 76 extra nodes, 0 pruned nodes, max_depth=6\n",
      "[05:24:05] INFO: ..\\src\\tree\\updater_prune.cc:101: tree pruning end, 30 extra nodes, 0 pruned nodes, max_depth=6\n",
      "[05:24:05] INFO: ..\\src\\tree\\updater_prune.cc:101: tree pruning end, 42 extra nodes, 0 pruned nodes, max_depth=6\n",
      "[05:24:05] INFO: ..\\src\\tree\\updater_prune.cc:101: tree pruning end, 82 extra nodes, 0 pruned nodes, max_depth=6\n",
      "[05:24:05] INFO: ..\\src\\tree\\updater_prune.cc:101: tree pruning end, 56 extra nodes, 0 pruned nodes, max_depth=6\n",
      "[05:24:05] INFO: ..\\src\\tree\\updater_prune.cc:101: tree pruning end, 58 extra nodes, 0 pruned nodes, max_depth=6\n",
      "[05:24:05] INFO: ..\\src\\tree\\updater_prune.cc:101: tree pruning end, 92 extra nodes, 0 pruned nodes, max_depth=6\n",
      "[05:24:05] INFO: ..\\src\\tree\\updater_prune.cc:101: tree pruning end, 88 extra nodes, 0 pruned nodes, max_depth=6\n",
      "[05:24:05] INFO: ..\\src\\tree\\updater_prune.cc:101: tree pruning end, 68 extra nodes, 0 pruned nodes, max_depth=6\n",
      "[05:24:05] INFO: ..\\src\\tree\\updater_prune.cc:101: tree pruning end, 100 extra nodes, 0 pruned nodes, max_depth=6\n",
      "[05:24:05] INFO: ..\\src\\tree\\updater_prune.cc:101: tree pruning end, 34 extra nodes, 0 pruned nodes, max_depth=6\n",
      "[05:24:05] INFO: ..\\src\\tree\\updater_prune.cc:101: tree pruning end, 62 extra nodes, 0 pruned nodes, max_depth=6\n",
      "[05:24:05] INFO: ..\\src\\tree\\updater_prune.cc:101: tree pruning end, 70 extra nodes, 0 pruned nodes, max_depth=6\n",
      "[05:24:06] INFO: ..\\src\\tree\\updater_prune.cc:101: tree pruning end, 86 extra nodes, 0 pruned nodes, max_depth=6\n",
      "[05:24:06] INFO: ..\\src\\tree\\updater_prune.cc:101: tree pruning end, 38 extra nodes, 0 pruned nodes, max_depth=6\n",
      "[05:24:06] INFO: ..\\src\\tree\\updater_prune.cc:101: tree pruning end, 80 extra nodes, 0 pruned nodes, max_depth=6\n",
      "[05:24:06] INFO: ..\\src\\tree\\updater_prune.cc:101: tree pruning end, 50 extra nodes, 0 pruned nodes, max_depth=6\n",
      "[05:24:06] INFO: ..\\src\\tree\\updater_prune.cc:101: tree pruning end, 82 extra nodes, 0 pruned nodes, max_depth=6\n",
      "[05:24:06] INFO: ..\\src\\tree\\updater_prune.cc:101: tree pruning end, 108 extra nodes, 0 pruned nodes, max_depth=6\n",
      "[05:24:06] INFO: ..\\src\\tree\\updater_prune.cc:101: tree pruning end, 62 extra nodes, 0 pruned nodes, max_depth=6\n",
      "[05:24:06] INFO: ..\\src\\tree\\updater_prune.cc:101: tree pruning end, 100 extra nodes, 0 pruned nodes, max_depth=6\n",
      "[05:24:06] INFO: ..\\src\\tree\\updater_prune.cc:101: tree pruning end, 80 extra nodes, 0 pruned nodes, max_depth=6\n",
      "[05:24:06] INFO: ..\\src\\tree\\updater_prune.cc:101: tree pruning end, 64 extra nodes, 0 pruned nodes, max_depth=6\n",
      "[05:24:06] INFO: ..\\src\\tree\\updater_prune.cc:101: tree pruning end, 52 extra nodes, 0 pruned nodes, max_depth=6\n",
      "[05:24:06] INFO: ..\\src\\tree\\updater_prune.cc:101: tree pruning end, 64 extra nodes, 0 pruned nodes, max_depth=6\n",
      "[05:24:06] INFO: ..\\src\\tree\\updater_prune.cc:101: tree pruning end, 66 extra nodes, 0 pruned nodes, max_depth=6\n",
      "[05:24:06] INFO: ..\\src\\tree\\updater_prune.cc:101: tree pruning end, 80 extra nodes, 0 pruned nodes, max_depth=6\n",
      "[05:24:06] INFO: ..\\src\\tree\\updater_prune.cc:101: tree pruning end, 48 extra nodes, 0 pruned nodes, max_depth=6\n",
      "[05:24:06] INFO: ..\\src\\tree\\updater_prune.cc:101: tree pruning end, 80 extra nodes, 0 pruned nodes, max_depth=6\n",
      "[05:24:06] INFO: ..\\src\\tree\\updater_prune.cc:101: tree pruning end, 48 extra nodes, 0 pruned nodes, max_depth=6\n",
      "[05:24:06] INFO: ..\\src\\tree\\updater_prune.cc:101: tree pruning end, 62 extra nodes, 0 pruned nodes, max_depth=6\n",
      "[05:24:06] INFO: ..\\src\\tree\\updater_prune.cc:101: tree pruning end, 78 extra nodes, 0 pruned nodes, max_depth=6\n",
      "[05:24:06] INFO: ..\\src\\tree\\updater_prune.cc:101: tree pruning end, 94 extra nodes, 0 pruned nodes, max_depth=6\n",
      "[05:24:06] INFO: ..\\src\\tree\\updater_prune.cc:101: tree pruning end, 66 extra nodes, 0 pruned nodes, max_depth=6\n",
      "[05:24:06] INFO: ..\\src\\tree\\updater_prune.cc:101: tree pruning end, 78 extra nodes, 0 pruned nodes, max_depth=6\n",
      "[05:24:06] INFO: ..\\src\\tree\\updater_prune.cc:101: tree pruning end, 88 extra nodes, 0 pruned nodes, max_depth=6\n",
      "[05:24:06] INFO: ..\\src\\tree\\updater_prune.cc:101: tree pruning end, 64 extra nodes, 0 pruned nodes, max_depth=6\n",
      "[05:24:06] INFO: ..\\src\\tree\\updater_prune.cc:101: tree pruning end, 56 extra nodes, 0 pruned nodes, max_depth=6\n",
      "[05:24:06] INFO: ..\\src\\tree\\updater_prune.cc:101: tree pruning end, 84 extra nodes, 0 pruned nodes, max_depth=6\n",
      "[05:24:06] INFO: ..\\src\\tree\\updater_prune.cc:101: tree pruning end, 86 extra nodes, 0 pruned nodes, max_depth=6\n",
      "[05:24:06] INFO: ..\\src\\tree\\updater_prune.cc:101: tree pruning end, 82 extra nodes, 0 pruned nodes, max_depth=6\n",
      "[05:24:06] INFO: ..\\src\\tree\\updater_prune.cc:101: tree pruning end, 80 extra nodes, 0 pruned nodes, max_depth=6\n",
      "[05:24:06] INFO: ..\\src\\tree\\updater_prune.cc:101: tree pruning end, 50 extra nodes, 0 pruned nodes, max_depth=6\n",
      "[05:24:06] INFO: ..\\src\\tree\\updater_prune.cc:101: tree pruning end, 36 extra nodes, 0 pruned nodes, max_depth=6\n",
      "[05:24:06] INFO: ..\\src\\tree\\updater_prune.cc:101: tree pruning end, 44 extra nodes, 0 pruned nodes, max_depth=6\n",
      "[05:24:06] INFO: ..\\src\\tree\\updater_prune.cc:101: tree pruning end, 60 extra nodes, 0 pruned nodes, max_depth=6\n",
      "[05:24:06] INFO: ..\\src\\tree\\updater_prune.cc:101: tree pruning end, 62 extra nodes, 0 pruned nodes, max_depth=6\n",
      "[05:24:06] INFO: ..\\src\\tree\\updater_prune.cc:101: tree pruning end, 114 extra nodes, 0 pruned nodes, max_depth=6\n",
      "[05:24:06] INFO: ..\\src\\tree\\updater_prune.cc:101: tree pruning end, 42 extra nodes, 0 pruned nodes, max_depth=6\n",
      "[05:24:06] INFO: ..\\src\\tree\\updater_prune.cc:101: tree pruning end, 62 extra nodes, 0 pruned nodes, max_depth=6\n",
      "[05:24:06] INFO: ..\\src\\tree\\updater_prune.cc:101: tree pruning end, 66 extra nodes, 0 pruned nodes, max_depth=6\n",
      "[05:24:06] INFO: ..\\src\\tree\\updater_prune.cc:101: tree pruning end, 70 extra nodes, 0 pruned nodes, max_depth=6\n",
      "[05:24:06] INFO: ..\\src\\tree\\updater_prune.cc:101: tree pruning end, 40 extra nodes, 0 pruned nodes, max_depth=6\n",
      "[05:24:06] INFO: ..\\src\\tree\\updater_prune.cc:101: tree pruning end, 102 extra nodes, 0 pruned nodes, max_depth=6\n",
      "[05:24:06] INFO: ..\\src\\tree\\updater_prune.cc:101: tree pruning end, 104 extra nodes, 0 pruned nodes, max_depth=6\n",
      "[05:24:06] INFO: ..\\src\\tree\\updater_prune.cc:101: tree pruning end, 68 extra nodes, 0 pruned nodes, max_depth=6\n",
      "[05:24:06] INFO: ..\\src\\tree\\updater_prune.cc:101: tree pruning end, 60 extra nodes, 0 pruned nodes, max_depth=6\n",
      "[05:24:06] INFO: ..\\src\\tree\\updater_prune.cc:101: tree pruning end, 58 extra nodes, 0 pruned nodes, max_depth=6\n",
      "[05:24:06] INFO: ..\\src\\tree\\updater_prune.cc:101: tree pruning end, 80 extra nodes, 0 pruned nodes, max_depth=6\n",
      "[05:24:06] INFO: ..\\src\\tree\\updater_prune.cc:101: tree pruning end, 70 extra nodes, 0 pruned nodes, max_depth=6\n",
      "[05:24:06] INFO: ..\\src\\tree\\updater_prune.cc:101: tree pruning end, 98 extra nodes, 0 pruned nodes, max_depth=6\n",
      "[05:24:06] INFO: ..\\src\\tree\\updater_prune.cc:101: tree pruning end, 82 extra nodes, 0 pruned nodes, max_depth=6\n",
      "[05:24:06] INFO: ..\\src\\tree\\updater_prune.cc:101: tree pruning end, 86 extra nodes, 0 pruned nodes, max_depth=6\n",
      "[05:24:06] INFO: ..\\src\\tree\\updater_prune.cc:101: tree pruning end, 62 extra nodes, 0 pruned nodes, max_depth=6\n",
      "[05:24:06] INFO: ..\\src\\tree\\updater_prune.cc:101: tree pruning end, 78 extra nodes, 0 pruned nodes, max_depth=6\n",
      "[05:24:06] INFO: ..\\src\\tree\\updater_prune.cc:101: tree pruning end, 100 extra nodes, 0 pruned nodes, max_depth=6\n",
      "[05:24:06] INFO: ..\\src\\tree\\updater_prune.cc:101: tree pruning end, 56 extra nodes, 0 pruned nodes, max_depth=6\n",
      "[05:24:06] INFO: ..\\src\\tree\\updater_prune.cc:101: tree pruning end, 90 extra nodes, 0 pruned nodes, max_depth=6\n",
      "[05:24:06] INFO: ..\\src\\tree\\updater_prune.cc:101: tree pruning end, 58 extra nodes, 0 pruned nodes, max_depth=6\n",
      "[05:24:06] INFO: ..\\src\\tree\\updater_prune.cc:101: tree pruning end, 78 extra nodes, 0 pruned nodes, max_depth=6\n",
      "[05:24:06] INFO: ..\\src\\tree\\updater_prune.cc:101: tree pruning end, 52 extra nodes, 0 pruned nodes, max_depth=6\n",
      "[05:24:06] INFO: ..\\src\\tree\\updater_prune.cc:101: tree pruning end, 88 extra nodes, 0 pruned nodes, max_depth=6\n",
      "[05:24:06] INFO: ..\\src\\tree\\updater_prune.cc:101: tree pruning end, 32 extra nodes, 0 pruned nodes, max_depth=6\n"
     ]
    },
    {
     "data": {
      "text/plain": [
       "XGBRegressor(base_score=0.5, booster='gbtree', colsample_bylevel=1,\n",
       "             colsample_bynode=1, colsample_bytree=1, enable_categorical=False,\n",
       "             gamma=0, gpu_id=-1, importance_type=None,\n",
       "             interaction_constraints='', learning_rate=0.300000012,\n",
       "             max_delta_step=0, max_depth=6, min_child_weight=1, missing=nan,\n",
       "             monotone_constraints='()', n_estimators=100, n_jobs=4,\n",
       "             num_parallel_tree=1, predictor='auto', random_state=0, reg_alpha=0,\n",
       "             reg_lambda=1, scale_pos_weight=1, subsample=1, tree_method='exact',\n",
       "             validate_parameters=1, verbosity=2)"
      ]
     },
     "execution_count": 747,
     "metadata": {},
     "output_type": "execute_result"
    }
   ],
   "source": [
    "xgbr.fit(X, y)"
   ]
  },
  {
   "cell_type": "code",
   "execution_count": 748,
   "id": "7bcddda4-456a-4b50-a757-ef578fc1c3eb",
   "metadata": {},
   "outputs": [],
   "source": [
    "y_pred = xgbr.predict(X_test)"
   ]
  },
  {
   "cell_type": "code",
   "execution_count": 749,
   "id": "e4a14ae5-8dea-47b4-b15c-58713a9edb7b",
   "metadata": {},
   "outputs": [],
   "source": [
    "prediction['SalePrice'] = y_pred"
   ]
  },
  {
   "cell_type": "code",
   "execution_count": 750,
   "id": "5ecfc3f0-6c2d-4ded-a93f-0bb22285d896",
   "metadata": {},
   "outputs": [
    {
     "data": {
      "text/html": [
       "<div>\n",
       "<style scoped>\n",
       "    .dataframe tbody tr th:only-of-type {\n",
       "        vertical-align: middle;\n",
       "    }\n",
       "\n",
       "    .dataframe tbody tr th {\n",
       "        vertical-align: top;\n",
       "    }\n",
       "\n",
       "    .dataframe thead th {\n",
       "        text-align: right;\n",
       "    }\n",
       "</style>\n",
       "<table border=\"1\" class=\"dataframe\">\n",
       "  <thead>\n",
       "    <tr style=\"text-align: right;\">\n",
       "      <th></th>\n",
       "      <th>Id</th>\n",
       "      <th>SalePrice</th>\n",
       "    </tr>\n",
       "  </thead>\n",
       "  <tbody>\n",
       "    <tr>\n",
       "      <th>0</th>\n",
       "      <td>1461</td>\n",
       "      <td>67327.515625</td>\n",
       "    </tr>\n",
       "    <tr>\n",
       "      <th>1</th>\n",
       "      <td>1462</td>\n",
       "      <td>55608.152344</td>\n",
       "    </tr>\n",
       "    <tr>\n",
       "      <th>2</th>\n",
       "      <td>1463</td>\n",
       "      <td>75804.835938</td>\n",
       "    </tr>\n",
       "    <tr>\n",
       "      <th>3</th>\n",
       "      <td>1464</td>\n",
       "      <td>57235.410156</td>\n",
       "    </tr>\n",
       "    <tr>\n",
       "      <th>4</th>\n",
       "      <td>1465</td>\n",
       "      <td>49077.066406</td>\n",
       "    </tr>\n",
       "    <tr>\n",
       "      <th>...</th>\n",
       "      <td>...</td>\n",
       "      <td>...</td>\n",
       "    </tr>\n",
       "    <tr>\n",
       "      <th>1454</th>\n",
       "      <td>2915</td>\n",
       "      <td>47583.742188</td>\n",
       "    </tr>\n",
       "    <tr>\n",
       "      <th>1455</th>\n",
       "      <td>2916</td>\n",
       "      <td>46886.394531</td>\n",
       "    </tr>\n",
       "    <tr>\n",
       "      <th>1456</th>\n",
       "      <td>2917</td>\n",
       "      <td>78573.179688</td>\n",
       "    </tr>\n",
       "    <tr>\n",
       "      <th>1457</th>\n",
       "      <td>2918</td>\n",
       "      <td>69424.351562</td>\n",
       "    </tr>\n",
       "    <tr>\n",
       "      <th>1458</th>\n",
       "      <td>2919</td>\n",
       "      <td>64796.113281</td>\n",
       "    </tr>\n",
       "  </tbody>\n",
       "</table>\n",
       "<p>1459 rows × 2 columns</p>\n",
       "</div>"
      ],
      "text/plain": [
       "        Id     SalePrice\n",
       "0     1461  67327.515625\n",
       "1     1462  55608.152344\n",
       "2     1463  75804.835938\n",
       "3     1464  57235.410156\n",
       "4     1465  49077.066406\n",
       "...    ...           ...\n",
       "1454  2915  47583.742188\n",
       "1455  2916  46886.394531\n",
       "1456  2917  78573.179688\n",
       "1457  2918  69424.351562\n",
       "1458  2919  64796.113281\n",
       "\n",
       "[1459 rows x 2 columns]"
      ]
     },
     "execution_count": 750,
     "metadata": {},
     "output_type": "execute_result"
    }
   ],
   "source": [
    "prediction"
   ]
  },
  {
   "cell_type": "markdown",
   "id": "6d1d7fb6-4497-4ffa-bfc2-29abf2255d6e",
   "metadata": {
    "tags": []
   },
   "source": [
    "#### SVR with Grid Search"
   ]
  },
  {
   "cell_type": "code",
   "execution_count": 751,
   "id": "f6aa4075-bb52-4b8a-9ca7-943665768e39",
   "metadata": {},
   "outputs": [],
   "source": [
    "prediction.to_csv('prediction_xgbr.csv', index=False)"
   ]
  },
  {
   "cell_type": "code",
   "execution_count": null,
   "id": "597020d0-72d6-4cb8-8173-d298c18edc28",
   "metadata": {},
   "outputs": [],
   "source": [
    "from sklearn.model_selection import GridSearchCV\n",
    "\n",
    "grid = {'kernel' : ['linear', 'poly', 'rbf', 'sigmoid'],\n",
    "       'degree': np.arange(1,7),\n",
    "       'C': [0.1, 1, 10, 100, 1000]}\n",
    "regressor = SVR()\n",
    "\n",
    "svr_cv = GridSearchCV(regressor, grid, cv=10)\n",
    "svr_cv.fit(X_s, y_s, ver)"
   ]
  },
  {
   "cell_type": "code",
   "execution_count": null,
   "id": "09654571-eb3b-43f1-b660-4d53097835c7",
   "metadata": {},
   "outputs": [],
   "source": [
    "y_pred = svr_cv.predict(X_test_s)\n",
    "y_pred = sc_y.inverse_transform(y_pred) "
   ]
  },
  {
   "cell_type": "code",
   "execution_count": null,
   "id": "ec0d42d8-1b8d-48cc-8f0e-b407e1047e78",
   "metadata": {},
   "outputs": [],
   "source": []
  }
 ],
 "metadata": {
  "kernelspec": {
   "display_name": "Python 3 (ipykernel)",
   "language": "python",
   "name": "python3"
  },
  "language_info": {
   "codemirror_mode": {
    "name": "ipython",
    "version": 3
   },
   "file_extension": ".py",
   "mimetype": "text/x-python",
   "name": "python",
   "nbconvert_exporter": "python",
   "pygments_lexer": "ipython3",
   "version": "3.7.9"
  }
 },
 "nbformat": 4,
 "nbformat_minor": 5
}
