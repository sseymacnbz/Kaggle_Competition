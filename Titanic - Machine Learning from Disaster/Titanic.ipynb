{
 "cells": [
  {
   "cell_type": "code",
   "execution_count": 279,
   "id": "f9dc73f0-34f3-4edf-9c5b-74c71d1e1a4d",
   "metadata": {},
   "outputs": [],
   "source": [
    "import numpy as np\n",
    "import pandas as pd\n",
    "import seaborn as sns\n",
    "import matplotlib.pyplot as plt"
   ]
  },
  {
   "cell_type": "code",
   "execution_count": 280,
   "id": "381b7036-52da-4648-90da-1cc51f813f26",
   "metadata": {},
   "outputs": [
    {
     "data": {
      "text/html": [
       "<div>\n",
       "<style scoped>\n",
       "    .dataframe tbody tr th:only-of-type {\n",
       "        vertical-align: middle;\n",
       "    }\n",
       "\n",
       "    .dataframe tbody tr th {\n",
       "        vertical-align: top;\n",
       "    }\n",
       "\n",
       "    .dataframe thead th {\n",
       "        text-align: right;\n",
       "    }\n",
       "</style>\n",
       "<table border=\"1\" class=\"dataframe\">\n",
       "  <thead>\n",
       "    <tr style=\"text-align: right;\">\n",
       "      <th></th>\n",
       "      <th>PassengerId</th>\n",
       "      <th>Survived</th>\n",
       "      <th>Pclass</th>\n",
       "      <th>Name</th>\n",
       "      <th>Sex</th>\n",
       "      <th>Age</th>\n",
       "      <th>SibSp</th>\n",
       "      <th>Parch</th>\n",
       "      <th>Ticket</th>\n",
       "      <th>Fare</th>\n",
       "      <th>Cabin</th>\n",
       "      <th>Embarked</th>\n",
       "    </tr>\n",
       "  </thead>\n",
       "  <tbody>\n",
       "    <tr>\n",
       "      <th>0</th>\n",
       "      <td>1</td>\n",
       "      <td>0</td>\n",
       "      <td>3</td>\n",
       "      <td>Braund, Mr. Owen Harris</td>\n",
       "      <td>male</td>\n",
       "      <td>22.0</td>\n",
       "      <td>1</td>\n",
       "      <td>0</td>\n",
       "      <td>A/5 21171</td>\n",
       "      <td>7.2500</td>\n",
       "      <td>NaN</td>\n",
       "      <td>S</td>\n",
       "    </tr>\n",
       "    <tr>\n",
       "      <th>1</th>\n",
       "      <td>2</td>\n",
       "      <td>1</td>\n",
       "      <td>1</td>\n",
       "      <td>Cumings, Mrs. John Bradley (Florence Briggs Th...</td>\n",
       "      <td>female</td>\n",
       "      <td>38.0</td>\n",
       "      <td>1</td>\n",
       "      <td>0</td>\n",
       "      <td>PC 17599</td>\n",
       "      <td>71.2833</td>\n",
       "      <td>C85</td>\n",
       "      <td>C</td>\n",
       "    </tr>\n",
       "    <tr>\n",
       "      <th>2</th>\n",
       "      <td>3</td>\n",
       "      <td>1</td>\n",
       "      <td>3</td>\n",
       "      <td>Heikkinen, Miss. Laina</td>\n",
       "      <td>female</td>\n",
       "      <td>26.0</td>\n",
       "      <td>0</td>\n",
       "      <td>0</td>\n",
       "      <td>STON/O2. 3101282</td>\n",
       "      <td>7.9250</td>\n",
       "      <td>NaN</td>\n",
       "      <td>S</td>\n",
       "    </tr>\n",
       "    <tr>\n",
       "      <th>3</th>\n",
       "      <td>4</td>\n",
       "      <td>1</td>\n",
       "      <td>1</td>\n",
       "      <td>Futrelle, Mrs. Jacques Heath (Lily May Peel)</td>\n",
       "      <td>female</td>\n",
       "      <td>35.0</td>\n",
       "      <td>1</td>\n",
       "      <td>0</td>\n",
       "      <td>113803</td>\n",
       "      <td>53.1000</td>\n",
       "      <td>C123</td>\n",
       "      <td>S</td>\n",
       "    </tr>\n",
       "    <tr>\n",
       "      <th>4</th>\n",
       "      <td>5</td>\n",
       "      <td>0</td>\n",
       "      <td>3</td>\n",
       "      <td>Allen, Mr. William Henry</td>\n",
       "      <td>male</td>\n",
       "      <td>35.0</td>\n",
       "      <td>0</td>\n",
       "      <td>0</td>\n",
       "      <td>373450</td>\n",
       "      <td>8.0500</td>\n",
       "      <td>NaN</td>\n",
       "      <td>S</td>\n",
       "    </tr>\n",
       "  </tbody>\n",
       "</table>\n",
       "</div>"
      ],
      "text/plain": [
       "   PassengerId  Survived  Pclass  \\\n",
       "0            1         0       3   \n",
       "1            2         1       1   \n",
       "2            3         1       3   \n",
       "3            4         1       1   \n",
       "4            5         0       3   \n",
       "\n",
       "                                                Name     Sex   Age  SibSp  \\\n",
       "0                            Braund, Mr. Owen Harris    male  22.0      1   \n",
       "1  Cumings, Mrs. John Bradley (Florence Briggs Th...  female  38.0      1   \n",
       "2                             Heikkinen, Miss. Laina  female  26.0      0   \n",
       "3       Futrelle, Mrs. Jacques Heath (Lily May Peel)  female  35.0      1   \n",
       "4                           Allen, Mr. William Henry    male  35.0      0   \n",
       "\n",
       "   Parch            Ticket     Fare Cabin Embarked  \n",
       "0      0         A/5 21171   7.2500   NaN        S  \n",
       "1      0          PC 17599  71.2833   C85        C  \n",
       "2      0  STON/O2. 3101282   7.9250   NaN        S  \n",
       "3      0            113803  53.1000  C123        S  \n",
       "4      0            373450   8.0500   NaN        S  "
      ]
     },
     "execution_count": 280,
     "metadata": {},
     "output_type": "execute_result"
    }
   ],
   "source": [
    "data = pd.read_csv(\"train.csv\")\n",
    "df = data.copy()\n",
    "df.head()"
   ]
  },
  {
   "cell_type": "code",
   "execution_count": 281,
   "id": "03885448-4bb8-4cd2-a349-7b8b597ee129",
   "metadata": {},
   "outputs": [
    {
     "name": "stdout",
     "output_type": "stream",
     "text": [
      "<class 'pandas.core.frame.DataFrame'>\n",
      "RangeIndex: 891 entries, 0 to 890\n",
      "Data columns (total 12 columns):\n",
      " #   Column       Non-Null Count  Dtype  \n",
      "---  ------       --------------  -----  \n",
      " 0   PassengerId  891 non-null    int64  \n",
      " 1   Survived     891 non-null    int64  \n",
      " 2   Pclass       891 non-null    int64  \n",
      " 3   Name         891 non-null    object \n",
      " 4   Sex          891 non-null    object \n",
      " 5   Age          714 non-null    float64\n",
      " 6   SibSp        891 non-null    int64  \n",
      " 7   Parch        891 non-null    int64  \n",
      " 8   Ticket       891 non-null    object \n",
      " 9   Fare         891 non-null    float64\n",
      " 10  Cabin        204 non-null    object \n",
      " 11  Embarked     889 non-null    object \n",
      "dtypes: float64(2), int64(5), object(5)\n",
      "memory usage: 83.7+ KB\n"
     ]
    }
   ],
   "source": [
    "df.info()"
   ]
  },
  {
   "cell_type": "code",
   "execution_count": 282,
   "id": "915e4846-962d-42ee-a93c-96bbb48ebfd2",
   "metadata": {},
   "outputs": [
    {
     "name": "stdout",
     "output_type": "stream",
     "text": [
      "<class 'pandas.core.frame.DataFrame'>\n",
      "RangeIndex: 891 entries, 0 to 890\n",
      "Data columns (total 12 columns):\n",
      " #   Column       Non-Null Count  Dtype  \n",
      "---  ------       --------------  -----  \n",
      " 0   PassengerId  891 non-null    int64  \n",
      " 1   Survived     891 non-null    int64  \n",
      " 2   Pclass       891 non-null    int64  \n",
      " 3   Name         891 non-null    object \n",
      " 4   Sex          891 non-null    object \n",
      " 5   Age          714 non-null    float64\n",
      " 6   SibSp        891 non-null    int64  \n",
      " 7   Parch        891 non-null    int64  \n",
      " 8   Ticket       891 non-null    object \n",
      " 9   Fare         891 non-null    float64\n",
      " 10  Cabin        204 non-null    object \n",
      " 11  Embarked     889 non-null    object \n",
      "dtypes: float64(2), int64(5), object(5)\n",
      "memory usage: 83.7+ KB\n"
     ]
    }
   ],
   "source": [
    "df.info()"
   ]
  },
  {
   "cell_type": "code",
   "execution_count": 283,
   "id": "6ee6f3ce-8b73-478a-a19d-efc5a8e5059e",
   "metadata": {},
   "outputs": [
    {
     "data": {
      "text/plain": [
       "681"
      ]
     },
     "execution_count": 283,
     "metadata": {},
     "output_type": "execute_result"
    }
   ],
   "source": [
    "len(df.Ticket.unique())"
   ]
  },
  {
   "cell_type": "code",
   "execution_count": 284,
   "id": "cb47cb64-0806-4f05-9f1e-3a5157f32d12",
   "metadata": {},
   "outputs": [
    {
     "data": {
      "text/plain": [
       "0"
      ]
     },
     "execution_count": 284,
     "metadata": {},
     "output_type": "execute_result"
    }
   ],
   "source": [
    "df.Ticket.isnull().sum()"
   ]
  },
  {
   "cell_type": "code",
   "execution_count": 285,
   "id": "a03283f4-01e9-4cb3-83d2-44baa587de0a",
   "metadata": {},
   "outputs": [
    {
     "data": {
      "text/plain": [
       "681"
      ]
     },
     "execution_count": 285,
     "metadata": {},
     "output_type": "execute_result"
    }
   ],
   "source": [
    "len(df.Ticket.value_counts())"
   ]
  },
  {
   "cell_type": "code",
   "execution_count": 286,
   "id": "07965786-d1d3-4ad7-913f-7acb9a64cbf8",
   "metadata": {},
   "outputs": [],
   "source": [
    "dictionary = (df.Ticket.value_counts()).to_dict()"
   ]
  },
  {
   "cell_type": "code",
   "execution_count": 287,
   "id": "e30d1ff7-708f-4867-a94d-223450d87047",
   "metadata": {},
   "outputs": [],
   "source": [
    "ticket_list = []\n",
    "for i in dictionary:\n",
    "    if dictionary[i] >=2:\n",
    "        ticket_list.append(i)"
   ]
  },
  {
   "cell_type": "code",
   "execution_count": 288,
   "id": "cdb98552-8ab5-4121-96dc-57bb70124264",
   "metadata": {},
   "outputs": [],
   "source": [
    "#df.loc[df.Ticket == (ticket_list)] \n",
    "#df.loc[df.apply(lambda x: x.Ticket in ticket_list, axis=1)]\n",
    "#df.loc[df.Ticket == (lambda x: x in ticket_list, axis=1)]\n",
    "df_sameTickets = df.loc[df.apply(lambda x: x.Ticket in ticket_list , axis=1)]"
   ]
  },
  {
   "cell_type": "markdown",
   "id": "e76f439f-2c5a-423a-8038-afa15cdb843d",
   "metadata": {},
   "source": [
    "### Eksik Verilerin Doldurulması"
   ]
  },
  {
   "cell_type": "code",
   "execution_count": 289,
   "id": "85547b6d-8f3d-4230-87fa-99c234eceebb",
   "metadata": {},
   "outputs": [
    {
     "data": {
      "text/plain": [
       "177"
      ]
     },
     "execution_count": 289,
     "metadata": {},
     "output_type": "execute_result"
    }
   ],
   "source": [
    "age = df[\"Age\"]\n",
    "(age.isnull()).sum()"
   ]
  },
  {
   "cell_type": "code",
   "execution_count": 290,
   "id": "14d50565-628c-42ae-a4e6-3e01b0db92c1",
   "metadata": {},
   "outputs": [],
   "source": [
    "age_filter = pd.isnull(age)\n",
    "df_nullage = df[age_filter]"
   ]
  },
  {
   "cell_type": "code",
   "execution_count": 291,
   "id": "1e989b69-3b16-4757-8165-293d22e530c6",
   "metadata": {},
   "outputs": [],
   "source": [
    "#np.where(df_nullage.Age == df_sameTickets.Age , 'True', 'False')\n",
    "deneme = pd.concat([df_nullage,df_sameTickets]).drop_duplicates(keep=False)"
   ]
  },
  {
   "cell_type": "code",
   "execution_count": 292,
   "id": "c9ccbb4e-5b89-4019-b9e2-ec148d94a288",
   "metadata": {},
   "outputs": [
    {
     "data": {
      "text/plain": [
       "CA. 2343      7\n",
       "4133          4\n",
       "1601          3\n",
       "371110        3\n",
       "239853        3\n",
       "370365        2\n",
       "2661          2\n",
       "367226        2\n",
       "2668          2\n",
       "376564        2\n",
       "W./C. 6607    2\n",
       "367230        2\n",
       "2629          1\n",
       "Name: Ticket, dtype: int64"
      ]
     },
     "execution_count": 292,
     "metadata": {},
     "output_type": "execute_result"
    }
   ],
   "source": [
    "pd.concat([deneme,df_sameTickets]).drop_duplicates(keep=False).Ticket.value_counts()[:13]"
   ]
  },
  {
   "cell_type": "code",
   "execution_count": 293,
   "id": "405532a3-0ab8-4fa4-98a5-4a6467df5261",
   "metadata": {},
   "outputs": [],
   "source": [
    "tickets2 = ['CA. 2343',\"4133\",\"371110\",\"239853\",\"1601\",\"376564\",\"2668\",\"367226\",\"367230\",\"W./C. 6607\",\"370365\",\"2661\",\"312993\"]"
   ]
  },
  {
   "cell_type": "code",
   "execution_count": 294,
   "id": "3d35f553-3d0e-46d7-87fe-52c8ce6b36b3",
   "metadata": {},
   "outputs": [
    {
     "data": {
      "text/html": [
       "<div>\n",
       "<style scoped>\n",
       "    .dataframe tbody tr th:only-of-type {\n",
       "        vertical-align: middle;\n",
       "    }\n",
       "\n",
       "    .dataframe tbody tr th {\n",
       "        vertical-align: top;\n",
       "    }\n",
       "\n",
       "    .dataframe thead th {\n",
       "        text-align: right;\n",
       "    }\n",
       "</style>\n",
       "<table border=\"1\" class=\"dataframe\">\n",
       "  <thead>\n",
       "    <tr style=\"text-align: right;\">\n",
       "      <th></th>\n",
       "      <th>PassengerId</th>\n",
       "      <th>Survived</th>\n",
       "      <th>Pclass</th>\n",
       "      <th>Name</th>\n",
       "      <th>Sex</th>\n",
       "      <th>Age</th>\n",
       "      <th>SibSp</th>\n",
       "      <th>Parch</th>\n",
       "      <th>Ticket</th>\n",
       "      <th>Fare</th>\n",
       "      <th>Cabin</th>\n",
       "      <th>Embarked</th>\n",
       "    </tr>\n",
       "  </thead>\n",
       "  <tbody>\n",
       "    <tr>\n",
       "      <th>159</th>\n",
       "      <td>160</td>\n",
       "      <td>0</td>\n",
       "      <td>3</td>\n",
       "      <td>Sage, Master. Thomas Henry</td>\n",
       "      <td>male</td>\n",
       "      <td>NaN</td>\n",
       "      <td>8</td>\n",
       "      <td>2</td>\n",
       "      <td>CA. 2343</td>\n",
       "      <td>69.55</td>\n",
       "      <td>NaN</td>\n",
       "      <td>S</td>\n",
       "    </tr>\n",
       "    <tr>\n",
       "      <th>180</th>\n",
       "      <td>181</td>\n",
       "      <td>0</td>\n",
       "      <td>3</td>\n",
       "      <td>Sage, Miss. Constance Gladys</td>\n",
       "      <td>female</td>\n",
       "      <td>NaN</td>\n",
       "      <td>8</td>\n",
       "      <td>2</td>\n",
       "      <td>CA. 2343</td>\n",
       "      <td>69.55</td>\n",
       "      <td>NaN</td>\n",
       "      <td>S</td>\n",
       "    </tr>\n",
       "    <tr>\n",
       "      <th>201</th>\n",
       "      <td>202</td>\n",
       "      <td>0</td>\n",
       "      <td>3</td>\n",
       "      <td>Sage, Mr. Frederick</td>\n",
       "      <td>male</td>\n",
       "      <td>NaN</td>\n",
       "      <td>8</td>\n",
       "      <td>2</td>\n",
       "      <td>CA. 2343</td>\n",
       "      <td>69.55</td>\n",
       "      <td>NaN</td>\n",
       "      <td>S</td>\n",
       "    </tr>\n",
       "    <tr>\n",
       "      <th>324</th>\n",
       "      <td>325</td>\n",
       "      <td>0</td>\n",
       "      <td>3</td>\n",
       "      <td>Sage, Mr. George John Jr</td>\n",
       "      <td>male</td>\n",
       "      <td>NaN</td>\n",
       "      <td>8</td>\n",
       "      <td>2</td>\n",
       "      <td>CA. 2343</td>\n",
       "      <td>69.55</td>\n",
       "      <td>NaN</td>\n",
       "      <td>S</td>\n",
       "    </tr>\n",
       "    <tr>\n",
       "      <th>792</th>\n",
       "      <td>793</td>\n",
       "      <td>0</td>\n",
       "      <td>3</td>\n",
       "      <td>Sage, Miss. Stella Anna</td>\n",
       "      <td>female</td>\n",
       "      <td>NaN</td>\n",
       "      <td>8</td>\n",
       "      <td>2</td>\n",
       "      <td>CA. 2343</td>\n",
       "      <td>69.55</td>\n",
       "      <td>NaN</td>\n",
       "      <td>S</td>\n",
       "    </tr>\n",
       "    <tr>\n",
       "      <th>846</th>\n",
       "      <td>847</td>\n",
       "      <td>0</td>\n",
       "      <td>3</td>\n",
       "      <td>Sage, Mr. Douglas Bullen</td>\n",
       "      <td>male</td>\n",
       "      <td>NaN</td>\n",
       "      <td>8</td>\n",
       "      <td>2</td>\n",
       "      <td>CA. 2343</td>\n",
       "      <td>69.55</td>\n",
       "      <td>NaN</td>\n",
       "      <td>S</td>\n",
       "    </tr>\n",
       "    <tr>\n",
       "      <th>863</th>\n",
       "      <td>864</td>\n",
       "      <td>0</td>\n",
       "      <td>3</td>\n",
       "      <td>Sage, Miss. Dorothy Edith \"Dolly\"</td>\n",
       "      <td>female</td>\n",
       "      <td>NaN</td>\n",
       "      <td>8</td>\n",
       "      <td>2</td>\n",
       "      <td>CA. 2343</td>\n",
       "      <td>69.55</td>\n",
       "      <td>NaN</td>\n",
       "      <td>S</td>\n",
       "    </tr>\n",
       "  </tbody>\n",
       "</table>\n",
       "</div>"
      ],
      "text/plain": [
       "     PassengerId  Survived  Pclass                               Name     Sex  \\\n",
       "159          160         0       3         Sage, Master. Thomas Henry    male   \n",
       "180          181         0       3       Sage, Miss. Constance Gladys  female   \n",
       "201          202         0       3                Sage, Mr. Frederick    male   \n",
       "324          325         0       3           Sage, Mr. George John Jr    male   \n",
       "792          793         0       3            Sage, Miss. Stella Anna  female   \n",
       "846          847         0       3           Sage, Mr. Douglas Bullen    male   \n",
       "863          864         0       3  Sage, Miss. Dorothy Edith \"Dolly\"  female   \n",
       "\n",
       "     Age  SibSp  Parch    Ticket   Fare Cabin Embarked  \n",
       "159  NaN      8      2  CA. 2343  69.55   NaN        S  \n",
       "180  NaN      8      2  CA. 2343  69.55   NaN        S  \n",
       "201  NaN      8      2  CA. 2343  69.55   NaN        S  \n",
       "324  NaN      8      2  CA. 2343  69.55   NaN        S  \n",
       "792  NaN      8      2  CA. 2343  69.55   NaN        S  \n",
       "846  NaN      8      2  CA. 2343  69.55   NaN        S  \n",
       "863  NaN      8      2  CA. 2343  69.55   NaN        S  "
      ]
     },
     "execution_count": 294,
     "metadata": {},
     "output_type": "execute_result"
    }
   ],
   "source": [
    "df[df[\"Ticket\"] == tickets2[0]]\n",
    "#df[(df == np.nan).any(axis=1)]"
   ]
  },
  {
   "cell_type": "code",
   "execution_count": 295,
   "id": "5540c4f9-d812-4595-9ba2-d93dbdcfccc6",
   "metadata": {},
   "outputs": [],
   "source": [
    "#dictdict(df_nullage.Sex.value_counts())"
   ]
  },
  {
   "cell_type": "code",
   "execution_count": 296,
   "id": "c6c11ef0-d69b-43e0-a0e6-d6a0aad210cd",
   "metadata": {},
   "outputs": [
    {
     "data": {
      "text/plain": [
       "S    90\n",
       "Q    49\n",
       "C    38\n",
       "Name: Embarked, dtype: int64"
      ]
     },
     "execution_count": 296,
     "metadata": {},
     "output_type": "execute_result"
    }
   ],
   "source": [
    "df_nullage.Embarked.value_counts()"
   ]
  },
  {
   "cell_type": "code",
   "execution_count": 297,
   "id": "b4b07d16-9294-4451-a03e-3cc2ee24614b",
   "metadata": {},
   "outputs": [
    {
     "data": {
      "text/plain": [
       "S    644\n",
       "C    168\n",
       "Q     77\n",
       "Name: Embarked, dtype: int64"
      ]
     },
     "execution_count": 297,
     "metadata": {},
     "output_type": "execute_result"
    }
   ],
   "source": [
    "df.Embarked.value_counts()"
   ]
  },
  {
   "cell_type": "code",
   "execution_count": 298,
   "id": "fe4fcc03-27b3-4e27-89ca-dc7ad5017085",
   "metadata": {
    "tags": []
   },
   "outputs": [],
   "source": [
    "#df[['Embarked','Sex']].groupby(['Sex'], as_index=False).sum()\n",
    "#veri_gecici[[\"cinsiyet\",\"madalya_Bronze\",\"madalya_Gold\",\"madalya_Silver\"]].groupby([\"cinsiyet\"], as_index=False).sum().sort_values(by=\"madalya_Gold\",ascending=False)"
   ]
  },
  {
   "cell_type": "code",
   "execution_count": 299,
   "id": "4edc881e-a72f-4c6e-b3a7-8916889c4571",
   "metadata": {},
   "outputs": [
    {
     "data": {
      "text/html": [
       "<div>\n",
       "<style scoped>\n",
       "    .dataframe tbody tr th:only-of-type {\n",
       "        vertical-align: middle;\n",
       "    }\n",
       "\n",
       "    .dataframe tbody tr th {\n",
       "        vertical-align: top;\n",
       "    }\n",
       "\n",
       "    .dataframe thead th {\n",
       "        text-align: right;\n",
       "    }\n",
       "</style>\n",
       "<table border=\"1\" class=\"dataframe\">\n",
       "  <thead>\n",
       "    <tr style=\"text-align: right;\">\n",
       "      <th></th>\n",
       "      <th>PassengerId</th>\n",
       "      <th>Survived</th>\n",
       "      <th>Pclass</th>\n",
       "      <th>Name</th>\n",
       "      <th>Sex</th>\n",
       "      <th>Age</th>\n",
       "      <th>SibSp</th>\n",
       "      <th>Parch</th>\n",
       "      <th>Ticket</th>\n",
       "      <th>Fare</th>\n",
       "      <th>Cabin</th>\n",
       "      <th>Embarked_C</th>\n",
       "      <th>Embarked_Q</th>\n",
       "      <th>Embarked_S</th>\n",
       "    </tr>\n",
       "  </thead>\n",
       "  <tbody>\n",
       "    <tr>\n",
       "      <th>0</th>\n",
       "      <td>1</td>\n",
       "      <td>0</td>\n",
       "      <td>3</td>\n",
       "      <td>Braund, Mr. Owen Harris</td>\n",
       "      <td>male</td>\n",
       "      <td>22.0</td>\n",
       "      <td>1</td>\n",
       "      <td>0</td>\n",
       "      <td>A/5 21171</td>\n",
       "      <td>7.2500</td>\n",
       "      <td>NaN</td>\n",
       "      <td>0</td>\n",
       "      <td>0</td>\n",
       "      <td>1</td>\n",
       "    </tr>\n",
       "    <tr>\n",
       "      <th>1</th>\n",
       "      <td>2</td>\n",
       "      <td>1</td>\n",
       "      <td>1</td>\n",
       "      <td>Cumings, Mrs. John Bradley (Florence Briggs Th...</td>\n",
       "      <td>female</td>\n",
       "      <td>38.0</td>\n",
       "      <td>1</td>\n",
       "      <td>0</td>\n",
       "      <td>PC 17599</td>\n",
       "      <td>71.2833</td>\n",
       "      <td>C85</td>\n",
       "      <td>1</td>\n",
       "      <td>0</td>\n",
       "      <td>0</td>\n",
       "    </tr>\n",
       "    <tr>\n",
       "      <th>2</th>\n",
       "      <td>3</td>\n",
       "      <td>1</td>\n",
       "      <td>3</td>\n",
       "      <td>Heikkinen, Miss. Laina</td>\n",
       "      <td>female</td>\n",
       "      <td>26.0</td>\n",
       "      <td>0</td>\n",
       "      <td>0</td>\n",
       "      <td>STON/O2. 3101282</td>\n",
       "      <td>7.9250</td>\n",
       "      <td>NaN</td>\n",
       "      <td>0</td>\n",
       "      <td>0</td>\n",
       "      <td>1</td>\n",
       "    </tr>\n",
       "    <tr>\n",
       "      <th>3</th>\n",
       "      <td>4</td>\n",
       "      <td>1</td>\n",
       "      <td>1</td>\n",
       "      <td>Futrelle, Mrs. Jacques Heath (Lily May Peel)</td>\n",
       "      <td>female</td>\n",
       "      <td>35.0</td>\n",
       "      <td>1</td>\n",
       "      <td>0</td>\n",
       "      <td>113803</td>\n",
       "      <td>53.1000</td>\n",
       "      <td>C123</td>\n",
       "      <td>0</td>\n",
       "      <td>0</td>\n",
       "      <td>1</td>\n",
       "    </tr>\n",
       "    <tr>\n",
       "      <th>4</th>\n",
       "      <td>5</td>\n",
       "      <td>0</td>\n",
       "      <td>3</td>\n",
       "      <td>Allen, Mr. William Henry</td>\n",
       "      <td>male</td>\n",
       "      <td>35.0</td>\n",
       "      <td>0</td>\n",
       "      <td>0</td>\n",
       "      <td>373450</td>\n",
       "      <td>8.0500</td>\n",
       "      <td>NaN</td>\n",
       "      <td>0</td>\n",
       "      <td>0</td>\n",
       "      <td>1</td>\n",
       "    </tr>\n",
       "    <tr>\n",
       "      <th>...</th>\n",
       "      <td>...</td>\n",
       "      <td>...</td>\n",
       "      <td>...</td>\n",
       "      <td>...</td>\n",
       "      <td>...</td>\n",
       "      <td>...</td>\n",
       "      <td>...</td>\n",
       "      <td>...</td>\n",
       "      <td>...</td>\n",
       "      <td>...</td>\n",
       "      <td>...</td>\n",
       "      <td>...</td>\n",
       "      <td>...</td>\n",
       "      <td>...</td>\n",
       "    </tr>\n",
       "    <tr>\n",
       "      <th>886</th>\n",
       "      <td>887</td>\n",
       "      <td>0</td>\n",
       "      <td>2</td>\n",
       "      <td>Montvila, Rev. Juozas</td>\n",
       "      <td>male</td>\n",
       "      <td>27.0</td>\n",
       "      <td>0</td>\n",
       "      <td>0</td>\n",
       "      <td>211536</td>\n",
       "      <td>13.0000</td>\n",
       "      <td>NaN</td>\n",
       "      <td>0</td>\n",
       "      <td>0</td>\n",
       "      <td>1</td>\n",
       "    </tr>\n",
       "    <tr>\n",
       "      <th>887</th>\n",
       "      <td>888</td>\n",
       "      <td>1</td>\n",
       "      <td>1</td>\n",
       "      <td>Graham, Miss. Margaret Edith</td>\n",
       "      <td>female</td>\n",
       "      <td>19.0</td>\n",
       "      <td>0</td>\n",
       "      <td>0</td>\n",
       "      <td>112053</td>\n",
       "      <td>30.0000</td>\n",
       "      <td>B42</td>\n",
       "      <td>0</td>\n",
       "      <td>0</td>\n",
       "      <td>1</td>\n",
       "    </tr>\n",
       "    <tr>\n",
       "      <th>888</th>\n",
       "      <td>889</td>\n",
       "      <td>0</td>\n",
       "      <td>3</td>\n",
       "      <td>Johnston, Miss. Catherine Helen \"Carrie\"</td>\n",
       "      <td>female</td>\n",
       "      <td>NaN</td>\n",
       "      <td>1</td>\n",
       "      <td>2</td>\n",
       "      <td>W./C. 6607</td>\n",
       "      <td>23.4500</td>\n",
       "      <td>NaN</td>\n",
       "      <td>0</td>\n",
       "      <td>0</td>\n",
       "      <td>1</td>\n",
       "    </tr>\n",
       "    <tr>\n",
       "      <th>889</th>\n",
       "      <td>890</td>\n",
       "      <td>1</td>\n",
       "      <td>1</td>\n",
       "      <td>Behr, Mr. Karl Howell</td>\n",
       "      <td>male</td>\n",
       "      <td>26.0</td>\n",
       "      <td>0</td>\n",
       "      <td>0</td>\n",
       "      <td>111369</td>\n",
       "      <td>30.0000</td>\n",
       "      <td>C148</td>\n",
       "      <td>1</td>\n",
       "      <td>0</td>\n",
       "      <td>0</td>\n",
       "    </tr>\n",
       "    <tr>\n",
       "      <th>890</th>\n",
       "      <td>891</td>\n",
       "      <td>0</td>\n",
       "      <td>3</td>\n",
       "      <td>Dooley, Mr. Patrick</td>\n",
       "      <td>male</td>\n",
       "      <td>32.0</td>\n",
       "      <td>0</td>\n",
       "      <td>0</td>\n",
       "      <td>370376</td>\n",
       "      <td>7.7500</td>\n",
       "      <td>NaN</td>\n",
       "      <td>0</td>\n",
       "      <td>1</td>\n",
       "      <td>0</td>\n",
       "    </tr>\n",
       "  </tbody>\n",
       "</table>\n",
       "<p>891 rows × 14 columns</p>\n",
       "</div>"
      ],
      "text/plain": [
       "     PassengerId  Survived  Pclass  \\\n",
       "0              1         0       3   \n",
       "1              2         1       1   \n",
       "2              3         1       3   \n",
       "3              4         1       1   \n",
       "4              5         0       3   \n",
       "..           ...       ...     ...   \n",
       "886          887         0       2   \n",
       "887          888         1       1   \n",
       "888          889         0       3   \n",
       "889          890         1       1   \n",
       "890          891         0       3   \n",
       "\n",
       "                                                  Name     Sex   Age  SibSp  \\\n",
       "0                              Braund, Mr. Owen Harris    male  22.0      1   \n",
       "1    Cumings, Mrs. John Bradley (Florence Briggs Th...  female  38.0      1   \n",
       "2                               Heikkinen, Miss. Laina  female  26.0      0   \n",
       "3         Futrelle, Mrs. Jacques Heath (Lily May Peel)  female  35.0      1   \n",
       "4                             Allen, Mr. William Henry    male  35.0      0   \n",
       "..                                                 ...     ...   ...    ...   \n",
       "886                              Montvila, Rev. Juozas    male  27.0      0   \n",
       "887                       Graham, Miss. Margaret Edith  female  19.0      0   \n",
       "888           Johnston, Miss. Catherine Helen \"Carrie\"  female   NaN      1   \n",
       "889                              Behr, Mr. Karl Howell    male  26.0      0   \n",
       "890                                Dooley, Mr. Patrick    male  32.0      0   \n",
       "\n",
       "     Parch            Ticket     Fare Cabin  Embarked_C  Embarked_Q  \\\n",
       "0        0         A/5 21171   7.2500   NaN           0           0   \n",
       "1        0          PC 17599  71.2833   C85           1           0   \n",
       "2        0  STON/O2. 3101282   7.9250   NaN           0           0   \n",
       "3        0            113803  53.1000  C123           0           0   \n",
       "4        0            373450   8.0500   NaN           0           0   \n",
       "..     ...               ...      ...   ...         ...         ...   \n",
       "886      0            211536  13.0000   NaN           0           0   \n",
       "887      0            112053  30.0000   B42           0           0   \n",
       "888      2        W./C. 6607  23.4500   NaN           0           0   \n",
       "889      0            111369  30.0000  C148           1           0   \n",
       "890      0            370376   7.7500   NaN           0           1   \n",
       "\n",
       "     Embarked_S  \n",
       "0             1  \n",
       "1             0  \n",
       "2             1  \n",
       "3             1  \n",
       "4             1  \n",
       "..          ...  \n",
       "886           1  \n",
       "887           1  \n",
       "888           1  \n",
       "889           0  \n",
       "890           0  \n",
       "\n",
       "[891 rows x 14 columns]"
      ]
     },
     "execution_count": 299,
     "metadata": {},
     "output_type": "execute_result"
    }
   ],
   "source": [
    "dnmdf = pd.get_dummies(df, columns=[\"Embarked\"])\n",
    "dnmdf"
   ]
  },
  {
   "cell_type": "code",
   "execution_count": 300,
   "id": "97e13bb3-c813-4958-b433-f9d0cf8a8342",
   "metadata": {},
   "outputs": [
    {
     "data": {
      "text/html": [
       "<div>\n",
       "<style scoped>\n",
       "    .dataframe tbody tr th:only-of-type {\n",
       "        vertical-align: middle;\n",
       "    }\n",
       "\n",
       "    .dataframe tbody tr th {\n",
       "        vertical-align: top;\n",
       "    }\n",
       "\n",
       "    .dataframe thead th {\n",
       "        text-align: right;\n",
       "    }\n",
       "</style>\n",
       "<table border=\"1\" class=\"dataframe\">\n",
       "  <thead>\n",
       "    <tr style=\"text-align: right;\">\n",
       "      <th></th>\n",
       "      <th>Sex</th>\n",
       "      <th>Embarked_C</th>\n",
       "      <th>Embarked_Q</th>\n",
       "      <th>Embarked_S</th>\n",
       "    </tr>\n",
       "  </thead>\n",
       "  <tbody>\n",
       "    <tr>\n",
       "      <th>0</th>\n",
       "      <td>female</td>\n",
       "      <td>73.0</td>\n",
       "      <td>36.0</td>\n",
       "      <td>203.0</td>\n",
       "    </tr>\n",
       "    <tr>\n",
       "      <th>1</th>\n",
       "      <td>male</td>\n",
       "      <td>95.0</td>\n",
       "      <td>41.0</td>\n",
       "      <td>441.0</td>\n",
       "    </tr>\n",
       "  </tbody>\n",
       "</table>\n",
       "</div>"
      ],
      "text/plain": [
       "      Sex  Embarked_C  Embarked_Q  Embarked_S\n",
       "0  female        73.0        36.0       203.0\n",
       "1    male        95.0        41.0       441.0"
      ]
     },
     "execution_count": 300,
     "metadata": {},
     "output_type": "execute_result"
    }
   ],
   "source": [
    "dnmdf[['Embarked_C','Embarked_Q','Embarked_S','Sex']].groupby(['Sex'], as_index=False).sum()"
   ]
  },
  {
   "cell_type": "code",
   "execution_count": 301,
   "id": "958fcfe4-649c-4616-8afa-2f917c924f34",
   "metadata": {
    "tags": []
   },
   "outputs": [
    {
     "data": {
      "text/plain": [
       "S    90\n",
       "Q    49\n",
       "C    38\n",
       "Name: Embarked, dtype: int64"
      ]
     },
     "execution_count": 301,
     "metadata": {},
     "output_type": "execute_result"
    }
   ],
   "source": [
    "df_nullage.Embarked.value_counts()"
   ]
  },
  {
   "cell_type": "code",
   "execution_count": 302,
   "id": "b420c787-c41b-4bd4-91aa-4ac78269adfc",
   "metadata": {},
   "outputs": [
    {
     "data": {
      "text/html": [
       "<div>\n",
       "<style scoped>\n",
       "    .dataframe tbody tr th:only-of-type {\n",
       "        vertical-align: middle;\n",
       "    }\n",
       "\n",
       "    .dataframe tbody tr th {\n",
       "        vertical-align: top;\n",
       "    }\n",
       "\n",
       "    .dataframe thead th {\n",
       "        text-align: right;\n",
       "    }\n",
       "</style>\n",
       "<table border=\"1\" class=\"dataframe\">\n",
       "  <thead>\n",
       "    <tr style=\"text-align: right;\">\n",
       "      <th></th>\n",
       "      <th>PassengerId</th>\n",
       "      <th>Survived</th>\n",
       "      <th>Pclass</th>\n",
       "      <th>Name</th>\n",
       "      <th>Age</th>\n",
       "      <th>SibSp</th>\n",
       "      <th>Parch</th>\n",
       "      <th>Ticket</th>\n",
       "      <th>Fare</th>\n",
       "      <th>Cabin</th>\n",
       "      <th>Embarked_C</th>\n",
       "      <th>Embarked_Q</th>\n",
       "      <th>Embarked_S</th>\n",
       "      <th>Sex_female</th>\n",
       "      <th>Sex_male</th>\n",
       "    </tr>\n",
       "  </thead>\n",
       "  <tbody>\n",
       "    <tr>\n",
       "      <th>5</th>\n",
       "      <td>6</td>\n",
       "      <td>0</td>\n",
       "      <td>3</td>\n",
       "      <td>Moran, Mr. James</td>\n",
       "      <td>NaN</td>\n",
       "      <td>0</td>\n",
       "      <td>0</td>\n",
       "      <td>330877</td>\n",
       "      <td>8.4583</td>\n",
       "      <td>NaN</td>\n",
       "      <td>0</td>\n",
       "      <td>1</td>\n",
       "      <td>0</td>\n",
       "      <td>0</td>\n",
       "      <td>1</td>\n",
       "    </tr>\n",
       "    <tr>\n",
       "      <th>17</th>\n",
       "      <td>18</td>\n",
       "      <td>1</td>\n",
       "      <td>2</td>\n",
       "      <td>Williams, Mr. Charles Eugene</td>\n",
       "      <td>NaN</td>\n",
       "      <td>0</td>\n",
       "      <td>0</td>\n",
       "      <td>244373</td>\n",
       "      <td>13.0000</td>\n",
       "      <td>NaN</td>\n",
       "      <td>0</td>\n",
       "      <td>0</td>\n",
       "      <td>1</td>\n",
       "      <td>0</td>\n",
       "      <td>1</td>\n",
       "    </tr>\n",
       "    <tr>\n",
       "      <th>19</th>\n",
       "      <td>20</td>\n",
       "      <td>1</td>\n",
       "      <td>3</td>\n",
       "      <td>Masselmani, Mrs. Fatima</td>\n",
       "      <td>NaN</td>\n",
       "      <td>0</td>\n",
       "      <td>0</td>\n",
       "      <td>2649</td>\n",
       "      <td>7.2250</td>\n",
       "      <td>NaN</td>\n",
       "      <td>1</td>\n",
       "      <td>0</td>\n",
       "      <td>0</td>\n",
       "      <td>1</td>\n",
       "      <td>0</td>\n",
       "    </tr>\n",
       "  </tbody>\n",
       "</table>\n",
       "</div>"
      ],
      "text/plain": [
       "    PassengerId  Survived  Pclass                          Name  Age  SibSp  \\\n",
       "5             6         0       3              Moran, Mr. James  NaN      0   \n",
       "17           18         1       2  Williams, Mr. Charles Eugene  NaN      0   \n",
       "19           20         1       3       Masselmani, Mrs. Fatima  NaN      0   \n",
       "\n",
       "    Parch  Ticket     Fare Cabin  Embarked_C  Embarked_Q  Embarked_S  \\\n",
       "5       0  330877   8.4583   NaN           0           1           0   \n",
       "17      0  244373  13.0000   NaN           0           0           1   \n",
       "19      0    2649   7.2250   NaN           1           0           0   \n",
       "\n",
       "    Sex_female  Sex_male  \n",
       "5            0         1  \n",
       "17           0         1  \n",
       "19           1         0  "
      ]
     },
     "execution_count": 302,
     "metadata": {},
     "output_type": "execute_result"
    }
   ],
   "source": [
    "dnmdf2 = pd.get_dummies(df_nullage, columns=[\"Embarked\",\"Sex\"])\n",
    "dnmdf2.head(3)"
   ]
  },
  {
   "cell_type": "code",
   "execution_count": 303,
   "id": "0cd409eb-c09c-4f03-b4a4-102806a1c9f6",
   "metadata": {},
   "outputs": [
    {
     "data": {
      "text/html": [
       "<div>\n",
       "<style scoped>\n",
       "    .dataframe tbody tr th:only-of-type {\n",
       "        vertical-align: middle;\n",
       "    }\n",
       "\n",
       "    .dataframe tbody tr th {\n",
       "        vertical-align: top;\n",
       "    }\n",
       "\n",
       "    .dataframe thead th {\n",
       "        text-align: right;\n",
       "    }\n",
       "</style>\n",
       "<table border=\"1\" class=\"dataframe\">\n",
       "  <thead>\n",
       "    <tr style=\"text-align: right;\">\n",
       "      <th></th>\n",
       "      <th>Sex_male</th>\n",
       "      <th>Embarked_C</th>\n",
       "      <th>Embarked_Q</th>\n",
       "      <th>Embarked_S</th>\n",
       "    </tr>\n",
       "  </thead>\n",
       "  <tbody>\n",
       "    <tr>\n",
       "      <th>0</th>\n",
       "      <td>0</td>\n",
       "      <td>12</td>\n",
       "      <td>24</td>\n",
       "      <td>17</td>\n",
       "    </tr>\n",
       "    <tr>\n",
       "      <th>1</th>\n",
       "      <td>1</td>\n",
       "      <td>26</td>\n",
       "      <td>25</td>\n",
       "      <td>73</td>\n",
       "    </tr>\n",
       "  </tbody>\n",
       "</table>\n",
       "</div>"
      ],
      "text/plain": [
       "   Sex_male  Embarked_C  Embarked_Q  Embarked_S\n",
       "0         0          12          24          17\n",
       "1         1          26          25          73"
      ]
     },
     "execution_count": 303,
     "metadata": {},
     "output_type": "execute_result"
    }
   ],
   "source": [
    "dnmdf2[['Embarked_C','Embarked_Q','Embarked_S',\"Sex_male\"]].groupby(['Sex_male'], as_index=False).sum()"
   ]
  },
  {
   "cell_type": "code",
   "execution_count": 304,
   "id": "feb4db70-c69f-4eb0-9171-e942b791f9ca",
   "metadata": {
    "tags": []
   },
   "outputs": [
    {
     "data": {
      "text/html": [
       "<div>\n",
       "<style scoped>\n",
       "    .dataframe tbody tr th:only-of-type {\n",
       "        vertical-align: middle;\n",
       "    }\n",
       "\n",
       "    .dataframe tbody tr th {\n",
       "        vertical-align: top;\n",
       "    }\n",
       "\n",
       "    .dataframe thead th {\n",
       "        text-align: right;\n",
       "    }\n",
       "</style>\n",
       "<table border=\"1\" class=\"dataframe\">\n",
       "  <thead>\n",
       "    <tr style=\"text-align: right;\">\n",
       "      <th></th>\n",
       "      <th>Survived</th>\n",
       "      <th>Sex_male</th>\n",
       "    </tr>\n",
       "  </thead>\n",
       "  <tbody>\n",
       "    <tr>\n",
       "      <th>0</th>\n",
       "      <td>0</td>\n",
       "      <td>108</td>\n",
       "    </tr>\n",
       "    <tr>\n",
       "      <th>1</th>\n",
       "      <td>1</td>\n",
       "      <td>16</td>\n",
       "    </tr>\n",
       "  </tbody>\n",
       "</table>\n",
       "</div>"
      ],
      "text/plain": [
       "   Survived  Sex_male\n",
       "0         0       108\n",
       "1         1        16"
      ]
     },
     "execution_count": 304,
     "metadata": {},
     "output_type": "execute_result"
    }
   ],
   "source": [
    "dnmdf2[['Survived',\"Sex_male\"]].groupby(['Survived'], as_index=False).sum()"
   ]
  },
  {
   "cell_type": "code",
   "execution_count": 305,
   "id": "4e177715-2ae2-44de-9969-3d02d041cd12",
   "metadata": {
    "tags": []
   },
   "outputs": [
    {
     "data": {
      "text/html": [
       "<div>\n",
       "<style scoped>\n",
       "    .dataframe tbody tr th:only-of-type {\n",
       "        vertical-align: middle;\n",
       "    }\n",
       "\n",
       "    .dataframe tbody tr th {\n",
       "        vertical-align: top;\n",
       "    }\n",
       "\n",
       "    .dataframe thead th {\n",
       "        text-align: right;\n",
       "    }\n",
       "</style>\n",
       "<table border=\"1\" class=\"dataframe\">\n",
       "  <thead>\n",
       "    <tr style=\"text-align: right;\">\n",
       "      <th></th>\n",
       "      <th>Survived</th>\n",
       "      <th>Sex_female</th>\n",
       "    </tr>\n",
       "  </thead>\n",
       "  <tbody>\n",
       "    <tr>\n",
       "      <th>0</th>\n",
       "      <td>0</td>\n",
       "      <td>17</td>\n",
       "    </tr>\n",
       "    <tr>\n",
       "      <th>1</th>\n",
       "      <td>1</td>\n",
       "      <td>36</td>\n",
       "    </tr>\n",
       "  </tbody>\n",
       "</table>\n",
       "</div>"
      ],
      "text/plain": [
       "   Survived  Sex_female\n",
       "0         0          17\n",
       "1         1          36"
      ]
     },
     "execution_count": 305,
     "metadata": {},
     "output_type": "execute_result"
    }
   ],
   "source": [
    "dnmdf2[['Survived',\"Sex_female\"]].groupby(['Survived'], as_index=False).sum()"
   ]
  },
  {
   "cell_type": "code",
   "execution_count": 306,
   "id": "36af9143-a0f7-4267-a8db-d90fb4cfd263",
   "metadata": {
    "tags": []
   },
   "outputs": [
    {
     "data": {
      "text/plain": [
       "(0    24.0\n",
       " dtype: float64,\n",
       " 28.0,\n",
       " 29.69911764705882,\n",
       " 80.0,\n",
       " 14.526497332334042)"
      ]
     },
     "execution_count": 306,
     "metadata": {},
     "output_type": "execute_result"
    }
   ],
   "source": [
    "df.Age.mode(),df.Age.median(),df.Age.mean(),df.Age.max(),df.Age.std()"
   ]
  },
  {
   "cell_type": "code",
   "execution_count": 307,
   "id": "ee69f0e3-b04e-42a4-8740-168686cf140a",
   "metadata": {
    "tags": []
   },
   "outputs": [
    {
     "name": "stdout",
     "output_type": "stream",
     "text": [
      "<class 'pandas.core.frame.DataFrame'>\n",
      "RangeIndex: 891 entries, 0 to 890\n",
      "Data columns (total 14 columns):\n",
      " #   Column       Non-Null Count  Dtype  \n",
      "---  ------       --------------  -----  \n",
      " 0   PassengerId  891 non-null    int64  \n",
      " 1   Survived     891 non-null    int64  \n",
      " 2   Pclass       891 non-null    int64  \n",
      " 3   Name         891 non-null    object \n",
      " 4   Sex          891 non-null    object \n",
      " 5   Age          714 non-null    float64\n",
      " 6   SibSp        891 non-null    int64  \n",
      " 7   Parch        891 non-null    int64  \n",
      " 8   Ticket       891 non-null    object \n",
      " 9   Fare         891 non-null    float64\n",
      " 10  Cabin        204 non-null    object \n",
      " 11  Embarked_C   891 non-null    uint8  \n",
      " 12  Embarked_Q   891 non-null    uint8  \n",
      " 13  Embarked_S   891 non-null    uint8  \n",
      "dtypes: float64(2), int64(5), object(4), uint8(3)\n",
      "memory usage: 79.3+ KB\n"
     ]
    }
   ],
   "source": [
    "dnmdf.info()"
   ]
  },
  {
   "cell_type": "code",
   "execution_count": 308,
   "id": "dfa11e3b-e33b-4416-a114-94b0b430c7c0",
   "metadata": {},
   "outputs": [],
   "source": [
    "#dnmdf2.loc[(dnmdf2.Sex_male == 1) & (dnmdf2.Embarked_C == 1)]\n",
    "dnmdf_copy = dnmdf.copy()\n",
    "age_meanCM = dnmdf.loc[(dnmdf.Sex == 'male') & dnmdf.Embarked_C == 1].Age.mean()"
   ]
  },
  {
   "cell_type": "code",
   "execution_count": 309,
   "id": "6aeb6a27-2357-4626-8858-1abaf50d8246",
   "metadata": {
    "tags": []
   },
   "outputs": [],
   "source": [
    "age_meanCM = int(age_meanCM)"
   ]
  },
  {
   "cell_type": "code",
   "execution_count": 310,
   "id": "a7357535-609c-4e17-beec-9bd724133713",
   "metadata": {},
   "outputs": [],
   "source": [
    "dnmdf_fill= dnmdf.loc[(dnmdf.Sex == 'male') & (dnmdf.Embarked_C == 1)].copy()"
   ]
  },
  {
   "cell_type": "code",
   "execution_count": 311,
   "id": "890f91d0-c81e-484a-b86f-e9313b253b43",
   "metadata": {},
   "outputs": [],
   "source": [
    "pd.options.mode.chained_assignment = None\n",
    "dnmdf_fill[\"Age\"] = dnmdf_fill[\"Age\"].fillna(age_meanCM)"
   ]
  },
  {
   "cell_type": "code",
   "execution_count": 312,
   "id": "adc073bd-7bb5-4eff-b717-ed9987e70dd1",
   "metadata": {},
   "outputs": [],
   "source": [
    "#(dnmdf_fill.index)\n",
    "dnmdf.loc[dnmdf.index == 26] = dnmdf_fill.loc[dnmdf_fill.index == 26]"
   ]
  },
  {
   "cell_type": "code",
   "execution_count": 313,
   "id": "d455dfda-05e6-4183-8da3-83617eed46c0",
   "metadata": {},
   "outputs": [],
   "source": [
    "for i in dnmdf_fill.index:\n",
    "    dnmdf.loc[dnmdf.index == i] = dnmdf_fill.loc[dnmdf_fill.index == i]"
   ]
  },
  {
   "cell_type": "code",
   "execution_count": 314,
   "id": "af3d8664-c635-44eb-a5f7-1b3c1bd2413e",
   "metadata": {
    "tags": []
   },
   "outputs": [
    {
     "name": "stdout",
     "output_type": "stream",
     "text": [
      "<class 'pandas.core.frame.DataFrame'>\n",
      "RangeIndex: 891 entries, 0 to 890\n",
      "Data columns (total 14 columns):\n",
      " #   Column       Non-Null Count  Dtype  \n",
      "---  ------       --------------  -----  \n",
      " 0   PassengerId  891 non-null    int64  \n",
      " 1   Survived     891 non-null    int64  \n",
      " 2   Pclass       891 non-null    int64  \n",
      " 3   Name         891 non-null    object \n",
      " 4   Sex          891 non-null    object \n",
      " 5   Age          740 non-null    float64\n",
      " 6   SibSp        891 non-null    int64  \n",
      " 7   Parch        891 non-null    int64  \n",
      " 8   Ticket       891 non-null    object \n",
      " 9   Fare         891 non-null    float64\n",
      " 10  Cabin        204 non-null    object \n",
      " 11  Embarked_C   891 non-null    uint8  \n",
      " 12  Embarked_Q   891 non-null    uint8  \n",
      " 13  Embarked_S   891 non-null    uint8  \n",
      "dtypes: float64(2), int64(5), object(4), uint8(3)\n",
      "memory usage: 79.3+ KB\n"
     ]
    }
   ],
   "source": [
    "dnmdf.info() #"
   ]
  },
  {
   "cell_type": "code",
   "execution_count": 315,
   "id": "376b153c-2661-48af-99ed-82b238c3c68c",
   "metadata": {},
   "outputs": [],
   "source": [
    "dnmdf_fill= dnmdf.loc[(dnmdf.Sex == 'female') & (dnmdf.Embarked_C == 1)].copy()"
   ]
  },
  {
   "cell_type": "code",
   "execution_count": 316,
   "id": "b860f50e-050d-414b-9f22-3bc7ee16c7da",
   "metadata": {},
   "outputs": [
    {
     "data": {
      "text/plain": [
       "28"
      ]
     },
     "execution_count": 316,
     "metadata": {},
     "output_type": "execute_result"
    }
   ],
   "source": [
    "age_meanCF = dnmdf.loc[(dnmdf.Sex == 'female') & dnmdf.Embarked_C == 1].Age.mean()\n",
    "age_meanCF = int(age_meanCF)\n",
    "age_meanCF"
   ]
  },
  {
   "cell_type": "code",
   "execution_count": 317,
   "id": "04c67660-45b0-4097-a89e-3e20acc7b4b4",
   "metadata": {
    "tags": []
   },
   "outputs": [
    {
     "data": {
      "text/html": [
       "<div>\n",
       "<style scoped>\n",
       "    .dataframe tbody tr th:only-of-type {\n",
       "        vertical-align: middle;\n",
       "    }\n",
       "\n",
       "    .dataframe tbody tr th {\n",
       "        vertical-align: top;\n",
       "    }\n",
       "\n",
       "    .dataframe thead th {\n",
       "        text-align: right;\n",
       "    }\n",
       "</style>\n",
       "<table border=\"1\" class=\"dataframe\">\n",
       "  <thead>\n",
       "    <tr style=\"text-align: right;\">\n",
       "      <th></th>\n",
       "      <th>PassengerId</th>\n",
       "      <th>Survived</th>\n",
       "      <th>Pclass</th>\n",
       "      <th>Name</th>\n",
       "      <th>Sex</th>\n",
       "      <th>Age</th>\n",
       "      <th>SibSp</th>\n",
       "      <th>Parch</th>\n",
       "      <th>Ticket</th>\n",
       "      <th>Fare</th>\n",
       "      <th>Cabin</th>\n",
       "      <th>Embarked_C</th>\n",
       "      <th>Embarked_Q</th>\n",
       "      <th>Embarked_S</th>\n",
       "    </tr>\n",
       "  </thead>\n",
       "  <tbody>\n",
       "    <tr>\n",
       "      <th>1</th>\n",
       "      <td>2</td>\n",
       "      <td>1</td>\n",
       "      <td>1</td>\n",
       "      <td>Cumings, Mrs. John Bradley (Florence Briggs Th...</td>\n",
       "      <td>female</td>\n",
       "      <td>38.0</td>\n",
       "      <td>1</td>\n",
       "      <td>0</td>\n",
       "      <td>PC 17599</td>\n",
       "      <td>71.2833</td>\n",
       "      <td>C85</td>\n",
       "      <td>1</td>\n",
       "      <td>0</td>\n",
       "      <td>0</td>\n",
       "    </tr>\n",
       "    <tr>\n",
       "      <th>9</th>\n",
       "      <td>10</td>\n",
       "      <td>1</td>\n",
       "      <td>2</td>\n",
       "      <td>Nasser, Mrs. Nicholas (Adele Achem)</td>\n",
       "      <td>female</td>\n",
       "      <td>14.0</td>\n",
       "      <td>1</td>\n",
       "      <td>0</td>\n",
       "      <td>237736</td>\n",
       "      <td>30.0708</td>\n",
       "      <td>NaN</td>\n",
       "      <td>1</td>\n",
       "      <td>0</td>\n",
       "      <td>0</td>\n",
       "    </tr>\n",
       "    <tr>\n",
       "      <th>19</th>\n",
       "      <td>20</td>\n",
       "      <td>1</td>\n",
       "      <td>3</td>\n",
       "      <td>Masselmani, Mrs. Fatima</td>\n",
       "      <td>female</td>\n",
       "      <td>28.0</td>\n",
       "      <td>0</td>\n",
       "      <td>0</td>\n",
       "      <td>2649</td>\n",
       "      <td>7.2250</td>\n",
       "      <td>NaN</td>\n",
       "      <td>1</td>\n",
       "      <td>0</td>\n",
       "      <td>0</td>\n",
       "    </tr>\n",
       "    <tr>\n",
       "      <th>31</th>\n",
       "      <td>32</td>\n",
       "      <td>1</td>\n",
       "      <td>1</td>\n",
       "      <td>Spencer, Mrs. William Augustus (Marie Eugenie)</td>\n",
       "      <td>female</td>\n",
       "      <td>28.0</td>\n",
       "      <td>1</td>\n",
       "      <td>0</td>\n",
       "      <td>PC 17569</td>\n",
       "      <td>146.5208</td>\n",
       "      <td>B78</td>\n",
       "      <td>1</td>\n",
       "      <td>0</td>\n",
       "      <td>0</td>\n",
       "    </tr>\n",
       "    <tr>\n",
       "      <th>39</th>\n",
       "      <td>40</td>\n",
       "      <td>1</td>\n",
       "      <td>3</td>\n",
       "      <td>Nicola-Yarred, Miss. Jamila</td>\n",
       "      <td>female</td>\n",
       "      <td>14.0</td>\n",
       "      <td>1</td>\n",
       "      <td>0</td>\n",
       "      <td>2651</td>\n",
       "      <td>11.2417</td>\n",
       "      <td>NaN</td>\n",
       "      <td>1</td>\n",
       "      <td>0</td>\n",
       "      <td>0</td>\n",
       "    </tr>\n",
       "    <tr>\n",
       "      <th>...</th>\n",
       "      <td>...</td>\n",
       "      <td>...</td>\n",
       "      <td>...</td>\n",
       "      <td>...</td>\n",
       "      <td>...</td>\n",
       "      <td>...</td>\n",
       "      <td>...</td>\n",
       "      <td>...</td>\n",
       "      <td>...</td>\n",
       "      <td>...</td>\n",
       "      <td>...</td>\n",
       "      <td>...</td>\n",
       "      <td>...</td>\n",
       "      <td>...</td>\n",
       "    </tr>\n",
       "    <tr>\n",
       "      <th>858</th>\n",
       "      <td>859</td>\n",
       "      <td>1</td>\n",
       "      <td>3</td>\n",
       "      <td>Baclini, Mrs. Solomon (Latifa Qurban)</td>\n",
       "      <td>female</td>\n",
       "      <td>24.0</td>\n",
       "      <td>0</td>\n",
       "      <td>3</td>\n",
       "      <td>2666</td>\n",
       "      <td>19.2583</td>\n",
       "      <td>NaN</td>\n",
       "      <td>1</td>\n",
       "      <td>0</td>\n",
       "      <td>0</td>\n",
       "    </tr>\n",
       "    <tr>\n",
       "      <th>866</th>\n",
       "      <td>867</td>\n",
       "      <td>1</td>\n",
       "      <td>2</td>\n",
       "      <td>Duran y More, Miss. Asuncion</td>\n",
       "      <td>female</td>\n",
       "      <td>27.0</td>\n",
       "      <td>1</td>\n",
       "      <td>0</td>\n",
       "      <td>SC/PARIS 2149</td>\n",
       "      <td>13.8583</td>\n",
       "      <td>NaN</td>\n",
       "      <td>1</td>\n",
       "      <td>0</td>\n",
       "      <td>0</td>\n",
       "    </tr>\n",
       "    <tr>\n",
       "      <th>874</th>\n",
       "      <td>875</td>\n",
       "      <td>1</td>\n",
       "      <td>2</td>\n",
       "      <td>Abelson, Mrs. Samuel (Hannah Wizosky)</td>\n",
       "      <td>female</td>\n",
       "      <td>28.0</td>\n",
       "      <td>1</td>\n",
       "      <td>0</td>\n",
       "      <td>P/PP 3381</td>\n",
       "      <td>24.0000</td>\n",
       "      <td>NaN</td>\n",
       "      <td>1</td>\n",
       "      <td>0</td>\n",
       "      <td>0</td>\n",
       "    </tr>\n",
       "    <tr>\n",
       "      <th>875</th>\n",
       "      <td>876</td>\n",
       "      <td>1</td>\n",
       "      <td>3</td>\n",
       "      <td>Najib, Miss. Adele Kiamie \"Jane\"</td>\n",
       "      <td>female</td>\n",
       "      <td>15.0</td>\n",
       "      <td>0</td>\n",
       "      <td>0</td>\n",
       "      <td>2667</td>\n",
       "      <td>7.2250</td>\n",
       "      <td>NaN</td>\n",
       "      <td>1</td>\n",
       "      <td>0</td>\n",
       "      <td>0</td>\n",
       "    </tr>\n",
       "    <tr>\n",
       "      <th>879</th>\n",
       "      <td>880</td>\n",
       "      <td>1</td>\n",
       "      <td>1</td>\n",
       "      <td>Potter, Mrs. Thomas Jr (Lily Alexenia Wilson)</td>\n",
       "      <td>female</td>\n",
       "      <td>56.0</td>\n",
       "      <td>0</td>\n",
       "      <td>1</td>\n",
       "      <td>11767</td>\n",
       "      <td>83.1583</td>\n",
       "      <td>C50</td>\n",
       "      <td>1</td>\n",
       "      <td>0</td>\n",
       "      <td>0</td>\n",
       "    </tr>\n",
       "  </tbody>\n",
       "</table>\n",
       "<p>73 rows × 14 columns</p>\n",
       "</div>"
      ],
      "text/plain": [
       "     PassengerId  Survived  Pclass  \\\n",
       "1              2         1       1   \n",
       "9             10         1       2   \n",
       "19            20         1       3   \n",
       "31            32         1       1   \n",
       "39            40         1       3   \n",
       "..           ...       ...     ...   \n",
       "858          859         1       3   \n",
       "866          867         1       2   \n",
       "874          875         1       2   \n",
       "875          876         1       3   \n",
       "879          880         1       1   \n",
       "\n",
       "                                                  Name     Sex   Age  SibSp  \\\n",
       "1    Cumings, Mrs. John Bradley (Florence Briggs Th...  female  38.0      1   \n",
       "9                  Nasser, Mrs. Nicholas (Adele Achem)  female  14.0      1   \n",
       "19                             Masselmani, Mrs. Fatima  female  28.0      0   \n",
       "31      Spencer, Mrs. William Augustus (Marie Eugenie)  female  28.0      1   \n",
       "39                         Nicola-Yarred, Miss. Jamila  female  14.0      1   \n",
       "..                                                 ...     ...   ...    ...   \n",
       "858              Baclini, Mrs. Solomon (Latifa Qurban)  female  24.0      0   \n",
       "866                       Duran y More, Miss. Asuncion  female  27.0      1   \n",
       "874              Abelson, Mrs. Samuel (Hannah Wizosky)  female  28.0      1   \n",
       "875                   Najib, Miss. Adele Kiamie \"Jane\"  female  15.0      0   \n",
       "879      Potter, Mrs. Thomas Jr (Lily Alexenia Wilson)  female  56.0      0   \n",
       "\n",
       "     Parch         Ticket      Fare Cabin  Embarked_C  Embarked_Q  Embarked_S  \n",
       "1        0       PC 17599   71.2833   C85           1           0           0  \n",
       "9        0         237736   30.0708   NaN           1           0           0  \n",
       "19       0           2649    7.2250   NaN           1           0           0  \n",
       "31       0       PC 17569  146.5208   B78           1           0           0  \n",
       "39       0           2651   11.2417   NaN           1           0           0  \n",
       "..     ...            ...       ...   ...         ...         ...         ...  \n",
       "858      3           2666   19.2583   NaN           1           0           0  \n",
       "866      0  SC/PARIS 2149   13.8583   NaN           1           0           0  \n",
       "874      0      P/PP 3381   24.0000   NaN           1           0           0  \n",
       "875      0           2667    7.2250   NaN           1           0           0  \n",
       "879      1          11767   83.1583   C50           1           0           0  \n",
       "\n",
       "[73 rows x 14 columns]"
      ]
     },
     "execution_count": 317,
     "metadata": {},
     "output_type": "execute_result"
    }
   ],
   "source": [
    "dnmdf_fill[\"Age\"] = dnmdf_fill[\"Age\"].fillna(age_meanCF)\n",
    "dnmdf_fill"
   ]
  },
  {
   "cell_type": "code",
   "execution_count": 318,
   "id": "6da4e4f8-2f9c-4828-9ad5-d27606ff9ce6",
   "metadata": {},
   "outputs": [],
   "source": [
    "for i in dnmdf_fill.index:\n",
    "    dnmdf.loc[dnmdf.index == i] = dnmdf_fill.loc[dnmdf_fill.index == i]"
   ]
  },
  {
   "cell_type": "code",
   "execution_count": 319,
   "id": "6264e79e-86f4-49f0-8fce-3e74e3f21a15",
   "metadata": {
    "tags": []
   },
   "outputs": [
    {
     "name": "stdout",
     "output_type": "stream",
     "text": [
      "<class 'pandas.core.frame.DataFrame'>\n",
      "RangeIndex: 891 entries, 0 to 890\n",
      "Data columns (total 14 columns):\n",
      " #   Column       Non-Null Count  Dtype  \n",
      "---  ------       --------------  -----  \n",
      " 0   PassengerId  891 non-null    int64  \n",
      " 1   Survived     891 non-null    int64  \n",
      " 2   Pclass       891 non-null    int64  \n",
      " 3   Name         891 non-null    object \n",
      " 4   Sex          891 non-null    object \n",
      " 5   Age          752 non-null    float64\n",
      " 6   SibSp        891 non-null    int64  \n",
      " 7   Parch        891 non-null    int64  \n",
      " 8   Ticket       891 non-null    object \n",
      " 9   Fare         891 non-null    float64\n",
      " 10  Cabin        204 non-null    object \n",
      " 11  Embarked_C   891 non-null    uint8  \n",
      " 12  Embarked_Q   891 non-null    uint8  \n",
      " 13  Embarked_S   891 non-null    uint8  \n",
      "dtypes: float64(2), int64(5), object(4), uint8(3)\n",
      "memory usage: 79.3+ KB\n"
     ]
    }
   ],
   "source": [
    "dnmdf.info()"
   ]
  },
  {
   "cell_type": "code",
   "execution_count": 320,
   "id": "4284d2d6-04a5-4064-ad64-87f7a0e836ba",
   "metadata": {},
   "outputs": [],
   "source": [
    "#EmbarkedQ and Male\n",
    "dnmdf_fill= dnmdf.loc[(dnmdf.Sex == 'male') & (dnmdf.Embarked_Q == 1)].copy()\n",
    "age_mean = dnmdf.loc[(dnmdf.Sex == 'male') & dnmdf.Embarked_Q == 1].Age.mean()\n",
    "age_mean = int(age_mean)\n",
    "dnmdf_fill[\"Age\"] = dnmdf_fill[\"Age\"].fillna(age_mean)\n",
    "for i in dnmdf_fill.index:\n",
    "    dnmdf.loc[dnmdf.index == i] = dnmdf_fill.loc[dnmdf_fill.index == i]"
   ]
  },
  {
   "cell_type": "code",
   "execution_count": 321,
   "id": "8717849e-e6bb-4e82-bf15-e634eba9c0ae",
   "metadata": {
    "tags": []
   },
   "outputs": [
    {
     "name": "stdout",
     "output_type": "stream",
     "text": [
      "<class 'pandas.core.frame.DataFrame'>\n",
      "RangeIndex: 891 entries, 0 to 890\n",
      "Data columns (total 14 columns):\n",
      " #   Column       Non-Null Count  Dtype  \n",
      "---  ------       --------------  -----  \n",
      " 0   PassengerId  891 non-null    int64  \n",
      " 1   Survived     891 non-null    int64  \n",
      " 2   Pclass       891 non-null    int64  \n",
      " 3   Name         891 non-null    object \n",
      " 4   Sex          891 non-null    object \n",
      " 5   Age          777 non-null    float64\n",
      " 6   SibSp        891 non-null    int64  \n",
      " 7   Parch        891 non-null    int64  \n",
      " 8   Ticket       891 non-null    object \n",
      " 9   Fare         891 non-null    float64\n",
      " 10  Cabin        204 non-null    object \n",
      " 11  Embarked_C   891 non-null    uint8  \n",
      " 12  Embarked_Q   891 non-null    uint8  \n",
      " 13  Embarked_S   891 non-null    uint8  \n",
      "dtypes: float64(2), int64(5), object(4), uint8(3)\n",
      "memory usage: 79.3+ KB\n"
     ]
    }
   ],
   "source": [
    "dnmdf.info()"
   ]
  },
  {
   "cell_type": "code",
   "execution_count": 322,
   "id": "888b9051-3caf-42fc-a551-e1dcb2b4f858",
   "metadata": {},
   "outputs": [],
   "source": [
    "#EmbarkedQ and Female\n",
    "dnmdf_fill= dnmdf.loc[(dnmdf.Sex == 'female') & (dnmdf.Embarked_Q == 1)].copy()\n",
    "age_mean = dnmdf.loc[(dnmdf.Sex == 'female') & dnmdf.Embarked_Q == 1].Age.mean()\n",
    "age_mean = int(age_mean)\n",
    "dnmdf_fill[\"Age\"] = dnmdf_fill[\"Age\"].fillna(age_mean)\n",
    "for i in dnmdf_fill.index:\n",
    "    dnmdf.loc[dnmdf.index == i] = dnmdf_fill.loc[dnmdf_fill.index == i]"
   ]
  },
  {
   "cell_type": "code",
   "execution_count": 323,
   "id": "429a8203-c5b1-4edc-adb2-6bedf4c36983",
   "metadata": {
    "tags": []
   },
   "outputs": [
    {
     "name": "stdout",
     "output_type": "stream",
     "text": [
      "<class 'pandas.core.frame.DataFrame'>\n",
      "RangeIndex: 891 entries, 0 to 890\n",
      "Data columns (total 14 columns):\n",
      " #   Column       Non-Null Count  Dtype  \n",
      "---  ------       --------------  -----  \n",
      " 0   PassengerId  891 non-null    int64  \n",
      " 1   Survived     891 non-null    int64  \n",
      " 2   Pclass       891 non-null    int64  \n",
      " 3   Name         891 non-null    object \n",
      " 4   Sex          891 non-null    object \n",
      " 5   Age          801 non-null    float64\n",
      " 6   SibSp        891 non-null    int64  \n",
      " 7   Parch        891 non-null    int64  \n",
      " 8   Ticket       891 non-null    object \n",
      " 9   Fare         891 non-null    float64\n",
      " 10  Cabin        204 non-null    object \n",
      " 11  Embarked_C   891 non-null    uint8  \n",
      " 12  Embarked_Q   891 non-null    uint8  \n",
      " 13  Embarked_S   891 non-null    uint8  \n",
      "dtypes: float64(2), int64(5), object(4), uint8(3)\n",
      "memory usage: 79.3+ KB\n"
     ]
    }
   ],
   "source": [
    "dnmdf.info()"
   ]
  },
  {
   "cell_type": "code",
   "execution_count": 324,
   "id": "a27cefde-5279-4027-b1b0-076fe5ae6ee1",
   "metadata": {},
   "outputs": [],
   "source": [
    "#EmbarkedS and Male\n",
    "dnmdf_fill= dnmdf.loc[(dnmdf.Sex == 'male') & (dnmdf.Embarked_Q == 1)].copy()\n",
    "age_mean = dnmdf.loc[(dnmdf.Sex == 'male') & dnmdf.Embarked_Q == 1].Age.mean()\n",
    "age_mean = int(age_mean)\n",
    "dnmdf_fill[\"Age\"] = dnmdf_fill[\"Age\"].fillna(age_mean)\n",
    "for i in dnmdf_fill.index:\n",
    "    dnmdf.loc[dnmdf.index == i] = dnmdf_fill.loc[dnmdf_fill.index == i]"
   ]
  },
  {
   "cell_type": "code",
   "execution_count": 325,
   "id": "43bd1adc-c69f-485c-97cb-4689b046e740",
   "metadata": {},
   "outputs": [],
   "source": [
    "#EmbarkedS and Female\n",
    "dnmdf_fill= dnmdf.loc[(dnmdf.Sex == 'female') & (dnmdf.Embarked_Q == 1)].copy()\n",
    "age_mean = dnmdf.loc[(dnmdf.Sex == 'female') & dnmdf.Embarked_Q == 1].Age.mean()\n",
    "age_mean = int(age_mean)\n",
    "dnmdf_fill[\"Age\"] = dnmdf_fill[\"Age\"].fillna(age_mean)\n",
    "for i in dnmdf_fill.index:\n",
    "    dnmdf.loc[dnmdf.index == i] = dnmdf_fill.loc[dnmdf_fill.index == i]"
   ]
  },
  {
   "cell_type": "code",
   "execution_count": 326,
   "id": "b6f5e839-62b4-4175-8b87-88869fa12c8f",
   "metadata": {},
   "outputs": [
    {
     "data": {
      "text/plain": [
       "29.586978776529335"
      ]
     },
     "execution_count": 326,
     "metadata": {},
     "output_type": "execute_result"
    }
   ],
   "source": [
    "#for i in dnmdf[dnmdf.Age.isnull() == True].index:\n",
    "#dnmdf[dnmdf.Sex == \"male\"].Age.mean()/2   \n",
    "dnmdf.Age.mean()   "
   ]
  },
  {
   "cell_type": "code",
   "execution_count": 327,
   "id": "4428aa27-668e-43b9-8d9a-5bfcc74a2ad4",
   "metadata": {
    "tags": []
   },
   "outputs": [
    {
     "name": "stdout",
     "output_type": "stream",
     "text": [
      "<class 'pandas.core.frame.DataFrame'>\n",
      "RangeIndex: 891 entries, 0 to 890\n",
      "Data columns (total 14 columns):\n",
      " #   Column       Non-Null Count  Dtype  \n",
      "---  ------       --------------  -----  \n",
      " 0   PassengerId  891 non-null    int64  \n",
      " 1   Survived     891 non-null    int64  \n",
      " 2   Pclass       891 non-null    int64  \n",
      " 3   Name         891 non-null    object \n",
      " 4   Sex          891 non-null    object \n",
      " 5   Age          801 non-null    float64\n",
      " 6   SibSp        891 non-null    int64  \n",
      " 7   Parch        891 non-null    int64  \n",
      " 8   Ticket       891 non-null    object \n",
      " 9   Fare         891 non-null    float64\n",
      " 10  Cabin        204 non-null    object \n",
      " 11  Embarked_C   891 non-null    uint8  \n",
      " 12  Embarked_Q   891 non-null    uint8  \n",
      " 13  Embarked_S   891 non-null    uint8  \n",
      "dtypes: float64(2), int64(5), object(4), uint8(3)\n",
      "memory usage: 79.3+ KB\n"
     ]
    }
   ],
   "source": [
    "#dnmdf[dnmdf.Sex == \"male\"].Age.quantile(0.25)\n",
    "dnmdf.info()"
   ]
  },
  {
   "cell_type": "code",
   "execution_count": 328,
   "id": "7979fd02-3ddd-4e3a-8165-112a57ae8889",
   "metadata": {},
   "outputs": [],
   "source": [
    "dnmdf_fill = dnmdf[(dnmdf.Age.isnull() == True) & (dnmdf.Sex == \"male\") & (dnmdf.Parch>=2)].copy()\n",
    "age_quan = int(dnmdf[(dnmdf.Age.isnull() == False) & (dnmdf.Sex == \"male\") & (dnmdf.Parch>=2)].Age.quantile(0.75))\n",
    "dnmdf_fill[\"Age\"] = dnmdf_fill[\"Age\"].fillna(age_mean)\n",
    "for i in dnmdf_fill.index:\n",
    "    dnmdf.loc[dnmdf.index == i] = dnmdf_fill.loc[dnmdf_fill.index == i]"
   ]
  },
  {
   "cell_type": "code",
   "execution_count": 329,
   "id": "9d29038c-aedb-4d2d-b209-d95ae247af9f",
   "metadata": {},
   "outputs": [
    {
     "name": "stdout",
     "output_type": "stream",
     "text": [
      "<class 'pandas.core.frame.DataFrame'>\n",
      "RangeIndex: 891 entries, 0 to 890\n",
      "Data columns (total 14 columns):\n",
      " #   Column       Non-Null Count  Dtype  \n",
      "---  ------       --------------  -----  \n",
      " 0   PassengerId  891 non-null    int64  \n",
      " 1   Survived     891 non-null    int64  \n",
      " 2   Pclass       891 non-null    int64  \n",
      " 3   Name         891 non-null    object \n",
      " 4   Sex          891 non-null    object \n",
      " 5   Age          806 non-null    float64\n",
      " 6   SibSp        891 non-null    int64  \n",
      " 7   Parch        891 non-null    int64  \n",
      " 8   Ticket       891 non-null    object \n",
      " 9   Fare         891 non-null    float64\n",
      " 10  Cabin        204 non-null    object \n",
      " 11  Embarked_C   891 non-null    uint8  \n",
      " 12  Embarked_Q   891 non-null    uint8  \n",
      " 13  Embarked_S   891 non-null    uint8  \n",
      "dtypes: float64(2), int64(5), object(4), uint8(3)\n",
      "memory usage: 79.3+ KB\n"
     ]
    }
   ],
   "source": [
    "dnmdf.info()"
   ]
  },
  {
   "cell_type": "code",
   "execution_count": 330,
   "id": "b0d5064f-937c-4f47-a1f1-2f1a226b2594",
   "metadata": {},
   "outputs": [],
   "source": [
    "dnmdf_fill = dnmdf[(dnmdf.Age.isnull() == True) & (dnmdf.Sex == \"male\") & (dnmdf.Parch<=1)].copy()\n",
    "age_quan = int(dnmdf[(dnmdf.Age.isnull() == False) & (dnmdf.Sex == \"male\") & (dnmdf.Parch<=2)].Age.quantile(0.25))\n",
    "dnmdf_fill[\"Age\"] = dnmdf_fill[\"Age\"].fillna(age_mean)\n",
    "for i in dnmdf_fill.index:\n",
    "    dnmdf.loc[dnmdf.index == i] = dnmdf_fill.loc[dnmdf_fill.index == i]"
   ]
  },
  {
   "cell_type": "code",
   "execution_count": 331,
   "id": "426cace6-e85b-4bc6-8acd-32be199755dc",
   "metadata": {},
   "outputs": [
    {
     "name": "stdout",
     "output_type": "stream",
     "text": [
      "<class 'pandas.core.frame.DataFrame'>\n",
      "RangeIndex: 891 entries, 0 to 890\n",
      "Data columns (total 14 columns):\n",
      " #   Column       Non-Null Count  Dtype  \n",
      "---  ------       --------------  -----  \n",
      " 0   PassengerId  891 non-null    int64  \n",
      " 1   Survived     891 non-null    int64  \n",
      " 2   Pclass       891 non-null    int64  \n",
      " 3   Name         891 non-null    object \n",
      " 4   Sex          891 non-null    object \n",
      " 5   Age          874 non-null    float64\n",
      " 6   SibSp        891 non-null    int64  \n",
      " 7   Parch        891 non-null    int64  \n",
      " 8   Ticket       891 non-null    object \n",
      " 9   Fare         891 non-null    float64\n",
      " 10  Cabin        204 non-null    object \n",
      " 11  Embarked_C   891 non-null    uint8  \n",
      " 12  Embarked_Q   891 non-null    uint8  \n",
      " 13  Embarked_S   891 non-null    uint8  \n",
      "dtypes: float64(2), int64(5), object(4), uint8(3)\n",
      "memory usage: 79.3+ KB\n"
     ]
    }
   ],
   "source": [
    "dnmdf.info()"
   ]
  },
  {
   "cell_type": "code",
   "execution_count": 332,
   "id": "8f2f3947-dd2e-4bae-ae65-b4e0f1512967",
   "metadata": {},
   "outputs": [],
   "source": [
    "dnmdf_fill = dnmdf[(dnmdf.Age.isnull() == True) & (dnmdf.Sex == \"female\") & (dnmdf.Parch>=2)].copy()\n",
    "age_quan = int(dnmdf[(dnmdf.Age.isnull() == False) & (dnmdf.Sex == \"female\") & (dnmdf.Parch>=2)].Age.quantile(0.75))\n",
    "dnmdf_fill[\"Age\"] = dnmdf_fill[\"Age\"].fillna(age_mean)\n",
    "for i in dnmdf_fill.index:\n",
    "    dnmdf.loc[dnmdf.index == i] = dnmdf_fill.loc[dnmdf_fill.index == i]"
   ]
  },
  {
   "cell_type": "code",
   "execution_count": 333,
   "id": "c7ed47fe-de32-46ef-8742-2bfbc9f33af1",
   "metadata": {},
   "outputs": [],
   "source": [
    "dnmdf_fill = dnmdf[(dnmdf.Age.isnull() == True) & (dnmdf.Sex == \"female\") & (dnmdf.Parch<=1)].copy()\n",
    "age_quan = int(dnmdf[(dnmdf.Age.isnull() == False) & (dnmdf.Sex == \"female\") & (dnmdf.Parch<=2)].Age.quantile(0.25))\n",
    "dnmdf_fill[\"Age\"] = dnmdf_fill[\"Age\"].fillna(age_mean)\n",
    "for i in dnmdf_fill.index:\n",
    "    dnmdf.loc[dnmdf.index == i] = dnmdf_fill.loc[dnmdf_fill.index == i]"
   ]
  },
  {
   "cell_type": "code",
   "execution_count": 334,
   "id": "e4a9e592-e0c8-485e-9c8d-0b558056c49a",
   "metadata": {},
   "outputs": [
    {
     "name": "stdout",
     "output_type": "stream",
     "text": [
      "<class 'pandas.core.frame.DataFrame'>\n",
      "RangeIndex: 891 entries, 0 to 890\n",
      "Data columns (total 14 columns):\n",
      " #   Column       Non-Null Count  Dtype  \n",
      "---  ------       --------------  -----  \n",
      " 0   PassengerId  891 non-null    int64  \n",
      " 1   Survived     891 non-null    int64  \n",
      " 2   Pclass       891 non-null    int64  \n",
      " 3   Name         891 non-null    object \n",
      " 4   Sex          891 non-null    object \n",
      " 5   Age          891 non-null    float64\n",
      " 6   SibSp        891 non-null    int64  \n",
      " 7   Parch        891 non-null    int64  \n",
      " 8   Ticket       891 non-null    object \n",
      " 9   Fare         891 non-null    float64\n",
      " 10  Cabin        204 non-null    object \n",
      " 11  Embarked_C   891 non-null    uint8  \n",
      " 12  Embarked_Q   891 non-null    uint8  \n",
      " 13  Embarked_S   891 non-null    uint8  \n",
      "dtypes: float64(2), int64(5), object(4), uint8(3)\n",
      "memory usage: 79.3+ KB\n"
     ]
    }
   ],
   "source": [
    "dnmdf.info()"
   ]
  },
  {
   "cell_type": "code",
   "execution_count": 335,
   "id": "fc32a778-4053-4c9d-830c-449ab6c25213",
   "metadata": {},
   "outputs": [],
   "source": [
    "dnmdf = dnmdf.drop(['Cabin', 'Embarked_C',\"Embarked_Q\",\"Embarked_S\"], axis=1).copy()"
   ]
  },
  {
   "cell_type": "code",
   "execution_count": 336,
   "id": "b093fca7-5290-4bf7-aa32-14a75cb75e73",
   "metadata": {},
   "outputs": [
    {
     "name": "stdout",
     "output_type": "stream",
     "text": [
      "<class 'pandas.core.frame.DataFrame'>\n",
      "RangeIndex: 891 entries, 0 to 890\n",
      "Data columns (total 10 columns):\n",
      " #   Column       Non-Null Count  Dtype  \n",
      "---  ------       --------------  -----  \n",
      " 0   PassengerId  891 non-null    int64  \n",
      " 1   Survived     891 non-null    int64  \n",
      " 2   Pclass       891 non-null    int64  \n",
      " 3   Name         891 non-null    object \n",
      " 4   Sex          891 non-null    object \n",
      " 5   Age          891 non-null    float64\n",
      " 6   SibSp        891 non-null    int64  \n",
      " 7   Parch        891 non-null    int64  \n",
      " 8   Ticket       891 non-null    object \n",
      " 9   Fare         891 non-null    float64\n",
      "dtypes: float64(2), int64(5), object(3)\n",
      "memory usage: 69.7+ KB\n"
     ]
    }
   ],
   "source": [
    "dnmdf.info()"
   ]
  },
  {
   "cell_type": "code",
   "execution_count": 337,
   "id": "f783e050-b597-47f7-8e89-7057c94043cd",
   "metadata": {},
   "outputs": [
    {
     "data": {
      "text/html": [
       "<div>\n",
       "<style scoped>\n",
       "    .dataframe tbody tr th:only-of-type {\n",
       "        vertical-align: middle;\n",
       "    }\n",
       "\n",
       "    .dataframe tbody tr th {\n",
       "        vertical-align: top;\n",
       "    }\n",
       "\n",
       "    .dataframe thead th {\n",
       "        text-align: right;\n",
       "    }\n",
       "</style>\n",
       "<table border=\"1\" class=\"dataframe\">\n",
       "  <thead>\n",
       "    <tr style=\"text-align: right;\">\n",
       "      <th></th>\n",
       "      <th>PassengerId</th>\n",
       "      <th>Survived</th>\n",
       "      <th>Pclass</th>\n",
       "      <th>Name</th>\n",
       "      <th>Sex</th>\n",
       "      <th>Age</th>\n",
       "      <th>SibSp</th>\n",
       "      <th>Parch</th>\n",
       "      <th>Ticket</th>\n",
       "      <th>Fare</th>\n",
       "      <th>Cabin</th>\n",
       "      <th>Embarked</th>\n",
       "    </tr>\n",
       "  </thead>\n",
       "  <tbody>\n",
       "    <tr>\n",
       "      <th>0</th>\n",
       "      <td>1</td>\n",
       "      <td>0</td>\n",
       "      <td>3</td>\n",
       "      <td>Braund, Mr. Owen Harris</td>\n",
       "      <td>male</td>\n",
       "      <td>22.0</td>\n",
       "      <td>1</td>\n",
       "      <td>0</td>\n",
       "      <td>A/5 21171</td>\n",
       "      <td>7.25</td>\n",
       "      <td>NaN</td>\n",
       "      <td>S</td>\n",
       "    </tr>\n",
       "  </tbody>\n",
       "</table>\n",
       "</div>"
      ],
      "text/plain": [
       "   PassengerId  Survived  Pclass                     Name   Sex   Age  SibSp  \\\n",
       "0            1         0       3  Braund, Mr. Owen Harris  male  22.0      1   \n",
       "\n",
       "   Parch     Ticket  Fare Cabin Embarked  \n",
       "0      0  A/5 21171  7.25   NaN        S  "
      ]
     },
     "execution_count": 337,
     "metadata": {},
     "output_type": "execute_result"
    }
   ],
   "source": [
    "data.head(1)"
   ]
  },
  {
   "cell_type": "code",
   "execution_count": 338,
   "id": "9eef7028-c932-4949-af6d-3d4ab4840c0d",
   "metadata": {},
   "outputs": [],
   "source": [
    "dnmdf[\"Embarked\"] = df.Embarked"
   ]
  },
  {
   "cell_type": "code",
   "execution_count": 339,
   "id": "392906eb-6614-49a8-8276-f31741e2231a",
   "metadata": {},
   "outputs": [],
   "source": [
    "dnmdf = dnmdf.drop([\"Name\"], axis=1)"
   ]
  },
  {
   "cell_type": "code",
   "execution_count": 340,
   "id": "440a1871-6b03-47a7-8f7a-2ddbb2006364",
   "metadata": {},
   "outputs": [],
   "source": [
    "dnmdf = dnmdf.drop([\"PassengerId\"], axis=1)"
   ]
  },
  {
   "cell_type": "code",
   "execution_count": 341,
   "id": "614fdf42-c836-4566-b6c4-db789b80672c",
   "metadata": {},
   "outputs": [
    {
     "data": {
      "text/html": [
       "<div>\n",
       "<style scoped>\n",
       "    .dataframe tbody tr th:only-of-type {\n",
       "        vertical-align: middle;\n",
       "    }\n",
       "\n",
       "    .dataframe tbody tr th {\n",
       "        vertical-align: top;\n",
       "    }\n",
       "\n",
       "    .dataframe thead th {\n",
       "        text-align: right;\n",
       "    }\n",
       "</style>\n",
       "<table border=\"1\" class=\"dataframe\">\n",
       "  <thead>\n",
       "    <tr style=\"text-align: right;\">\n",
       "      <th></th>\n",
       "      <th>Survived</th>\n",
       "      <th>Pclass</th>\n",
       "      <th>Sex</th>\n",
       "      <th>Age</th>\n",
       "      <th>SibSp</th>\n",
       "      <th>Parch</th>\n",
       "      <th>Ticket</th>\n",
       "      <th>Fare</th>\n",
       "      <th>Embarked</th>\n",
       "    </tr>\n",
       "  </thead>\n",
       "  <tbody>\n",
       "    <tr>\n",
       "      <th>0</th>\n",
       "      <td>0</td>\n",
       "      <td>3</td>\n",
       "      <td>male</td>\n",
       "      <td>22.0</td>\n",
       "      <td>1</td>\n",
       "      <td>0</td>\n",
       "      <td>A/5 21171</td>\n",
       "      <td>7.25</td>\n",
       "      <td>S</td>\n",
       "    </tr>\n",
       "  </tbody>\n",
       "</table>\n",
       "</div>"
      ],
      "text/plain": [
       "   Survived  Pclass   Sex   Age  SibSp  Parch     Ticket  Fare Embarked\n",
       "0         0       3  male  22.0      1      0  A/5 21171  7.25        S"
      ]
     },
     "execution_count": 341,
     "metadata": {},
     "output_type": "execute_result"
    }
   ],
   "source": [
    "dnmdf.head(1)"
   ]
  },
  {
   "cell_type": "code",
   "execution_count": 342,
   "id": "ecacdb13-d60c-4495-a3ee-0ccf26649d13",
   "metadata": {},
   "outputs": [],
   "source": [
    "dict1 = {\"Sex\":{\"male\":1,\"female\":0},\n",
    "        \"Embarked\":{\"C\":1, \"Q\":2, \"S\":3}}\n",
    "\n",
    "dnmdf = dnmdf.replace(dict1)"
   ]
  },
  {
   "cell_type": "code",
   "execution_count": 343,
   "id": "2f547058-5d0c-42cf-a1a5-32fddf79537f",
   "metadata": {},
   "outputs": [],
   "source": [
    "dnmdf = dnmdf.drop([\"Ticket\"], axis=1)"
   ]
  },
  {
   "cell_type": "code",
   "execution_count": 344,
   "id": "7573dad7-244b-47f2-b813-4b1ea977df89",
   "metadata": {},
   "outputs": [],
   "source": [
    "dnmdf[dnmdf.isna().any(axis=1)]\n",
    "dnmdf = dnmdf.drop([dnmdf.index[61],dnmdf.index[829]])"
   ]
  },
  {
   "cell_type": "code",
   "execution_count": 345,
   "id": "6e47736f-b4d1-40cc-86f8-2f3db8875b9f",
   "metadata": {},
   "outputs": [],
   "source": [
    "y = dnmdf[\"Survived\"].values\n",
    "x = dnmdf.drop([\"Survived\"], axis=1)"
   ]
  },
  {
   "cell_type": "code",
   "execution_count": 346,
   "id": "85632665-501f-42ad-be0e-a10da80fa219",
   "metadata": {
    "tags": []
   },
   "outputs": [
    {
     "data": {
      "image/png": "[encoded data removed]",
      "text/plain": [
       "<Figure size 1260x1260 with 56 Axes>"
      ]
     },
     "metadata": {
      "needs_background": "light"
     },
     "output_type": "display_data"
    }
   ],
   "source": [
    "sns.pairplot(x)\n",
    "plt.show()"
   ]
  },
  {
   "cell_type": "code",
   "execution_count": 347,
   "id": "c0f5c018-2e18-4ee8-864b-c1be70bdb6da",
   "metadata": {},
   "outputs": [],
   "source": [
    "#data2 = pd.read_csv(\"test.csv\")\n",
    "#dnmdf2 = data2.copy()\n",
    "#dict1 = {\"Sex\":{\"male\":1,\"female\":0},\n",
    "        #\"Embarked\":{\"C\":1, \"Q\":2, \"S\":3}}\n",
    "\n",
    "#dnmdf2 = dnmdf2.replace(dict1)\n",
    "#dnmdf2 = dnmdf2.drop([\"PassengerId\",\"Name\",\"Ticket\",\"Cabin\"], axis=1)\n",
    "\n",
    "x_train = x \n",
    "y_train = y"
   ]
  },
  {
   "cell_type": "code",
   "execution_count": 348,
   "id": "597a2fc5-f75c-4218-9898-54321191a90d",
   "metadata": {},
   "outputs": [],
   "source": [
    "data2 = pd.read_csv(\"test.csv\")\n",
    "dnmdf2 = data2.copy()"
   ]
  },
  {
   "cell_type": "code",
   "execution_count": 349,
   "id": "5c40270a-b01a-42fd-b0a6-357266191734",
   "metadata": {},
   "outputs": [],
   "source": [
    "#dnmdf2 = dnmdf2.drop(dnmdf2[dnmdf2.isna().any(axis=1)].index)"
   ]
  },
  {
   "cell_type": "code",
   "execution_count": 350,
   "id": "511502dd-97ef-405f-a76a-4d40d8b57fd2",
   "metadata": {},
   "outputs": [],
   "source": [
    "dnmdf2 = dnmdf2.drop(\"Cabin\", axis=1)"
   ]
  },
  {
   "cell_type": "code",
   "execution_count": 351,
   "id": "bad839b9-33c0-41fe-ba50-4ec696f69b25",
   "metadata": {},
   "outputs": [
    {
     "name": "stdout",
     "output_type": "stream",
     "text": [
      "<class 'pandas.core.frame.DataFrame'>\n",
      "Int64Index: 87 entries, 10 to 417\n",
      "Data columns (total 10 columns):\n",
      " #   Column       Non-Null Count  Dtype  \n",
      "---  ------       --------------  -----  \n",
      " 0   PassengerId  87 non-null     int64  \n",
      " 1   Pclass       87 non-null     int64  \n",
      " 2   Name         87 non-null     object \n",
      " 3   Sex          87 non-null     object \n",
      " 4   Age          1 non-null      float64\n",
      " 5   SibSp        87 non-null     int64  \n",
      " 6   Parch        87 non-null     int64  \n",
      " 7   Ticket       87 non-null     object \n",
      " 8   Fare         86 non-null     float64\n",
      " 9   Embarked     87 non-null     object \n",
      "dtypes: float64(2), int64(4), object(4)\n",
      "memory usage: 7.5+ KB\n"
     ]
    }
   ],
   "source": [
    "dnmdf2[dnmdf2.isna().any(axis=1)].info()"
   ]
  },
  {
   "cell_type": "code",
   "execution_count": 352,
   "id": "43670e0d-5390-4cfa-9380-9576c2c40983",
   "metadata": {},
   "outputs": [
    {
     "data": {
      "text/html": [
       "<div>\n",
       "<style scoped>\n",
       "    .dataframe tbody tr th:only-of-type {\n",
       "        vertical-align: middle;\n",
       "    }\n",
       "\n",
       "    .dataframe tbody tr th {\n",
       "        vertical-align: top;\n",
       "    }\n",
       "\n",
       "    .dataframe thead th {\n",
       "        text-align: right;\n",
       "    }\n",
       "</style>\n",
       "<table border=\"1\" class=\"dataframe\">\n",
       "  <thead>\n",
       "    <tr style=\"text-align: right;\">\n",
       "      <th></th>\n",
       "      <th>PassengerId</th>\n",
       "      <th>Pclass</th>\n",
       "      <th>Name</th>\n",
       "      <th>Sex</th>\n",
       "      <th>Age</th>\n",
       "      <th>SibSp</th>\n",
       "      <th>Parch</th>\n",
       "      <th>Ticket</th>\n",
       "      <th>Fare</th>\n",
       "      <th>Embarked</th>\n",
       "    </tr>\n",
       "  </thead>\n",
       "  <tbody>\n",
       "    <tr>\n",
       "      <th>10</th>\n",
       "      <td>902</td>\n",
       "      <td>3</td>\n",
       "      <td>Ilieff, Mr. Ylio</td>\n",
       "      <td>male</td>\n",
       "      <td>NaN</td>\n",
       "      <td>0</td>\n",
       "      <td>0</td>\n",
       "      <td>349220</td>\n",
       "      <td>7.8958</td>\n",
       "      <td>S</td>\n",
       "    </tr>\n",
       "    <tr>\n",
       "      <th>22</th>\n",
       "      <td>914</td>\n",
       "      <td>1</td>\n",
       "      <td>Flegenheim, Mrs. Alfred (Antoinette)</td>\n",
       "      <td>female</td>\n",
       "      <td>NaN</td>\n",
       "      <td>0</td>\n",
       "      <td>0</td>\n",
       "      <td>PC 17598</td>\n",
       "      <td>31.6833</td>\n",
       "      <td>S</td>\n",
       "    </tr>\n",
       "    <tr>\n",
       "      <th>29</th>\n",
       "      <td>921</td>\n",
       "      <td>3</td>\n",
       "      <td>Samaan, Mr. Elias</td>\n",
       "      <td>male</td>\n",
       "      <td>NaN</td>\n",
       "      <td>2</td>\n",
       "      <td>0</td>\n",
       "      <td>2662</td>\n",
       "      <td>21.6792</td>\n",
       "      <td>C</td>\n",
       "    </tr>\n",
       "    <tr>\n",
       "      <th>33</th>\n",
       "      <td>925</td>\n",
       "      <td>3</td>\n",
       "      <td>Johnston, Mrs. Andrew G (Elizabeth Lily\" Watson)\"</td>\n",
       "      <td>female</td>\n",
       "      <td>NaN</td>\n",
       "      <td>1</td>\n",
       "      <td>2</td>\n",
       "      <td>W./C. 6607</td>\n",
       "      <td>23.4500</td>\n",
       "      <td>S</td>\n",
       "    </tr>\n",
       "    <tr>\n",
       "      <th>36</th>\n",
       "      <td>928</td>\n",
       "      <td>3</td>\n",
       "      <td>Roth, Miss. Sarah A</td>\n",
       "      <td>female</td>\n",
       "      <td>NaN</td>\n",
       "      <td>0</td>\n",
       "      <td>0</td>\n",
       "      <td>342712</td>\n",
       "      <td>8.0500</td>\n",
       "      <td>S</td>\n",
       "    </tr>\n",
       "    <tr>\n",
       "      <th>...</th>\n",
       "      <td>...</td>\n",
       "      <td>...</td>\n",
       "      <td>...</td>\n",
       "      <td>...</td>\n",
       "      <td>...</td>\n",
       "      <td>...</td>\n",
       "      <td>...</td>\n",
       "      <td>...</td>\n",
       "      <td>...</td>\n",
       "      <td>...</td>\n",
       "    </tr>\n",
       "    <tr>\n",
       "      <th>408</th>\n",
       "      <td>1300</td>\n",
       "      <td>3</td>\n",
       "      <td>Riordan, Miss. Johanna Hannah\"\"</td>\n",
       "      <td>female</td>\n",
       "      <td>NaN</td>\n",
       "      <td>0</td>\n",
       "      <td>0</td>\n",
       "      <td>334915</td>\n",
       "      <td>7.7208</td>\n",
       "      <td>Q</td>\n",
       "    </tr>\n",
       "    <tr>\n",
       "      <th>410</th>\n",
       "      <td>1302</td>\n",
       "      <td>3</td>\n",
       "      <td>Naughton, Miss. Hannah</td>\n",
       "      <td>female</td>\n",
       "      <td>NaN</td>\n",
       "      <td>0</td>\n",
       "      <td>0</td>\n",
       "      <td>365237</td>\n",
       "      <td>7.7500</td>\n",
       "      <td>Q</td>\n",
       "    </tr>\n",
       "    <tr>\n",
       "      <th>413</th>\n",
       "      <td>1305</td>\n",
       "      <td>3</td>\n",
       "      <td>Spector, Mr. Woolf</td>\n",
       "      <td>male</td>\n",
       "      <td>NaN</td>\n",
       "      <td>0</td>\n",
       "      <td>0</td>\n",
       "      <td>A.5. 3236</td>\n",
       "      <td>8.0500</td>\n",
       "      <td>S</td>\n",
       "    </tr>\n",
       "    <tr>\n",
       "      <th>416</th>\n",
       "      <td>1308</td>\n",
       "      <td>3</td>\n",
       "      <td>Ware, Mr. Frederick</td>\n",
       "      <td>male</td>\n",
       "      <td>NaN</td>\n",
       "      <td>0</td>\n",
       "      <td>0</td>\n",
       "      <td>359309</td>\n",
       "      <td>8.0500</td>\n",
       "      <td>S</td>\n",
       "    </tr>\n",
       "    <tr>\n",
       "      <th>417</th>\n",
       "      <td>1309</td>\n",
       "      <td>3</td>\n",
       "      <td>Peter, Master. Michael J</td>\n",
       "      <td>male</td>\n",
       "      <td>NaN</td>\n",
       "      <td>1</td>\n",
       "      <td>1</td>\n",
       "      <td>2668</td>\n",
       "      <td>22.3583</td>\n",
       "      <td>C</td>\n",
       "    </tr>\n",
       "  </tbody>\n",
       "</table>\n",
       "<p>86 rows × 10 columns</p>\n",
       "</div>"
      ],
      "text/plain": [
       "     PassengerId  Pclass                                               Name  \\\n",
       "10           902       3                                   Ilieff, Mr. Ylio   \n",
       "22           914       1               Flegenheim, Mrs. Alfred (Antoinette)   \n",
       "29           921       3                                  Samaan, Mr. Elias   \n",
       "33           925       3  Johnston, Mrs. Andrew G (Elizabeth Lily\" Watson)\"   \n",
       "36           928       3                                Roth, Miss. Sarah A   \n",
       "..           ...     ...                                                ...   \n",
       "408         1300       3                    Riordan, Miss. Johanna Hannah\"\"   \n",
       "410         1302       3                             Naughton, Miss. Hannah   \n",
       "413         1305       3                                 Spector, Mr. Woolf   \n",
       "416         1308       3                                Ware, Mr. Frederick   \n",
       "417         1309       3                           Peter, Master. Michael J   \n",
       "\n",
       "        Sex  Age  SibSp  Parch      Ticket     Fare Embarked  \n",
       "10     male  NaN      0      0      349220   7.8958        S  \n",
       "22   female  NaN      0      0    PC 17598  31.6833        S  \n",
       "29     male  NaN      2      0        2662  21.6792        C  \n",
       "33   female  NaN      1      2  W./C. 6607  23.4500        S  \n",
       "36   female  NaN      0      0      342712   8.0500        S  \n",
       "..      ...  ...    ...    ...         ...      ...      ...  \n",
       "408  female  NaN      0      0      334915   7.7208        Q  \n",
       "410  female  NaN      0      0      365237   7.7500        Q  \n",
       "413    male  NaN      0      0   A.5. 3236   8.0500        S  \n",
       "416    male  NaN      0      0      359309   8.0500        S  \n",
       "417    male  NaN      1      1        2668  22.3583        C  \n",
       "\n",
       "[86 rows x 10 columns]"
      ]
     },
     "execution_count": 352,
     "metadata": {},
     "output_type": "execute_result"
    }
   ],
   "source": [
    "dnmdf2[dnmdf2.Age.isnull()==True]"
   ]
  },
  {
   "cell_type": "code",
   "execution_count": 353,
   "id": "0a2d46eb-facb-4a60-b912-c3bca0e037da",
   "metadata": {},
   "outputs": [
    {
     "data": {
      "text/plain": [
       "PC 17608    5\n",
       "113503      4\n",
       "CA. 2343    4\n",
       "220845      3\n",
       "16966       3\n",
       "           ..\n",
       "349909      1\n",
       "19924       1\n",
       "363611      1\n",
       "113791      1\n",
       "3101266     1\n",
       "Name: Ticket, Length: 363, dtype: int64"
      ]
     },
     "execution_count": 353,
     "metadata": {},
     "output_type": "execute_result"
    }
   ],
   "source": [
    "dnmdf2.Ticket.value_counts()"
   ]
  },
  {
   "cell_type": "code",
   "execution_count": 354,
   "id": "9bd5eef6-a84b-43fa-8e50-db09b425515c",
   "metadata": {},
   "outputs": [
    {
     "data": {
      "text/html": [
       "<div>\n",
       "<style scoped>\n",
       "    .dataframe tbody tr th:only-of-type {\n",
       "        vertical-align: middle;\n",
       "    }\n",
       "\n",
       "    .dataframe tbody tr th {\n",
       "        vertical-align: top;\n",
       "    }\n",
       "\n",
       "    .dataframe thead th {\n",
       "        text-align: right;\n",
       "    }\n",
       "</style>\n",
       "<table border=\"1\" class=\"dataframe\">\n",
       "  <thead>\n",
       "    <tr style=\"text-align: right;\">\n",
       "      <th></th>\n",
       "      <th>PassengerId</th>\n",
       "      <th>Pclass</th>\n",
       "      <th>Name</th>\n",
       "      <th>Sex</th>\n",
       "      <th>Age</th>\n",
       "      <th>SibSp</th>\n",
       "      <th>Parch</th>\n",
       "      <th>Ticket</th>\n",
       "      <th>Fare</th>\n",
       "      <th>Embarked</th>\n",
       "    </tr>\n",
       "  </thead>\n",
       "  <tbody>\n",
       "    <tr>\n",
       "      <th>24</th>\n",
       "      <td>916</td>\n",
       "      <td>1</td>\n",
       "      <td>Ryerson, Mrs. Arthur Larned (Emily Maria Borie)</td>\n",
       "      <td>female</td>\n",
       "      <td>48.0</td>\n",
       "      <td>1</td>\n",
       "      <td>3</td>\n",
       "      <td>PC 17608</td>\n",
       "      <td>262.375</td>\n",
       "      <td>C</td>\n",
       "    </tr>\n",
       "    <tr>\n",
       "      <th>59</th>\n",
       "      <td>951</td>\n",
       "      <td>1</td>\n",
       "      <td>Chaudanson, Miss. Victorine</td>\n",
       "      <td>female</td>\n",
       "      <td>36.0</td>\n",
       "      <td>0</td>\n",
       "      <td>0</td>\n",
       "      <td>PC 17608</td>\n",
       "      <td>262.375</td>\n",
       "      <td>C</td>\n",
       "    </tr>\n",
       "    <tr>\n",
       "      <th>64</th>\n",
       "      <td>956</td>\n",
       "      <td>1</td>\n",
       "      <td>Ryerson, Master. John Borie</td>\n",
       "      <td>male</td>\n",
       "      <td>13.0</td>\n",
       "      <td>2</td>\n",
       "      <td>2</td>\n",
       "      <td>PC 17608</td>\n",
       "      <td>262.375</td>\n",
       "      <td>C</td>\n",
       "    </tr>\n",
       "    <tr>\n",
       "      <th>142</th>\n",
       "      <td>1034</td>\n",
       "      <td>1</td>\n",
       "      <td>Ryerson, Mr. Arthur Larned</td>\n",
       "      <td>male</td>\n",
       "      <td>61.0</td>\n",
       "      <td>1</td>\n",
       "      <td>3</td>\n",
       "      <td>PC 17608</td>\n",
       "      <td>262.375</td>\n",
       "      <td>C</td>\n",
       "    </tr>\n",
       "    <tr>\n",
       "      <th>375</th>\n",
       "      <td>1267</td>\n",
       "      <td>1</td>\n",
       "      <td>Bowen, Miss. Grace Scott</td>\n",
       "      <td>female</td>\n",
       "      <td>45.0</td>\n",
       "      <td>0</td>\n",
       "      <td>0</td>\n",
       "      <td>PC 17608</td>\n",
       "      <td>262.375</td>\n",
       "      <td>C</td>\n",
       "    </tr>\n",
       "  </tbody>\n",
       "</table>\n",
       "</div>"
      ],
      "text/plain": [
       "     PassengerId  Pclass                                             Name  \\\n",
       "24           916       1  Ryerson, Mrs. Arthur Larned (Emily Maria Borie)   \n",
       "59           951       1                      Chaudanson, Miss. Victorine   \n",
       "64           956       1                      Ryerson, Master. John Borie   \n",
       "142         1034       1                       Ryerson, Mr. Arthur Larned   \n",
       "375         1267       1                         Bowen, Miss. Grace Scott   \n",
       "\n",
       "        Sex   Age  SibSp  Parch    Ticket     Fare Embarked  \n",
       "24   female  48.0      1      3  PC 17608  262.375        C  \n",
       "59   female  36.0      0      0  PC 17608  262.375        C  \n",
       "64     male  13.0      2      2  PC 17608  262.375        C  \n",
       "142    male  61.0      1      3  PC 17608  262.375        C  \n",
       "375  female  45.0      0      0  PC 17608  262.375        C  "
      ]
     },
     "execution_count": 354,
     "metadata": {},
     "output_type": "execute_result"
    }
   ],
   "source": [
    "dnmdf2[dnmdf2.Ticket == 'PC 17608']"
   ]
  },
  {
   "cell_type": "code",
   "execution_count": 355,
   "id": "9810959f-0e58-40be-b969-942ee5e8dddb",
   "metadata": {},
   "outputs": [
    {
     "data": {
      "text/plain": [
       "count    205.000000\n",
       "mean      30.272732\n",
       "std       13.389528\n",
       "min        0.330000\n",
       "25%       22.000000\n",
       "50%       27.000000\n",
       "75%       40.000000\n",
       "max       67.000000\n",
       "Name: Age, dtype: float64"
      ]
     },
     "execution_count": 355,
     "metadata": {},
     "output_type": "execute_result"
    }
   ],
   "source": [
    "(dnmdf2[dnmdf2.Sex == \"male\"]).Age.describe()"
   ]
  },
  {
   "cell_type": "code",
   "execution_count": 356,
   "id": "d42d7e40-62cb-4f68-bff6-6d6a5fb1c112",
   "metadata": {},
   "outputs": [
    {
     "data": {
      "text/html": [
       "<div>\n",
       "<style scoped>\n",
       "    .dataframe tbody tr th:only-of-type {\n",
       "        vertical-align: middle;\n",
       "    }\n",
       "\n",
       "    .dataframe tbody tr th {\n",
       "        vertical-align: top;\n",
       "    }\n",
       "\n",
       "    .dataframe thead th {\n",
       "        text-align: right;\n",
       "    }\n",
       "</style>\n",
       "<table border=\"1\" class=\"dataframe\">\n",
       "  <thead>\n",
       "    <tr style=\"text-align: right;\">\n",
       "      <th></th>\n",
       "      <th>PassengerId</th>\n",
       "      <th>Pclass</th>\n",
       "      <th>Name</th>\n",
       "      <th>Sex</th>\n",
       "      <th>Age</th>\n",
       "      <th>SibSp</th>\n",
       "      <th>Parch</th>\n",
       "      <th>Ticket</th>\n",
       "      <th>Fare</th>\n",
       "      <th>Embarked</th>\n",
       "    </tr>\n",
       "  </thead>\n",
       "  <tbody>\n",
       "    <tr>\n",
       "      <th>0</th>\n",
       "      <td>892</td>\n",
       "      <td>3</td>\n",
       "      <td>Kelly, Mr. James</td>\n",
       "      <td>male</td>\n",
       "      <td>34.5</td>\n",
       "      <td>0</td>\n",
       "      <td>0</td>\n",
       "      <td>330911</td>\n",
       "      <td>7.8292</td>\n",
       "      <td>Q</td>\n",
       "    </tr>\n",
       "    <tr>\n",
       "      <th>1</th>\n",
       "      <td>893</td>\n",
       "      <td>3</td>\n",
       "      <td>Wilkes, Mrs. James (Ellen Needs)</td>\n",
       "      <td>female</td>\n",
       "      <td>47.0</td>\n",
       "      <td>1</td>\n",
       "      <td>0</td>\n",
       "      <td>363272</td>\n",
       "      <td>7.0000</td>\n",
       "      <td>S</td>\n",
       "    </tr>\n",
       "    <tr>\n",
       "      <th>2</th>\n",
       "      <td>894</td>\n",
       "      <td>2</td>\n",
       "      <td>Myles, Mr. Thomas Francis</td>\n",
       "      <td>male</td>\n",
       "      <td>62.0</td>\n",
       "      <td>0</td>\n",
       "      <td>0</td>\n",
       "      <td>240276</td>\n",
       "      <td>9.6875</td>\n",
       "      <td>Q</td>\n",
       "    </tr>\n",
       "    <tr>\n",
       "      <th>3</th>\n",
       "      <td>895</td>\n",
       "      <td>3</td>\n",
       "      <td>Wirz, Mr. Albert</td>\n",
       "      <td>male</td>\n",
       "      <td>27.0</td>\n",
       "      <td>0</td>\n",
       "      <td>0</td>\n",
       "      <td>315154</td>\n",
       "      <td>8.6625</td>\n",
       "      <td>S</td>\n",
       "    </tr>\n",
       "    <tr>\n",
       "      <th>4</th>\n",
       "      <td>896</td>\n",
       "      <td>3</td>\n",
       "      <td>Hirvonen, Mrs. Alexander (Helga E Lindqvist)</td>\n",
       "      <td>female</td>\n",
       "      <td>22.0</td>\n",
       "      <td>1</td>\n",
       "      <td>1</td>\n",
       "      <td>3101298</td>\n",
       "      <td>12.2875</td>\n",
       "      <td>S</td>\n",
       "    </tr>\n",
       "    <tr>\n",
       "      <th>5</th>\n",
       "      <td>897</td>\n",
       "      <td>3</td>\n",
       "      <td>Svensson, Mr. Johan Cervin</td>\n",
       "      <td>male</td>\n",
       "      <td>14.0</td>\n",
       "      <td>0</td>\n",
       "      <td>0</td>\n",
       "      <td>7538</td>\n",
       "      <td>9.2250</td>\n",
       "      <td>S</td>\n",
       "    </tr>\n",
       "    <tr>\n",
       "      <th>6</th>\n",
       "      <td>898</td>\n",
       "      <td>3</td>\n",
       "      <td>Connolly, Miss. Kate</td>\n",
       "      <td>female</td>\n",
       "      <td>30.0</td>\n",
       "      <td>0</td>\n",
       "      <td>0</td>\n",
       "      <td>330972</td>\n",
       "      <td>7.6292</td>\n",
       "      <td>Q</td>\n",
       "    </tr>\n",
       "    <tr>\n",
       "      <th>7</th>\n",
       "      <td>899</td>\n",
       "      <td>2</td>\n",
       "      <td>Caldwell, Mr. Albert Francis</td>\n",
       "      <td>male</td>\n",
       "      <td>26.0</td>\n",
       "      <td>1</td>\n",
       "      <td>1</td>\n",
       "      <td>248738</td>\n",
       "      <td>29.0000</td>\n",
       "      <td>S</td>\n",
       "    </tr>\n",
       "    <tr>\n",
       "      <th>8</th>\n",
       "      <td>900</td>\n",
       "      <td>3</td>\n",
       "      <td>Abrahim, Mrs. Joseph (Sophie Halaut Easu)</td>\n",
       "      <td>female</td>\n",
       "      <td>18.0</td>\n",
       "      <td>0</td>\n",
       "      <td>0</td>\n",
       "      <td>2657</td>\n",
       "      <td>7.2292</td>\n",
       "      <td>C</td>\n",
       "    </tr>\n",
       "    <tr>\n",
       "      <th>9</th>\n",
       "      <td>901</td>\n",
       "      <td>3</td>\n",
       "      <td>Davies, Mr. John Samuel</td>\n",
       "      <td>male</td>\n",
       "      <td>21.0</td>\n",
       "      <td>2</td>\n",
       "      <td>0</td>\n",
       "      <td>A/4 48871</td>\n",
       "      <td>24.1500</td>\n",
       "      <td>S</td>\n",
       "    </tr>\n",
       "  </tbody>\n",
       "</table>\n",
       "</div>"
      ],
      "text/plain": [
       "   PassengerId  Pclass                                          Name     Sex  \\\n",
       "0          892       3                              Kelly, Mr. James    male   \n",
       "1          893       3              Wilkes, Mrs. James (Ellen Needs)  female   \n",
       "2          894       2                     Myles, Mr. Thomas Francis    male   \n",
       "3          895       3                              Wirz, Mr. Albert    male   \n",
       "4          896       3  Hirvonen, Mrs. Alexander (Helga E Lindqvist)  female   \n",
       "5          897       3                    Svensson, Mr. Johan Cervin    male   \n",
       "6          898       3                          Connolly, Miss. Kate  female   \n",
       "7          899       2                  Caldwell, Mr. Albert Francis    male   \n",
       "8          900       3     Abrahim, Mrs. Joseph (Sophie Halaut Easu)  female   \n",
       "9          901       3                       Davies, Mr. John Samuel    male   \n",
       "\n",
       "    Age  SibSp  Parch     Ticket     Fare Embarked  \n",
       "0  34.5      0      0     330911   7.8292        Q  \n",
       "1  47.0      1      0     363272   7.0000        S  \n",
       "2  62.0      0      0     240276   9.6875        Q  \n",
       "3  27.0      0      0     315154   8.6625        S  \n",
       "4  22.0      1      1    3101298  12.2875        S  \n",
       "5  14.0      0      0       7538   9.2250        S  \n",
       "6  30.0      0      0     330972   7.6292        Q  \n",
       "7  26.0      1      1     248738  29.0000        S  \n",
       "8  18.0      0      0       2657   7.2292        C  \n",
       "9  21.0      2      0  A/4 48871  24.1500        S  "
      ]
     },
     "execution_count": 356,
     "metadata": {},
     "output_type": "execute_result"
    }
   ],
   "source": [
    "dnmdf2.head(10)"
   ]
  },
  {
   "cell_type": "code",
   "execution_count": 357,
   "id": "d5b7c057-0d01-4057-a120-a14b211fa13f",
   "metadata": {},
   "outputs": [],
   "source": [
    "#PClass=3\n",
    "mean = int(dnmdf2[(dnmdf2.Pclass == 3) & (dnmdf2.Sex==\"female\")].Age.mean())\n",
    "dnmdf_fill = dnmdf2[(dnmdf2.Pclass == 3) & (dnmdf2.Sex==\"female\") & (dnmdf2.Age.isnull() == True)]\n",
    "dnmdf_fill[\"Age\"] = dnmdf_fill[\"Age\"].fillna(mean)\n",
    "for i in dnmdf_fill.index:\n",
    "    dnmdf2.loc[dnmdf2.index == i] = dnmdf_fill.loc[dnmdf_fill.index == i]"
   ]
  },
  {
   "cell_type": "code",
   "execution_count": 358,
   "id": "b12a7a29-bab7-48ee-82e4-8241e80c651d",
   "metadata": {},
   "outputs": [],
   "source": [
    "mean = int(dnmdf2[(dnmdf2.Pclass == 3) & (dnmdf2.Sex==\"male\")].Age.mean())\n",
    "dnmdf_fill = dnmdf2[(dnmdf2.Pclass == 3) & (dnmdf2.Sex==\"male\") & (dnmdf2.Age.isnull() == True)]\n",
    "dnmdf_fill[\"Age\"] = dnmdf_fill[\"Age\"].fillna(mean)\n",
    "for i in dnmdf_fill.index:\n",
    "    dnmdf2.loc[dnmdf2.index == i] = dnmdf_fill.loc[dnmdf_fill.index == i]"
   ]
  },
  {
   "cell_type": "code",
   "execution_count": 359,
   "id": "6a349c64-04e9-4464-994d-b065c61dfb58",
   "metadata": {},
   "outputs": [],
   "source": [
    "#PClass = 2\n",
    "mean = int(dnmdf2[(dnmdf2.Pclass == 2) & (dnmdf2.Sex==\"female\")].Age.mean())\n",
    "dnmdf_fill = dnmdf2[(dnmdf2.Pclass == 2) & (dnmdf2.Sex==\"female\") & (dnmdf2.Age.isnull() == True)]\n",
    "dnmdf_fill[\"Age\"] = dnmdf_fill[\"Age\"].fillna(mean)\n",
    "for i in dnmdf_fill.index:\n",
    "    dnmdf2.loc[dnmdf2.index == i] = dnmdf_fill.loc[dnmdf_fill.index == i]"
   ]
  },
  {
   "cell_type": "code",
   "execution_count": 360,
   "id": "cf87538e-126a-4aad-a12a-3ec86fe51619",
   "metadata": {
    "tags": []
   },
   "outputs": [],
   "source": [
    "mean = int(dnmdf2[(dnmdf2.Pclass == 2) & (dnmdf2.Sex==\"male\")].Age.mean())\n",
    "dnmdf_fill = dnmdf2[(dnmdf2.Pclass == 2) & (dnmdf2.Sex==\"male\") & (dnmdf2.Age.isnull() == True)]\n",
    "dnmdf_fill[\"Age\"] = dnmdf_fill[\"Age\"].fillna(mean)\n",
    "for i in dnmdf_fill.index:\n",
    "    dnmdf2.loc[dnmdf2.index == i] = dnmdf_fill.loc[dnmdf_fill.index == i]"
   ]
  },
  {
   "cell_type": "code",
   "execution_count": 361,
   "id": "38b3f243-5228-4dc0-ae23-0f0f514b68bc",
   "metadata": {
    "tags": []
   },
   "outputs": [],
   "source": [
    "#PClass = 1\n",
    "mean = int(dnmdf2[(dnmdf2.Pclass == 1) & (dnmdf2.Sex==\"female\")].Age.mean())\n",
    "dnmdf_fill = dnmdf2[(dnmdf2.Pclass == 1) & (dnmdf2.Sex==\"female\") & (dnmdf2.Age.isnull() == True)]\n",
    "dnmdf_fill[\"Age\"] = dnmdf_fill[\"Age\"].fillna(mean)\n",
    "for i in dnmdf_fill.index:\n",
    "    dnmdf2.loc[dnmdf2.index == i] = dnmdf_fill.loc[dnmdf_fill.index == i]"
   ]
  },
  {
   "cell_type": "code",
   "execution_count": 362,
   "id": "bdd17115-438e-4602-9c77-4fc833f135e2",
   "metadata": {},
   "outputs": [],
   "source": [
    "mean = int(dnmdf2[(dnmdf2.Pclass == 1) & (dnmdf2.Sex==\"male\")].Age.mean())\n",
    "dnmdf_fill = dnmdf2[(dnmdf2.Pclass == 1) & (dnmdf2.Sex==\"male\") & (dnmdf2.Age.isnull() == True)]\n",
    "dnmdf_fill[\"Age\"] = dnmdf_fill[\"Age\"].fillna(mean)\n",
    "for i in dnmdf_fill.index:\n",
    "    dnmdf2.loc[dnmdf2.index == i] = dnmdf_fill.loc[dnmdf_fill.index == i]"
   ]
  },
  {
   "cell_type": "code",
   "execution_count": 363,
   "id": "b501eea8-a90b-4ae7-acfc-265928c968da",
   "metadata": {},
   "outputs": [
    {
     "name": "stdout",
     "output_type": "stream",
     "text": [
      "<class 'pandas.core.frame.DataFrame'>\n",
      "RangeIndex: 418 entries, 0 to 417\n",
      "Data columns (total 10 columns):\n",
      " #   Column       Non-Null Count  Dtype  \n",
      "---  ------       --------------  -----  \n",
      " 0   PassengerId  418 non-null    int64  \n",
      " 1   Pclass       418 non-null    int64  \n",
      " 2   Name         418 non-null    object \n",
      " 3   Sex          418 non-null    object \n",
      " 4   Age          418 non-null    float64\n",
      " 5   SibSp        418 non-null    int64  \n",
      " 6   Parch        418 non-null    int64  \n",
      " 7   Ticket       418 non-null    object \n",
      " 8   Fare         417 non-null    float64\n",
      " 9   Embarked     418 non-null    object \n",
      "dtypes: float64(2), int64(4), object(4)\n",
      "memory usage: 32.8+ KB\n"
     ]
    }
   ],
   "source": [
    "dnmdf2.info()"
   ]
  },
  {
   "cell_type": "code",
   "execution_count": 364,
   "id": "98f700c2-05d1-4980-a924-d13f0da69abe",
   "metadata": {},
   "outputs": [
    {
     "data": {
      "text/plain": [
       "152    25.0\n",
       "Name: Fare, dtype: float64"
      ]
     },
     "execution_count": 364,
     "metadata": {},
     "output_type": "execute_result"
    }
   ],
   "source": [
    "dnmdf2[dnmdf2.isnull().any(axis=1)].Fare.fillna(25)"
   ]
  },
  {
   "cell_type": "code",
   "execution_count": null,
   "id": "1bba6740-79fa-48c8-8649-8f634579215a",
   "metadata": {},
   "outputs": [],
   "source": []
  },
  {
   "cell_type": "code",
   "execution_count": 365,
   "id": "66fd095c-c502-4817-82a6-8390c5a49361",
   "metadata": {},
   "outputs": [],
   "source": [
    "fare = dnmdf2[(dnmdf2.Pclass==3) & (dnmdf2.Sex==\"male\") & (dnmdf2.Age>30)].Fare.quantile(0.75)"
   ]
  },
  {
   "cell_type": "code",
   "execution_count": 366,
   "id": "fc95a9f5-f227-4738-8ce0-b7568b37a3d6",
   "metadata": {},
   "outputs": [
    {
     "data": {
      "text/html": [
       "<div>\n",
       "<style scoped>\n",
       "    .dataframe tbody tr th:only-of-type {\n",
       "        vertical-align: middle;\n",
       "    }\n",
       "\n",
       "    .dataframe tbody tr th {\n",
       "        vertical-align: top;\n",
       "    }\n",
       "\n",
       "    .dataframe thead th {\n",
       "        text-align: right;\n",
       "    }\n",
       "</style>\n",
       "<table border=\"1\" class=\"dataframe\">\n",
       "  <thead>\n",
       "    <tr style=\"text-align: right;\">\n",
       "      <th></th>\n",
       "      <th>PassengerId</th>\n",
       "      <th>Pclass</th>\n",
       "      <th>Name</th>\n",
       "      <th>Sex</th>\n",
       "      <th>Age</th>\n",
       "      <th>SibSp</th>\n",
       "      <th>Parch</th>\n",
       "      <th>Ticket</th>\n",
       "      <th>Fare</th>\n",
       "      <th>Embarked</th>\n",
       "    </tr>\n",
       "  </thead>\n",
       "  <tbody>\n",
       "    <tr>\n",
       "      <th>152</th>\n",
       "      <td>1044</td>\n",
       "      <td>3</td>\n",
       "      <td>Storey, Mr. Thomas</td>\n",
       "      <td>male</td>\n",
       "      <td>60.5</td>\n",
       "      <td>0</td>\n",
       "      <td>0</td>\n",
       "      <td>3701</td>\n",
       "      <td>NaN</td>\n",
       "      <td>S</td>\n",
       "    </tr>\n",
       "  </tbody>\n",
       "</table>\n",
       "</div>"
      ],
      "text/plain": [
       "     PassengerId  Pclass                Name   Sex   Age  SibSp  Parch Ticket  \\\n",
       "152         1044       3  Storey, Mr. Thomas  male  60.5      0      0   3701   \n",
       "\n",
       "     Fare Embarked  \n",
       "152   NaN        S  "
      ]
     },
     "execution_count": 366,
     "metadata": {},
     "output_type": "execute_result"
    }
   ],
   "source": [
    "dnmdf2[dnmdf2.isnull().any(axis=1)]"
   ]
  },
  {
   "cell_type": "code",
   "execution_count": 367,
   "id": "2fb883b3-690d-4e0d-9add-6920807bd471",
   "metadata": {},
   "outputs": [],
   "source": [
    "dnmdf_fill = dnmdf2[dnmdf2.Ticket=='3701']\n",
    "dnmdf_fill[\"Fare\"] = dnmdf_fill[\"Age\"].fillna(fare)\n",
    "for i in dnmdf_fill.index:\n",
    "    dnmdf2.loc[dnmdf2.index == i] = dnmdf_fill.loc[dnmdf_fill.index == i]"
   ]
  },
  {
   "cell_type": "code",
   "execution_count": null,
   "id": "b8f42095-7f0b-4100-af0a-20120e6e50b7",
   "metadata": {
    "collapsed": true,
    "jupyter": {
     "outputs_hidden": true
    },
    "tags": []
   },
   "outputs": [],
   "source": []
  },
  {
   "cell_type": "code",
   "execution_count": 368,
   "id": "224757bd-a8e4-4c01-9716-0b273dc6b7be",
   "metadata": {},
   "outputs": [],
   "source": [
    "from sklearn.linear_model import LogisticRegression\n",
    "from sklearn.model_selection import GridSearchCV"
   ]
  },
  {
   "cell_type": "code",
   "execution_count": 369,
   "id": "33ede548-3c65-434e-9819-4401eeeb4278",
   "metadata": {
    "tags": []
   },
   "outputs": [
    {
     "name": "stdout",
     "output_type": "stream",
     "text": [
      "Fitting 10 folds for each of 4 candidates, totalling 40 fits\n",
      "[CV] penalty=l1 ......................................................\n",
      "[CV] ............................ penalty=l1, score=nan, total=   0.0s\n",
      "[CV] penalty=l1 ......................................................\n",
      "[CV] ............................ penalty=l1, score=nan, total=   0.0s\n",
      "[CV] penalty=l1 ......................................................\n",
      "[CV] ............................ penalty=l1, score=nan, total=   0.0s\n",
      "[CV] penalty=l1 ......................................................\n",
      "[CV] ............................ penalty=l1, score=nan, total=   0.0s\n",
      "[CV] penalty=l1 ......................................................\n",
      "[CV] ............................ penalty=l1, score=nan, total=   0.0s\n",
      "[CV] penalty=l1 ......................................................\n",
      "[CV] ............................ penalty=l1, score=nan, total=   0.0s\n",
      "[CV] penalty=l1 ......................................................\n",
      "[CV] ............................ penalty=l1, score=nan, total=   0.0s\n",
      "[CV] penalty=l1 ......................................................\n",
      "[CV] ............................ penalty=l1, score=nan, total=   0.0s\n",
      "[CV] penalty=l1 ......................................................\n",
      "[CV] ............................ penalty=l1, score=nan, total=   0.0s\n",
      "[CV] penalty=l1 ......................................................\n",
      "[CV] ............................ penalty=l1, score=nan, total=   0.0s\n",
      "[CV] penalty=l2 ......................................................\n",
      "[CV] .......................... penalty=l2, score=0.787, total=   0.1s\n",
      "[CV] penalty=l2 ......................................................\n"
     ]
    },
    {
     "name": "stderr",
     "output_type": "stream",
     "text": [
      "[Parallel(n_jobs=1)]: Using backend SequentialBackend with 1 concurrent workers.\n",
      "C:\\Users\\Seyma\\anaconda3\\envs\\kod\\lib\\site-packages\\sklearn\\model_selection\\_validation.py:552: FitFailedWarning: Estimator fit failed. The score on this train-test partition for these parameters will be set to nan. Details: \n",
      "Traceback (most recent call last):\n",
      "  File \"C:\\Users\\Seyma\\anaconda3\\envs\\kod\\lib\\site-packages\\sklearn\\model_selection\\_validation.py\", line 531, in _fit_and_score\n",
      "    estimator.fit(X_train, y_train, **fit_params)\n",
      "  File \"C:\\Users\\Seyma\\anaconda3\\envs\\kod\\lib\\site-packages\\sklearn\\linear_model\\_logistic.py\", line 1304, in fit\n",
      "    solver = _check_solver(self.solver, self.penalty, self.dual)\n",
      "  File \"C:\\Users\\Seyma\\anaconda3\\envs\\kod\\lib\\site-packages\\sklearn\\linear_model\\_logistic.py\", line 443, in _check_solver\n",
      "    \"got %s penalty.\" % (solver, penalty))\n",
      "ValueError: Solver lbfgs supports only 'l2' or 'none' penalties, got l1 penalty.\n",
      "\n",
      "  FitFailedWarning)\n",
      "[Parallel(n_jobs=1)]: Done   1 out of   1 | elapsed:    0.0s remaining:    0.0s\n",
      "[Parallel(n_jobs=1)]: Done   2 out of   2 | elapsed:    0.0s remaining:    0.0s\n"
     ]
    },
    {
     "name": "stdout",
     "output_type": "stream",
     "text": [
      "[CV] .......................... penalty=l2, score=0.798, total=   0.1s\n",
      "[CV] penalty=l2 ......................................................\n",
      "[CV] .......................... penalty=l2, score=0.753, total=   0.1s\n",
      "[CV] penalty=l2 ......................................................\n",
      "[CV] .......................... penalty=l2, score=0.831, total=   0.1s\n",
      "[CV] penalty=l2 ......................................................\n",
      "[CV] .......................... penalty=l2, score=0.798, total=   0.0s\n",
      "[CV] penalty=l2 ......................................................\n"
     ]
    },
    {
     "name": "stderr",
     "output_type": "stream",
     "text": [
      "C:\\Users\\Seyma\\anaconda3\\envs\\kod\\lib\\site-packages\\sklearn\\linear_model\\_logistic.py:764: ConvergenceWarning: lbfgs failed to converge (status=1):\n",
      "STOP: TOTAL NO. of ITERATIONS REACHED LIMIT.\n",
      "\n",
      "Increase the number of iterations (max_iter) or scale the data as shown in:\n",
      "    https://scikit-learn.org/stable/modules/preprocessing.html\n",
      "Please also refer to the documentation for alternative solver options:\n",
      "    https://scikit-learn.org/stable/modules/linear_model.html#logistic-regression\n",
      "  extra_warning_msg=_LOGISTIC_SOLVER_CONVERGENCE_MSG)\n"
     ]
    },
    {
     "name": "stdout",
     "output_type": "stream",
     "text": [
      "[CV] .......................... penalty=l2, score=0.775, total=   0.1s\n",
      "[CV] penalty=l2 ......................................................\n",
      "[CV] .......................... penalty=l2, score=0.775, total=   0.1s\n",
      "[CV] penalty=l2 ......................................................\n",
      "[CV] .......................... penalty=l2, score=0.775, total=   0.1s\n",
      "[CV] penalty=l2 ......................................................\n",
      "[CV] .......................... penalty=l2, score=0.831, total=   0.1s"
     ]
    },
    {
     "name": "stderr",
     "output_type": "stream",
     "text": [
      "C:\\Users\\Seyma\\anaconda3\\envs\\kod\\lib\\site-packages\\sklearn\\linear_model\\_logistic.py:764: ConvergenceWarning: lbfgs failed to converge (status=1):\n",
      "STOP: TOTAL NO. of ITERATIONS REACHED LIMIT.\n",
      "\n",
      "Increase the number of iterations (max_iter) or scale the data as shown in:\n",
      "    https://scikit-learn.org/stable/modules/preprocessing.html\n",
      "Please also refer to the documentation for alternative solver options:\n",
      "    https://scikit-learn.org/stable/modules/linear_model.html#logistic-regression\n",
      "  extra_warning_msg=_LOGISTIC_SOLVER_CONVERGENCE_MSG)\n",
      "C:\\Users\\Seyma\\anaconda3\\envs\\kod\\lib\\site-packages\\sklearn\\linear_model\\_logistic.py:764: ConvergenceWarning: lbfgs failed to converge (status=1):\n",
      "STOP: TOTAL NO. of ITERATIONS REACHED LIMIT.\n",
      "\n",
      "Increase the number of iterations (max_iter) or scale the data as shown in:\n",
      "    https://scikit-learn.org/stable/modules/preprocessing.html\n",
      "Please also refer to the documentation for alternative solver options:\n",
      "    https://scikit-learn.org/stable/modules/linear_model.html#logistic-regression\n",
      "  extra_warning_msg=_LOGISTIC_SOLVER_CONVERGENCE_MSG)\n",
      "C:\\Users\\Seyma\\anaconda3\\envs\\kod\\lib\\site-packages\\sklearn\\model_selection\\_validation.py:552: FitFailedWarning: Estimator fit failed. The score on this train-test partition for these parameters will be set to nan. Details: \n",
      "Traceback (most recent call last):\n",
      "  File \"C:\\Users\\Seyma\\anaconda3\\envs\\kod\\lib\\site-packages\\sklearn\\model_selection\\_validation.py\", line 531, in _fit_and_score\n",
      "    estimator.fit(X_train, y_train, **fit_params)\n",
      "  File \"C:\\Users\\Seyma\\anaconda3\\envs\\kod\\lib\\site-packages\\sklearn\\linear_model\\_logistic.py\", line 1304, in fit\n",
      "    solver = _check_solver(self.solver, self.penalty, self.dual)\n",
      "  File \"C:\\Users\\Seyma\\anaconda3\\envs\\kod\\lib\\site-packages\\sklearn\\linear_model\\_logistic.py\", line 443, in _check_solver\n",
      "    \"got %s penalty.\" % (solver, penalty))\n",
      "ValueError: Solver lbfgs supports only 'l2' or 'none' penalties, got elasticnet penalty.\n",
      "\n",
      "  FitFailedWarning)\n"
     ]
    },
    {
     "name": "stdout",
     "output_type": "stream",
     "text": [
      "\n",
      "[CV] penalty=l2 ......................................................\n",
      "[CV] .......................... penalty=l2, score=0.841, total=   0.1s\n",
      "[CV] penalty=elasticnet ..............................................\n",
      "[CV] .................... penalty=elasticnet, score=nan, total=   0.0s\n",
      "[CV] penalty=elasticnet ..............................................\n",
      "[CV] .................... penalty=elasticnet, score=nan, total=   0.0s\n",
      "[CV] penalty=elasticnet ..............................................\n",
      "[CV] .................... penalty=elasticnet, score=nan, total=   0.0s\n",
      "[CV] penalty=elasticnet ..............................................\n",
      "[CV] .................... penalty=elasticnet, score=nan, total=   0.0s\n",
      "[CV] penalty=elasticnet ..............................................\n",
      "[CV] .................... penalty=elasticnet, score=nan, total=   0.0s\n",
      "[CV] penalty=elasticnet ..............................................\n",
      "[CV] .................... penalty=elasticnet, score=nan, total=   0.0s\n",
      "[CV] penalty=elasticnet ..............................................\n",
      "[CV] .................... penalty=elasticnet, score=nan, total=   0.0s\n",
      "[CV] penalty=elasticnet ..............................................\n",
      "[CV] .................... penalty=elasticnet, score=nan, total=   0.0s\n",
      "[CV] penalty=elasticnet ..............................................\n",
      "[CV] .................... penalty=elasticnet, score=nan, total=   0.0s\n",
      "[CV] penalty=elasticnet ..............................................\n",
      "[CV] .................... penalty=elasticnet, score=nan, total=   0.0s\n",
      "[CV] penalty=none ....................................................\n",
      "[CV] ........................ penalty=none, score=0.787, total=   0.1s\n",
      "[CV] penalty=none ....................................................\n",
      "[CV] ........................ penalty=none, score=0.798, total=   0.1s\n",
      "[CV] penalty=none ....................................................\n",
      "[CV] ........................ penalty=none, score=0.753, total=   0.0s\n",
      "[CV] penalty=none ....................................................\n",
      "[CV] ........................ penalty=none, score=0.831, total=   0.0s\n",
      "[CV] penalty=none ....................................................\n",
      "[CV] ........................ penalty=none, score=0.798, total=   0.1s\n",
      "[CV] penalty=none ....................................................\n",
      "[CV] ........................ penalty=none, score=0.775, total=   0.1s\n",
      "[CV] penalty=none ....................................................\n"
     ]
    },
    {
     "name": "stderr",
     "output_type": "stream",
     "text": [
      "C:\\Users\\Seyma\\anaconda3\\envs\\kod\\lib\\site-packages\\sklearn\\linear_model\\_logistic.py:764: ConvergenceWarning: lbfgs failed to converge (status=1):\n",
      "STOP: TOTAL NO. of ITERATIONS REACHED LIMIT.\n",
      "\n",
      "Increase the number of iterations (max_iter) or scale the data as shown in:\n",
      "    https://scikit-learn.org/stable/modules/preprocessing.html\n",
      "Please also refer to the documentation for alternative solver options:\n",
      "    https://scikit-learn.org/stable/modules/linear_model.html#logistic-regression\n",
      "  extra_warning_msg=_LOGISTIC_SOLVER_CONVERGENCE_MSG)\n",
      "C:\\Users\\Seyma\\anaconda3\\envs\\kod\\lib\\site-packages\\sklearn\\linear_model\\_logistic.py:764: ConvergenceWarning: lbfgs failed to converge (status=1):\n",
      "STOP: TOTAL NO. of ITERATIONS REACHED LIMIT.\n",
      "\n",
      "Increase the number of iterations (max_iter) or scale the data as shown in:\n",
      "    https://scikit-learn.org/stable/modules/preprocessing.html\n",
      "Please also refer to the documentation for alternative solver options:\n",
      "    https://scikit-learn.org/stable/modules/linear_model.html#logistic-regression\n",
      "  extra_warning_msg=_LOGISTIC_SOLVER_CONVERGENCE_MSG)\n",
      "C:\\Users\\Seyma\\anaconda3\\envs\\kod\\lib\\site-packages\\sklearn\\linear_model\\_logistic.py:764: ConvergenceWarning: lbfgs failed to converge (status=1):\n",
      "STOP: TOTAL NO. of ITERATIONS REACHED LIMIT.\n",
      "\n",
      "Increase the number of iterations (max_iter) or scale the data as shown in:\n",
      "    https://scikit-learn.org/stable/modules/preprocessing.html\n",
      "Please also refer to the documentation for alternative solver options:\n",
      "    https://scikit-learn.org/stable/modules/linear_model.html#logistic-regression\n",
      "  extra_warning_msg=_LOGISTIC_SOLVER_CONVERGENCE_MSG)\n"
     ]
    },
    {
     "name": "stdout",
     "output_type": "stream",
     "text": [
      "[CV] ........................ penalty=none, score=0.775, total=   0.1s\n",
      "[CV] penalty=none ....................................................\n",
      "[CV] ........................ penalty=none, score=0.775, total=   0.1s\n",
      "[CV] penalty=none ....................................................\n",
      "[CV] ........................ penalty=none, score=0.831, total=   0.0s\n",
      "[CV] penalty=none ....................................................\n",
      "[CV] ........................ penalty=none, score=0.830, total=   0.0s\n",
      "En iyi hiperparametreler..: {'penalty': 'l2'}\n",
      "En iyi hiperparametrelere göre en iyi doğruluk değeri..: 0.7964504596527069\n"
     ]
    },
    {
     "name": "stderr",
     "output_type": "stream",
     "text": [
      "C:\\Users\\Seyma\\anaconda3\\envs\\kod\\lib\\site-packages\\sklearn\\linear_model\\_logistic.py:764: ConvergenceWarning: lbfgs failed to converge (status=1):\n",
      "STOP: TOTAL NO. of ITERATIONS REACHED LIMIT.\n",
      "\n",
      "Increase the number of iterations (max_iter) or scale the data as shown in:\n",
      "    https://scikit-learn.org/stable/modules/preprocessing.html\n",
      "Please also refer to the documentation for alternative solver options:\n",
      "    https://scikit-learn.org/stable/modules/linear_model.html#logistic-regression\n",
      "  extra_warning_msg=_LOGISTIC_SOLVER_CONVERGENCE_MSG)\n",
      "C:\\Users\\Seyma\\anaconda3\\envs\\kod\\lib\\site-packages\\sklearn\\linear_model\\_logistic.py:764: ConvergenceWarning: lbfgs failed to converge (status=1):\n",
      "STOP: TOTAL NO. of ITERATIONS REACHED LIMIT.\n",
      "\n",
      "Increase the number of iterations (max_iter) or scale the data as shown in:\n",
      "    https://scikit-learn.org/stable/modules/preprocessing.html\n",
      "Please also refer to the documentation for alternative solver options:\n",
      "    https://scikit-learn.org/stable/modules/linear_model.html#logistic-regression\n",
      "  extra_warning_msg=_LOGISTIC_SOLVER_CONVERGENCE_MSG)\n",
      "[Parallel(n_jobs=1)]: Done  40 out of  40 | elapsed:    1.3s finished\n"
     ]
    }
   ],
   "source": [
    "grid = {'penalty':['l1', 'l2', 'elasticnet', 'none']}\n",
    "\n",
    "logreg = LogisticRegression()\n",
    "logreg_cv = GridSearchCV(logreg, grid, cv = 10, verbose=3)\n",
    "logreg_cv.fit(x,y)\n",
    "print(\"En iyi hiperparametreler..:\",logreg_cv.best_params_)\n",
    "print(\"En iyi hiperparametrelere göre en iyi doğruluk değeri..:\",logreg_cv.best_score_)"
   ]
  },
  {
   "cell_type": "code",
   "execution_count": 370,
   "id": "7dee1418-a9f9-4eaa-94e9-36f2ed67805c",
   "metadata": {},
   "outputs": [],
   "source": [
    "index = dnmdf2.PassengerId\n",
    "dnmdf2 = dnmdf2.drop(['PassengerId','Name','Ticket'],axis=1)"
   ]
  },
  {
   "cell_type": "code",
   "execution_count": 371,
   "id": "28e12b72-1cb3-407f-bbeb-ef7190502803",
   "metadata": {},
   "outputs": [],
   "source": [
    "dict1 = {\"Sex\":{\"male\":1,\"female\":0},\n",
    "        \"Embarked\":{\"C\":1, \"Q\":2, \"S\":3}}\n",
    "\n",
    "dnmdf2 = dnmdf2.replace(dict1)"
   ]
  },
  {
   "cell_type": "code",
   "execution_count": 372,
   "id": "db9c4ebd-ca78-46df-93b3-d823644a934f",
   "metadata": {},
   "outputs": [],
   "source": [
    "y_pred=logreg_cv.predict(dnmdf2)"
   ]
  },
  {
   "cell_type": "code",
   "execution_count": null,
   "id": "9025124f-e3b3-4ac3-8071-06c86a5920d0",
   "metadata": {},
   "outputs": [],
   "source": []
  },
  {
   "cell_type": "code",
   "execution_count": 373,
   "id": "7af11413-2097-45ae-b331-35b6620a3be1",
   "metadata": {},
   "outputs": [],
   "source": [
    "dict1 = {\"PassengerId\":index,\n",
    "        \"Survived\":y_pred}"
   ]
  },
  {
   "cell_type": "code",
   "execution_count": 374,
   "id": "98c1adf1-e55c-4ed7-80fd-6853b59720b7",
   "metadata": {},
   "outputs": [],
   "source": [
    "pred_df = pd.DataFrame(data=dict1)\n",
    "pred_df.to_csv('prediction.csv', index=False)"
   ]
  },
  {
   "cell_type": "code",
   "execution_count": 375,
   "id": "7f5cecda-67c9-4a76-b3c4-b7093e8e9cfd",
   "metadata": {},
   "outputs": [],
   "source": [
    "pred_df_deneme = pd.read_csv(\"prediction.csv\", index_col=0)"
   ]
  },
  {
   "cell_type": "code",
   "execution_count": 376,
   "id": "c5f74884-3ebe-457c-9d53-b872c70968c1",
   "metadata": {},
   "outputs": [
    {
     "data": {
      "text/html": [
       "<div>\n",
       "<style scoped>\n",
       "    .dataframe tbody tr th:only-of-type {\n",
       "        vertical-align: middle;\n",
       "    }\n",
       "\n",
       "    .dataframe tbody tr th {\n",
       "        vertical-align: top;\n",
       "    }\n",
       "\n",
       "    .dataframe thead th {\n",
       "        text-align: right;\n",
       "    }\n",
       "</style>\n",
       "<table border=\"1\" class=\"dataframe\">\n",
       "  <thead>\n",
       "    <tr style=\"text-align: right;\">\n",
       "      <th></th>\n",
       "      <th>Survived</th>\n",
       "    </tr>\n",
       "    <tr>\n",
       "      <th>PassengerId</th>\n",
       "      <th></th>\n",
       "    </tr>\n",
       "  </thead>\n",
       "  <tbody>\n",
       "    <tr>\n",
       "      <th>892</th>\n",
       "      <td>0</td>\n",
       "    </tr>\n",
       "    <tr>\n",
       "      <th>893</th>\n",
       "      <td>0</td>\n",
       "    </tr>\n",
       "    <tr>\n",
       "      <th>894</th>\n",
       "      <td>0</td>\n",
       "    </tr>\n",
       "    <tr>\n",
       "      <th>895</th>\n",
       "      <td>0</td>\n",
       "    </tr>\n",
       "    <tr>\n",
       "      <th>896</th>\n",
       "      <td>1</td>\n",
       "    </tr>\n",
       "    <tr>\n",
       "      <th>...</th>\n",
       "      <td>...</td>\n",
       "    </tr>\n",
       "    <tr>\n",
       "      <th>1305</th>\n",
       "      <td>0</td>\n",
       "    </tr>\n",
       "    <tr>\n",
       "      <th>1306</th>\n",
       "      <td>1</td>\n",
       "    </tr>\n",
       "    <tr>\n",
       "      <th>1307</th>\n",
       "      <td>0</td>\n",
       "    </tr>\n",
       "    <tr>\n",
       "      <th>1308</th>\n",
       "      <td>0</td>\n",
       "    </tr>\n",
       "    <tr>\n",
       "      <th>1309</th>\n",
       "      <td>0</td>\n",
       "    </tr>\n",
       "  </tbody>\n",
       "</table>\n",
       "<p>418 rows × 1 columns</p>\n",
       "</div>"
      ],
      "text/plain": [
       "             Survived\n",
       "PassengerId          \n",
       "892                 0\n",
       "893                 0\n",
       "894                 0\n",
       "895                 0\n",
       "896                 1\n",
       "...               ...\n",
       "1305                0\n",
       "1306                1\n",
       "1307                0\n",
       "1308                0\n",
       "1309                0\n",
       "\n",
       "[418 rows x 1 columns]"
      ]
     },
     "execution_count": 376,
     "metadata": {},
     "output_type": "execute_result"
    }
   ],
   "source": [
    "pred_df_deneme"
   ]
  },
  {
   "cell_type": "code",
   "execution_count": 377,
   "id": "25872d0c-9f25-45bc-9db7-8678daf8550f",
   "metadata": {},
   "outputs": [
    {
     "data": {
      "text/plain": [
       "0       892\n",
       "1       893\n",
       "2       894\n",
       "3       895\n",
       "4       896\n",
       "       ... \n",
       "413    1305\n",
       "414    1306\n",
       "415    1307\n",
       "416    1308\n",
       "417    1309\n",
       "Name: PassengerId, Length: 418, dtype: int64"
      ]
     },
     "execution_count": 377,
     "metadata": {},
     "output_type": "execute_result"
    }
   ],
   "source": [
    "index"
   ]
  },
  {
   "cell_type": "code",
   "execution_count": null,
   "id": "3a5a4262-6892-4eea-9661-9b5cfa68ef8e",
   "metadata": {},
   "outputs": [],
   "source": []
  }
 ],
 "metadata": {
  "kernelspec": {
   "display_name": "Python 3 (ipykernel)",
   "language": "python",
   "name": "python3"
  },
  "language_info": {
   "codemirror_mode": {
    "name": "ipython",
    "version": 3
   },
   "file_extension": ".py",
   "mimetype": "text/x-python",
   "name": "python",
   "nbconvert_exporter": "python",
   "pygments_lexer": "ipython3",
   "version": "3.7.9"
  }
 },
 "nbformat": 4,
 "nbformat_minor": 5
}
